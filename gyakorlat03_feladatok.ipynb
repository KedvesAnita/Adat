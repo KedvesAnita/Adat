{
    "metadata": {
        "kernelspec": {
            "name": "SQL",
            "display_name": "SQL",
            "language": "sql"
        },
        "language_info": {
            "name": "sql",
            "version": ""
        },
        "extensions": {
            "azuredatastudio": {
                "version": 1,
                "views": []
            }
        }
    },
    "nbformat_minor": 2,
    "nbformat": 4,
    "cells": [
        {
            "cell_type": "markdown",
            "source": [
                "**Az első 5 feladat ismétlés (többtáblás lekérdezések) a tanulmányi adatbázisból**\n",
                "\n",
                "1. Készítsünk listát arról, hogy melyik óra melyik teremben van!\n",
                "    \n",
                "    1. Jelenítsük meg az óra azonosítóját és a terem nevét!\n",
                "    2. A listát szűrjük a 3 karakter hosszú, \\[100;199\\] zárt intervallumba eső termekre! Feltesszük, hogy a 3 karakter hosszú terem nevek csak számjegyeket tartalmaznak."
            ],
            "metadata": {
                "azdata_cell_guid": "77f2d5b3-38e9-41cc-893f-f5afd02b97ef"
            },
            "attachments": {}
        },
        {
            "cell_type": "code",
            "source": [
                "SELECT o.ora_id,\r\n",
                "ter.terem\r\n",
                "from Orak o join Termek ter on o.terem=ter.Tkód\r\n",
                "where len(ter.terem)=3 and ter.terem between 100 and 199 "
            ],
            "metadata": {
                "azdata_cell_guid": "bd3cef1a-4e6e-4ece-9dc3-aaa9d2b5d66d",
                "language": "sql",
                "tags": []
            },
            "outputs": [
                {
                    "output_type": "display_data",
                    "data": {
                        "text/html": "(30 rows affected)"
                    },
                    "metadata": {}
                },
                {
                    "output_type": "display_data",
                    "data": {
                        "text/html": "Total execution time: 00:00:00.017"
                    },
                    "metadata": {}
                },
                {
                    "output_type": "execute_result",
                    "execution_count": 2,
                    "data": {
                        "application/vnd.dataresource+json": {
                            "schema": {
                                "fields": [
                                    {
                                        "name": "ora_id"
                                    },
                                    {
                                        "name": "terem"
                                    }
                                ]
                            },
                            "data": [
                                {
                                    "ora_id": "159",
                                    "terem": "117"
                                },
                                {
                                    "ora_id": "160",
                                    "terem": "118"
                                },
                                {
                                    "ora_id": "161",
                                    "terem": "118"
                                },
                                {
                                    "ora_id": "162",
                                    "terem": "119"
                                },
                                {
                                    "ora_id": "163",
                                    "terem": "120"
                                },
                                {
                                    "ora_id": "164",
                                    "terem": "119"
                                },
                                {
                                    "ora_id": "165",
                                    "terem": "119"
                                },
                                {
                                    "ora_id": "166",
                                    "terem": "119"
                                },
                                {
                                    "ora_id": "167",
                                    "terem": "120"
                                },
                                {
                                    "ora_id": "170",
                                    "terem": "120"
                                },
                                {
                                    "ora_id": "172",
                                    "terem": "119"
                                },
                                {
                                    "ora_id": "173",
                                    "terem": "119"
                                },
                                {
                                    "ora_id": "175",
                                    "terem": "120"
                                },
                                {
                                    "ora_id": "176",
                                    "terem": "118"
                                },
                                {
                                    "ora_id": "177",
                                    "terem": "119"
                                },
                                {
                                    "ora_id": "179",
                                    "terem": "120"
                                },
                                {
                                    "ora_id": "180",
                                    "terem": "119"
                                },
                                {
                                    "ora_id": "181",
                                    "terem": "118"
                                },
                                {
                                    "ora_id": "185",
                                    "terem": "120"
                                },
                                {
                                    "ora_id": "192",
                                    "terem": "119"
                                },
                                {
                                    "ora_id": "195",
                                    "terem": "116"
                                },
                                {
                                    "ora_id": "197",
                                    "terem": "116"
                                },
                                {
                                    "ora_id": "198",
                                    "terem": "119"
                                },
                                {
                                    "ora_id": "204",
                                    "terem": "120"
                                },
                                {
                                    "ora_id": "212",
                                    "terem": "120"
                                },
                                {
                                    "ora_id": "218",
                                    "terem": "118"
                                },
                                {
                                    "ora_id": "220",
                                    "terem": "119"
                                },
                                {
                                    "ora_id": "222",
                                    "terem": "116"
                                },
                                {
                                    "ora_id": "226",
                                    "terem": "117"
                                },
                                {
                                    "ora_id": "227",
                                    "terem": "116"
                                }
                            ]
                        },
                        "text/html": "<table><tr><th>ora_id</th><th>terem</th></tr><tr><td>159</td><td>117</td></tr><tr><td>160</td><td>118</td></tr><tr><td>161</td><td>118</td></tr><tr><td>162</td><td>119</td></tr><tr><td>163</td><td>120</td></tr><tr><td>164</td><td>119</td></tr><tr><td>165</td><td>119</td></tr><tr><td>166</td><td>119</td></tr><tr><td>167</td><td>120</td></tr><tr><td>170</td><td>120</td></tr><tr><td>172</td><td>119</td></tr><tr><td>173</td><td>119</td></tr><tr><td>175</td><td>120</td></tr><tr><td>176</td><td>118</td></tr><tr><td>177</td><td>119</td></tr><tr><td>179</td><td>120</td></tr><tr><td>180</td><td>119</td></tr><tr><td>181</td><td>118</td></tr><tr><td>185</td><td>120</td></tr><tr><td>192</td><td>119</td></tr><tr><td>195</td><td>116</td></tr><tr><td>197</td><td>116</td></tr><tr><td>198</td><td>119</td></tr><tr><td>204</td><td>120</td></tr><tr><td>212</td><td>120</td></tr><tr><td>218</td><td>118</td></tr><tr><td>220</td><td>119</td></tr><tr><td>222</td><td>116</td></tr><tr><td>226</td><td>117</td></tr><tr><td>227</td><td>116</td></tr></table>"
                    },
                    "metadata": {}
                }
            ],
            "execution_count": 2
        },
        {
            "cell_type": "markdown",
            "source": [
                "2. <span style=\"font-weight: 600; color: rgb(36, 41, 47); font-family: -apple-system, BlinkMacSystemFont, &quot;Segoe UI&quot;, Helvetica, Arial, sans-serif, &quot;Apple Color Emoji&quot;, &quot;Segoe UI Emoji&quot;; font-size: 16px;\">Hány óra van összesen az egyes napokon?</span>\n",
                "\n",
                "1. Jelenítsük meg a napok nevét és az órák számát az adott napon!\n",
                "2. Az oszlopokat nevezzük el értelemszerűen!\n",
                "3. A listát rendezzük óraszám szerint növekvő sorrendbe!"
            ],
            "metadata": {
                "azdata_cell_guid": "88f5b4bb-f4c1-4bad-a0c7-b2592687b422"
            },
            "attachments": {}
        },
        {
            "cell_type": "code",
            "source": [
                "SELECT n.nap as 'nap', count(*) as 'orak szama'\r\n",
                "from Orak o join Napok n on o.nap= n.nap_id\r\n",
                "group by n.nap\r\n",
                "order by count(*) asc\r\n",
                ""
            ],
            "metadata": {
                "azdata_cell_guid": "e9de5726-f036-4fb9-8c33-a873955ed886",
                "language": "sql"
            },
            "outputs": [
                {
                    "output_type": "display_data",
                    "data": {
                        "text/html": "(5 rows affected)"
                    },
                    "metadata": {}
                },
                {
                    "output_type": "display_data",
                    "data": {
                        "text/html": "Total execution time: 00:00:00.011"
                    },
                    "metadata": {}
                },
                {
                    "output_type": "execute_result",
                    "execution_count": 10,
                    "data": {
                        "application/vnd.dataresource+json": {
                            "schema": {
                                "fields": [
                                    {
                                        "name": "nap"
                                    },
                                    {
                                        "name": "orak szama"
                                    }
                                ]
                            },
                            "data": [
                                {
                                    "nap": "Péntek",
                                    "orak szama": "6"
                                },
                                {
                                    "nap": "Szerda",
                                    "orak szama": "6"
                                },
                                {
                                    "nap": "Kedd",
                                    "orak szama": "13"
                                },
                                {
                                    "nap": "Csütörtök",
                                    "orak szama": "19"
                                },
                                {
                                    "nap": "Hétfő",
                                    "orak szama": "23"
                                }
                            ]
                        },
                        "text/html": "<table><tr><th>nap</th><th>orak szama</th></tr><tr><td>Péntek</td><td>6</td></tr><tr><td>Szerda</td><td>6</td></tr><tr><td>Kedd</td><td>13</td></tr><tr><td>Csütörtök</td><td>19</td></tr><tr><td>Hétfő</td><td>23</td></tr></table>"
                    },
                    "metadata": {}
                }
            ],
            "execution_count": 10
        },
        {
            "cell_type": "markdown",
            "source": [
                "3. <span style=\"font-weight: 600; color: rgb(36, 41, 47); font-family: -apple-system, BlinkMacSystemFont, &quot;Segoe UI&quot;, Helvetica, Arial, sans-serif, &quot;Apple Color Emoji&quot;, &quot;Segoe UI Emoji&quot;; font-size: 16px;\">Készítsünk listát arról, hogy melyik oktatónak hány órája van az Órák táblában!</span>\n",
                "\n",
                "1. A lista jelenítse meg az oktatók nevét, és az órák számát!\n",
                "2. Az oszlopokat nevezzük el értelemszerűen!\n",
                "3. A listából hagyjuk ki az óraadókat!"
            ],
            "metadata": {
                "azdata_cell_guid": "9e7249de-1b59-43d8-84b1-26fa7d81fc5a"
            },
            "attachments": {}
        },
        {
            "cell_type": "code",
            "source": [
                "SELECT okt.nev as 'oktato neve', count(*) as 'orak szama'\r\n",
                "From orak o join Oktatok okt on o.tanar=okt.oktato_id\r\n",
                "            join Beosztasok b on okt.beosztás=b.beosztas_id\r\n",
                "where b.beosztasnev not like 'óraadó'\r\n",
                "group by okt.nev\r\n",
                ""
            ],
            "metadata": {
                "azdata_cell_guid": "6405d3e8-a9b1-45d7-aa76-3b1e785ef6cc",
                "language": "sql"
            },
            "outputs": [
                {
                    "output_type": "display_data",
                    "data": {
                        "text/html": "(15 rows affected)"
                    },
                    "metadata": {}
                },
                {
                    "output_type": "display_data",
                    "data": {
                        "text/html": "Total execution time: 00:00:00.014"
                    },
                    "metadata": {}
                },
                {
                    "output_type": "execute_result",
                    "execution_count": 36,
                    "data": {
                        "application/vnd.dataresource+json": {
                            "schema": {
                                "fields": [
                                    {
                                        "name": "oktato neve"
                                    },
                                    {
                                        "name": "orak szama"
                                    }
                                ]
                            },
                            "data": [
                                {
                                    "oktato neve": "Balkán András",
                                    "orak szama": "3"
                                },
                                {
                                    "oktato neve": "Farkasos Piroska",
                                    "orak szama": "7"
                                },
                                {
                                    "oktato neve": "Jogrerős Pál",
                                    "orak szama": "2"
                                },
                                {
                                    "oktato neve": "Juhász András",
                                    "orak szama": "2"
                                },
                                {
                                    "oktato neve": "Kiss János",
                                    "orak szama": "4"
                                },
                                {
                                    "oktato neve": "Kovács László",
                                    "orak szama": "4"
                                },
                                {
                                    "oktato neve": "Pelikán József",
                                    "orak szama": "6"
                                },
                                {
                                    "oktato neve": "Róbert Gida",
                                    "orak szama": "1"
                                },
                                {
                                    "oktato neve": "Szénási ászló",
                                    "orak szama": "2"
                                },
                                {
                                    "oktato neve": "Szentágotai Istvás",
                                    "orak szama": "8"
                                },
                                {
                                    "oktato neve": "Szép llonka",
                                    "orak szama": "4"
                                },
                                {
                                    "oktato neve": "Szerb László",
                                    "orak szama": "3"
                                },
                                {
                                    "oktato neve": "Ujfalussi István",
                                    "orak szama": "3"
                                },
                                {
                                    "oktato neve": "Varga Kata",
                                    "orak szama": "4"
                                },
                                {
                                    "oktato neve": "Vitéz János",
                                    "orak szama": "4"
                                }
                            ]
                        },
                        "text/html": "<table><tr><th>oktato neve</th><th>orak szama</th></tr><tr><td>Balkán András</td><td>3</td></tr><tr><td>Farkasos Piroska</td><td>7</td></tr><tr><td>Jogrerős Pál</td><td>2</td></tr><tr><td>Juhász András</td><td>2</td></tr><tr><td>Kiss János</td><td>4</td></tr><tr><td>Kovács László</td><td>4</td></tr><tr><td>Pelikán József</td><td>6</td></tr><tr><td>Róbert Gida</td><td>1</td></tr><tr><td>Szénási ászló</td><td>2</td></tr><tr><td>Szentágotai Istvás</td><td>8</td></tr><tr><td>Szép llonka</td><td>4</td></tr><tr><td>Szerb László</td><td>3</td></tr><tr><td>Ujfalussi István</td><td>3</td></tr><tr><td>Varga Kata</td><td>4</td></tr><tr><td>Vitéz János</td><td>4</td></tr></table>"
                    },
                    "metadata": {}
                }
            ],
            "execution_count": 36
        },
        {
            "cell_type": "markdown",
            "source": [
                "4. <span style=\"color: rgb(36, 41, 47); font-family: -apple-system, BlinkMacSystemFont, &quot;Segoe UI&quot;, Helvetica, Arial, sans-serif, &quot;Apple Color Emoji&quot;, &quot;Segoe UI Emoji&quot;; font-size: 16px;\">Van-e olyan tantárgy, amelyből nincs óra?</span>\n",
                "\n",
                "1. Jelentsük meg a tantárgy nevét és a tantárgyfelelős nevét!"
            ],
            "metadata": {
                "azdata_cell_guid": "6478e469-c094-472c-a772-ccd5b5c61516"
            },
            "attachments": {}
        },
        {
            "cell_type": "code",
            "source": [
                "select tan.Tantárgynév, okt.nev --tan.Tkód, o.targy\r\n",
                "--from Tantárgyak tan join Orak o  on  tan.Tkód=o.targy --join feltetelezi hogy mindegyikhez van rendelve valami a masikbol\r\n",
                "from Tantárgyak tan left join Orak o  on  tan.Tkód=o.targy\r\n",
                "                    join Oktatok okt on tan.Tantárgyfelelős= okt.oktato_id\r\n",
                "where o.targy is null "
            ],
            "metadata": {
                "azdata_cell_guid": "02031ea2-3838-458d-839c-228e3b362b61",
                "language": "sql",
                "tags": []
            },
            "outputs": [
                {
                    "output_type": "display_data",
                    "data": {
                        "text/html": "(1 row affected)"
                    },
                    "metadata": {}
                },
                {
                    "output_type": "display_data",
                    "data": {
                        "text/html": "Total execution time: 00:00:00.088"
                    },
                    "metadata": {}
                },
                {
                    "output_type": "execute_result",
                    "execution_count": 44,
                    "data": {
                        "application/vnd.dataresource+json": {
                            "schema": {
                                "fields": [
                                    {
                                        "name": "Tantárgynév"
                                    },
                                    {
                                        "name": "nev"
                                    }
                                ]
                            },
                            "data": [
                                {
                                    "Tantárgynév": "Folyami gáttan",
                                    "nev": "Varga Kata"
                                }
                            ]
                        },
                        "text/html": "<table><tr><th>Tantárgynév</th><th>nev</th></tr><tr><td>Folyami gáttan</td><td>Varga Kata</td></tr></table>"
                    },
                    "metadata": {}
                }
            ],
            "execution_count": 44
        },
        {
            "cell_type": "markdown",
            "source": [
                "5. <span style=\"background-color: rgb(255, 255, 255); color: rgb(36, 41, 47); font-family: -apple-system, BlinkMacSystemFont, &quot;Segoe UI&quot;, Helvetica, Arial, sans-serif, &quot;Apple Color Emoji&quot;, &quot;Segoe UI Emoji&quot;; font-size: 16px;\">Hány óra van összesen a 120-as teremben?</span>"
            ],
            "metadata": {
                "azdata_cell_guid": "9edbbaf9-c276-4898-9a01-e1b2993c089f"
            },
            "attachments": {}
        },
        {
            "cell_type": "code",
            "source": [
                "SELECT COUNT(*) as 'orak szama'\r\n",
                "from Orak o join Termek t on o.terem= t.Tkód\r\n",
                "where t.terem= '120'\r\n",
                ""
            ],
            "metadata": {
                "azdata_cell_guid": "5ad5fdcb-2878-4111-861a-833bcd50e935",
                "language": "sql"
            },
            "outputs": [
                {
                    "output_type": "display_data",
                    "data": {
                        "text/html": "(1 row affected)"
                    },
                    "metadata": {}
                },
                {
                    "output_type": "display_data",
                    "data": {
                        "text/html": "Total execution time: 00:00:00.010"
                    },
                    "metadata": {}
                },
                {
                    "output_type": "execute_result",
                    "execution_count": 3,
                    "data": {
                        "application/vnd.dataresource+json": {
                            "schema": {
                                "fields": [
                                    {
                                        "name": "orak szama"
                                    }
                                ]
                            },
                            "data": [
                                {
                                    "orak szama": "8"
                                }
                            ]
                        },
                        "text/html": "<table><tr><th>orak szama</th></tr><tr><td>8</td></tr></table>"
                    },
                    "metadata": {}
                }
            ],
            "execution_count": 3
        },
        {
            "cell_type": "markdown",
            "source": [
                "**A 6-10 feladatokat halmazműveletek segítségével oldjuk meg, szintén a tanulmányi adatbázison**\n",
                "\n",
                "6. <span style=\"background-color:rgb(255, 255, 255);color:rgb(36, 41, 47);font-family:-apple-system, BlinkMacSystemFont, &quot;Segoe UI&quot;, Helvetica, Arial, sans-serif, &quot;Apple Color Emoji&quot;, &quot;Segoe UI Emoji&quot;;font-size:16px;font-weight:600;\">Jelenítsük meg azon tanárok azonosítóját és nevét, akik hétfői vagy keddi napokon tanítanak!</span>"
            ],
            "metadata": {
                "azdata_cell_guid": "5fe65c1c-2479-45ac-ad03-ec99d12eae21"
            },
            "attachments": {}
        },
        {
            "cell_type": "code",
            "source": [
                "select okt.nev as 'Nev', okt.oktato_id as 'azonosito'\r\n",
                "from Orak o join Oktatok okt on o.tanar=okt.oktato_id\r\n",
                "            join napok n on o.nap=n.nap_id\r\n",
                "where n.nap=N'Hétfő'\r\n",
                "\r\n",
                "UNION \r\n",
                "\r\n",
                "select  okt.nev as 'Nev', okt.oktato_id as 'azonosito'\r\n",
                "from Orak o join Oktatok okt on o.tanar=okt.oktato_id\r\n",
                "            join napok n on o.nap=n.nap_id\r\n",
                "where n.nap=N'Kedd'\r\n",
                ""
            ],
            "metadata": {
                "azdata_cell_guid": "924f2dde-f1c2-4def-a7f9-dbf4bace7735",
                "language": "sql"
            },
            "outputs": [
                {
                    "output_type": "display_data",
                    "data": {
                        "text/html": "(17 rows affected)"
                    },
                    "metadata": {}
                },
                {
                    "output_type": "display_data",
                    "data": {
                        "text/html": "Total execution time: 00:00:00.021"
                    },
                    "metadata": {}
                },
                {
                    "output_type": "execute_result",
                    "execution_count": 4,
                    "data": {
                        "application/vnd.dataresource+json": {
                            "schema": {
                                "fields": [
                                    {
                                        "name": "Nev"
                                    },
                                    {
                                        "name": "azonosito"
                                    }
                                ]
                            },
                            "data": [
                                {
                                    "Nev": "Aranyi Mária",
                                    "azonosito": "200"
                                },
                                {
                                    "Nev": "Balkán András",
                                    "azonosito": "5"
                                },
                                {
                                    "Nev": "Farkasos Piroska",
                                    "azonosito": "9"
                                },
                                {
                                    "Nev": "Jogrerős Pál",
                                    "azonosito": "10"
                                },
                                {
                                    "Nev": "Kiss János",
                                    "azonosito": "7"
                                },
                                {
                                    "Nev": "Kovács András",
                                    "azonosito": "20"
                                },
                                {
                                    "Nev": "Kovács László",
                                    "azonosito": "1"
                                },
                                {
                                    "Nev": "Ludas Mátyás",
                                    "azonosito": "104"
                                },
                                {
                                    "Nev": "Nógrádi Kata",
                                    "azonosito": "18"
                                },
                                {
                                    "Nev": "Pelikán József",
                                    "azonosito": "8"
                                },
                                {
                                    "Nev": "Róbert Gida",
                                    "azonosito": "108"
                                },
                                {
                                    "Nev": "Szénási ászló",
                                    "azonosito": "14"
                                },
                                {
                                    "Nev": "Szentágotai Istvás",
                                    "azonosito": "2"
                                },
                                {
                                    "Nev": "Szép llonka",
                                    "azonosito": "6"
                                },
                                {
                                    "Nev": "Szerb László",
                                    "azonosito": "3"
                                },
                                {
                                    "Nev": "Ujfalussi István",
                                    "azonosito": "4"
                                },
                                {
                                    "Nev": "Varga Kata",
                                    "azonosito": "12"
                                }
                            ]
                        },
                        "text/html": "<table><tr><th>Nev</th><th>azonosito</th></tr><tr><td>Aranyi Mária</td><td>200</td></tr><tr><td>Balkán András</td><td>5</td></tr><tr><td>Farkasos Piroska</td><td>9</td></tr><tr><td>Jogrerős Pál</td><td>10</td></tr><tr><td>Kiss János</td><td>7</td></tr><tr><td>Kovács András</td><td>20</td></tr><tr><td>Kovács László</td><td>1</td></tr><tr><td>Ludas Mátyás</td><td>104</td></tr><tr><td>Nógrádi Kata</td><td>18</td></tr><tr><td>Pelikán József</td><td>8</td></tr><tr><td>Róbert Gida</td><td>108</td></tr><tr><td>Szénási ászló</td><td>14</td></tr><tr><td>Szentágotai Istvás</td><td>2</td></tr><tr><td>Szép llonka</td><td>6</td></tr><tr><td>Szerb László</td><td>3</td></tr><tr><td>Ujfalussi István</td><td>4</td></tr><tr><td>Varga Kata</td><td>12</td></tr></table>"
                    },
                    "metadata": {}
                }
            ],
            "execution_count": 4
        },
        {
            "cell_type": "markdown",
            "source": [
                "7. <span style=\"background-color: rgb(255, 255, 255); color: rgb(36, 41, 47); font-family: -apple-system, BlinkMacSystemFont, &quot;Segoe UI&quot;, Helvetica, Arial, sans-serif, &quot;Apple Color Emoji&quot;, &quot;Segoe UI Emoji&quot;; font-size: 16px; font-weight: 600;\">Melyek azok a tantárgyak, amelyek esetén van óra a 8.00-kor kezdődő sávban, de nincs a 12.30-kor kezdődő sávban?</span>"
            ],
            "metadata": {
                "azdata_cell_guid": "3aeb6bf5-b111-40d5-92b2-9712ce335696"
            },
            "attachments": {}
        },
        {
            "cell_type": "code",
            "source": [
                "SELECT t.tantárgynév\r\n",
                "from Orak o join Tantárgyak t on o.targy=t.Tkód\r\n",
                "            join Savok s on o.Sav= s.Sav_id\r\n",
                "where s.Időpont= '8.00'\r\n",
                "EXCEPT\r\n",
                "select t.tantárgynév\r\n",
                "from Orak o join Tantárgyak t on o.targy= t.Tkód\r\n",
                "            join Savok s on o.Sav= s.Sav_id\r\n",
                "where s.Időpont='12.30'"
            ],
            "metadata": {
                "azdata_cell_guid": "3e89b651-f56f-4102-af52-30eb2bbe360d",
                "language": "sql",
                "tags": []
            },
            "outputs": [
                {
                    "output_type": "display_data",
                    "data": {
                        "text/html": "(3 rows affected)"
                    },
                    "metadata": {}
                },
                {
                    "output_type": "display_data",
                    "data": {
                        "text/html": "Total execution time: 00:00:00.023"
                    },
                    "metadata": {}
                },
                {
                    "output_type": "execute_result",
                    "execution_count": 5,
                    "data": {
                        "application/vnd.dataresource+json": {
                            "schema": {
                                "fields": [
                                    {
                                        "name": "tantárgynév"
                                    }
                                ]
                            },
                            "data": [
                                {
                                    "tantárgynév": "Az ürgeöntés hydrológiai alapjai II."
                                },
                                {
                                    "tantárgynév": "Fejezetek az ürgék jogaiból"
                                },
                                {
                                    "tantárgynév": "Ürgevitel"
                                }
                            ]
                        },
                        "text/html": "<table><tr><th>tantárgynév</th></tr><tr><td>Az ürgeöntés hydrológiai alapjai II.</td></tr><tr><td>Fejezetek az ürgék jogaiból</td></tr><tr><td>Ürgevitel</td></tr></table>"
                    },
                    "metadata": {}
                }
            ],
            "execution_count": 5
        },
        {
            "cell_type": "markdown",
            "source": [
                "8. <span style=\"background-color: rgb(255, 255, 255); color: rgb(36, 41, 47); font-family: -apple-system, BlinkMacSystemFont, &quot;Segoe UI&quot;, Helvetica, Arial, sans-serif, &quot;Apple Color Emoji&quot;, &quot;Segoe UI Emoji&quot;; font-size: 16px; font-weight: 600;\">Listázzuk azokat a termeket, amelyekben oktat Kovács László és van olyan tanóra a teremben, ahol a tantárgy nevében nem szerepel az 'ürge' szó!</span>"
            ],
            "metadata": {
                "azdata_cell_guid": "26a504dc-ff6a-439f-94c0-4580eca3eacf"
            },
            "attachments": {}
        },
        {
            "cell_type": "code",
            "source": [
                "select t.Terem\r\n",
                "from Orak o join Oktatok okt on o.tanar = okt.oktato_id\r\n",
                "            JOIN Termek t on o.terem = t.Tkód\r\n",
                "where okt.nev = 'Kovács László'\r\n",
                "\r\n",
                "intersect\r\n",
                "\r\n",
                "select t.Terem\r\n",
                "from Orak o join Tantárgyak tan on o.targy = tan.Tkód\r\n",
                "            join Termek t on o.terem = t.Tkód\r\n",
                "where tan.Tantárgynév not like '%ürge%'"
            ],
            "metadata": {
                "azdata_cell_guid": "1cbb8aeb-78b5-4350-aa45-e3202fdab85b",
                "language": "sql",
                "tags": []
            },
            "outputs": [
                {
                    "output_type": "display_data",
                    "data": {
                        "text/html": "(4 rows affected)"
                    },
                    "metadata": {}
                },
                {
                    "output_type": "display_data",
                    "data": {
                        "text/html": "Total execution time: 00:00:00.033"
                    },
                    "metadata": {}
                },
                {
                    "output_type": "execute_result",
                    "execution_count": 11,
                    "data": {
                        "application/vnd.dataresource+json": {
                            "schema": {
                                "fields": [
                                    {
                                        "name": "Terem"
                                    }
                                ]
                            },
                            "data": [
                                {
                                    "Terem": "116"
                                },
                                {
                                    "Terem": "119"
                                },
                                {
                                    "Terem": "S.Asor.S3"
                                },
                                {
                                    "Terem": "VP 203."
                                }
                            ]
                        },
                        "text/html": "<table><tr><th>Terem</th></tr><tr><td>116</td></tr><tr><td>119</td></tr><tr><td>S.Asor.S3</td></tr><tr><td>VP 203.</td></tr></table>"
                    },
                    "metadata": {}
                }
            ],
            "execution_count": 11
        },
        {
            "cell_type": "markdown",
            "source": [
                "9. <span style=\"font-weight: 600; color: rgb(36, 41, 47); font-family: -apple-system, BlinkMacSystemFont, &quot;Segoe UI&quot;, Helvetica, Arial, sans-serif, &quot;Apple Color Emoji&quot;, &quot;Segoe UI Emoji&quot;; font-size: 16px;\">Készítsünk listát arról, hogy melyik tanárnak hány órája van a (munka) hét elején (hétfőn), hét közben (kedd, szerda és csütörtök), illetve a hét végén (péntek)!</span>\n",
                "\n",
                "1. Jelenítsük meg a tanár azonosítóját, nevét, az időszakot (hét eleje - hét közben - hét vége), valamint az óraszámot!\n",
                "2. A három megjelölt időszakot külön kérdezzük le, majd fűzzük össze a lekérdezések eredményeit!\n",
                "3. Rendezzük a listát az oktató neve, azon belül időszak szerint!"
            ],
            "metadata": {
                "azdata_cell_guid": "435e2860-2dd5-4877-90f4-34a43baeb53c"
            },
            "attachments": {}
        },
        {
            "cell_type": "code",
            "source": [
                "select okt.oktato_id,\r\n",
                " okt.nev , \r\n",
                "case when n.nap='Hétfő'then 'hét eleje'\r\n",
                "     when n.nap in ('Kedd', 'Szerda', 'Csütörtök') then 'hét közben'\r\n",
                "     else 'hét vége' \r\n",
                "     end as 'idoszak',\r\n",
                "    count(*)\r\n",
                "from Orak o join Oktatok okt on o.tanar= okt.oktato_id\r\n",
                "            join Napok n on o.nap=n.nap_id\r\n",
                "group by okt.oktato_id as 'azonosito',\r\n",
                " okt.nev as 'nev', \r\n",
                "case when n.nap='Hétfő'then 'hét eleje'\r\n",
                "     when n.nap in ('Kedd', 'Szerda', 'Csütörtök') then 'hét közben'\r\n",
                "     else 'hét vége' \r\n",
                "     end \r\n",
                "order by okt.nev, 'idoszak'\r\n",
                "\r\n",
                ""
            ],
            "metadata": {
                "azdata_cell_guid": "ce846351-ddbe-4d8e-b8fb-2a92c73ac80b",
                "language": "sql",
                "tags": []
            },
            "outputs": [
                {
                    "output_type": "error",
                    "ename": "",
                    "evalue": "Msg 156, Level 15, State 1, Line 10\r\nIncorrect syntax near the keyword 'as'.",
                    "traceback": []
                },
                {
                    "output_type": "display_data",
                    "data": {
                        "text/html": "Total execution time: 00:00:00.006"
                    },
                    "metadata": {}
                }
            ],
            "execution_count": 18
        },
        {
            "cell_type": "markdown",
            "source": [
                "10. <span style=\"background-color: rgb(255, 255, 255); color: rgb(36, 41, 47); font-family: -apple-system, BlinkMacSystemFont, &quot;Segoe UI&quot;, Helvetica, Arial, sans-serif, &quot;Apple Color Emoji&quot;, &quot;Segoe UI Emoji&quot;; font-size: 16px; font-weight: 600;\">Melyik napokon nincs órája Pelikán Józsefnek?</span>"
            ],
            "metadata": {
                "azdata_cell_guid": "217c5772-afe2-4a7c-b913-e3a3e09d6411"
            },
            "attachments": {}
        },
        {
            "cell_type": "code",
            "source": [
                "select nap\r\n",
                "from Napok\r\n",
                "EXCEPT\r\n",
                "\r\n",
                "SELECT n.nap\r\n",
                "from orak o join Oktatok okt on o.tanar=okt.oktato_id\r\n",
                "            join Napok n on o.nap= n.nap_id\r\n",
                "Where okt.nev ='Pelikán József'"
            ],
            "metadata": {
                "azdata_cell_guid": "a9cc0926-3dbd-4ed8-8179-1c39d64a0762",
                "language": "sql",
                "tags": []
            },
            "outputs": [
                {
                    "output_type": "display_data",
                    "data": {
                        "text/html": "(3 rows affected)"
                    },
                    "metadata": {}
                },
                {
                    "output_type": "display_data",
                    "data": {
                        "text/html": "Total execution time: 00:00:00.016"
                    },
                    "metadata": {}
                },
                {
                    "output_type": "execute_result",
                    "execution_count": 1,
                    "data": {
                        "application/vnd.dataresource+json": {
                            "schema": {
                                "fields": [
                                    {
                                        "name": "nap"
                                    }
                                ]
                            },
                            "data": [
                                {
                                    "nap": "Csütörtök"
                                },
                                {
                                    "nap": "Péntek"
                                },
                                {
                                    "nap": "Szerda"
                                }
                            ]
                        },
                        "text/html": "<table><tr><th>nap</th></tr><tr><td>Csütörtök</td></tr><tr><td>Péntek</td></tr><tr><td>Szerda</td></tr></table>"
                    },
                    "metadata": {}
                }
            ],
            "execution_count": 1
        },
        {
            "cell_type": "markdown",
            "source": [
                "**A 11-15 feladatok gyakorlásra szolgálnak a közelgő zh-ra :-)**\n",
                "\n",
                "11. _Készítsünk listát az oktatók adatairól!_\n",
                "\n",
                "1. Az oktatók titulusa és neve összefűzve jelenjen meg, közöttük szóközzel!\n",
                "2. Ha valakinek nincs titulusa, akkor csak a neve jelenjen meg, szóköz nélkül!\n",
                "3. A listát rendezzük a beosztás kódja, azon belül a státusz kódja szerint növekvő sorrendbe!\n",
                "4. Az oszlopokat nevezzük el értelemszerűen!"
            ],
            "metadata": {
                "azdata_cell_guid": "d2340f5f-1614-473c-b937-85740d67f7c1"
            },
            "attachments": {}
        },
        {
            "cell_type": "code",
            "source": [
                "select IIF(titulus is null, nev, nev + ' ' + titulus) as 'nev',\r\n",
                "beosztas_id, Skod\r\n",
                "FROM Oktatok, Beosztasok, Statusok\r\n",
                "ORDER BY beosztas_id, Skod ASC"
            ],
            "metadata": {
                "azdata_cell_guid": "e99c2c53-898f-4787-b0e6-182d106dc16f",
                "language": "sql",
                "tags": []
            },
            "outputs": [
                {
                    "output_type": "display_data",
                    "data": {
                        "text/html": "(525 rows affected)"
                    },
                    "metadata": {}
                },
                {
                    "output_type": "display_data",
                    "data": {
                        "text/html": "Total execution time: 00:00:00.129"
                    },
                    "metadata": {}
                },
                {
                    "output_type": "execute_result",
                    "execution_count": 5,
                    "data": {
                        "application/vnd.dataresource+json": {
                            "schema": {
                                "fields": [
                                    {
                                        "name": "nev"
                                    },
                                    {
                                        "name": "beosztas_id"
                                    },
                                    {
                                        "name": "Skod"
                                    }
                                ]
                            },
                            "data": [
                                {
                                    "nev": "Kovács László Dr.",
                                    "beosztas_id": "1",
                                    "Skod": "1"
                                },
                                {
                                    "nev": "Szentágotai Istvás Dr.",
                                    "beosztas_id": "1",
                                    "Skod": "1"
                                },
                                {
                                    "nev": "Szerb László",
                                    "beosztas_id": "1",
                                    "Skod": "1"
                                },
                                {
                                    "nev": "Ujfalussi István Prof, tanszékvezető",
                                    "beosztas_id": "1",
                                    "Skod": "1"
                                },
                                {
                                    "nev": "Balkán András Dr.",
                                    "beosztas_id": "1",
                                    "Skod": "1"
                                },
                                {
                                    "nev": "Szép llonka Dr.",
                                    "beosztas_id": "1",
                                    "Skod": "1"
                                },
                                {
                                    "nev": "Kiss János",
                                    "beosztas_id": "1",
                                    "Skod": "1"
                                },
                                {
                                    "nev": "Pelikán József",
                                    "beosztas_id": "1",
                                    "Skod": "1"
                                },
                                {
                                    "nev": "Farkasos Piroska",
                                    "beosztas_id": "1",
                                    "Skod": "1"
                                },
                                {
                                    "nev": "Jogrerős Pál Prof.",
                                    "beosztas_id": "1",
                                    "Skod": "1"
                                },
                                {
                                    "nev": "Józsa Gábor Dr.",
                                    "beosztas_id": "1",
                                    "Skod": "1"
                                },
                                {
                                    "nev": "Varga Kata Dr.",
                                    "beosztas_id": "1",
                                    "Skod": "1"
                                },
                                {
                                    "nev": "Szénási ászló",
                                    "beosztas_id": "1",
                                    "Skod": "1"
                                },
                                {
                                    "nev": "Nógrádi Kata",
                                    "beosztas_id": "1",
                                    "Skod": "1"
                                },
                                {
                                    "nev": "Rácz András",
                                    "beosztas_id": "1",
                                    "Skod": "1"
                                },
                                {
                                    "nev": "Kovács András",
                                    "beosztas_id": "1",
                                    "Skod": "1"
                                },
                                {
                                    "nev": "Ludas Mátyás",
                                    "beosztas_id": "1",
                                    "Skod": "1"
                                },
                                {
                                    "nev": "Kiss István",
                                    "beosztas_id": "1",
                                    "Skod": "1"
                                },
                                {
                                    "nev": "Mészáros Kriszta",
                                    "beosztas_id": "1",
                                    "Skod": "1"
                                },
                                {
                                    "nev": "Róbert Gida",
                                    "beosztas_id": "1",
                                    "Skod": "1"
                                },
                                {
                                    "nev": "Vitéz János",
                                    "beosztas_id": "1",
                                    "Skod": "1"
                                },
                                {
                                    "nev": "Aranyi Mária",
                                    "beosztas_id": "1",
                                    "Skod": "1"
                                },
                                {
                                    "nev": "Szabó Andrera",
                                    "beosztas_id": "1",
                                    "Skod": "1"
                                },
                                {
                                    "nev": "Juhász András Dr.",
                                    "beosztas_id": "1",
                                    "Skod": "1"
                                },
                                {
                                    "nev": "Kovacs Istvan Dr.",
                                    "beosztas_id": "1",
                                    "Skod": "1"
                                },
                                {
                                    "nev": "Kovács László Dr.",
                                    "beosztas_id": "1",
                                    "Skod": "2"
                                },
                                {
                                    "nev": "Szentágotai Istvás Dr.",
                                    "beosztas_id": "1",
                                    "Skod": "2"
                                },
                                {
                                    "nev": "Szerb László",
                                    "beosztas_id": "1",
                                    "Skod": "2"
                                },
                                {
                                    "nev": "Ujfalussi István Prof, tanszékvezető",
                                    "beosztas_id": "1",
                                    "Skod": "2"
                                },
                                {
                                    "nev": "Balkán András Dr.",
                                    "beosztas_id": "1",
                                    "Skod": "2"
                                },
                                {
                                    "nev": "Szép llonka Dr.",
                                    "beosztas_id": "1",
                                    "Skod": "2"
                                },
                                {
                                    "nev": "Kiss János",
                                    "beosztas_id": "1",
                                    "Skod": "2"
                                },
                                {
                                    "nev": "Pelikán József",
                                    "beosztas_id": "1",
                                    "Skod": "2"
                                },
                                {
                                    "nev": "Farkasos Piroska",
                                    "beosztas_id": "1",
                                    "Skod": "2"
                                },
                                {
                                    "nev": "Jogrerős Pál Prof.",
                                    "beosztas_id": "1",
                                    "Skod": "2"
                                },
                                {
                                    "nev": "Józsa Gábor Dr.",
                                    "beosztas_id": "1",
                                    "Skod": "2"
                                },
                                {
                                    "nev": "Varga Kata Dr.",
                                    "beosztas_id": "1",
                                    "Skod": "2"
                                },
                                {
                                    "nev": "Szénási ászló",
                                    "beosztas_id": "1",
                                    "Skod": "2"
                                },
                                {
                                    "nev": "Nógrádi Kata",
                                    "beosztas_id": "1",
                                    "Skod": "2"
                                },
                                {
                                    "nev": "Rácz András",
                                    "beosztas_id": "1",
                                    "Skod": "2"
                                },
                                {
                                    "nev": "Kovács András",
                                    "beosztas_id": "1",
                                    "Skod": "2"
                                },
                                {
                                    "nev": "Ludas Mátyás",
                                    "beosztas_id": "1",
                                    "Skod": "2"
                                },
                                {
                                    "nev": "Kiss István",
                                    "beosztas_id": "1",
                                    "Skod": "2"
                                },
                                {
                                    "nev": "Mészáros Kriszta",
                                    "beosztas_id": "1",
                                    "Skod": "2"
                                },
                                {
                                    "nev": "Róbert Gida",
                                    "beosztas_id": "1",
                                    "Skod": "2"
                                },
                                {
                                    "nev": "Vitéz János",
                                    "beosztas_id": "1",
                                    "Skod": "2"
                                },
                                {
                                    "nev": "Aranyi Mária",
                                    "beosztas_id": "1",
                                    "Skod": "2"
                                },
                                {
                                    "nev": "Szabó Andrera",
                                    "beosztas_id": "1",
                                    "Skod": "2"
                                },
                                {
                                    "nev": "Juhász András Dr.",
                                    "beosztas_id": "1",
                                    "Skod": "2"
                                },
                                {
                                    "nev": "Kovacs Istvan Dr.",
                                    "beosztas_id": "1",
                                    "Skod": "2"
                                },
                                {
                                    "nev": "Kovács László Dr.",
                                    "beosztas_id": "1",
                                    "Skod": "3"
                                },
                                {
                                    "nev": "Szentágotai Istvás Dr.",
                                    "beosztas_id": "1",
                                    "Skod": "3"
                                },
                                {
                                    "nev": "Szerb László",
                                    "beosztas_id": "1",
                                    "Skod": "3"
                                },
                                {
                                    "nev": "Ujfalussi István Prof, tanszékvezető",
                                    "beosztas_id": "1",
                                    "Skod": "3"
                                },
                                {
                                    "nev": "Balkán András Dr.",
                                    "beosztas_id": "1",
                                    "Skod": "3"
                                },
                                {
                                    "nev": "Szép llonka Dr.",
                                    "beosztas_id": "1",
                                    "Skod": "3"
                                },
                                {
                                    "nev": "Kiss János",
                                    "beosztas_id": "1",
                                    "Skod": "3"
                                },
                                {
                                    "nev": "Pelikán József",
                                    "beosztas_id": "1",
                                    "Skod": "3"
                                },
                                {
                                    "nev": "Farkasos Piroska",
                                    "beosztas_id": "1",
                                    "Skod": "3"
                                },
                                {
                                    "nev": "Jogrerős Pál Prof.",
                                    "beosztas_id": "1",
                                    "Skod": "3"
                                },
                                {
                                    "nev": "Józsa Gábor Dr.",
                                    "beosztas_id": "1",
                                    "Skod": "3"
                                },
                                {
                                    "nev": "Varga Kata Dr.",
                                    "beosztas_id": "1",
                                    "Skod": "3"
                                },
                                {
                                    "nev": "Szénási ászló",
                                    "beosztas_id": "1",
                                    "Skod": "3"
                                },
                                {
                                    "nev": "Nógrádi Kata",
                                    "beosztas_id": "1",
                                    "Skod": "3"
                                },
                                {
                                    "nev": "Rácz András",
                                    "beosztas_id": "1",
                                    "Skod": "3"
                                },
                                {
                                    "nev": "Kovács András",
                                    "beosztas_id": "1",
                                    "Skod": "3"
                                },
                                {
                                    "nev": "Ludas Mátyás",
                                    "beosztas_id": "1",
                                    "Skod": "3"
                                },
                                {
                                    "nev": "Kiss István",
                                    "beosztas_id": "1",
                                    "Skod": "3"
                                },
                                {
                                    "nev": "Mészáros Kriszta",
                                    "beosztas_id": "1",
                                    "Skod": "3"
                                },
                                {
                                    "nev": "Róbert Gida",
                                    "beosztas_id": "1",
                                    "Skod": "3"
                                },
                                {
                                    "nev": "Vitéz János",
                                    "beosztas_id": "1",
                                    "Skod": "3"
                                },
                                {
                                    "nev": "Aranyi Mária",
                                    "beosztas_id": "1",
                                    "Skod": "3"
                                },
                                {
                                    "nev": "Szabó Andrera",
                                    "beosztas_id": "1",
                                    "Skod": "3"
                                },
                                {
                                    "nev": "Juhász András Dr.",
                                    "beosztas_id": "1",
                                    "Skod": "3"
                                },
                                {
                                    "nev": "Kovacs Istvan Dr.",
                                    "beosztas_id": "1",
                                    "Skod": "3"
                                },
                                {
                                    "nev": "Kovács László Dr.",
                                    "beosztas_id": "2",
                                    "Skod": "1"
                                },
                                {
                                    "nev": "Szentágotai Istvás Dr.",
                                    "beosztas_id": "2",
                                    "Skod": "1"
                                },
                                {
                                    "nev": "Szerb László",
                                    "beosztas_id": "2",
                                    "Skod": "1"
                                },
                                {
                                    "nev": "Ujfalussi István Prof, tanszékvezető",
                                    "beosztas_id": "2",
                                    "Skod": "1"
                                },
                                {
                                    "nev": "Balkán András Dr.",
                                    "beosztas_id": "2",
                                    "Skod": "1"
                                },
                                {
                                    "nev": "Szép llonka Dr.",
                                    "beosztas_id": "2",
                                    "Skod": "1"
                                },
                                {
                                    "nev": "Kiss János",
                                    "beosztas_id": "2",
                                    "Skod": "1"
                                },
                                {
                                    "nev": "Pelikán József",
                                    "beosztas_id": "2",
                                    "Skod": "1"
                                },
                                {
                                    "nev": "Farkasos Piroska",
                                    "beosztas_id": "2",
                                    "Skod": "1"
                                },
                                {
                                    "nev": "Jogrerős Pál Prof.",
                                    "beosztas_id": "2",
                                    "Skod": "1"
                                },
                                {
                                    "nev": "Józsa Gábor Dr.",
                                    "beosztas_id": "2",
                                    "Skod": "1"
                                },
                                {
                                    "nev": "Varga Kata Dr.",
                                    "beosztas_id": "2",
                                    "Skod": "1"
                                },
                                {
                                    "nev": "Szénási ászló",
                                    "beosztas_id": "2",
                                    "Skod": "1"
                                },
                                {
                                    "nev": "Nógrádi Kata",
                                    "beosztas_id": "2",
                                    "Skod": "1"
                                },
                                {
                                    "nev": "Rácz András",
                                    "beosztas_id": "2",
                                    "Skod": "1"
                                },
                                {
                                    "nev": "Kovács András",
                                    "beosztas_id": "2",
                                    "Skod": "1"
                                },
                                {
                                    "nev": "Ludas Mátyás",
                                    "beosztas_id": "2",
                                    "Skod": "1"
                                },
                                {
                                    "nev": "Kiss István",
                                    "beosztas_id": "2",
                                    "Skod": "1"
                                },
                                {
                                    "nev": "Mészáros Kriszta",
                                    "beosztas_id": "2",
                                    "Skod": "1"
                                },
                                {
                                    "nev": "Róbert Gida",
                                    "beosztas_id": "2",
                                    "Skod": "1"
                                },
                                {
                                    "nev": "Vitéz János",
                                    "beosztas_id": "2",
                                    "Skod": "1"
                                },
                                {
                                    "nev": "Aranyi Mária",
                                    "beosztas_id": "2",
                                    "Skod": "1"
                                },
                                {
                                    "nev": "Szabó Andrera",
                                    "beosztas_id": "2",
                                    "Skod": "1"
                                },
                                {
                                    "nev": "Juhász András Dr.",
                                    "beosztas_id": "2",
                                    "Skod": "1"
                                },
                                {
                                    "nev": "Kovacs Istvan Dr.",
                                    "beosztas_id": "2",
                                    "Skod": "1"
                                },
                                {
                                    "nev": "Kovács László Dr.",
                                    "beosztas_id": "2",
                                    "Skod": "2"
                                },
                                {
                                    "nev": "Szentágotai Istvás Dr.",
                                    "beosztas_id": "2",
                                    "Skod": "2"
                                },
                                {
                                    "nev": "Szerb László",
                                    "beosztas_id": "2",
                                    "Skod": "2"
                                },
                                {
                                    "nev": "Ujfalussi István Prof, tanszékvezető",
                                    "beosztas_id": "2",
                                    "Skod": "2"
                                },
                                {
                                    "nev": "Balkán András Dr.",
                                    "beosztas_id": "2",
                                    "Skod": "2"
                                },
                                {
                                    "nev": "Szép llonka Dr.",
                                    "beosztas_id": "2",
                                    "Skod": "2"
                                },
                                {
                                    "nev": "Kiss János",
                                    "beosztas_id": "2",
                                    "Skod": "2"
                                },
                                {
                                    "nev": "Pelikán József",
                                    "beosztas_id": "2",
                                    "Skod": "2"
                                },
                                {
                                    "nev": "Farkasos Piroska",
                                    "beosztas_id": "2",
                                    "Skod": "2"
                                },
                                {
                                    "nev": "Jogrerős Pál Prof.",
                                    "beosztas_id": "2",
                                    "Skod": "2"
                                },
                                {
                                    "nev": "Józsa Gábor Dr.",
                                    "beosztas_id": "2",
                                    "Skod": "2"
                                },
                                {
                                    "nev": "Varga Kata Dr.",
                                    "beosztas_id": "2",
                                    "Skod": "2"
                                },
                                {
                                    "nev": "Szénási ászló",
                                    "beosztas_id": "2",
                                    "Skod": "2"
                                },
                                {
                                    "nev": "Nógrádi Kata",
                                    "beosztas_id": "2",
                                    "Skod": "2"
                                },
                                {
                                    "nev": "Rácz András",
                                    "beosztas_id": "2",
                                    "Skod": "2"
                                },
                                {
                                    "nev": "Kovács András",
                                    "beosztas_id": "2",
                                    "Skod": "2"
                                },
                                {
                                    "nev": "Ludas Mátyás",
                                    "beosztas_id": "2",
                                    "Skod": "2"
                                },
                                {
                                    "nev": "Kiss István",
                                    "beosztas_id": "2",
                                    "Skod": "2"
                                },
                                {
                                    "nev": "Mészáros Kriszta",
                                    "beosztas_id": "2",
                                    "Skod": "2"
                                },
                                {
                                    "nev": "Róbert Gida",
                                    "beosztas_id": "2",
                                    "Skod": "2"
                                },
                                {
                                    "nev": "Vitéz János",
                                    "beosztas_id": "2",
                                    "Skod": "2"
                                },
                                {
                                    "nev": "Aranyi Mária",
                                    "beosztas_id": "2",
                                    "Skod": "2"
                                },
                                {
                                    "nev": "Szabó Andrera",
                                    "beosztas_id": "2",
                                    "Skod": "2"
                                },
                                {
                                    "nev": "Juhász András Dr.",
                                    "beosztas_id": "2",
                                    "Skod": "2"
                                },
                                {
                                    "nev": "Kovacs Istvan Dr.",
                                    "beosztas_id": "2",
                                    "Skod": "2"
                                },
                                {
                                    "nev": "Kovács László Dr.",
                                    "beosztas_id": "2",
                                    "Skod": "3"
                                },
                                {
                                    "nev": "Szentágotai Istvás Dr.",
                                    "beosztas_id": "2",
                                    "Skod": "3"
                                },
                                {
                                    "nev": "Szerb László",
                                    "beosztas_id": "2",
                                    "Skod": "3"
                                },
                                {
                                    "nev": "Ujfalussi István Prof, tanszékvezető",
                                    "beosztas_id": "2",
                                    "Skod": "3"
                                },
                                {
                                    "nev": "Balkán András Dr.",
                                    "beosztas_id": "2",
                                    "Skod": "3"
                                },
                                {
                                    "nev": "Szép llonka Dr.",
                                    "beosztas_id": "2",
                                    "Skod": "3"
                                },
                                {
                                    "nev": "Kiss János",
                                    "beosztas_id": "2",
                                    "Skod": "3"
                                },
                                {
                                    "nev": "Pelikán József",
                                    "beosztas_id": "2",
                                    "Skod": "3"
                                },
                                {
                                    "nev": "Farkasos Piroska",
                                    "beosztas_id": "2",
                                    "Skod": "3"
                                },
                                {
                                    "nev": "Jogrerős Pál Prof.",
                                    "beosztas_id": "2",
                                    "Skod": "3"
                                },
                                {
                                    "nev": "Józsa Gábor Dr.",
                                    "beosztas_id": "2",
                                    "Skod": "3"
                                },
                                {
                                    "nev": "Varga Kata Dr.",
                                    "beosztas_id": "2",
                                    "Skod": "3"
                                },
                                {
                                    "nev": "Szénási ászló",
                                    "beosztas_id": "2",
                                    "Skod": "3"
                                },
                                {
                                    "nev": "Nógrádi Kata",
                                    "beosztas_id": "2",
                                    "Skod": "3"
                                },
                                {
                                    "nev": "Rácz András",
                                    "beosztas_id": "2",
                                    "Skod": "3"
                                },
                                {
                                    "nev": "Kovács András",
                                    "beosztas_id": "2",
                                    "Skod": "3"
                                },
                                {
                                    "nev": "Ludas Mátyás",
                                    "beosztas_id": "2",
                                    "Skod": "3"
                                },
                                {
                                    "nev": "Kiss István",
                                    "beosztas_id": "2",
                                    "Skod": "3"
                                },
                                {
                                    "nev": "Mészáros Kriszta",
                                    "beosztas_id": "2",
                                    "Skod": "3"
                                },
                                {
                                    "nev": "Róbert Gida",
                                    "beosztas_id": "2",
                                    "Skod": "3"
                                },
                                {
                                    "nev": "Vitéz János",
                                    "beosztas_id": "2",
                                    "Skod": "3"
                                },
                                {
                                    "nev": "Aranyi Mária",
                                    "beosztas_id": "2",
                                    "Skod": "3"
                                },
                                {
                                    "nev": "Szabó Andrera",
                                    "beosztas_id": "2",
                                    "Skod": "3"
                                },
                                {
                                    "nev": "Juhász András Dr.",
                                    "beosztas_id": "2",
                                    "Skod": "3"
                                },
                                {
                                    "nev": "Kovacs Istvan Dr.",
                                    "beosztas_id": "2",
                                    "Skod": "3"
                                },
                                {
                                    "nev": "Kovács László Dr.",
                                    "beosztas_id": "3",
                                    "Skod": "1"
                                },
                                {
                                    "nev": "Szentágotai Istvás Dr.",
                                    "beosztas_id": "3",
                                    "Skod": "1"
                                },
                                {
                                    "nev": "Szerb László",
                                    "beosztas_id": "3",
                                    "Skod": "1"
                                },
                                {
                                    "nev": "Ujfalussi István Prof, tanszékvezető",
                                    "beosztas_id": "3",
                                    "Skod": "1"
                                },
                                {
                                    "nev": "Balkán András Dr.",
                                    "beosztas_id": "3",
                                    "Skod": "1"
                                },
                                {
                                    "nev": "Szép llonka Dr.",
                                    "beosztas_id": "3",
                                    "Skod": "1"
                                },
                                {
                                    "nev": "Kiss János",
                                    "beosztas_id": "3",
                                    "Skod": "1"
                                },
                                {
                                    "nev": "Pelikán József",
                                    "beosztas_id": "3",
                                    "Skod": "1"
                                },
                                {
                                    "nev": "Farkasos Piroska",
                                    "beosztas_id": "3",
                                    "Skod": "1"
                                },
                                {
                                    "nev": "Jogrerős Pál Prof.",
                                    "beosztas_id": "3",
                                    "Skod": "1"
                                },
                                {
                                    "nev": "Józsa Gábor Dr.",
                                    "beosztas_id": "3",
                                    "Skod": "1"
                                },
                                {
                                    "nev": "Varga Kata Dr.",
                                    "beosztas_id": "3",
                                    "Skod": "1"
                                },
                                {
                                    "nev": "Szénási ászló",
                                    "beosztas_id": "3",
                                    "Skod": "1"
                                },
                                {
                                    "nev": "Nógrádi Kata",
                                    "beosztas_id": "3",
                                    "Skod": "1"
                                },
                                {
                                    "nev": "Rácz András",
                                    "beosztas_id": "3",
                                    "Skod": "1"
                                },
                                {
                                    "nev": "Kovács András",
                                    "beosztas_id": "3",
                                    "Skod": "1"
                                },
                                {
                                    "nev": "Ludas Mátyás",
                                    "beosztas_id": "3",
                                    "Skod": "1"
                                },
                                {
                                    "nev": "Kiss István",
                                    "beosztas_id": "3",
                                    "Skod": "1"
                                },
                                {
                                    "nev": "Mészáros Kriszta",
                                    "beosztas_id": "3",
                                    "Skod": "1"
                                },
                                {
                                    "nev": "Róbert Gida",
                                    "beosztas_id": "3",
                                    "Skod": "1"
                                },
                                {
                                    "nev": "Vitéz János",
                                    "beosztas_id": "3",
                                    "Skod": "1"
                                },
                                {
                                    "nev": "Aranyi Mária",
                                    "beosztas_id": "3",
                                    "Skod": "1"
                                },
                                {
                                    "nev": "Szabó Andrera",
                                    "beosztas_id": "3",
                                    "Skod": "1"
                                },
                                {
                                    "nev": "Juhász András Dr.",
                                    "beosztas_id": "3",
                                    "Skod": "1"
                                },
                                {
                                    "nev": "Kovacs Istvan Dr.",
                                    "beosztas_id": "3",
                                    "Skod": "1"
                                },
                                {
                                    "nev": "Kovács László Dr.",
                                    "beosztas_id": "3",
                                    "Skod": "2"
                                },
                                {
                                    "nev": "Szentágotai Istvás Dr.",
                                    "beosztas_id": "3",
                                    "Skod": "2"
                                },
                                {
                                    "nev": "Szerb László",
                                    "beosztas_id": "3",
                                    "Skod": "2"
                                },
                                {
                                    "nev": "Ujfalussi István Prof, tanszékvezető",
                                    "beosztas_id": "3",
                                    "Skod": "2"
                                },
                                {
                                    "nev": "Balkán András Dr.",
                                    "beosztas_id": "3",
                                    "Skod": "2"
                                },
                                {
                                    "nev": "Szép llonka Dr.",
                                    "beosztas_id": "3",
                                    "Skod": "2"
                                },
                                {
                                    "nev": "Kiss János",
                                    "beosztas_id": "3",
                                    "Skod": "2"
                                },
                                {
                                    "nev": "Pelikán József",
                                    "beosztas_id": "3",
                                    "Skod": "2"
                                },
                                {
                                    "nev": "Farkasos Piroska",
                                    "beosztas_id": "3",
                                    "Skod": "2"
                                },
                                {
                                    "nev": "Jogrerős Pál Prof.",
                                    "beosztas_id": "3",
                                    "Skod": "2"
                                },
                                {
                                    "nev": "Józsa Gábor Dr.",
                                    "beosztas_id": "3",
                                    "Skod": "2"
                                },
                                {
                                    "nev": "Varga Kata Dr.",
                                    "beosztas_id": "3",
                                    "Skod": "2"
                                },
                                {
                                    "nev": "Szénási ászló",
                                    "beosztas_id": "3",
                                    "Skod": "2"
                                },
                                {
                                    "nev": "Nógrádi Kata",
                                    "beosztas_id": "3",
                                    "Skod": "2"
                                },
                                {
                                    "nev": "Rácz András",
                                    "beosztas_id": "3",
                                    "Skod": "2"
                                },
                                {
                                    "nev": "Kovács András",
                                    "beosztas_id": "3",
                                    "Skod": "2"
                                },
                                {
                                    "nev": "Ludas Mátyás",
                                    "beosztas_id": "3",
                                    "Skod": "2"
                                },
                                {
                                    "nev": "Kiss István",
                                    "beosztas_id": "3",
                                    "Skod": "2"
                                },
                                {
                                    "nev": "Mészáros Kriszta",
                                    "beosztas_id": "3",
                                    "Skod": "2"
                                },
                                {
                                    "nev": "Róbert Gida",
                                    "beosztas_id": "3",
                                    "Skod": "2"
                                },
                                {
                                    "nev": "Vitéz János",
                                    "beosztas_id": "3",
                                    "Skod": "2"
                                },
                                {
                                    "nev": "Aranyi Mária",
                                    "beosztas_id": "3",
                                    "Skod": "2"
                                },
                                {
                                    "nev": "Szabó Andrera",
                                    "beosztas_id": "3",
                                    "Skod": "2"
                                },
                                {
                                    "nev": "Juhász András Dr.",
                                    "beosztas_id": "3",
                                    "Skod": "2"
                                },
                                {
                                    "nev": "Kovacs Istvan Dr.",
                                    "beosztas_id": "3",
                                    "Skod": "2"
                                },
                                {
                                    "nev": "Kovács László Dr.",
                                    "beosztas_id": "3",
                                    "Skod": "3"
                                },
                                {
                                    "nev": "Szentágotai Istvás Dr.",
                                    "beosztas_id": "3",
                                    "Skod": "3"
                                },
                                {
                                    "nev": "Szerb László",
                                    "beosztas_id": "3",
                                    "Skod": "3"
                                },
                                {
                                    "nev": "Ujfalussi István Prof, tanszékvezető",
                                    "beosztas_id": "3",
                                    "Skod": "3"
                                },
                                {
                                    "nev": "Balkán András Dr.",
                                    "beosztas_id": "3",
                                    "Skod": "3"
                                },
                                {
                                    "nev": "Szép llonka Dr.",
                                    "beosztas_id": "3",
                                    "Skod": "3"
                                },
                                {
                                    "nev": "Kiss János",
                                    "beosztas_id": "3",
                                    "Skod": "3"
                                },
                                {
                                    "nev": "Pelikán József",
                                    "beosztas_id": "3",
                                    "Skod": "3"
                                },
                                {
                                    "nev": "Farkasos Piroska",
                                    "beosztas_id": "3",
                                    "Skod": "3"
                                },
                                {
                                    "nev": "Jogrerős Pál Prof.",
                                    "beosztas_id": "3",
                                    "Skod": "3"
                                },
                                {
                                    "nev": "Józsa Gábor Dr.",
                                    "beosztas_id": "3",
                                    "Skod": "3"
                                },
                                {
                                    "nev": "Varga Kata Dr.",
                                    "beosztas_id": "3",
                                    "Skod": "3"
                                },
                                {
                                    "nev": "Szénási ászló",
                                    "beosztas_id": "3",
                                    "Skod": "3"
                                },
                                {
                                    "nev": "Nógrádi Kata",
                                    "beosztas_id": "3",
                                    "Skod": "3"
                                },
                                {
                                    "nev": "Rácz András",
                                    "beosztas_id": "3",
                                    "Skod": "3"
                                },
                                {
                                    "nev": "Kovács András",
                                    "beosztas_id": "3",
                                    "Skod": "3"
                                },
                                {
                                    "nev": "Ludas Mátyás",
                                    "beosztas_id": "3",
                                    "Skod": "3"
                                },
                                {
                                    "nev": "Kiss István",
                                    "beosztas_id": "3",
                                    "Skod": "3"
                                },
                                {
                                    "nev": "Mészáros Kriszta",
                                    "beosztas_id": "3",
                                    "Skod": "3"
                                },
                                {
                                    "nev": "Róbert Gida",
                                    "beosztas_id": "3",
                                    "Skod": "3"
                                },
                                {
                                    "nev": "Vitéz János",
                                    "beosztas_id": "3",
                                    "Skod": "3"
                                },
                                {
                                    "nev": "Aranyi Mária",
                                    "beosztas_id": "3",
                                    "Skod": "3"
                                },
                                {
                                    "nev": "Szabó Andrera",
                                    "beosztas_id": "3",
                                    "Skod": "3"
                                },
                                {
                                    "nev": "Juhász András Dr.",
                                    "beosztas_id": "3",
                                    "Skod": "3"
                                },
                                {
                                    "nev": "Kovacs Istvan Dr.",
                                    "beosztas_id": "3",
                                    "Skod": "3"
                                },
                                {
                                    "nev": "Kovács László Dr.",
                                    "beosztas_id": "4",
                                    "Skod": "1"
                                },
                                {
                                    "nev": "Szentágotai Istvás Dr.",
                                    "beosztas_id": "4",
                                    "Skod": "1"
                                },
                                {
                                    "nev": "Szerb László",
                                    "beosztas_id": "4",
                                    "Skod": "1"
                                },
                                {
                                    "nev": "Ujfalussi István Prof, tanszékvezető",
                                    "beosztas_id": "4",
                                    "Skod": "1"
                                },
                                {
                                    "nev": "Balkán András Dr.",
                                    "beosztas_id": "4",
                                    "Skod": "1"
                                },
                                {
                                    "nev": "Szép llonka Dr.",
                                    "beosztas_id": "4",
                                    "Skod": "1"
                                },
                                {
                                    "nev": "Kiss János",
                                    "beosztas_id": "4",
                                    "Skod": "1"
                                },
                                {
                                    "nev": "Pelikán József",
                                    "beosztas_id": "4",
                                    "Skod": "1"
                                },
                                {
                                    "nev": "Farkasos Piroska",
                                    "beosztas_id": "4",
                                    "Skod": "1"
                                },
                                {
                                    "nev": "Jogrerős Pál Prof.",
                                    "beosztas_id": "4",
                                    "Skod": "1"
                                },
                                {
                                    "nev": "Józsa Gábor Dr.",
                                    "beosztas_id": "4",
                                    "Skod": "1"
                                },
                                {
                                    "nev": "Varga Kata Dr.",
                                    "beosztas_id": "4",
                                    "Skod": "1"
                                },
                                {
                                    "nev": "Szénási ászló",
                                    "beosztas_id": "4",
                                    "Skod": "1"
                                },
                                {
                                    "nev": "Nógrádi Kata",
                                    "beosztas_id": "4",
                                    "Skod": "1"
                                },
                                {
                                    "nev": "Rácz András",
                                    "beosztas_id": "4",
                                    "Skod": "1"
                                },
                                {
                                    "nev": "Kovács András",
                                    "beosztas_id": "4",
                                    "Skod": "1"
                                },
                                {
                                    "nev": "Ludas Mátyás",
                                    "beosztas_id": "4",
                                    "Skod": "1"
                                },
                                {
                                    "nev": "Kiss István",
                                    "beosztas_id": "4",
                                    "Skod": "1"
                                },
                                {
                                    "nev": "Mészáros Kriszta",
                                    "beosztas_id": "4",
                                    "Skod": "1"
                                },
                                {
                                    "nev": "Róbert Gida",
                                    "beosztas_id": "4",
                                    "Skod": "1"
                                },
                                {
                                    "nev": "Vitéz János",
                                    "beosztas_id": "4",
                                    "Skod": "1"
                                },
                                {
                                    "nev": "Aranyi Mária",
                                    "beosztas_id": "4",
                                    "Skod": "1"
                                },
                                {
                                    "nev": "Szabó Andrera",
                                    "beosztas_id": "4",
                                    "Skod": "1"
                                },
                                {
                                    "nev": "Juhász András Dr.",
                                    "beosztas_id": "4",
                                    "Skod": "1"
                                },
                                {
                                    "nev": "Kovacs Istvan Dr.",
                                    "beosztas_id": "4",
                                    "Skod": "1"
                                },
                                {
                                    "nev": "Kovács László Dr.",
                                    "beosztas_id": "4",
                                    "Skod": "2"
                                },
                                {
                                    "nev": "Szentágotai Istvás Dr.",
                                    "beosztas_id": "4",
                                    "Skod": "2"
                                },
                                {
                                    "nev": "Szerb László",
                                    "beosztas_id": "4",
                                    "Skod": "2"
                                },
                                {
                                    "nev": "Ujfalussi István Prof, tanszékvezető",
                                    "beosztas_id": "4",
                                    "Skod": "2"
                                },
                                {
                                    "nev": "Balkán András Dr.",
                                    "beosztas_id": "4",
                                    "Skod": "2"
                                },
                                {
                                    "nev": "Szép llonka Dr.",
                                    "beosztas_id": "4",
                                    "Skod": "2"
                                },
                                {
                                    "nev": "Kiss János",
                                    "beosztas_id": "4",
                                    "Skod": "2"
                                },
                                {
                                    "nev": "Pelikán József",
                                    "beosztas_id": "4",
                                    "Skod": "2"
                                },
                                {
                                    "nev": "Farkasos Piroska",
                                    "beosztas_id": "4",
                                    "Skod": "2"
                                },
                                {
                                    "nev": "Jogrerős Pál Prof.",
                                    "beosztas_id": "4",
                                    "Skod": "2"
                                },
                                {
                                    "nev": "Józsa Gábor Dr.",
                                    "beosztas_id": "4",
                                    "Skod": "2"
                                },
                                {
                                    "nev": "Varga Kata Dr.",
                                    "beosztas_id": "4",
                                    "Skod": "2"
                                },
                                {
                                    "nev": "Szénási ászló",
                                    "beosztas_id": "4",
                                    "Skod": "2"
                                },
                                {
                                    "nev": "Nógrádi Kata",
                                    "beosztas_id": "4",
                                    "Skod": "2"
                                },
                                {
                                    "nev": "Rácz András",
                                    "beosztas_id": "4",
                                    "Skod": "2"
                                },
                                {
                                    "nev": "Kovács András",
                                    "beosztas_id": "4",
                                    "Skod": "2"
                                },
                                {
                                    "nev": "Ludas Mátyás",
                                    "beosztas_id": "4",
                                    "Skod": "2"
                                },
                                {
                                    "nev": "Kiss István",
                                    "beosztas_id": "4",
                                    "Skod": "2"
                                },
                                {
                                    "nev": "Mészáros Kriszta",
                                    "beosztas_id": "4",
                                    "Skod": "2"
                                },
                                {
                                    "nev": "Róbert Gida",
                                    "beosztas_id": "4",
                                    "Skod": "2"
                                },
                                {
                                    "nev": "Vitéz János",
                                    "beosztas_id": "4",
                                    "Skod": "2"
                                },
                                {
                                    "nev": "Aranyi Mária",
                                    "beosztas_id": "4",
                                    "Skod": "2"
                                },
                                {
                                    "nev": "Szabó Andrera",
                                    "beosztas_id": "4",
                                    "Skod": "2"
                                },
                                {
                                    "nev": "Juhász András Dr.",
                                    "beosztas_id": "4",
                                    "Skod": "2"
                                },
                                {
                                    "nev": "Kovacs Istvan Dr.",
                                    "beosztas_id": "4",
                                    "Skod": "2"
                                },
                                {
                                    "nev": "Kovács László Dr.",
                                    "beosztas_id": "4",
                                    "Skod": "3"
                                },
                                {
                                    "nev": "Szentágotai Istvás Dr.",
                                    "beosztas_id": "4",
                                    "Skod": "3"
                                },
                                {
                                    "nev": "Szerb László",
                                    "beosztas_id": "4",
                                    "Skod": "3"
                                },
                                {
                                    "nev": "Ujfalussi István Prof, tanszékvezető",
                                    "beosztas_id": "4",
                                    "Skod": "3"
                                },
                                {
                                    "nev": "Balkán András Dr.",
                                    "beosztas_id": "4",
                                    "Skod": "3"
                                },
                                {
                                    "nev": "Szép llonka Dr.",
                                    "beosztas_id": "4",
                                    "Skod": "3"
                                },
                                {
                                    "nev": "Kiss János",
                                    "beosztas_id": "4",
                                    "Skod": "3"
                                },
                                {
                                    "nev": "Pelikán József",
                                    "beosztas_id": "4",
                                    "Skod": "3"
                                },
                                {
                                    "nev": "Farkasos Piroska",
                                    "beosztas_id": "4",
                                    "Skod": "3"
                                },
                                {
                                    "nev": "Jogrerős Pál Prof.",
                                    "beosztas_id": "4",
                                    "Skod": "3"
                                },
                                {
                                    "nev": "Józsa Gábor Dr.",
                                    "beosztas_id": "4",
                                    "Skod": "3"
                                },
                                {
                                    "nev": "Varga Kata Dr.",
                                    "beosztas_id": "4",
                                    "Skod": "3"
                                },
                                {
                                    "nev": "Szénási ászló",
                                    "beosztas_id": "4",
                                    "Skod": "3"
                                },
                                {
                                    "nev": "Nógrádi Kata",
                                    "beosztas_id": "4",
                                    "Skod": "3"
                                },
                                {
                                    "nev": "Rácz András",
                                    "beosztas_id": "4",
                                    "Skod": "3"
                                },
                                {
                                    "nev": "Kovács András",
                                    "beosztas_id": "4",
                                    "Skod": "3"
                                },
                                {
                                    "nev": "Ludas Mátyás",
                                    "beosztas_id": "4",
                                    "Skod": "3"
                                },
                                {
                                    "nev": "Kiss István",
                                    "beosztas_id": "4",
                                    "Skod": "3"
                                },
                                {
                                    "nev": "Mészáros Kriszta",
                                    "beosztas_id": "4",
                                    "Skod": "3"
                                },
                                {
                                    "nev": "Róbert Gida",
                                    "beosztas_id": "4",
                                    "Skod": "3"
                                },
                                {
                                    "nev": "Vitéz János",
                                    "beosztas_id": "4",
                                    "Skod": "3"
                                },
                                {
                                    "nev": "Aranyi Mária",
                                    "beosztas_id": "4",
                                    "Skod": "3"
                                },
                                {
                                    "nev": "Szabó Andrera",
                                    "beosztas_id": "4",
                                    "Skod": "3"
                                },
                                {
                                    "nev": "Juhász András Dr.",
                                    "beosztas_id": "4",
                                    "Skod": "3"
                                },
                                {
                                    "nev": "Kovacs Istvan Dr.",
                                    "beosztas_id": "4",
                                    "Skod": "3"
                                },
                                {
                                    "nev": "Kovács László Dr.",
                                    "beosztas_id": "5",
                                    "Skod": "1"
                                },
                                {
                                    "nev": "Szentágotai Istvás Dr.",
                                    "beosztas_id": "5",
                                    "Skod": "1"
                                },
                                {
                                    "nev": "Szerb László",
                                    "beosztas_id": "5",
                                    "Skod": "1"
                                },
                                {
                                    "nev": "Ujfalussi István Prof, tanszékvezető",
                                    "beosztas_id": "5",
                                    "Skod": "1"
                                },
                                {
                                    "nev": "Balkán András Dr.",
                                    "beosztas_id": "5",
                                    "Skod": "1"
                                },
                                {
                                    "nev": "Szép llonka Dr.",
                                    "beosztas_id": "5",
                                    "Skod": "1"
                                },
                                {
                                    "nev": "Kiss János",
                                    "beosztas_id": "5",
                                    "Skod": "1"
                                },
                                {
                                    "nev": "Pelikán József",
                                    "beosztas_id": "5",
                                    "Skod": "1"
                                },
                                {
                                    "nev": "Farkasos Piroska",
                                    "beosztas_id": "5",
                                    "Skod": "1"
                                },
                                {
                                    "nev": "Jogrerős Pál Prof.",
                                    "beosztas_id": "5",
                                    "Skod": "1"
                                },
                                {
                                    "nev": "Józsa Gábor Dr.",
                                    "beosztas_id": "5",
                                    "Skod": "1"
                                },
                                {
                                    "nev": "Varga Kata Dr.",
                                    "beosztas_id": "5",
                                    "Skod": "1"
                                },
                                {
                                    "nev": "Szénási ászló",
                                    "beosztas_id": "5",
                                    "Skod": "1"
                                },
                                {
                                    "nev": "Nógrádi Kata",
                                    "beosztas_id": "5",
                                    "Skod": "1"
                                },
                                {
                                    "nev": "Rácz András",
                                    "beosztas_id": "5",
                                    "Skod": "1"
                                },
                                {
                                    "nev": "Kovács András",
                                    "beosztas_id": "5",
                                    "Skod": "1"
                                },
                                {
                                    "nev": "Ludas Mátyás",
                                    "beosztas_id": "5",
                                    "Skod": "1"
                                },
                                {
                                    "nev": "Kiss István",
                                    "beosztas_id": "5",
                                    "Skod": "1"
                                },
                                {
                                    "nev": "Mészáros Kriszta",
                                    "beosztas_id": "5",
                                    "Skod": "1"
                                },
                                {
                                    "nev": "Róbert Gida",
                                    "beosztas_id": "5",
                                    "Skod": "1"
                                },
                                {
                                    "nev": "Vitéz János",
                                    "beosztas_id": "5",
                                    "Skod": "1"
                                },
                                {
                                    "nev": "Aranyi Mária",
                                    "beosztas_id": "5",
                                    "Skod": "1"
                                },
                                {
                                    "nev": "Szabó Andrera",
                                    "beosztas_id": "5",
                                    "Skod": "1"
                                },
                                {
                                    "nev": "Juhász András Dr.",
                                    "beosztas_id": "5",
                                    "Skod": "1"
                                },
                                {
                                    "nev": "Kovacs Istvan Dr.",
                                    "beosztas_id": "5",
                                    "Skod": "1"
                                },
                                {
                                    "nev": "Kovács László Dr.",
                                    "beosztas_id": "5",
                                    "Skod": "2"
                                },
                                {
                                    "nev": "Szentágotai Istvás Dr.",
                                    "beosztas_id": "5",
                                    "Skod": "2"
                                },
                                {
                                    "nev": "Szerb László",
                                    "beosztas_id": "5",
                                    "Skod": "2"
                                },
                                {
                                    "nev": "Ujfalussi István Prof, tanszékvezető",
                                    "beosztas_id": "5",
                                    "Skod": "2"
                                },
                                {
                                    "nev": "Balkán András Dr.",
                                    "beosztas_id": "5",
                                    "Skod": "2"
                                },
                                {
                                    "nev": "Szép llonka Dr.",
                                    "beosztas_id": "5",
                                    "Skod": "2"
                                },
                                {
                                    "nev": "Kiss János",
                                    "beosztas_id": "5",
                                    "Skod": "2"
                                },
                                {
                                    "nev": "Pelikán József",
                                    "beosztas_id": "5",
                                    "Skod": "2"
                                },
                                {
                                    "nev": "Farkasos Piroska",
                                    "beosztas_id": "5",
                                    "Skod": "2"
                                },
                                {
                                    "nev": "Jogrerős Pál Prof.",
                                    "beosztas_id": "5",
                                    "Skod": "2"
                                },
                                {
                                    "nev": "Józsa Gábor Dr.",
                                    "beosztas_id": "5",
                                    "Skod": "2"
                                },
                                {
                                    "nev": "Varga Kata Dr.",
                                    "beosztas_id": "5",
                                    "Skod": "2"
                                },
                                {
                                    "nev": "Szénási ászló",
                                    "beosztas_id": "5",
                                    "Skod": "2"
                                },
                                {
                                    "nev": "Nógrádi Kata",
                                    "beosztas_id": "5",
                                    "Skod": "2"
                                },
                                {
                                    "nev": "Rácz András",
                                    "beosztas_id": "5",
                                    "Skod": "2"
                                },
                                {
                                    "nev": "Kovács András",
                                    "beosztas_id": "5",
                                    "Skod": "2"
                                },
                                {
                                    "nev": "Ludas Mátyás",
                                    "beosztas_id": "5",
                                    "Skod": "2"
                                },
                                {
                                    "nev": "Kiss István",
                                    "beosztas_id": "5",
                                    "Skod": "2"
                                },
                                {
                                    "nev": "Mészáros Kriszta",
                                    "beosztas_id": "5",
                                    "Skod": "2"
                                },
                                {
                                    "nev": "Róbert Gida",
                                    "beosztas_id": "5",
                                    "Skod": "2"
                                },
                                {
                                    "nev": "Vitéz János",
                                    "beosztas_id": "5",
                                    "Skod": "2"
                                },
                                {
                                    "nev": "Aranyi Mária",
                                    "beosztas_id": "5",
                                    "Skod": "2"
                                },
                                {
                                    "nev": "Szabó Andrera",
                                    "beosztas_id": "5",
                                    "Skod": "2"
                                },
                                {
                                    "nev": "Juhász András Dr.",
                                    "beosztas_id": "5",
                                    "Skod": "2"
                                },
                                {
                                    "nev": "Kovacs Istvan Dr.",
                                    "beosztas_id": "5",
                                    "Skod": "2"
                                },
                                {
                                    "nev": "Kovács László Dr.",
                                    "beosztas_id": "5",
                                    "Skod": "3"
                                },
                                {
                                    "nev": "Szentágotai Istvás Dr.",
                                    "beosztas_id": "5",
                                    "Skod": "3"
                                },
                                {
                                    "nev": "Szerb László",
                                    "beosztas_id": "5",
                                    "Skod": "3"
                                },
                                {
                                    "nev": "Ujfalussi István Prof, tanszékvezető",
                                    "beosztas_id": "5",
                                    "Skod": "3"
                                },
                                {
                                    "nev": "Balkán András Dr.",
                                    "beosztas_id": "5",
                                    "Skod": "3"
                                },
                                {
                                    "nev": "Szép llonka Dr.",
                                    "beosztas_id": "5",
                                    "Skod": "3"
                                },
                                {
                                    "nev": "Kiss János",
                                    "beosztas_id": "5",
                                    "Skod": "3"
                                },
                                {
                                    "nev": "Pelikán József",
                                    "beosztas_id": "5",
                                    "Skod": "3"
                                },
                                {
                                    "nev": "Farkasos Piroska",
                                    "beosztas_id": "5",
                                    "Skod": "3"
                                },
                                {
                                    "nev": "Jogrerős Pál Prof.",
                                    "beosztas_id": "5",
                                    "Skod": "3"
                                },
                                {
                                    "nev": "Józsa Gábor Dr.",
                                    "beosztas_id": "5",
                                    "Skod": "3"
                                },
                                {
                                    "nev": "Varga Kata Dr.",
                                    "beosztas_id": "5",
                                    "Skod": "3"
                                },
                                {
                                    "nev": "Szénási ászló",
                                    "beosztas_id": "5",
                                    "Skod": "3"
                                },
                                {
                                    "nev": "Nógrádi Kata",
                                    "beosztas_id": "5",
                                    "Skod": "3"
                                },
                                {
                                    "nev": "Rácz András",
                                    "beosztas_id": "5",
                                    "Skod": "3"
                                },
                                {
                                    "nev": "Kovács András",
                                    "beosztas_id": "5",
                                    "Skod": "3"
                                },
                                {
                                    "nev": "Ludas Mátyás",
                                    "beosztas_id": "5",
                                    "Skod": "3"
                                },
                                {
                                    "nev": "Kiss István",
                                    "beosztas_id": "5",
                                    "Skod": "3"
                                },
                                {
                                    "nev": "Mészáros Kriszta",
                                    "beosztas_id": "5",
                                    "Skod": "3"
                                },
                                {
                                    "nev": "Róbert Gida",
                                    "beosztas_id": "5",
                                    "Skod": "3"
                                },
                                {
                                    "nev": "Vitéz János",
                                    "beosztas_id": "5",
                                    "Skod": "3"
                                },
                                {
                                    "nev": "Aranyi Mária",
                                    "beosztas_id": "5",
                                    "Skod": "3"
                                },
                                {
                                    "nev": "Szabó Andrera",
                                    "beosztas_id": "5",
                                    "Skod": "3"
                                },
                                {
                                    "nev": "Juhász András Dr.",
                                    "beosztas_id": "5",
                                    "Skod": "3"
                                },
                                {
                                    "nev": "Kovacs Istvan Dr.",
                                    "beosztas_id": "5",
                                    "Skod": "3"
                                },
                                {
                                    "nev": "Kovács László Dr.",
                                    "beosztas_id": "6",
                                    "Skod": "1"
                                },
                                {
                                    "nev": "Szentágotai Istvás Dr.",
                                    "beosztas_id": "6",
                                    "Skod": "1"
                                },
                                {
                                    "nev": "Szerb László",
                                    "beosztas_id": "6",
                                    "Skod": "1"
                                },
                                {
                                    "nev": "Ujfalussi István Prof, tanszékvezető",
                                    "beosztas_id": "6",
                                    "Skod": "1"
                                },
                                {
                                    "nev": "Balkán András Dr.",
                                    "beosztas_id": "6",
                                    "Skod": "1"
                                },
                                {
                                    "nev": "Szép llonka Dr.",
                                    "beosztas_id": "6",
                                    "Skod": "1"
                                },
                                {
                                    "nev": "Kiss János",
                                    "beosztas_id": "6",
                                    "Skod": "1"
                                },
                                {
                                    "nev": "Pelikán József",
                                    "beosztas_id": "6",
                                    "Skod": "1"
                                },
                                {
                                    "nev": "Farkasos Piroska",
                                    "beosztas_id": "6",
                                    "Skod": "1"
                                },
                                {
                                    "nev": "Jogrerős Pál Prof.",
                                    "beosztas_id": "6",
                                    "Skod": "1"
                                },
                                {
                                    "nev": "Józsa Gábor Dr.",
                                    "beosztas_id": "6",
                                    "Skod": "1"
                                },
                                {
                                    "nev": "Varga Kata Dr.",
                                    "beosztas_id": "6",
                                    "Skod": "1"
                                },
                                {
                                    "nev": "Szénási ászló",
                                    "beosztas_id": "6",
                                    "Skod": "1"
                                },
                                {
                                    "nev": "Nógrádi Kata",
                                    "beosztas_id": "6",
                                    "Skod": "1"
                                },
                                {
                                    "nev": "Rácz András",
                                    "beosztas_id": "6",
                                    "Skod": "1"
                                },
                                {
                                    "nev": "Kovács András",
                                    "beosztas_id": "6",
                                    "Skod": "1"
                                },
                                {
                                    "nev": "Ludas Mátyás",
                                    "beosztas_id": "6",
                                    "Skod": "1"
                                },
                                {
                                    "nev": "Kiss István",
                                    "beosztas_id": "6",
                                    "Skod": "1"
                                },
                                {
                                    "nev": "Mészáros Kriszta",
                                    "beosztas_id": "6",
                                    "Skod": "1"
                                },
                                {
                                    "nev": "Róbert Gida",
                                    "beosztas_id": "6",
                                    "Skod": "1"
                                },
                                {
                                    "nev": "Vitéz János",
                                    "beosztas_id": "6",
                                    "Skod": "1"
                                },
                                {
                                    "nev": "Aranyi Mária",
                                    "beosztas_id": "6",
                                    "Skod": "1"
                                },
                                {
                                    "nev": "Szabó Andrera",
                                    "beosztas_id": "6",
                                    "Skod": "1"
                                },
                                {
                                    "nev": "Juhász András Dr.",
                                    "beosztas_id": "6",
                                    "Skod": "1"
                                },
                                {
                                    "nev": "Kovacs Istvan Dr.",
                                    "beosztas_id": "6",
                                    "Skod": "1"
                                },
                                {
                                    "nev": "Kovács László Dr.",
                                    "beosztas_id": "6",
                                    "Skod": "2"
                                },
                                {
                                    "nev": "Szentágotai Istvás Dr.",
                                    "beosztas_id": "6",
                                    "Skod": "2"
                                },
                                {
                                    "nev": "Szerb László",
                                    "beosztas_id": "6",
                                    "Skod": "2"
                                },
                                {
                                    "nev": "Ujfalussi István Prof, tanszékvezető",
                                    "beosztas_id": "6",
                                    "Skod": "2"
                                },
                                {
                                    "nev": "Balkán András Dr.",
                                    "beosztas_id": "6",
                                    "Skod": "2"
                                },
                                {
                                    "nev": "Szép llonka Dr.",
                                    "beosztas_id": "6",
                                    "Skod": "2"
                                },
                                {
                                    "nev": "Kiss János",
                                    "beosztas_id": "6",
                                    "Skod": "2"
                                },
                                {
                                    "nev": "Pelikán József",
                                    "beosztas_id": "6",
                                    "Skod": "2"
                                },
                                {
                                    "nev": "Farkasos Piroska",
                                    "beosztas_id": "6",
                                    "Skod": "2"
                                },
                                {
                                    "nev": "Jogrerős Pál Prof.",
                                    "beosztas_id": "6",
                                    "Skod": "2"
                                },
                                {
                                    "nev": "Józsa Gábor Dr.",
                                    "beosztas_id": "6",
                                    "Skod": "2"
                                },
                                {
                                    "nev": "Varga Kata Dr.",
                                    "beosztas_id": "6",
                                    "Skod": "2"
                                },
                                {
                                    "nev": "Szénási ászló",
                                    "beosztas_id": "6",
                                    "Skod": "2"
                                },
                                {
                                    "nev": "Nógrádi Kata",
                                    "beosztas_id": "6",
                                    "Skod": "2"
                                },
                                {
                                    "nev": "Rácz András",
                                    "beosztas_id": "6",
                                    "Skod": "2"
                                },
                                {
                                    "nev": "Kovács András",
                                    "beosztas_id": "6",
                                    "Skod": "2"
                                },
                                {
                                    "nev": "Ludas Mátyás",
                                    "beosztas_id": "6",
                                    "Skod": "2"
                                },
                                {
                                    "nev": "Kiss István",
                                    "beosztas_id": "6",
                                    "Skod": "2"
                                },
                                {
                                    "nev": "Mészáros Kriszta",
                                    "beosztas_id": "6",
                                    "Skod": "2"
                                },
                                {
                                    "nev": "Róbert Gida",
                                    "beosztas_id": "6",
                                    "Skod": "2"
                                },
                                {
                                    "nev": "Vitéz János",
                                    "beosztas_id": "6",
                                    "Skod": "2"
                                },
                                {
                                    "nev": "Aranyi Mária",
                                    "beosztas_id": "6",
                                    "Skod": "2"
                                },
                                {
                                    "nev": "Szabó Andrera",
                                    "beosztas_id": "6",
                                    "Skod": "2"
                                },
                                {
                                    "nev": "Juhász András Dr.",
                                    "beosztas_id": "6",
                                    "Skod": "2"
                                },
                                {
                                    "nev": "Kovacs Istvan Dr.",
                                    "beosztas_id": "6",
                                    "Skod": "2"
                                },
                                {
                                    "nev": "Kovács László Dr.",
                                    "beosztas_id": "6",
                                    "Skod": "3"
                                },
                                {
                                    "nev": "Szentágotai Istvás Dr.",
                                    "beosztas_id": "6",
                                    "Skod": "3"
                                },
                                {
                                    "nev": "Szerb László",
                                    "beosztas_id": "6",
                                    "Skod": "3"
                                },
                                {
                                    "nev": "Ujfalussi István Prof, tanszékvezető",
                                    "beosztas_id": "6",
                                    "Skod": "3"
                                },
                                {
                                    "nev": "Balkán András Dr.",
                                    "beosztas_id": "6",
                                    "Skod": "3"
                                },
                                {
                                    "nev": "Szép llonka Dr.",
                                    "beosztas_id": "6",
                                    "Skod": "3"
                                },
                                {
                                    "nev": "Kiss János",
                                    "beosztas_id": "6",
                                    "Skod": "3"
                                },
                                {
                                    "nev": "Pelikán József",
                                    "beosztas_id": "6",
                                    "Skod": "3"
                                },
                                {
                                    "nev": "Farkasos Piroska",
                                    "beosztas_id": "6",
                                    "Skod": "3"
                                },
                                {
                                    "nev": "Jogrerős Pál Prof.",
                                    "beosztas_id": "6",
                                    "Skod": "3"
                                },
                                {
                                    "nev": "Józsa Gábor Dr.",
                                    "beosztas_id": "6",
                                    "Skod": "3"
                                },
                                {
                                    "nev": "Varga Kata Dr.",
                                    "beosztas_id": "6",
                                    "Skod": "3"
                                },
                                {
                                    "nev": "Szénási ászló",
                                    "beosztas_id": "6",
                                    "Skod": "3"
                                },
                                {
                                    "nev": "Nógrádi Kata",
                                    "beosztas_id": "6",
                                    "Skod": "3"
                                },
                                {
                                    "nev": "Rácz András",
                                    "beosztas_id": "6",
                                    "Skod": "3"
                                },
                                {
                                    "nev": "Kovács András",
                                    "beosztas_id": "6",
                                    "Skod": "3"
                                },
                                {
                                    "nev": "Ludas Mátyás",
                                    "beosztas_id": "6",
                                    "Skod": "3"
                                },
                                {
                                    "nev": "Kiss István",
                                    "beosztas_id": "6",
                                    "Skod": "3"
                                },
                                {
                                    "nev": "Mészáros Kriszta",
                                    "beosztas_id": "6",
                                    "Skod": "3"
                                },
                                {
                                    "nev": "Róbert Gida",
                                    "beosztas_id": "6",
                                    "Skod": "3"
                                },
                                {
                                    "nev": "Vitéz János",
                                    "beosztas_id": "6",
                                    "Skod": "3"
                                },
                                {
                                    "nev": "Aranyi Mária",
                                    "beosztas_id": "6",
                                    "Skod": "3"
                                },
                                {
                                    "nev": "Szabó Andrera",
                                    "beosztas_id": "6",
                                    "Skod": "3"
                                },
                                {
                                    "nev": "Juhász András Dr.",
                                    "beosztas_id": "6",
                                    "Skod": "3"
                                },
                                {
                                    "nev": "Kovacs Istvan Dr.",
                                    "beosztas_id": "6",
                                    "Skod": "3"
                                },
                                {
                                    "nev": "Kovács László Dr.",
                                    "beosztas_id": "7",
                                    "Skod": "1"
                                },
                                {
                                    "nev": "Szentágotai Istvás Dr.",
                                    "beosztas_id": "7",
                                    "Skod": "1"
                                },
                                {
                                    "nev": "Szerb László",
                                    "beosztas_id": "7",
                                    "Skod": "1"
                                },
                                {
                                    "nev": "Ujfalussi István Prof, tanszékvezető",
                                    "beosztas_id": "7",
                                    "Skod": "1"
                                },
                                {
                                    "nev": "Balkán András Dr.",
                                    "beosztas_id": "7",
                                    "Skod": "1"
                                },
                                {
                                    "nev": "Szép llonka Dr.",
                                    "beosztas_id": "7",
                                    "Skod": "1"
                                },
                                {
                                    "nev": "Kiss János",
                                    "beosztas_id": "7",
                                    "Skod": "1"
                                },
                                {
                                    "nev": "Pelikán József",
                                    "beosztas_id": "7",
                                    "Skod": "1"
                                },
                                {
                                    "nev": "Farkasos Piroska",
                                    "beosztas_id": "7",
                                    "Skod": "1"
                                },
                                {
                                    "nev": "Jogrerős Pál Prof.",
                                    "beosztas_id": "7",
                                    "Skod": "1"
                                },
                                {
                                    "nev": "Józsa Gábor Dr.",
                                    "beosztas_id": "7",
                                    "Skod": "1"
                                },
                                {
                                    "nev": "Varga Kata Dr.",
                                    "beosztas_id": "7",
                                    "Skod": "1"
                                },
                                {
                                    "nev": "Szénási ászló",
                                    "beosztas_id": "7",
                                    "Skod": "1"
                                },
                                {
                                    "nev": "Nógrádi Kata",
                                    "beosztas_id": "7",
                                    "Skod": "1"
                                },
                                {
                                    "nev": "Rácz András",
                                    "beosztas_id": "7",
                                    "Skod": "1"
                                },
                                {
                                    "nev": "Kovács András",
                                    "beosztas_id": "7",
                                    "Skod": "1"
                                },
                                {
                                    "nev": "Ludas Mátyás",
                                    "beosztas_id": "7",
                                    "Skod": "1"
                                },
                                {
                                    "nev": "Kiss István",
                                    "beosztas_id": "7",
                                    "Skod": "1"
                                },
                                {
                                    "nev": "Mészáros Kriszta",
                                    "beosztas_id": "7",
                                    "Skod": "1"
                                },
                                {
                                    "nev": "Róbert Gida",
                                    "beosztas_id": "7",
                                    "Skod": "1"
                                },
                                {
                                    "nev": "Vitéz János",
                                    "beosztas_id": "7",
                                    "Skod": "1"
                                },
                                {
                                    "nev": "Aranyi Mária",
                                    "beosztas_id": "7",
                                    "Skod": "1"
                                },
                                {
                                    "nev": "Szabó Andrera",
                                    "beosztas_id": "7",
                                    "Skod": "1"
                                },
                                {
                                    "nev": "Juhász András Dr.",
                                    "beosztas_id": "7",
                                    "Skod": "1"
                                },
                                {
                                    "nev": "Kovacs Istvan Dr.",
                                    "beosztas_id": "7",
                                    "Skod": "1"
                                },
                                {
                                    "nev": "Kovács László Dr.",
                                    "beosztas_id": "7",
                                    "Skod": "2"
                                },
                                {
                                    "nev": "Szentágotai Istvás Dr.",
                                    "beosztas_id": "7",
                                    "Skod": "2"
                                },
                                {
                                    "nev": "Szerb László",
                                    "beosztas_id": "7",
                                    "Skod": "2"
                                },
                                {
                                    "nev": "Ujfalussi István Prof, tanszékvezető",
                                    "beosztas_id": "7",
                                    "Skod": "2"
                                },
                                {
                                    "nev": "Balkán András Dr.",
                                    "beosztas_id": "7",
                                    "Skod": "2"
                                },
                                {
                                    "nev": "Szép llonka Dr.",
                                    "beosztas_id": "7",
                                    "Skod": "2"
                                },
                                {
                                    "nev": "Kiss János",
                                    "beosztas_id": "7",
                                    "Skod": "2"
                                },
                                {
                                    "nev": "Pelikán József",
                                    "beosztas_id": "7",
                                    "Skod": "2"
                                },
                                {
                                    "nev": "Farkasos Piroska",
                                    "beosztas_id": "7",
                                    "Skod": "2"
                                },
                                {
                                    "nev": "Jogrerős Pál Prof.",
                                    "beosztas_id": "7",
                                    "Skod": "2"
                                },
                                {
                                    "nev": "Józsa Gábor Dr.",
                                    "beosztas_id": "7",
                                    "Skod": "2"
                                },
                                {
                                    "nev": "Varga Kata Dr.",
                                    "beosztas_id": "7",
                                    "Skod": "2"
                                },
                                {
                                    "nev": "Szénási ászló",
                                    "beosztas_id": "7",
                                    "Skod": "2"
                                },
                                {
                                    "nev": "Nógrádi Kata",
                                    "beosztas_id": "7",
                                    "Skod": "2"
                                },
                                {
                                    "nev": "Rácz András",
                                    "beosztas_id": "7",
                                    "Skod": "2"
                                },
                                {
                                    "nev": "Kovács András",
                                    "beosztas_id": "7",
                                    "Skod": "2"
                                },
                                {
                                    "nev": "Ludas Mátyás",
                                    "beosztas_id": "7",
                                    "Skod": "2"
                                },
                                {
                                    "nev": "Kiss István",
                                    "beosztas_id": "7",
                                    "Skod": "2"
                                },
                                {
                                    "nev": "Mészáros Kriszta",
                                    "beosztas_id": "7",
                                    "Skod": "2"
                                },
                                {
                                    "nev": "Róbert Gida",
                                    "beosztas_id": "7",
                                    "Skod": "2"
                                },
                                {
                                    "nev": "Vitéz János",
                                    "beosztas_id": "7",
                                    "Skod": "2"
                                },
                                {
                                    "nev": "Aranyi Mária",
                                    "beosztas_id": "7",
                                    "Skod": "2"
                                },
                                {
                                    "nev": "Szabó Andrera",
                                    "beosztas_id": "7",
                                    "Skod": "2"
                                },
                                {
                                    "nev": "Juhász András Dr.",
                                    "beosztas_id": "7",
                                    "Skod": "2"
                                },
                                {
                                    "nev": "Kovacs Istvan Dr.",
                                    "beosztas_id": "7",
                                    "Skod": "2"
                                },
                                {
                                    "nev": "Kovács László Dr.",
                                    "beosztas_id": "7",
                                    "Skod": "3"
                                },
                                {
                                    "nev": "Szentágotai Istvás Dr.",
                                    "beosztas_id": "7",
                                    "Skod": "3"
                                },
                                {
                                    "nev": "Szerb László",
                                    "beosztas_id": "7",
                                    "Skod": "3"
                                },
                                {
                                    "nev": "Ujfalussi István Prof, tanszékvezető",
                                    "beosztas_id": "7",
                                    "Skod": "3"
                                },
                                {
                                    "nev": "Balkán András Dr.",
                                    "beosztas_id": "7",
                                    "Skod": "3"
                                },
                                {
                                    "nev": "Szép llonka Dr.",
                                    "beosztas_id": "7",
                                    "Skod": "3"
                                },
                                {
                                    "nev": "Kiss János",
                                    "beosztas_id": "7",
                                    "Skod": "3"
                                },
                                {
                                    "nev": "Pelikán József",
                                    "beosztas_id": "7",
                                    "Skod": "3"
                                },
                                {
                                    "nev": "Farkasos Piroska",
                                    "beosztas_id": "7",
                                    "Skod": "3"
                                },
                                {
                                    "nev": "Jogrerős Pál Prof.",
                                    "beosztas_id": "7",
                                    "Skod": "3"
                                },
                                {
                                    "nev": "Józsa Gábor Dr.",
                                    "beosztas_id": "7",
                                    "Skod": "3"
                                },
                                {
                                    "nev": "Varga Kata Dr.",
                                    "beosztas_id": "7",
                                    "Skod": "3"
                                },
                                {
                                    "nev": "Szénási ászló",
                                    "beosztas_id": "7",
                                    "Skod": "3"
                                },
                                {
                                    "nev": "Nógrádi Kata",
                                    "beosztas_id": "7",
                                    "Skod": "3"
                                },
                                {
                                    "nev": "Rácz András",
                                    "beosztas_id": "7",
                                    "Skod": "3"
                                },
                                {
                                    "nev": "Kovács András",
                                    "beosztas_id": "7",
                                    "Skod": "3"
                                },
                                {
                                    "nev": "Ludas Mátyás",
                                    "beosztas_id": "7",
                                    "Skod": "3"
                                },
                                {
                                    "nev": "Kiss István",
                                    "beosztas_id": "7",
                                    "Skod": "3"
                                },
                                {
                                    "nev": "Mészáros Kriszta",
                                    "beosztas_id": "7",
                                    "Skod": "3"
                                },
                                {
                                    "nev": "Róbert Gida",
                                    "beosztas_id": "7",
                                    "Skod": "3"
                                },
                                {
                                    "nev": "Vitéz János",
                                    "beosztas_id": "7",
                                    "Skod": "3"
                                },
                                {
                                    "nev": "Aranyi Mária",
                                    "beosztas_id": "7",
                                    "Skod": "3"
                                },
                                {
                                    "nev": "Szabó Andrera",
                                    "beosztas_id": "7",
                                    "Skod": "3"
                                },
                                {
                                    "nev": "Juhász András Dr.",
                                    "beosztas_id": "7",
                                    "Skod": "3"
                                },
                                {
                                    "nev": "Kovacs Istvan Dr.",
                                    "beosztas_id": "7",
                                    "Skod": "3"
                                }
                            ]
                        },
                        "text/html": "<table><tr><th>nev</th><th>beosztas_id</th><th>Skod</th></tr><tr><td>Kovács László Dr.</td><td>1</td><td>1</td></tr><tr><td>Szentágotai Istvás Dr.</td><td>1</td><td>1</td></tr><tr><td>Szerb László</td><td>1</td><td>1</td></tr><tr><td>Ujfalussi István Prof, tanszékvezető</td><td>1</td><td>1</td></tr><tr><td>Balkán András Dr.</td><td>1</td><td>1</td></tr><tr><td>Szép llonka Dr.</td><td>1</td><td>1</td></tr><tr><td>Kiss János</td><td>1</td><td>1</td></tr><tr><td>Pelikán József</td><td>1</td><td>1</td></tr><tr><td>Farkasos Piroska</td><td>1</td><td>1</td></tr><tr><td>Jogrerős Pál Prof.</td><td>1</td><td>1</td></tr><tr><td>Józsa Gábor Dr.</td><td>1</td><td>1</td></tr><tr><td>Varga Kata Dr.</td><td>1</td><td>1</td></tr><tr><td>Szénási ászló</td><td>1</td><td>1</td></tr><tr><td>Nógrádi Kata</td><td>1</td><td>1</td></tr><tr><td>Rácz András</td><td>1</td><td>1</td></tr><tr><td>Kovács András</td><td>1</td><td>1</td></tr><tr><td>Ludas Mátyás</td><td>1</td><td>1</td></tr><tr><td>Kiss István</td><td>1</td><td>1</td></tr><tr><td>Mészáros Kriszta</td><td>1</td><td>1</td></tr><tr><td>Róbert Gida</td><td>1</td><td>1</td></tr><tr><td>Vitéz János</td><td>1</td><td>1</td></tr><tr><td>Aranyi Mária</td><td>1</td><td>1</td></tr><tr><td>Szabó Andrera</td><td>1</td><td>1</td></tr><tr><td>Juhász András Dr.</td><td>1</td><td>1</td></tr><tr><td>Kovacs Istvan Dr.</td><td>1</td><td>1</td></tr><tr><td>Kovács László Dr.</td><td>1</td><td>2</td></tr><tr><td>Szentágotai Istvás Dr.</td><td>1</td><td>2</td></tr><tr><td>Szerb László</td><td>1</td><td>2</td></tr><tr><td>Ujfalussi István Prof, tanszékvezető</td><td>1</td><td>2</td></tr><tr><td>Balkán András Dr.</td><td>1</td><td>2</td></tr><tr><td>Szép llonka Dr.</td><td>1</td><td>2</td></tr><tr><td>Kiss János</td><td>1</td><td>2</td></tr><tr><td>Pelikán József</td><td>1</td><td>2</td></tr><tr><td>Farkasos Piroska</td><td>1</td><td>2</td></tr><tr><td>Jogrerős Pál Prof.</td><td>1</td><td>2</td></tr><tr><td>Józsa Gábor Dr.</td><td>1</td><td>2</td></tr><tr><td>Varga Kata Dr.</td><td>1</td><td>2</td></tr><tr><td>Szénási ászló</td><td>1</td><td>2</td></tr><tr><td>Nógrádi Kata</td><td>1</td><td>2</td></tr><tr><td>Rácz András</td><td>1</td><td>2</td></tr><tr><td>Kovács András</td><td>1</td><td>2</td></tr><tr><td>Ludas Mátyás</td><td>1</td><td>2</td></tr><tr><td>Kiss István</td><td>1</td><td>2</td></tr><tr><td>Mészáros Kriszta</td><td>1</td><td>2</td></tr><tr><td>Róbert Gida</td><td>1</td><td>2</td></tr><tr><td>Vitéz János</td><td>1</td><td>2</td></tr><tr><td>Aranyi Mária</td><td>1</td><td>2</td></tr><tr><td>Szabó Andrera</td><td>1</td><td>2</td></tr><tr><td>Juhász András Dr.</td><td>1</td><td>2</td></tr><tr><td>Kovacs Istvan Dr.</td><td>1</td><td>2</td></tr><tr><td>Kovács László Dr.</td><td>1</td><td>3</td></tr><tr><td>Szentágotai Istvás Dr.</td><td>1</td><td>3</td></tr><tr><td>Szerb László</td><td>1</td><td>3</td></tr><tr><td>Ujfalussi István Prof, tanszékvezető</td><td>1</td><td>3</td></tr><tr><td>Balkán András Dr.</td><td>1</td><td>3</td></tr><tr><td>Szép llonka Dr.</td><td>1</td><td>3</td></tr><tr><td>Kiss János</td><td>1</td><td>3</td></tr><tr><td>Pelikán József</td><td>1</td><td>3</td></tr><tr><td>Farkasos Piroska</td><td>1</td><td>3</td></tr><tr><td>Jogrerős Pál Prof.</td><td>1</td><td>3</td></tr><tr><td>Józsa Gábor Dr.</td><td>1</td><td>3</td></tr><tr><td>Varga Kata Dr.</td><td>1</td><td>3</td></tr><tr><td>Szénási ászló</td><td>1</td><td>3</td></tr><tr><td>Nógrádi Kata</td><td>1</td><td>3</td></tr><tr><td>Rácz András</td><td>1</td><td>3</td></tr><tr><td>Kovács András</td><td>1</td><td>3</td></tr><tr><td>Ludas Mátyás</td><td>1</td><td>3</td></tr><tr><td>Kiss István</td><td>1</td><td>3</td></tr><tr><td>Mészáros Kriszta</td><td>1</td><td>3</td></tr><tr><td>Róbert Gida</td><td>1</td><td>3</td></tr><tr><td>Vitéz János</td><td>1</td><td>3</td></tr><tr><td>Aranyi Mária</td><td>1</td><td>3</td></tr><tr><td>Szabó Andrera</td><td>1</td><td>3</td></tr><tr><td>Juhász András Dr.</td><td>1</td><td>3</td></tr><tr><td>Kovacs Istvan Dr.</td><td>1</td><td>3</td></tr><tr><td>Kovács László Dr.</td><td>2</td><td>1</td></tr><tr><td>Szentágotai Istvás Dr.</td><td>2</td><td>1</td></tr><tr><td>Szerb László</td><td>2</td><td>1</td></tr><tr><td>Ujfalussi István Prof, tanszékvezető</td><td>2</td><td>1</td></tr><tr><td>Balkán András Dr.</td><td>2</td><td>1</td></tr><tr><td>Szép llonka Dr.</td><td>2</td><td>1</td></tr><tr><td>Kiss János</td><td>2</td><td>1</td></tr><tr><td>Pelikán József</td><td>2</td><td>1</td></tr><tr><td>Farkasos Piroska</td><td>2</td><td>1</td></tr><tr><td>Jogrerős Pál Prof.</td><td>2</td><td>1</td></tr><tr><td>Józsa Gábor Dr.</td><td>2</td><td>1</td></tr><tr><td>Varga Kata Dr.</td><td>2</td><td>1</td></tr><tr><td>Szénási ászló</td><td>2</td><td>1</td></tr><tr><td>Nógrádi Kata</td><td>2</td><td>1</td></tr><tr><td>Rácz András</td><td>2</td><td>1</td></tr><tr><td>Kovács András</td><td>2</td><td>1</td></tr><tr><td>Ludas Mátyás</td><td>2</td><td>1</td></tr><tr><td>Kiss István</td><td>2</td><td>1</td></tr><tr><td>Mészáros Kriszta</td><td>2</td><td>1</td></tr><tr><td>Róbert Gida</td><td>2</td><td>1</td></tr><tr><td>Vitéz János</td><td>2</td><td>1</td></tr><tr><td>Aranyi Mária</td><td>2</td><td>1</td></tr><tr><td>Szabó Andrera</td><td>2</td><td>1</td></tr><tr><td>Juhász András Dr.</td><td>2</td><td>1</td></tr><tr><td>Kovacs Istvan Dr.</td><td>2</td><td>1</td></tr><tr><td>Kovács László Dr.</td><td>2</td><td>2</td></tr><tr><td>Szentágotai Istvás Dr.</td><td>2</td><td>2</td></tr><tr><td>Szerb László</td><td>2</td><td>2</td></tr><tr><td>Ujfalussi István Prof, tanszékvezető</td><td>2</td><td>2</td></tr><tr><td>Balkán András Dr.</td><td>2</td><td>2</td></tr><tr><td>Szép llonka Dr.</td><td>2</td><td>2</td></tr><tr><td>Kiss János</td><td>2</td><td>2</td></tr><tr><td>Pelikán József</td><td>2</td><td>2</td></tr><tr><td>Farkasos Piroska</td><td>2</td><td>2</td></tr><tr><td>Jogrerős Pál Prof.</td><td>2</td><td>2</td></tr><tr><td>Józsa Gábor Dr.</td><td>2</td><td>2</td></tr><tr><td>Varga Kata Dr.</td><td>2</td><td>2</td></tr><tr><td>Szénási ászló</td><td>2</td><td>2</td></tr><tr><td>Nógrádi Kata</td><td>2</td><td>2</td></tr><tr><td>Rácz András</td><td>2</td><td>2</td></tr><tr><td>Kovács András</td><td>2</td><td>2</td></tr><tr><td>Ludas Mátyás</td><td>2</td><td>2</td></tr><tr><td>Kiss István</td><td>2</td><td>2</td></tr><tr><td>Mészáros Kriszta</td><td>2</td><td>2</td></tr><tr><td>Róbert Gida</td><td>2</td><td>2</td></tr><tr><td>Vitéz János</td><td>2</td><td>2</td></tr><tr><td>Aranyi Mária</td><td>2</td><td>2</td></tr><tr><td>Szabó Andrera</td><td>2</td><td>2</td></tr><tr><td>Juhász András Dr.</td><td>2</td><td>2</td></tr><tr><td>Kovacs Istvan Dr.</td><td>2</td><td>2</td></tr><tr><td>Kovács László Dr.</td><td>2</td><td>3</td></tr><tr><td>Szentágotai Istvás Dr.</td><td>2</td><td>3</td></tr><tr><td>Szerb László</td><td>2</td><td>3</td></tr><tr><td>Ujfalussi István Prof, tanszékvezető</td><td>2</td><td>3</td></tr><tr><td>Balkán András Dr.</td><td>2</td><td>3</td></tr><tr><td>Szép llonka Dr.</td><td>2</td><td>3</td></tr><tr><td>Kiss János</td><td>2</td><td>3</td></tr><tr><td>Pelikán József</td><td>2</td><td>3</td></tr><tr><td>Farkasos Piroska</td><td>2</td><td>3</td></tr><tr><td>Jogrerős Pál Prof.</td><td>2</td><td>3</td></tr><tr><td>Józsa Gábor Dr.</td><td>2</td><td>3</td></tr><tr><td>Varga Kata Dr.</td><td>2</td><td>3</td></tr><tr><td>Szénási ászló</td><td>2</td><td>3</td></tr><tr><td>Nógrádi Kata</td><td>2</td><td>3</td></tr><tr><td>Rácz András</td><td>2</td><td>3</td></tr><tr><td>Kovács András</td><td>2</td><td>3</td></tr><tr><td>Ludas Mátyás</td><td>2</td><td>3</td></tr><tr><td>Kiss István</td><td>2</td><td>3</td></tr><tr><td>Mészáros Kriszta</td><td>2</td><td>3</td></tr><tr><td>Róbert Gida</td><td>2</td><td>3</td></tr><tr><td>Vitéz János</td><td>2</td><td>3</td></tr><tr><td>Aranyi Mária</td><td>2</td><td>3</td></tr><tr><td>Szabó Andrera</td><td>2</td><td>3</td></tr><tr><td>Juhász András Dr.</td><td>2</td><td>3</td></tr><tr><td>Kovacs Istvan Dr.</td><td>2</td><td>3</td></tr><tr><td>Kovács László Dr.</td><td>3</td><td>1</td></tr><tr><td>Szentágotai Istvás Dr.</td><td>3</td><td>1</td></tr><tr><td>Szerb László</td><td>3</td><td>1</td></tr><tr><td>Ujfalussi István Prof, tanszékvezető</td><td>3</td><td>1</td></tr><tr><td>Balkán András Dr.</td><td>3</td><td>1</td></tr><tr><td>Szép llonka Dr.</td><td>3</td><td>1</td></tr><tr><td>Kiss János</td><td>3</td><td>1</td></tr><tr><td>Pelikán József</td><td>3</td><td>1</td></tr><tr><td>Farkasos Piroska</td><td>3</td><td>1</td></tr><tr><td>Jogrerős Pál Prof.</td><td>3</td><td>1</td></tr><tr><td>Józsa Gábor Dr.</td><td>3</td><td>1</td></tr><tr><td>Varga Kata Dr.</td><td>3</td><td>1</td></tr><tr><td>Szénási ászló</td><td>3</td><td>1</td></tr><tr><td>Nógrádi Kata</td><td>3</td><td>1</td></tr><tr><td>Rácz András</td><td>3</td><td>1</td></tr><tr><td>Kovács András</td><td>3</td><td>1</td></tr><tr><td>Ludas Mátyás</td><td>3</td><td>1</td></tr><tr><td>Kiss István</td><td>3</td><td>1</td></tr><tr><td>Mészáros Kriszta</td><td>3</td><td>1</td></tr><tr><td>Róbert Gida</td><td>3</td><td>1</td></tr><tr><td>Vitéz János</td><td>3</td><td>1</td></tr><tr><td>Aranyi Mária</td><td>3</td><td>1</td></tr><tr><td>Szabó Andrera</td><td>3</td><td>1</td></tr><tr><td>Juhász András Dr.</td><td>3</td><td>1</td></tr><tr><td>Kovacs Istvan Dr.</td><td>3</td><td>1</td></tr><tr><td>Kovács László Dr.</td><td>3</td><td>2</td></tr><tr><td>Szentágotai Istvás Dr.</td><td>3</td><td>2</td></tr><tr><td>Szerb László</td><td>3</td><td>2</td></tr><tr><td>Ujfalussi István Prof, tanszékvezető</td><td>3</td><td>2</td></tr><tr><td>Balkán András Dr.</td><td>3</td><td>2</td></tr><tr><td>Szép llonka Dr.</td><td>3</td><td>2</td></tr><tr><td>Kiss János</td><td>3</td><td>2</td></tr><tr><td>Pelikán József</td><td>3</td><td>2</td></tr><tr><td>Farkasos Piroska</td><td>3</td><td>2</td></tr><tr><td>Jogrerős Pál Prof.</td><td>3</td><td>2</td></tr><tr><td>Józsa Gábor Dr.</td><td>3</td><td>2</td></tr><tr><td>Varga Kata Dr.</td><td>3</td><td>2</td></tr><tr><td>Szénási ászló</td><td>3</td><td>2</td></tr><tr><td>Nógrádi Kata</td><td>3</td><td>2</td></tr><tr><td>Rácz András</td><td>3</td><td>2</td></tr><tr><td>Kovács András</td><td>3</td><td>2</td></tr><tr><td>Ludas Mátyás</td><td>3</td><td>2</td></tr><tr><td>Kiss István</td><td>3</td><td>2</td></tr><tr><td>Mészáros Kriszta</td><td>3</td><td>2</td></tr><tr><td>Róbert Gida</td><td>3</td><td>2</td></tr><tr><td>Vitéz János</td><td>3</td><td>2</td></tr><tr><td>Aranyi Mária</td><td>3</td><td>2</td></tr><tr><td>Szabó Andrera</td><td>3</td><td>2</td></tr><tr><td>Juhász András Dr.</td><td>3</td><td>2</td></tr><tr><td>Kovacs Istvan Dr.</td><td>3</td><td>2</td></tr><tr><td>Kovács László Dr.</td><td>3</td><td>3</td></tr><tr><td>Szentágotai Istvás Dr.</td><td>3</td><td>3</td></tr><tr><td>Szerb László</td><td>3</td><td>3</td></tr><tr><td>Ujfalussi István Prof, tanszékvezető</td><td>3</td><td>3</td></tr><tr><td>Balkán András Dr.</td><td>3</td><td>3</td></tr><tr><td>Szép llonka Dr.</td><td>3</td><td>3</td></tr><tr><td>Kiss János</td><td>3</td><td>3</td></tr><tr><td>Pelikán József</td><td>3</td><td>3</td></tr><tr><td>Farkasos Piroska</td><td>3</td><td>3</td></tr><tr><td>Jogrerős Pál Prof.</td><td>3</td><td>3</td></tr><tr><td>Józsa Gábor Dr.</td><td>3</td><td>3</td></tr><tr><td>Varga Kata Dr.</td><td>3</td><td>3</td></tr><tr><td>Szénási ászló</td><td>3</td><td>3</td></tr><tr><td>Nógrádi Kata</td><td>3</td><td>3</td></tr><tr><td>Rácz András</td><td>3</td><td>3</td></tr><tr><td>Kovács András</td><td>3</td><td>3</td></tr><tr><td>Ludas Mátyás</td><td>3</td><td>3</td></tr><tr><td>Kiss István</td><td>3</td><td>3</td></tr><tr><td>Mészáros Kriszta</td><td>3</td><td>3</td></tr><tr><td>Róbert Gida</td><td>3</td><td>3</td></tr><tr><td>Vitéz János</td><td>3</td><td>3</td></tr><tr><td>Aranyi Mária</td><td>3</td><td>3</td></tr><tr><td>Szabó Andrera</td><td>3</td><td>3</td></tr><tr><td>Juhász András Dr.</td><td>3</td><td>3</td></tr><tr><td>Kovacs Istvan Dr.</td><td>3</td><td>3</td></tr><tr><td>Kovács László Dr.</td><td>4</td><td>1</td></tr><tr><td>Szentágotai Istvás Dr.</td><td>4</td><td>1</td></tr><tr><td>Szerb László</td><td>4</td><td>1</td></tr><tr><td>Ujfalussi István Prof, tanszékvezető</td><td>4</td><td>1</td></tr><tr><td>Balkán András Dr.</td><td>4</td><td>1</td></tr><tr><td>Szép llonka Dr.</td><td>4</td><td>1</td></tr><tr><td>Kiss János</td><td>4</td><td>1</td></tr><tr><td>Pelikán József</td><td>4</td><td>1</td></tr><tr><td>Farkasos Piroska</td><td>4</td><td>1</td></tr><tr><td>Jogrerős Pál Prof.</td><td>4</td><td>1</td></tr><tr><td>Józsa Gábor Dr.</td><td>4</td><td>1</td></tr><tr><td>Varga Kata Dr.</td><td>4</td><td>1</td></tr><tr><td>Szénási ászló</td><td>4</td><td>1</td></tr><tr><td>Nógrádi Kata</td><td>4</td><td>1</td></tr><tr><td>Rácz András</td><td>4</td><td>1</td></tr><tr><td>Kovács András</td><td>4</td><td>1</td></tr><tr><td>Ludas Mátyás</td><td>4</td><td>1</td></tr><tr><td>Kiss István</td><td>4</td><td>1</td></tr><tr><td>Mészáros Kriszta</td><td>4</td><td>1</td></tr><tr><td>Róbert Gida</td><td>4</td><td>1</td></tr><tr><td>Vitéz János</td><td>4</td><td>1</td></tr><tr><td>Aranyi Mária</td><td>4</td><td>1</td></tr><tr><td>Szabó Andrera</td><td>4</td><td>1</td></tr><tr><td>Juhász András Dr.</td><td>4</td><td>1</td></tr><tr><td>Kovacs Istvan Dr.</td><td>4</td><td>1</td></tr><tr><td>Kovács László Dr.</td><td>4</td><td>2</td></tr><tr><td>Szentágotai Istvás Dr.</td><td>4</td><td>2</td></tr><tr><td>Szerb László</td><td>4</td><td>2</td></tr><tr><td>Ujfalussi István Prof, tanszékvezető</td><td>4</td><td>2</td></tr><tr><td>Balkán András Dr.</td><td>4</td><td>2</td></tr><tr><td>Szép llonka Dr.</td><td>4</td><td>2</td></tr><tr><td>Kiss János</td><td>4</td><td>2</td></tr><tr><td>Pelikán József</td><td>4</td><td>2</td></tr><tr><td>Farkasos Piroska</td><td>4</td><td>2</td></tr><tr><td>Jogrerős Pál Prof.</td><td>4</td><td>2</td></tr><tr><td>Józsa Gábor Dr.</td><td>4</td><td>2</td></tr><tr><td>Varga Kata Dr.</td><td>4</td><td>2</td></tr><tr><td>Szénási ászló</td><td>4</td><td>2</td></tr><tr><td>Nógrádi Kata</td><td>4</td><td>2</td></tr><tr><td>Rácz András</td><td>4</td><td>2</td></tr><tr><td>Kovács András</td><td>4</td><td>2</td></tr><tr><td>Ludas Mátyás</td><td>4</td><td>2</td></tr><tr><td>Kiss István</td><td>4</td><td>2</td></tr><tr><td>Mészáros Kriszta</td><td>4</td><td>2</td></tr><tr><td>Róbert Gida</td><td>4</td><td>2</td></tr><tr><td>Vitéz János</td><td>4</td><td>2</td></tr><tr><td>Aranyi Mária</td><td>4</td><td>2</td></tr><tr><td>Szabó Andrera</td><td>4</td><td>2</td></tr><tr><td>Juhász András Dr.</td><td>4</td><td>2</td></tr><tr><td>Kovacs Istvan Dr.</td><td>4</td><td>2</td></tr><tr><td>Kovács László Dr.</td><td>4</td><td>3</td></tr><tr><td>Szentágotai Istvás Dr.</td><td>4</td><td>3</td></tr><tr><td>Szerb László</td><td>4</td><td>3</td></tr><tr><td>Ujfalussi István Prof, tanszékvezető</td><td>4</td><td>3</td></tr><tr><td>Balkán András Dr.</td><td>4</td><td>3</td></tr><tr><td>Szép llonka Dr.</td><td>4</td><td>3</td></tr><tr><td>Kiss János</td><td>4</td><td>3</td></tr><tr><td>Pelikán József</td><td>4</td><td>3</td></tr><tr><td>Farkasos Piroska</td><td>4</td><td>3</td></tr><tr><td>Jogrerős Pál Prof.</td><td>4</td><td>3</td></tr><tr><td>Józsa Gábor Dr.</td><td>4</td><td>3</td></tr><tr><td>Varga Kata Dr.</td><td>4</td><td>3</td></tr><tr><td>Szénási ászló</td><td>4</td><td>3</td></tr><tr><td>Nógrádi Kata</td><td>4</td><td>3</td></tr><tr><td>Rácz András</td><td>4</td><td>3</td></tr><tr><td>Kovács András</td><td>4</td><td>3</td></tr><tr><td>Ludas Mátyás</td><td>4</td><td>3</td></tr><tr><td>Kiss István</td><td>4</td><td>3</td></tr><tr><td>Mészáros Kriszta</td><td>4</td><td>3</td></tr><tr><td>Róbert Gida</td><td>4</td><td>3</td></tr><tr><td>Vitéz János</td><td>4</td><td>3</td></tr><tr><td>Aranyi Mária</td><td>4</td><td>3</td></tr><tr><td>Szabó Andrera</td><td>4</td><td>3</td></tr><tr><td>Juhász András Dr.</td><td>4</td><td>3</td></tr><tr><td>Kovacs Istvan Dr.</td><td>4</td><td>3</td></tr><tr><td>Kovács László Dr.</td><td>5</td><td>1</td></tr><tr><td>Szentágotai Istvás Dr.</td><td>5</td><td>1</td></tr><tr><td>Szerb László</td><td>5</td><td>1</td></tr><tr><td>Ujfalussi István Prof, tanszékvezető</td><td>5</td><td>1</td></tr><tr><td>Balkán András Dr.</td><td>5</td><td>1</td></tr><tr><td>Szép llonka Dr.</td><td>5</td><td>1</td></tr><tr><td>Kiss János</td><td>5</td><td>1</td></tr><tr><td>Pelikán József</td><td>5</td><td>1</td></tr><tr><td>Farkasos Piroska</td><td>5</td><td>1</td></tr><tr><td>Jogrerős Pál Prof.</td><td>5</td><td>1</td></tr><tr><td>Józsa Gábor Dr.</td><td>5</td><td>1</td></tr><tr><td>Varga Kata Dr.</td><td>5</td><td>1</td></tr><tr><td>Szénási ászló</td><td>5</td><td>1</td></tr><tr><td>Nógrádi Kata</td><td>5</td><td>1</td></tr><tr><td>Rácz András</td><td>5</td><td>1</td></tr><tr><td>Kovács András</td><td>5</td><td>1</td></tr><tr><td>Ludas Mátyás</td><td>5</td><td>1</td></tr><tr><td>Kiss István</td><td>5</td><td>1</td></tr><tr><td>Mészáros Kriszta</td><td>5</td><td>1</td></tr><tr><td>Róbert Gida</td><td>5</td><td>1</td></tr><tr><td>Vitéz János</td><td>5</td><td>1</td></tr><tr><td>Aranyi Mária</td><td>5</td><td>1</td></tr><tr><td>Szabó Andrera</td><td>5</td><td>1</td></tr><tr><td>Juhász András Dr.</td><td>5</td><td>1</td></tr><tr><td>Kovacs Istvan Dr.</td><td>5</td><td>1</td></tr><tr><td>Kovács László Dr.</td><td>5</td><td>2</td></tr><tr><td>Szentágotai Istvás Dr.</td><td>5</td><td>2</td></tr><tr><td>Szerb László</td><td>5</td><td>2</td></tr><tr><td>Ujfalussi István Prof, tanszékvezető</td><td>5</td><td>2</td></tr><tr><td>Balkán András Dr.</td><td>5</td><td>2</td></tr><tr><td>Szép llonka Dr.</td><td>5</td><td>2</td></tr><tr><td>Kiss János</td><td>5</td><td>2</td></tr><tr><td>Pelikán József</td><td>5</td><td>2</td></tr><tr><td>Farkasos Piroska</td><td>5</td><td>2</td></tr><tr><td>Jogrerős Pál Prof.</td><td>5</td><td>2</td></tr><tr><td>Józsa Gábor Dr.</td><td>5</td><td>2</td></tr><tr><td>Varga Kata Dr.</td><td>5</td><td>2</td></tr><tr><td>Szénási ászló</td><td>5</td><td>2</td></tr><tr><td>Nógrádi Kata</td><td>5</td><td>2</td></tr><tr><td>Rácz András</td><td>5</td><td>2</td></tr><tr><td>Kovács András</td><td>5</td><td>2</td></tr><tr><td>Ludas Mátyás</td><td>5</td><td>2</td></tr><tr><td>Kiss István</td><td>5</td><td>2</td></tr><tr><td>Mészáros Kriszta</td><td>5</td><td>2</td></tr><tr><td>Róbert Gida</td><td>5</td><td>2</td></tr><tr><td>Vitéz János</td><td>5</td><td>2</td></tr><tr><td>Aranyi Mária</td><td>5</td><td>2</td></tr><tr><td>Szabó Andrera</td><td>5</td><td>2</td></tr><tr><td>Juhász András Dr.</td><td>5</td><td>2</td></tr><tr><td>Kovacs Istvan Dr.</td><td>5</td><td>2</td></tr><tr><td>Kovács László Dr.</td><td>5</td><td>3</td></tr><tr><td>Szentágotai Istvás Dr.</td><td>5</td><td>3</td></tr><tr><td>Szerb László</td><td>5</td><td>3</td></tr><tr><td>Ujfalussi István Prof, tanszékvezető</td><td>5</td><td>3</td></tr><tr><td>Balkán András Dr.</td><td>5</td><td>3</td></tr><tr><td>Szép llonka Dr.</td><td>5</td><td>3</td></tr><tr><td>Kiss János</td><td>5</td><td>3</td></tr><tr><td>Pelikán József</td><td>5</td><td>3</td></tr><tr><td>Farkasos Piroska</td><td>5</td><td>3</td></tr><tr><td>Jogrerős Pál Prof.</td><td>5</td><td>3</td></tr><tr><td>Józsa Gábor Dr.</td><td>5</td><td>3</td></tr><tr><td>Varga Kata Dr.</td><td>5</td><td>3</td></tr><tr><td>Szénási ászló</td><td>5</td><td>3</td></tr><tr><td>Nógrádi Kata</td><td>5</td><td>3</td></tr><tr><td>Rácz András</td><td>5</td><td>3</td></tr><tr><td>Kovács András</td><td>5</td><td>3</td></tr><tr><td>Ludas Mátyás</td><td>5</td><td>3</td></tr><tr><td>Kiss István</td><td>5</td><td>3</td></tr><tr><td>Mészáros Kriszta</td><td>5</td><td>3</td></tr><tr><td>Róbert Gida</td><td>5</td><td>3</td></tr><tr><td>Vitéz János</td><td>5</td><td>3</td></tr><tr><td>Aranyi Mária</td><td>5</td><td>3</td></tr><tr><td>Szabó Andrera</td><td>5</td><td>3</td></tr><tr><td>Juhász András Dr.</td><td>5</td><td>3</td></tr><tr><td>Kovacs Istvan Dr.</td><td>5</td><td>3</td></tr><tr><td>Kovács László Dr.</td><td>6</td><td>1</td></tr><tr><td>Szentágotai Istvás Dr.</td><td>6</td><td>1</td></tr><tr><td>Szerb László</td><td>6</td><td>1</td></tr><tr><td>Ujfalussi István Prof, tanszékvezető</td><td>6</td><td>1</td></tr><tr><td>Balkán András Dr.</td><td>6</td><td>1</td></tr><tr><td>Szép llonka Dr.</td><td>6</td><td>1</td></tr><tr><td>Kiss János</td><td>6</td><td>1</td></tr><tr><td>Pelikán József</td><td>6</td><td>1</td></tr><tr><td>Farkasos Piroska</td><td>6</td><td>1</td></tr><tr><td>Jogrerős Pál Prof.</td><td>6</td><td>1</td></tr><tr><td>Józsa Gábor Dr.</td><td>6</td><td>1</td></tr><tr><td>Varga Kata Dr.</td><td>6</td><td>1</td></tr><tr><td>Szénási ászló</td><td>6</td><td>1</td></tr><tr><td>Nógrádi Kata</td><td>6</td><td>1</td></tr><tr><td>Rácz András</td><td>6</td><td>1</td></tr><tr><td>Kovács András</td><td>6</td><td>1</td></tr><tr><td>Ludas Mátyás</td><td>6</td><td>1</td></tr><tr><td>Kiss István</td><td>6</td><td>1</td></tr><tr><td>Mészáros Kriszta</td><td>6</td><td>1</td></tr><tr><td>Róbert Gida</td><td>6</td><td>1</td></tr><tr><td>Vitéz János</td><td>6</td><td>1</td></tr><tr><td>Aranyi Mária</td><td>6</td><td>1</td></tr><tr><td>Szabó Andrera</td><td>6</td><td>1</td></tr><tr><td>Juhász András Dr.</td><td>6</td><td>1</td></tr><tr><td>Kovacs Istvan Dr.</td><td>6</td><td>1</td></tr><tr><td>Kovács László Dr.</td><td>6</td><td>2</td></tr><tr><td>Szentágotai Istvás Dr.</td><td>6</td><td>2</td></tr><tr><td>Szerb László</td><td>6</td><td>2</td></tr><tr><td>Ujfalussi István Prof, tanszékvezető</td><td>6</td><td>2</td></tr><tr><td>Balkán András Dr.</td><td>6</td><td>2</td></tr><tr><td>Szép llonka Dr.</td><td>6</td><td>2</td></tr><tr><td>Kiss János</td><td>6</td><td>2</td></tr><tr><td>Pelikán József</td><td>6</td><td>2</td></tr><tr><td>Farkasos Piroska</td><td>6</td><td>2</td></tr><tr><td>Jogrerős Pál Prof.</td><td>6</td><td>2</td></tr><tr><td>Józsa Gábor Dr.</td><td>6</td><td>2</td></tr><tr><td>Varga Kata Dr.</td><td>6</td><td>2</td></tr><tr><td>Szénási ászló</td><td>6</td><td>2</td></tr><tr><td>Nógrádi Kata</td><td>6</td><td>2</td></tr><tr><td>Rácz András</td><td>6</td><td>2</td></tr><tr><td>Kovács András</td><td>6</td><td>2</td></tr><tr><td>Ludas Mátyás</td><td>6</td><td>2</td></tr><tr><td>Kiss István</td><td>6</td><td>2</td></tr><tr><td>Mészáros Kriszta</td><td>6</td><td>2</td></tr><tr><td>Róbert Gida</td><td>6</td><td>2</td></tr><tr><td>Vitéz János</td><td>6</td><td>2</td></tr><tr><td>Aranyi Mária</td><td>6</td><td>2</td></tr><tr><td>Szabó Andrera</td><td>6</td><td>2</td></tr><tr><td>Juhász András Dr.</td><td>6</td><td>2</td></tr><tr><td>Kovacs Istvan Dr.</td><td>6</td><td>2</td></tr><tr><td>Kovács László Dr.</td><td>6</td><td>3</td></tr><tr><td>Szentágotai Istvás Dr.</td><td>6</td><td>3</td></tr><tr><td>Szerb László</td><td>6</td><td>3</td></tr><tr><td>Ujfalussi István Prof, tanszékvezető</td><td>6</td><td>3</td></tr><tr><td>Balkán András Dr.</td><td>6</td><td>3</td></tr><tr><td>Szép llonka Dr.</td><td>6</td><td>3</td></tr><tr><td>Kiss János</td><td>6</td><td>3</td></tr><tr><td>Pelikán József</td><td>6</td><td>3</td></tr><tr><td>Farkasos Piroska</td><td>6</td><td>3</td></tr><tr><td>Jogrerős Pál Prof.</td><td>6</td><td>3</td></tr><tr><td>Józsa Gábor Dr.</td><td>6</td><td>3</td></tr><tr><td>Varga Kata Dr.</td><td>6</td><td>3</td></tr><tr><td>Szénási ászló</td><td>6</td><td>3</td></tr><tr><td>Nógrádi Kata</td><td>6</td><td>3</td></tr><tr><td>Rácz András</td><td>6</td><td>3</td></tr><tr><td>Kovács András</td><td>6</td><td>3</td></tr><tr><td>Ludas Mátyás</td><td>6</td><td>3</td></tr><tr><td>Kiss István</td><td>6</td><td>3</td></tr><tr><td>Mészáros Kriszta</td><td>6</td><td>3</td></tr><tr><td>Róbert Gida</td><td>6</td><td>3</td></tr><tr><td>Vitéz János</td><td>6</td><td>3</td></tr><tr><td>Aranyi Mária</td><td>6</td><td>3</td></tr><tr><td>Szabó Andrera</td><td>6</td><td>3</td></tr><tr><td>Juhász András Dr.</td><td>6</td><td>3</td></tr><tr><td>Kovacs Istvan Dr.</td><td>6</td><td>3</td></tr><tr><td>Kovács László Dr.</td><td>7</td><td>1</td></tr><tr><td>Szentágotai Istvás Dr.</td><td>7</td><td>1</td></tr><tr><td>Szerb László</td><td>7</td><td>1</td></tr><tr><td>Ujfalussi István Prof, tanszékvezető</td><td>7</td><td>1</td></tr><tr><td>Balkán András Dr.</td><td>7</td><td>1</td></tr><tr><td>Szép llonka Dr.</td><td>7</td><td>1</td></tr><tr><td>Kiss János</td><td>7</td><td>1</td></tr><tr><td>Pelikán József</td><td>7</td><td>1</td></tr><tr><td>Farkasos Piroska</td><td>7</td><td>1</td></tr><tr><td>Jogrerős Pál Prof.</td><td>7</td><td>1</td></tr><tr><td>Józsa Gábor Dr.</td><td>7</td><td>1</td></tr><tr><td>Varga Kata Dr.</td><td>7</td><td>1</td></tr><tr><td>Szénási ászló</td><td>7</td><td>1</td></tr><tr><td>Nógrádi Kata</td><td>7</td><td>1</td></tr><tr><td>Rácz András</td><td>7</td><td>1</td></tr><tr><td>Kovács András</td><td>7</td><td>1</td></tr><tr><td>Ludas Mátyás</td><td>7</td><td>1</td></tr><tr><td>Kiss István</td><td>7</td><td>1</td></tr><tr><td>Mészáros Kriszta</td><td>7</td><td>1</td></tr><tr><td>Róbert Gida</td><td>7</td><td>1</td></tr><tr><td>Vitéz János</td><td>7</td><td>1</td></tr><tr><td>Aranyi Mária</td><td>7</td><td>1</td></tr><tr><td>Szabó Andrera</td><td>7</td><td>1</td></tr><tr><td>Juhász András Dr.</td><td>7</td><td>1</td></tr><tr><td>Kovacs Istvan Dr.</td><td>7</td><td>1</td></tr><tr><td>Kovács László Dr.</td><td>7</td><td>2</td></tr><tr><td>Szentágotai Istvás Dr.</td><td>7</td><td>2</td></tr><tr><td>Szerb László</td><td>7</td><td>2</td></tr><tr><td>Ujfalussi István Prof, tanszékvezető</td><td>7</td><td>2</td></tr><tr><td>Balkán András Dr.</td><td>7</td><td>2</td></tr><tr><td>Szép llonka Dr.</td><td>7</td><td>2</td></tr><tr><td>Kiss János</td><td>7</td><td>2</td></tr><tr><td>Pelikán József</td><td>7</td><td>2</td></tr><tr><td>Farkasos Piroska</td><td>7</td><td>2</td></tr><tr><td>Jogrerős Pál Prof.</td><td>7</td><td>2</td></tr><tr><td>Józsa Gábor Dr.</td><td>7</td><td>2</td></tr><tr><td>Varga Kata Dr.</td><td>7</td><td>2</td></tr><tr><td>Szénási ászló</td><td>7</td><td>2</td></tr><tr><td>Nógrádi Kata</td><td>7</td><td>2</td></tr><tr><td>Rácz András</td><td>7</td><td>2</td></tr><tr><td>Kovács András</td><td>7</td><td>2</td></tr><tr><td>Ludas Mátyás</td><td>7</td><td>2</td></tr><tr><td>Kiss István</td><td>7</td><td>2</td></tr><tr><td>Mészáros Kriszta</td><td>7</td><td>2</td></tr><tr><td>Róbert Gida</td><td>7</td><td>2</td></tr><tr><td>Vitéz János</td><td>7</td><td>2</td></tr><tr><td>Aranyi Mária</td><td>7</td><td>2</td></tr><tr><td>Szabó Andrera</td><td>7</td><td>2</td></tr><tr><td>Juhász András Dr.</td><td>7</td><td>2</td></tr><tr><td>Kovacs Istvan Dr.</td><td>7</td><td>2</td></tr><tr><td>Kovács László Dr.</td><td>7</td><td>3</td></tr><tr><td>Szentágotai Istvás Dr.</td><td>7</td><td>3</td></tr><tr><td>Szerb László</td><td>7</td><td>3</td></tr><tr><td>Ujfalussi István Prof, tanszékvezető</td><td>7</td><td>3</td></tr><tr><td>Balkán András Dr.</td><td>7</td><td>3</td></tr><tr><td>Szép llonka Dr.</td><td>7</td><td>3</td></tr><tr><td>Kiss János</td><td>7</td><td>3</td></tr><tr><td>Pelikán József</td><td>7</td><td>3</td></tr><tr><td>Farkasos Piroska</td><td>7</td><td>3</td></tr><tr><td>Jogrerős Pál Prof.</td><td>7</td><td>3</td></tr><tr><td>Józsa Gábor Dr.</td><td>7</td><td>3</td></tr><tr><td>Varga Kata Dr.</td><td>7</td><td>3</td></tr><tr><td>Szénási ászló</td><td>7</td><td>3</td></tr><tr><td>Nógrádi Kata</td><td>7</td><td>3</td></tr><tr><td>Rácz András</td><td>7</td><td>3</td></tr><tr><td>Kovács András</td><td>7</td><td>3</td></tr><tr><td>Ludas Mátyás</td><td>7</td><td>3</td></tr><tr><td>Kiss István</td><td>7</td><td>3</td></tr><tr><td>Mészáros Kriszta</td><td>7</td><td>3</td></tr><tr><td>Róbert Gida</td><td>7</td><td>3</td></tr><tr><td>Vitéz János</td><td>7</td><td>3</td></tr><tr><td>Aranyi Mária</td><td>7</td><td>3</td></tr><tr><td>Szabó Andrera</td><td>7</td><td>3</td></tr><tr><td>Juhász András Dr.</td><td>7</td><td>3</td></tr><tr><td>Kovacs Istvan Dr.</td><td>7</td><td>3</td></tr></table>"
                    },
                    "metadata": {}
                }
            ],
            "execution_count": 5
        },
        {
            "cell_type": "markdown",
            "source": [
                "<span style=\"color: #09885a;\">12</span>. Készítsünk listát, amely megmutatja, hogy összesen hány tantárgy van kreditenkénti csoportosításban!\n",
                "\n",
                "  \n",
                "\n",
                "A listából hagyjuk ki azokat a tételeket, ahol ez a darabszám <span style=\"color: #09885a;\">1</span>!\n",
                "\n",
                "A Folyami gáttan tantárgyat ne vegyük figyelembe!\n",
                "\n",
                "A listát rendezzük darabszám szerint csökkenő sorrendbe!\n",
                "\n",
                "Az oszlopokat nevezzük el értelemszerűen!"
            ],
            "metadata": {
                "azdata_cell_guid": "a765e9d6-58b3-4171-872a-78f3118fd6e3"
            },
            "attachments": {}
        },
        {
            "cell_type": "code",
            "source": [
                "select Kredit as 'kredit',\r\n",
                "count(*) as 'darabszam'\r\n",
                "from Tantárgyak\r\n",
                "where Tantárgynév not like 'Folyami gáttan'\r\n",
                "group by Kredit\r\n",
                "having count(*)<>1\r\n",
                "order by count(*) desc\r\n",
                ""
            ],
            "metadata": {
                "azdata_cell_guid": "422e8127-b652-4d3a-bfd7-9b1637b5781e",
                "language": "sql"
            },
            "outputs": [
                {
                    "output_type": "display_data",
                    "data": {
                        "text/html": "(4 rows affected)"
                    },
                    "metadata": {}
                },
                {
                    "output_type": "display_data",
                    "data": {
                        "text/html": "Total execution time: 00:00:00.538"
                    },
                    "metadata": {}
                },
                {
                    "output_type": "execute_result",
                    "execution_count": 19,
                    "data": {
                        "application/vnd.dataresource+json": {
                            "schema": {
                                "fields": [
                                    {
                                        "name": "kredit"
                                    },
                                    {
                                        "name": "darabszam"
                                    }
                                ]
                            },
                            "data": [
                                {
                                    "kredit": "2",
                                    "darabszam": "3"
                                },
                                {
                                    "kredit": "3",
                                    "darabszam": "3"
                                },
                                {
                                    "kredit": "4",
                                    "darabszam": "2"
                                },
                                {
                                    "kredit": "1",
                                    "darabszam": "2"
                                }
                            ]
                        },
                        "text/html": "<table><tr><th>kredit</th><th>darabszam</th></tr><tr><td>2</td><td>3</td></tr><tr><td>3</td><td>3</td></tr><tr><td>4</td><td>2</td></tr><tr><td>1</td><td>2</td></tr></table>"
                    },
                    "metadata": {}
                }
            ],
            "execution_count": 19
        },
        {
            "cell_type": "markdown",
            "source": [
                "13. _Készítsünk listát az oktatók nevéről, a beosztásuk alapján elvárt és a tényleges óraszámukról!_\n",
                "\n",
                "1. Az oszlopok neve legyen 'Oktató neve', 'Elvárt óraszám' és 'Tényleges óraszám'\n",
                "2. Szűrjük a listát azokra az oktatókra, ahol az elvárt és a tényleges óraszám azonos"
            ],
            "metadata": {
                "azdata_cell_guid": "3f9237ae-f109-401c-acb9-31d75e73331b"
            },
            "attachments": {}
        },
        {
            "cell_type": "code",
            "source": [
                "SELECT o.nev AS 'Oktató neve', \r\n",
                "                 b.elvart AS 'Elvárt óraszám', \r\n",
                "                 COUNT(*) AS 'Tényleges óraszám'\r\n",
                "FROM Orak ora JOIN Oktatok o ON ora.tanar = o.oktato_id\r\n",
                "\t\t\t  JOIN Beosztasok b ON o.beosztás = b.beosztas_id\r\n",
                "GROUP BY o.nev, b.elvart\r\n",
                "HAVING COUNT(*) = b.elvart\r\n",
                ""
            ],
            "metadata": {
                "azdata_cell_guid": "4b31bb89-cfbc-46b1-8639-85c462877786",
                "language": "sql"
            },
            "outputs": [
                {
                    "output_type": "display_data",
                    "data": {
                        "text/html": "(4 rows affected)"
                    },
                    "metadata": {}
                },
                {
                    "output_type": "display_data",
                    "data": {
                        "text/html": "Total execution time: 00:00:00.014"
                    },
                    "metadata": {}
                },
                {
                    "output_type": "execute_result",
                    "execution_count": 28,
                    "data": {
                        "application/vnd.dataresource+json": {
                            "schema": {
                                "fields": [
                                    {
                                        "name": "Oktató neve"
                                    },
                                    {
                                        "name": "Elvárt óraszám"
                                    },
                                    {
                                        "name": "Tényleges óraszám"
                                    }
                                ]
                            },
                            "data": [
                                {
                                    "Oktató neve": "Jogrerős Pál",
                                    "Elvárt óraszám": "2",
                                    "Tényleges óraszám": "2"
                                },
                                {
                                    "Oktató neve": "Juhász András",
                                    "Elvárt óraszám": "2",
                                    "Tényleges óraszám": "2"
                                },
                                {
                                    "Oktató neve": "Varga Kata",
                                    "Elvárt óraszám": "4",
                                    "Tényleges óraszám": "4"
                                },
                                {
                                    "Oktató neve": "Pelikán József",
                                    "Elvárt óraszám": "6",
                                    "Tényleges óraszám": "6"
                                }
                            ]
                        },
                        "text/html": "<table><tr><th>Oktató neve</th><th>Elvárt óraszám</th><th>Tényleges óraszám</th></tr><tr><td>Jogrerős Pál</td><td>2</td><td>2</td></tr><tr><td>Juhász András</td><td>2</td><td>2</td></tr><tr><td>Varga Kata</td><td>4</td><td>4</td></tr><tr><td>Pelikán József</td><td>6</td><td>6</td></tr></table>"
                    },
                    "metadata": {}
                }
            ],
            "execution_count": 28
        },
        {
            "cell_type": "markdown",
            "source": [
                "14. _Készítsünk listát, amely megmutatja, hogy mely tantárgyból nincs óra egyáltalán!_\n",
                "\n",
                "1. Csak a tantárgy neve jelenjen meg!"
            ],
            "metadata": {
                "azdata_cell_guid": "f634e09a-85ef-4e70-8ec6-ef355dfddaa7"
            },
            "attachments": {}
        },
        {
            "cell_type": "code",
            "source": [
                "select Tantárgynév \r\n",
                "from Tantárgyak t left join Orak o on t.Tkód=o.targy\r\n",
                "where o.targy is null"
            ],
            "metadata": {
                "azdata_cell_guid": "88abc55b-2c78-495b-a72f-3f8f4eb5fe70",
                "language": "sql"
            },
            "outputs": [
                {
                    "output_type": "display_data",
                    "data": {
                        "text/html": "(1 row affected)"
                    },
                    "metadata": {}
                },
                {
                    "output_type": "display_data",
                    "data": {
                        "text/html": "Total execution time: 00:00:00.015"
                    },
                    "metadata": {}
                },
                {
                    "output_type": "execute_result",
                    "execution_count": 31,
                    "data": {
                        "application/vnd.dataresource+json": {
                            "schema": {
                                "fields": [
                                    {
                                        "name": "Tantárgynév"
                                    }
                                ]
                            },
                            "data": [
                                {
                                    "Tantárgynév": "Folyami gáttan"
                                }
                            ]
                        },
                        "text/html": "<table><tr><th>Tantárgynév</th></tr><tr><td>Folyami gáttan</td></tr></table>"
                    },
                    "metadata": {}
                }
            ],
            "execution_count": 31
        },
        {
            "cell_type": "markdown",
            "source": [
                "15. _Hány órájuk van az óraadóknak napi bontásban?_\n",
                "\n",
                "1. Csak a napok nevét és az óraszámot jelenítsük meg!\n",
                "2. Rendezzük a listát óraszám szerint növekvő sorrendbe!"
            ],
            "metadata": {
                "azdata_cell_guid": "4cbf2f0d-a65d-480a-8186-ccdb24498443"
            },
            "attachments": {}
        },
        {
            "cell_type": "code",
            "source": [
                "select n.nap, count(*) as 'oraszam'\r\n",
                "from Orak o join Oktatok ok on o.tanar=ok.oktato_id\r\n",
                "            join Napok n on o.nap=n.nap_id \r\n",
                "            join statusok s on ok.status=s.Skod\r\n",
                "where s.Status='Óraadó'\r\n",
                "group by n.nap\r\n",
                "order by count(*) asc \r\n",
                "\r\n",
                ""
            ],
            "metadata": {
                "azdata_cell_guid": "c148aee8-bc85-40bf-b80a-a4898a6c05cb",
                "language": "sql"
            },
            "outputs": [
                {
                    "output_type": "display_data",
                    "data": {
                        "text/html": "(5 rows affected)"
                    },
                    "metadata": {}
                },
                {
                    "output_type": "display_data",
                    "data": {
                        "text/html": "Total execution time: 00:00:00.015"
                    },
                    "metadata": {}
                },
                {
                    "output_type": "execute_result",
                    "execution_count": 42,
                    "data": {
                        "application/vnd.dataresource+json": {
                            "schema": {
                                "fields": [
                                    {
                                        "name": "nap"
                                    },
                                    {
                                        "name": "oraszam"
                                    }
                                ]
                            },
                            "data": [
                                {
                                    "nap": "Péntek",
                                    "oraszam": "1"
                                },
                                {
                                    "nap": "Szerda",
                                    "oraszam": "1"
                                },
                                {
                                    "nap": "Csütörtök",
                                    "oraszam": "3"
                                },
                                {
                                    "nap": "Kedd",
                                    "oraszam": "3"
                                },
                                {
                                    "nap": "Hétfő",
                                    "oraszam": "5"
                                }
                            ]
                        },
                        "text/html": "<table><tr><th>nap</th><th>oraszam</th></tr><tr><td>Péntek</td><td>1</td></tr><tr><td>Szerda</td><td>1</td></tr><tr><td>Csütörtök</td><td>3</td></tr><tr><td>Kedd</td><td>3</td></tr><tr><td>Hétfő</td><td>5</td></tr></table>"
                    },
                    "metadata": {}
                }
            ],
            "execution_count": 42
        }
    ]
}