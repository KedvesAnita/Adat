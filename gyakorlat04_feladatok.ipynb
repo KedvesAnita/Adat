{
    "metadata": {
        "kernelspec": {
            "name": "SQL",
            "display_name": "SQL",
            "language": "sql"
        },
        "language_info": {
            "name": "sql",
            "version": ""
        }
    },
    "nbformat_minor": 2,
    "nbformat": 4,
    "cells": [
        {
            "cell_type": "markdown",
            "source": [
                "1. <span style=\"background-color: rgb(255, 255, 255); color: rgb(0, 0, 0); font-family: &quot;Open Sans&quot;, sans-serif; font-size: 14.44px;\">Készítsünk listát arról, hogy ügyfelenként (LOGIN), azon belül szállítási módonként hány megrendelés történt!&nbsp;</span> \n",
                "\n",
                "a. A lista tartalmazza a részösszegeket és a végösszeget is!  \n",
                "b. Használjuk a ROLLUP záradékot!"
            ],
            "metadata": {
                "azdata_cell_guid": "363cd270-6577-449b-9c89-d4b7c7972d52"
            },
            "attachments": {}
        },
        {
            "cell_type": "code",
            "source": [
                "select [login], szall_mod\r\n",
                "from Rendeles\r\n",
                "group by rollup ([login], szall_mod)"
            ],
            "metadata": {
                "azdata_cell_guid": "5a5f4623-ef04-4cb7-8a43-5ec268e83d84",
                "language": "sql",
                "tags": []
            },
            "outputs": [
                {
                    "output_type": "display_data",
                    "data": {
                        "text/html": "(763 rows affected)"
                    },
                    "metadata": {}
                },
                {
                    "output_type": "display_data",
                    "data": {
                        "text/html": "Total execution time: 00:00:00.135"
                    },
                    "metadata": {}
                },
                {
                    "output_type": "execute_result",
                    "execution_count": 7,
                    "data": {
                        "application/vnd.dataresource+json": {
                            "schema": {
                                "fields": [
                                    {
                                        "name": "login"
                                    },
                                    {
                                        "name": "szall_mod"
                                    }
                                ]
                            },
                            "data": [
                                {
                                    "login": "adam1",
                                    "szall_mod": "GLS"
                                },
                                {
                                    "login": "adam1",
                                    "szall_mod": "Posta"
                                },
                                {
                                    "login": "adam1",
                                    "szall_mod": "Személyes átvétel"
                                },
                                {
                                    "login": "adam1",
                                    "szall_mod": "NULL"
                                },
                                {
                                    "login": "adam3",
                                    "szall_mod": "GLS"
                                },
                                {
                                    "login": "adam3",
                                    "szall_mod": "Posta"
                                },
                                {
                                    "login": "adam3",
                                    "szall_mod": "Személyes átvétel"
                                },
                                {
                                    "login": "adam3",
                                    "szall_mod": "NULL"
                                },
                                {
                                    "login": "adam4",
                                    "szall_mod": "GLS"
                                },
                                {
                                    "login": "adam4",
                                    "szall_mod": "Posta"
                                },
                                {
                                    "login": "adam4",
                                    "szall_mod": "Személyes átvétel"
                                },
                                {
                                    "login": "adam4",
                                    "szall_mod": "NULL"
                                },
                                {
                                    "login": "agnes",
                                    "szall_mod": "GLS"
                                },
                                {
                                    "login": "agnes",
                                    "szall_mod": "Posta"
                                },
                                {
                                    "login": "agnes",
                                    "szall_mod": "Személyes átvétel"
                                },
                                {
                                    "login": "agnes",
                                    "szall_mod": "NULL"
                                },
                                {
                                    "login": "agnes3",
                                    "szall_mod": "GLS"
                                },
                                {
                                    "login": "agnes3",
                                    "szall_mod": "Posta"
                                },
                                {
                                    "login": "agnes3",
                                    "szall_mod": "Személyes átvétel"
                                },
                                {
                                    "login": "agnes3",
                                    "szall_mod": "NULL"
                                },
                                {
                                    "login": "AGNESH",
                                    "szall_mod": "GLS"
                                },
                                {
                                    "login": "AGNESH",
                                    "szall_mod": "Posta"
                                },
                                {
                                    "login": "AGNESH",
                                    "szall_mod": "Személyes átvétel"
                                },
                                {
                                    "login": "AGNESH",
                                    "szall_mod": "NULL"
                                },
                                {
                                    "login": "AGNESK",
                                    "szall_mod": "GLS"
                                },
                                {
                                    "login": "AGNESK",
                                    "szall_mod": "Posta"
                                },
                                {
                                    "login": "AGNESK",
                                    "szall_mod": "Személyes átvétel"
                                },
                                {
                                    "login": "AGNESK",
                                    "szall_mod": "NULL"
                                },
                                {
                                    "login": "akos",
                                    "szall_mod": "GLS"
                                },
                                {
                                    "login": "akos",
                                    "szall_mod": "Posta"
                                },
                                {
                                    "login": "akos",
                                    "szall_mod": "Személyes átvétel"
                                },
                                {
                                    "login": "akos",
                                    "szall_mod": "NULL"
                                },
                                {
                                    "login": "aladar",
                                    "szall_mod": "GLS"
                                },
                                {
                                    "login": "aladar",
                                    "szall_mod": "Posta"
                                },
                                {
                                    "login": "aladar",
                                    "szall_mod": "Személyes átvétel"
                                },
                                {
                                    "login": "aladar",
                                    "szall_mod": "NULL"
                                },
                                {
                                    "login": "alexandra",
                                    "szall_mod": "GLS"
                                },
                                {
                                    "login": "alexandra",
                                    "szall_mod": "Posta"
                                },
                                {
                                    "login": "alexandra",
                                    "szall_mod": "Személyes átvétel"
                                },
                                {
                                    "login": "alexandra",
                                    "szall_mod": "NULL"
                                },
                                {
                                    "login": "andi",
                                    "szall_mod": "GLS"
                                },
                                {
                                    "login": "andi",
                                    "szall_mod": "Posta"
                                },
                                {
                                    "login": "andi",
                                    "szall_mod": "Személyes átvétel"
                                },
                                {
                                    "login": "andi",
                                    "szall_mod": "NULL"
                                },
                                {
                                    "login": "andras2",
                                    "szall_mod": "GLS"
                                },
                                {
                                    "login": "andras2",
                                    "szall_mod": "Posta"
                                },
                                {
                                    "login": "andras2",
                                    "szall_mod": "Személyes átvétel"
                                },
                                {
                                    "login": "andras2",
                                    "szall_mod": "NULL"
                                },
                                {
                                    "login": "andras21",
                                    "szall_mod": "GLS"
                                },
                                {
                                    "login": "andras21",
                                    "szall_mod": "Posta"
                                },
                                {
                                    "login": "andras21",
                                    "szall_mod": "Személyes átvétel"
                                },
                                {
                                    "login": "andras21",
                                    "szall_mod": "NULL"
                                },
                                {
                                    "login": "andras3",
                                    "szall_mod": "GLS"
                                },
                                {
                                    "login": "andras3",
                                    "szall_mod": "Posta"
                                },
                                {
                                    "login": "andras3",
                                    "szall_mod": "Személyes átvétel"
                                },
                                {
                                    "login": "andras3",
                                    "szall_mod": "NULL"
                                },
                                {
                                    "login": "andras4",
                                    "szall_mod": "GLS"
                                },
                                {
                                    "login": "andras4",
                                    "szall_mod": "Posta"
                                },
                                {
                                    "login": "andras4",
                                    "szall_mod": "Személyes átvétel"
                                },
                                {
                                    "login": "andras4",
                                    "szall_mod": "NULL"
                                },
                                {
                                    "login": "andras41",
                                    "szall_mod": "GLS"
                                },
                                {
                                    "login": "andras41",
                                    "szall_mod": "Posta"
                                },
                                {
                                    "login": "andras41",
                                    "szall_mod": "Személyes átvétel"
                                },
                                {
                                    "login": "andras41",
                                    "szall_mod": "NULL"
                                },
                                {
                                    "login": "ANDRASE",
                                    "szall_mod": "GLS"
                                },
                                {
                                    "login": "ANDRASE",
                                    "szall_mod": "Posta"
                                },
                                {
                                    "login": "ANDRASE",
                                    "szall_mod": "Személyes átvétel"
                                },
                                {
                                    "login": "ANDRASE",
                                    "szall_mod": "NULL"
                                },
                                {
                                    "login": "ANDRASN",
                                    "szall_mod": "GLS"
                                },
                                {
                                    "login": "ANDRASN",
                                    "szall_mod": "Posta"
                                },
                                {
                                    "login": "ANDRASN",
                                    "szall_mod": "Személyes átvétel"
                                },
                                {
                                    "login": "ANDRASN",
                                    "szall_mod": "NULL"
                                },
                                {
                                    "login": "andrea",
                                    "szall_mod": "GLS"
                                },
                                {
                                    "login": "andrea",
                                    "szall_mod": "Posta"
                                },
                                {
                                    "login": "andrea",
                                    "szall_mod": "Személyes átvétel"
                                },
                                {
                                    "login": "andrea",
                                    "szall_mod": "NULL"
                                },
                                {
                                    "login": "andrea3",
                                    "szall_mod": "GLS"
                                },
                                {
                                    "login": "andrea3",
                                    "szall_mod": "Posta"
                                },
                                {
                                    "login": "andrea3",
                                    "szall_mod": "Személyes átvétel"
                                },
                                {
                                    "login": "andrea3",
                                    "szall_mod": "NULL"
                                },
                                {
                                    "login": "andrea4",
                                    "szall_mod": "GLS"
                                },
                                {
                                    "login": "andrea4",
                                    "szall_mod": "Posta"
                                },
                                {
                                    "login": "andrea4",
                                    "szall_mod": "Személyes átvétel"
                                },
                                {
                                    "login": "andrea4",
                                    "szall_mod": "NULL"
                                },
                                {
                                    "login": "ANDREAT",
                                    "szall_mod": "GLS"
                                },
                                {
                                    "login": "ANDREAT",
                                    "szall_mod": "Posta"
                                },
                                {
                                    "login": "ANDREAT",
                                    "szall_mod": "Személyes átvétel"
                                },
                                {
                                    "login": "ANDREAT",
                                    "szall_mod": "NULL"
                                },
                                {
                                    "login": "anett3",
                                    "szall_mod": "GLS"
                                },
                                {
                                    "login": "anett3",
                                    "szall_mod": "Posta"
                                },
                                {
                                    "login": "anett3",
                                    "szall_mod": "Személyes átvétel"
                                },
                                {
                                    "login": "anett3",
                                    "szall_mod": "NULL"
                                },
                                {
                                    "login": "aniko",
                                    "szall_mod": "GLS"
                                },
                                {
                                    "login": "aniko",
                                    "szall_mod": "Posta"
                                },
                                {
                                    "login": "aniko",
                                    "szall_mod": "Személyes átvétel"
                                },
                                {
                                    "login": "aniko",
                                    "szall_mod": "NULL"
                                },
                                {
                                    "login": "aniko4",
                                    "szall_mod": "GLS"
                                },
                                {
                                    "login": "aniko4",
                                    "szall_mod": "Posta"
                                },
                                {
                                    "login": "aniko4",
                                    "szall_mod": "Személyes átvétel"
                                },
                                {
                                    "login": "aniko4",
                                    "szall_mod": "NULL"
                                },
                                {
                                    "login": "ANIKOS",
                                    "szall_mod": "GLS"
                                },
                                {
                                    "login": "ANIKOS",
                                    "szall_mod": "Posta"
                                },
                                {
                                    "login": "ANIKOS",
                                    "szall_mod": "Személyes átvétel"
                                },
                                {
                                    "login": "ANIKOS",
                                    "szall_mod": "NULL"
                                },
                                {
                                    "login": "anita",
                                    "szall_mod": "GLS"
                                },
                                {
                                    "login": "anita",
                                    "szall_mod": "Posta"
                                },
                                {
                                    "login": "anita",
                                    "szall_mod": "Személyes átvétel"
                                },
                                {
                                    "login": "anita",
                                    "szall_mod": "NULL"
                                },
                                {
                                    "login": "annamaria1",
                                    "szall_mod": "GLS"
                                },
                                {
                                    "login": "annamaria1",
                                    "szall_mod": "Posta"
                                },
                                {
                                    "login": "annamaria1",
                                    "szall_mod": "Személyes átvétel"
                                },
                                {
                                    "login": "annamaria1",
                                    "szall_mod": "NULL"
                                },
                                {
                                    "login": "ANNAMARIAR",
                                    "szall_mod": "GLS"
                                },
                                {
                                    "login": "ANNAMARIAR",
                                    "szall_mod": "Posta"
                                },
                                {
                                    "login": "ANNAMARIAR",
                                    "szall_mod": "Személyes átvétel"
                                },
                                {
                                    "login": "ANNAMARIAR",
                                    "szall_mod": "NULL"
                                },
                                {
                                    "login": "aron2",
                                    "szall_mod": "GLS"
                                },
                                {
                                    "login": "aron2",
                                    "szall_mod": "Posta"
                                },
                                {
                                    "login": "aron2",
                                    "szall_mod": "Személyes átvétel"
                                },
                                {
                                    "login": "aron2",
                                    "szall_mod": "NULL"
                                },
                                {
                                    "login": "ARONK",
                                    "szall_mod": "GLS"
                                },
                                {
                                    "login": "ARONK",
                                    "szall_mod": "Posta"
                                },
                                {
                                    "login": "ARONK",
                                    "szall_mod": "Személyes átvétel"
                                },
                                {
                                    "login": "ARONK",
                                    "szall_mod": "NULL"
                                },
                                {
                                    "login": "arpad2",
                                    "szall_mod": "GLS"
                                },
                                {
                                    "login": "arpad2",
                                    "szall_mod": "Posta"
                                },
                                {
                                    "login": "arpad2",
                                    "szall_mod": "Személyes átvétel"
                                },
                                {
                                    "login": "arpad2",
                                    "szall_mod": "NULL"
                                },
                                {
                                    "login": "ARPADH",
                                    "szall_mod": "GLS"
                                },
                                {
                                    "login": "ARPADH",
                                    "szall_mod": "Posta"
                                },
                                {
                                    "login": "ARPADH",
                                    "szall_mod": "Személyes átvétel"
                                },
                                {
                                    "login": "ARPADH",
                                    "szall_mod": "NULL"
                                },
                                {
                                    "login": "ARPADM",
                                    "szall_mod": "GLS"
                                },
                                {
                                    "login": "ARPADM",
                                    "szall_mod": "Posta"
                                },
                                {
                                    "login": "ARPADM",
                                    "szall_mod": "Személyes átvétel"
                                },
                                {
                                    "login": "ARPADM",
                                    "szall_mod": "NULL"
                                },
                                {
                                    "login": "attila1",
                                    "szall_mod": "GLS"
                                },
                                {
                                    "login": "attila1",
                                    "szall_mod": "Posta"
                                },
                                {
                                    "login": "attila1",
                                    "szall_mod": "Személyes átvétel"
                                },
                                {
                                    "login": "attila1",
                                    "szall_mod": "NULL"
                                },
                                {
                                    "login": "attila4",
                                    "szall_mod": "GLS"
                                },
                                {
                                    "login": "attila4",
                                    "szall_mod": "Posta"
                                },
                                {
                                    "login": "attila4",
                                    "szall_mod": "Személyes átvétel"
                                },
                                {
                                    "login": "attila4",
                                    "szall_mod": "NULL"
                                },
                                {
                                    "login": "ATTILAO",
                                    "szall_mod": "GLS"
                                },
                                {
                                    "login": "ATTILAO",
                                    "szall_mod": "Posta"
                                },
                                {
                                    "login": "ATTILAO",
                                    "szall_mod": "Személyes átvétel"
                                },
                                {
                                    "login": "ATTILAO",
                                    "szall_mod": "NULL"
                                },
                                {
                                    "login": "balazs1",
                                    "szall_mod": "GLS"
                                },
                                {
                                    "login": "balazs1",
                                    "szall_mod": "Posta"
                                },
                                {
                                    "login": "balazs1",
                                    "szall_mod": "Személyes átvétel"
                                },
                                {
                                    "login": "balazs1",
                                    "szall_mod": "NULL"
                                },
                                {
                                    "login": "balazs2",
                                    "szall_mod": "GLS"
                                },
                                {
                                    "login": "balazs2",
                                    "szall_mod": "Posta"
                                },
                                {
                                    "login": "balazs2",
                                    "szall_mod": "Személyes átvétel"
                                },
                                {
                                    "login": "balazs2",
                                    "szall_mod": "NULL"
                                },
                                {
                                    "login": "balazs3",
                                    "szall_mod": "GLS"
                                },
                                {
                                    "login": "balazs3",
                                    "szall_mod": "Posta"
                                },
                                {
                                    "login": "balazs3",
                                    "szall_mod": "Személyes átvétel"
                                },
                                {
                                    "login": "balazs3",
                                    "szall_mod": "NULL"
                                },
                                {
                                    "login": "balint",
                                    "szall_mod": "GLS"
                                },
                                {
                                    "login": "balint",
                                    "szall_mod": "Posta"
                                },
                                {
                                    "login": "balint",
                                    "szall_mod": "Személyes átvétel"
                                },
                                {
                                    "login": "balint",
                                    "szall_mod": "NULL"
                                },
                                {
                                    "login": "balint1",
                                    "szall_mod": "GLS"
                                },
                                {
                                    "login": "balint1",
                                    "szall_mod": "Posta"
                                },
                                {
                                    "login": "balint1",
                                    "szall_mod": "Személyes átvétel"
                                },
                                {
                                    "login": "balint1",
                                    "szall_mod": "NULL"
                                },
                                {
                                    "login": "balint2",
                                    "szall_mod": "GLS"
                                },
                                {
                                    "login": "balint2",
                                    "szall_mod": "Posta"
                                },
                                {
                                    "login": "balint2",
                                    "szall_mod": "Személyes átvétel"
                                },
                                {
                                    "login": "balint2",
                                    "szall_mod": "NULL"
                                },
                                {
                                    "login": "balu",
                                    "szall_mod": "GLS"
                                },
                                {
                                    "login": "balu",
                                    "szall_mod": "Posta"
                                },
                                {
                                    "login": "balu",
                                    "szall_mod": "Személyes átvétel"
                                },
                                {
                                    "login": "balu",
                                    "szall_mod": "NULL"
                                },
                                {
                                    "login": "BEATRIXK",
                                    "szall_mod": "GLS"
                                },
                                {
                                    "login": "BEATRIXK",
                                    "szall_mod": "Posta"
                                },
                                {
                                    "login": "BEATRIXK",
                                    "szall_mod": "Személyes átvétel"
                                },
                                {
                                    "login": "BEATRIXK",
                                    "szall_mod": "NULL"
                                },
                                {
                                    "login": "BEATRIXS",
                                    "szall_mod": "GLS"
                                },
                                {
                                    "login": "BEATRIXS",
                                    "szall_mod": "Posta"
                                },
                                {
                                    "login": "BEATRIXS",
                                    "szall_mod": "Személyes átvétel"
                                },
                                {
                                    "login": "BEATRIXS",
                                    "szall_mod": "NULL"
                                },
                                {
                                    "login": "BELAF",
                                    "szall_mod": "GLS"
                                },
                                {
                                    "login": "BELAF",
                                    "szall_mod": "Posta"
                                },
                                {
                                    "login": "BELAF",
                                    "szall_mod": "Személyes átvétel"
                                },
                                {
                                    "login": "BELAF",
                                    "szall_mod": "NULL"
                                },
                                {
                                    "login": "bence",
                                    "szall_mod": "GLS"
                                },
                                {
                                    "login": "bence",
                                    "szall_mod": "Posta"
                                },
                                {
                                    "login": "bence",
                                    "szall_mod": "Személyes átvétel"
                                },
                                {
                                    "login": "bence",
                                    "szall_mod": "NULL"
                                },
                                {
                                    "login": "BENCEB",
                                    "szall_mod": "GLS"
                                },
                                {
                                    "login": "BENCEB",
                                    "szall_mod": "Posta"
                                },
                                {
                                    "login": "BENCEB",
                                    "szall_mod": "Személyes átvétel"
                                },
                                {
                                    "login": "BENCEB",
                                    "szall_mod": "NULL"
                                },
                                {
                                    "login": "bernadett1",
                                    "szall_mod": "GLS"
                                },
                                {
                                    "login": "bernadett1",
                                    "szall_mod": "Posta"
                                },
                                {
                                    "login": "bernadett1",
                                    "szall_mod": "Személyes átvétel"
                                },
                                {
                                    "login": "bernadett1",
                                    "szall_mod": "NULL"
                                },
                                {
                                    "login": "bernadett2",
                                    "szall_mod": "GLS"
                                },
                                {
                                    "login": "bernadett2",
                                    "szall_mod": "Posta"
                                },
                                {
                                    "login": "bernadett2",
                                    "szall_mod": "Személyes átvétel"
                                },
                                {
                                    "login": "bernadett2",
                                    "szall_mod": "NULL"
                                },
                                {
                                    "login": "BERNADETTO",
                                    "szall_mod": "GLS"
                                },
                                {
                                    "login": "BERNADETTO",
                                    "szall_mod": "Posta"
                                },
                                {
                                    "login": "BERNADETTO",
                                    "szall_mod": "Személyes átvétel"
                                },
                                {
                                    "login": "BERNADETTO",
                                    "szall_mod": "NULL"
                                },
                                {
                                    "login": "bertalan",
                                    "szall_mod": "GLS"
                                },
                                {
                                    "login": "bertalan",
                                    "szall_mod": "Posta"
                                },
                                {
                                    "login": "bertalan",
                                    "szall_mod": "Személyes átvétel"
                                },
                                {
                                    "login": "bertalan",
                                    "szall_mod": "NULL"
                                },
                                {
                                    "login": "brigitta",
                                    "szall_mod": "GLS"
                                },
                                {
                                    "login": "brigitta",
                                    "szall_mod": "Posta"
                                },
                                {
                                    "login": "brigitta",
                                    "szall_mod": "Személyes átvétel"
                                },
                                {
                                    "login": "brigitta",
                                    "szall_mod": "NULL"
                                },
                                {
                                    "login": "brigitta3",
                                    "szall_mod": "GLS"
                                },
                                {
                                    "login": "brigitta3",
                                    "szall_mod": "Posta"
                                },
                                {
                                    "login": "brigitta3",
                                    "szall_mod": "Személyes átvétel"
                                },
                                {
                                    "login": "brigitta3",
                                    "szall_mod": "NULL"
                                },
                                {
                                    "login": "csongor3",
                                    "szall_mod": "GLS"
                                },
                                {
                                    "login": "csongor3",
                                    "szall_mod": "Posta"
                                },
                                {
                                    "login": "csongor3",
                                    "szall_mod": "Személyes átvétel"
                                },
                                {
                                    "login": "csongor3",
                                    "szall_mod": "NULL"
                                },
                                {
                                    "login": "dani",
                                    "szall_mod": "GLS"
                                },
                                {
                                    "login": "dani",
                                    "szall_mod": "Személyes átvétel"
                                },
                                {
                                    "login": "dani",
                                    "szall_mod": "NULL"
                                },
                                {
                                    "login": "daniel",
                                    "szall_mod": "GLS"
                                },
                                {
                                    "login": "daniel",
                                    "szall_mod": "Posta"
                                },
                                {
                                    "login": "daniel",
                                    "szall_mod": "Személyes átvétel"
                                },
                                {
                                    "login": "daniel",
                                    "szall_mod": "NULL"
                                },
                                {
                                    "login": "daniel1",
                                    "szall_mod": "GLS"
                                },
                                {
                                    "login": "daniel1",
                                    "szall_mod": "Posta"
                                },
                                {
                                    "login": "daniel1",
                                    "szall_mod": "Személyes átvétel"
                                },
                                {
                                    "login": "daniel1",
                                    "szall_mod": "NULL"
                                },
                                {
                                    "login": "david",
                                    "szall_mod": "GLS"
                                },
                                {
                                    "login": "david",
                                    "szall_mod": "Posta"
                                },
                                {
                                    "login": "david",
                                    "szall_mod": "Személyes átvétel"
                                },
                                {
                                    "login": "david",
                                    "szall_mod": "NULL"
                                },
                                {
                                    "login": "david1",
                                    "szall_mod": "GLS"
                                },
                                {
                                    "login": "david1",
                                    "szall_mod": "Posta"
                                },
                                {
                                    "login": "david1",
                                    "szall_mod": "Személyes átvétel"
                                },
                                {
                                    "login": "david1",
                                    "szall_mod": "NULL"
                                },
                                {
                                    "login": "david4",
                                    "szall_mod": "GLS"
                                },
                                {
                                    "login": "david4",
                                    "szall_mod": "Posta"
                                },
                                {
                                    "login": "david4",
                                    "szall_mod": "Személyes átvétel"
                                },
                                {
                                    "login": "david4",
                                    "szall_mod": "NULL"
                                },
                                {
                                    "login": "debora",
                                    "szall_mod": "GLS"
                                },
                                {
                                    "login": "debora",
                                    "szall_mod": "Posta"
                                },
                                {
                                    "login": "debora",
                                    "szall_mod": "Személyes átvétel"
                                },
                                {
                                    "login": "debora",
                                    "szall_mod": "NULL"
                                },
                                {
                                    "login": "denes",
                                    "szall_mod": "GLS"
                                },
                                {
                                    "login": "denes",
                                    "szall_mod": "Posta"
                                },
                                {
                                    "login": "denes",
                                    "szall_mod": "Személyes átvétel"
                                },
                                {
                                    "login": "denes",
                                    "szall_mod": "NULL"
                                },
                                {
                                    "login": "dora3",
                                    "szall_mod": "GLS"
                                },
                                {
                                    "login": "dora3",
                                    "szall_mod": "Posta"
                                },
                                {
                                    "login": "dora3",
                                    "szall_mod": "Személyes átvétel"
                                },
                                {
                                    "login": "dora3",
                                    "szall_mod": "NULL"
                                },
                                {
                                    "login": "edit",
                                    "szall_mod": "GLS"
                                },
                                {
                                    "login": "edit",
                                    "szall_mod": "Posta"
                                },
                                {
                                    "login": "edit",
                                    "szall_mod": "Személyes átvétel"
                                },
                                {
                                    "login": "edit",
                                    "szall_mod": "NULL"
                                },
                                {
                                    "login": "emese",
                                    "szall_mod": "GLS"
                                },
                                {
                                    "login": "emese",
                                    "szall_mod": "Posta"
                                },
                                {
                                    "login": "emese",
                                    "szall_mod": "Személyes átvétel"
                                },
                                {
                                    "login": "emese",
                                    "szall_mod": "NULL"
                                },
                                {
                                    "login": "eszter2",
                                    "szall_mod": "GLS"
                                },
                                {
                                    "login": "eszter2",
                                    "szall_mod": "Posta"
                                },
                                {
                                    "login": "eszter2",
                                    "szall_mod": "Személyes átvétel"
                                },
                                {
                                    "login": "eszter2",
                                    "szall_mod": "NULL"
                                },
                                {
                                    "login": "eszter4",
                                    "szall_mod": "GLS"
                                },
                                {
                                    "login": "eszter4",
                                    "szall_mod": "Posta"
                                },
                                {
                                    "login": "eszter4",
                                    "szall_mod": "Személyes átvétel"
                                },
                                {
                                    "login": "eszter4",
                                    "szall_mod": "NULL"
                                },
                                {
                                    "login": "ESZTERE",
                                    "szall_mod": "GLS"
                                },
                                {
                                    "login": "ESZTERE",
                                    "szall_mod": "Posta"
                                },
                                {
                                    "login": "ESZTERE",
                                    "szall_mod": "Személyes átvétel"
                                },
                                {
                                    "login": "ESZTERE",
                                    "szall_mod": "NULL"
                                },
                                {
                                    "login": "eva",
                                    "szall_mod": "GLS"
                                },
                                {
                                    "login": "eva",
                                    "szall_mod": "Posta"
                                },
                                {
                                    "login": "eva",
                                    "szall_mod": "Személyes átvétel"
                                },
                                {
                                    "login": "eva",
                                    "szall_mod": "NULL"
                                },
                                {
                                    "login": "eva2",
                                    "szall_mod": "GLS"
                                },
                                {
                                    "login": "eva2",
                                    "szall_mod": "Posta"
                                },
                                {
                                    "login": "eva2",
                                    "szall_mod": "Személyes átvétel"
                                },
                                {
                                    "login": "eva2",
                                    "szall_mod": "NULL"
                                },
                                {
                                    "login": "EVAV",
                                    "szall_mod": "GLS"
                                },
                                {
                                    "login": "EVAV",
                                    "szall_mod": "Posta"
                                },
                                {
                                    "login": "EVAV",
                                    "szall_mod": "Személyes átvétel"
                                },
                                {
                                    "login": "EVAV",
                                    "szall_mod": "NULL"
                                },
                                {
                                    "login": "ferenc1",
                                    "szall_mod": "GLS"
                                },
                                {
                                    "login": "ferenc1",
                                    "szall_mod": "Posta"
                                },
                                {
                                    "login": "ferenc1",
                                    "szall_mod": "Személyes átvétel"
                                },
                                {
                                    "login": "ferenc1",
                                    "szall_mod": "NULL"
                                },
                                {
                                    "login": "fruzsina4",
                                    "szall_mod": "GLS"
                                },
                                {
                                    "login": "fruzsina4",
                                    "szall_mod": "Posta"
                                },
                                {
                                    "login": "fruzsina4",
                                    "szall_mod": "Személyes átvétel"
                                },
                                {
                                    "login": "fruzsina4",
                                    "szall_mod": "NULL"
                                },
                                {
                                    "login": "gabor1",
                                    "szall_mod": "GLS"
                                },
                                {
                                    "login": "gabor1",
                                    "szall_mod": "Posta"
                                },
                                {
                                    "login": "gabor1",
                                    "szall_mod": "Személyes átvétel"
                                },
                                {
                                    "login": "gabor1",
                                    "szall_mod": "NULL"
                                },
                                {
                                    "login": "gabor4",
                                    "szall_mod": "GLS"
                                },
                                {
                                    "login": "gabor4",
                                    "szall_mod": "Posta"
                                },
                                {
                                    "login": "gabor4",
                                    "szall_mod": "Személyes átvétel"
                                },
                                {
                                    "login": "gabor4",
                                    "szall_mod": "NULL"
                                },
                                {
                                    "login": "GABORS",
                                    "szall_mod": "GLS"
                                },
                                {
                                    "login": "GABORS",
                                    "szall_mod": "Posta"
                                },
                                {
                                    "login": "GABORS",
                                    "szall_mod": "Személyes átvétel"
                                },
                                {
                                    "login": "GABORS",
                                    "szall_mod": "NULL"
                                },
                                {
                                    "login": "gabriella1",
                                    "szall_mod": "GLS"
                                },
                                {
                                    "login": "gabriella1",
                                    "szall_mod": "Posta"
                                },
                                {
                                    "login": "gabriella1",
                                    "szall_mod": "Személyes átvétel"
                                },
                                {
                                    "login": "gabriella1",
                                    "szall_mod": "NULL"
                                },
                                {
                                    "login": "gabriella10",
                                    "szall_mod": "GLS"
                                },
                                {
                                    "login": "gabriella10",
                                    "szall_mod": "Posta"
                                },
                                {
                                    "login": "gabriella10",
                                    "szall_mod": "Személyes átvétel"
                                },
                                {
                                    "login": "gabriella10",
                                    "szall_mod": "NULL"
                                },
                                {
                                    "login": "georgij",
                                    "szall_mod": "GLS"
                                },
                                {
                                    "login": "georgij",
                                    "szall_mod": "Posta"
                                },
                                {
                                    "login": "georgij",
                                    "szall_mod": "Személyes átvétel"
                                },
                                {
                                    "login": "georgij",
                                    "szall_mod": "NULL"
                                },
                                {
                                    "login": "gusztav",
                                    "szall_mod": "GLS"
                                },
                                {
                                    "login": "gusztav",
                                    "szall_mod": "Posta"
                                },
                                {
                                    "login": "gusztav",
                                    "szall_mod": "Személyes átvétel"
                                },
                                {
                                    "login": "gusztav",
                                    "szall_mod": "NULL"
                                },
                                {
                                    "login": "GYONGYIK",
                                    "szall_mod": "GLS"
                                },
                                {
                                    "login": "GYONGYIK",
                                    "szall_mod": "Posta"
                                },
                                {
                                    "login": "GYONGYIK",
                                    "szall_mod": "Személyes átvétel"
                                },
                                {
                                    "login": "GYONGYIK",
                                    "szall_mod": "NULL"
                                },
                                {
                                    "login": "GYORGYO",
                                    "szall_mod": "GLS"
                                },
                                {
                                    "login": "GYORGYO",
                                    "szall_mod": "Posta"
                                },
                                {
                                    "login": "GYORGYO",
                                    "szall_mod": "Személyes átvétel"
                                },
                                {
                                    "login": "GYORGYO",
                                    "szall_mod": "NULL"
                                },
                                {
                                    "login": "henrik3",
                                    "szall_mod": "GLS"
                                },
                                {
                                    "login": "henrik3",
                                    "szall_mod": "Posta"
                                },
                                {
                                    "login": "henrik3",
                                    "szall_mod": "Személyes átvétel"
                                },
                                {
                                    "login": "henrik3",
                                    "szall_mod": "NULL"
                                },
                                {
                                    "login": "IBOLYAA",
                                    "szall_mod": "GLS"
                                },
                                {
                                    "login": "IBOLYAA",
                                    "szall_mod": "Posta"
                                },
                                {
                                    "login": "IBOLYAA",
                                    "szall_mod": "Személyes átvétel"
                                },
                                {
                                    "login": "IBOLYAA",
                                    "szall_mod": "NULL"
                                },
                                {
                                    "login": "ilona3",
                                    "szall_mod": "GLS"
                                },
                                {
                                    "login": "ilona3",
                                    "szall_mod": "Posta"
                                },
                                {
                                    "login": "ilona3",
                                    "szall_mod": "Személyes átvétel"
                                },
                                {
                                    "login": "ilona3",
                                    "szall_mod": "NULL"
                                },
                                {
                                    "login": "imre",
                                    "szall_mod": "GLS"
                                },
                                {
                                    "login": "imre",
                                    "szall_mod": "Posta"
                                },
                                {
                                    "login": "imre",
                                    "szall_mod": "Személyes átvétel"
                                },
                                {
                                    "login": "imre",
                                    "szall_mod": "NULL"
                                },
                                {
                                    "login": "imre1",
                                    "szall_mod": "GLS"
                                },
                                {
                                    "login": "imre1",
                                    "szall_mod": "Posta"
                                },
                                {
                                    "login": "imre1",
                                    "szall_mod": "Személyes átvétel"
                                },
                                {
                                    "login": "imre1",
                                    "szall_mod": "NULL"
                                },
                                {
                                    "login": "istvan",
                                    "szall_mod": "GLS"
                                },
                                {
                                    "login": "istvan",
                                    "szall_mod": "Posta"
                                },
                                {
                                    "login": "istvan",
                                    "szall_mod": "Személyes átvétel"
                                },
                                {
                                    "login": "istvan",
                                    "szall_mod": "NULL"
                                },
                                {
                                    "login": "istvan1",
                                    "szall_mod": "GLS"
                                },
                                {
                                    "login": "istvan1",
                                    "szall_mod": "Posta"
                                },
                                {
                                    "login": "istvan1",
                                    "szall_mod": "Személyes átvétel"
                                },
                                {
                                    "login": "istvan1",
                                    "szall_mod": "NULL"
                                },
                                {
                                    "login": "ISTVANV",
                                    "szall_mod": "GLS"
                                },
                                {
                                    "login": "ISTVANV",
                                    "szall_mod": "Posta"
                                },
                                {
                                    "login": "ISTVANV",
                                    "szall_mod": "Személyes átvétel"
                                },
                                {
                                    "login": "ISTVANV",
                                    "szall_mod": "NULL"
                                },
                                {
                                    "login": "janos3",
                                    "szall_mod": "GLS"
                                },
                                {
                                    "login": "janos3",
                                    "szall_mod": "Posta"
                                },
                                {
                                    "login": "janos3",
                                    "szall_mod": "Személyes átvétel"
                                },
                                {
                                    "login": "janos3",
                                    "szall_mod": "NULL"
                                },
                                {
                                    "login": "JANOSG",
                                    "szall_mod": "GLS"
                                },
                                {
                                    "login": "JANOSG",
                                    "szall_mod": "Posta"
                                },
                                {
                                    "login": "JANOSG",
                                    "szall_mod": "Személyes átvétel"
                                },
                                {
                                    "login": "JANOSG",
                                    "szall_mod": "NULL"
                                },
                                {
                                    "login": "JANOSP",
                                    "szall_mod": "GLS"
                                },
                                {
                                    "login": "JANOSP",
                                    "szall_mod": "Posta"
                                },
                                {
                                    "login": "JANOSP",
                                    "szall_mod": "Személyes átvétel"
                                },
                                {
                                    "login": "JANOSP",
                                    "szall_mod": "NULL"
                                },
                                {
                                    "login": "jozsef",
                                    "szall_mod": "GLS"
                                },
                                {
                                    "login": "jozsef",
                                    "szall_mod": "Posta"
                                },
                                {
                                    "login": "jozsef",
                                    "szall_mod": "Személyes átvétel"
                                },
                                {
                                    "login": "jozsef",
                                    "szall_mod": "NULL"
                                },
                                {
                                    "login": "jozsef2",
                                    "szall_mod": "GLS"
                                },
                                {
                                    "login": "jozsef2",
                                    "szall_mod": "Posta"
                                },
                                {
                                    "login": "jozsef2",
                                    "szall_mod": "Személyes átvétel"
                                },
                                {
                                    "login": "jozsef2",
                                    "szall_mod": "NULL"
                                },
                                {
                                    "login": "JOZSEFG",
                                    "szall_mod": "GLS"
                                },
                                {
                                    "login": "JOZSEFG",
                                    "szall_mod": "Posta"
                                },
                                {
                                    "login": "JOZSEFG",
                                    "szall_mod": "Személyes átvétel"
                                },
                                {
                                    "login": "JOZSEFG",
                                    "szall_mod": "NULL"
                                },
                                {
                                    "login": "JUDITH",
                                    "szall_mod": "GLS"
                                },
                                {
                                    "login": "JUDITH",
                                    "szall_mod": "Posta"
                                },
                                {
                                    "login": "JUDITH",
                                    "szall_mod": "Személyes átvétel"
                                },
                                {
                                    "login": "JUDITH",
                                    "szall_mod": "NULL"
                                },
                                {
                                    "login": "julia",
                                    "szall_mod": "GLS"
                                },
                                {
                                    "login": "julia",
                                    "szall_mod": "Posta"
                                },
                                {
                                    "login": "julia",
                                    "szall_mod": "Személyes átvétel"
                                },
                                {
                                    "login": "julia",
                                    "szall_mod": "NULL"
                                },
                                {
                                    "login": "julia4",
                                    "szall_mod": "GLS"
                                },
                                {
                                    "login": "julia4",
                                    "szall_mod": "Posta"
                                },
                                {
                                    "login": "julia4",
                                    "szall_mod": "Személyes átvétel"
                                },
                                {
                                    "login": "julia4",
                                    "szall_mod": "NULL"
                                },
                                {
                                    "login": "julianna4",
                                    "szall_mod": "GLS"
                                },
                                {
                                    "login": "julianna4",
                                    "szall_mod": "Posta"
                                },
                                {
                                    "login": "julianna4",
                                    "szall_mod": "Személyes átvétel"
                                },
                                {
                                    "login": "julianna4",
                                    "szall_mod": "NULL"
                                },
                                {
                                    "login": "kata",
                                    "szall_mod": "GLS"
                                },
                                {
                                    "login": "kata",
                                    "szall_mod": "Posta"
                                },
                                {
                                    "login": "kata",
                                    "szall_mod": "Személyes átvétel"
                                },
                                {
                                    "login": "kata",
                                    "szall_mod": "NULL"
                                },
                                {
                                    "login": "katalin",
                                    "szall_mod": "GLS"
                                },
                                {
                                    "login": "katalin",
                                    "szall_mod": "Posta"
                                },
                                {
                                    "login": "katalin",
                                    "szall_mod": "Személyes átvétel"
                                },
                                {
                                    "login": "katalin",
                                    "szall_mod": "NULL"
                                },
                                {
                                    "login": "katalin4",
                                    "szall_mod": "GLS"
                                },
                                {
                                    "login": "katalin4",
                                    "szall_mod": "Posta"
                                },
                                {
                                    "login": "katalin4",
                                    "szall_mod": "Személyes átvétel"
                                },
                                {
                                    "login": "katalin4",
                                    "szall_mod": "NULL"
                                },
                                {
                                    "login": "kati",
                                    "szall_mod": "GLS"
                                },
                                {
                                    "login": "kati",
                                    "szall_mod": "Posta"
                                },
                                {
                                    "login": "kati",
                                    "szall_mod": "Személyes átvétel"
                                },
                                {
                                    "login": "kati",
                                    "szall_mod": "NULL"
                                },
                                {
                                    "login": "katka",
                                    "szall_mod": "GLS"
                                },
                                {
                                    "login": "katka",
                                    "szall_mod": "Posta"
                                },
                                {
                                    "login": "katka",
                                    "szall_mod": "Személyes átvétel"
                                },
                                {
                                    "login": "katka",
                                    "szall_mod": "NULL"
                                },
                                {
                                    "login": "klaudia2",
                                    "szall_mod": "GLS"
                                },
                                {
                                    "login": "klaudia2",
                                    "szall_mod": "Posta"
                                },
                                {
                                    "login": "klaudia2",
                                    "szall_mod": "Személyes átvétel"
                                },
                                {
                                    "login": "klaudia2",
                                    "szall_mod": "NULL"
                                },
                                {
                                    "login": "kornel4",
                                    "szall_mod": "GLS"
                                },
                                {
                                    "login": "kornel4",
                                    "szall_mod": "Posta"
                                },
                                {
                                    "login": "kornel4",
                                    "szall_mod": "Személyes átvétel"
                                },
                                {
                                    "login": "kornel4",
                                    "szall_mod": "NULL"
                                },
                                {
                                    "login": "kristof4",
                                    "szall_mod": "GLS"
                                },
                                {
                                    "login": "kristof4",
                                    "szall_mod": "Posta"
                                },
                                {
                                    "login": "kristof4",
                                    "szall_mod": "Személyes átvétel"
                                },
                                {
                                    "login": "kristof4",
                                    "szall_mod": "NULL"
                                },
                                {
                                    "login": "kriszti",
                                    "szall_mod": "GLS"
                                },
                                {
                                    "login": "kriszti",
                                    "szall_mod": "Posta"
                                },
                                {
                                    "login": "kriszti",
                                    "szall_mod": "Személyes átvétel"
                                },
                                {
                                    "login": "kriszti",
                                    "szall_mod": "NULL"
                                },
                                {
                                    "login": "krisztian4",
                                    "szall_mod": "GLS"
                                },
                                {
                                    "login": "krisztian4",
                                    "szall_mod": "Posta"
                                },
                                {
                                    "login": "krisztian4",
                                    "szall_mod": "Személyes átvétel"
                                },
                                {
                                    "login": "krisztian4",
                                    "szall_mod": "NULL"
                                },
                                {
                                    "login": "KRISZTIANM",
                                    "szall_mod": "GLS"
                                },
                                {
                                    "login": "KRISZTIANM",
                                    "szall_mod": "Posta"
                                },
                                {
                                    "login": "KRISZTIANM",
                                    "szall_mod": "Személyes átvétel"
                                },
                                {
                                    "login": "KRISZTIANM",
                                    "szall_mod": "NULL"
                                },
                                {
                                    "login": "krisztina",
                                    "szall_mod": "GLS"
                                },
                                {
                                    "login": "krisztina",
                                    "szall_mod": "Posta"
                                },
                                {
                                    "login": "krisztina",
                                    "szall_mod": "Személyes átvétel"
                                },
                                {
                                    "login": "krisztina",
                                    "szall_mod": "NULL"
                                },
                                {
                                    "login": "krisztina1",
                                    "szall_mod": "GLS"
                                },
                                {
                                    "login": "krisztina1",
                                    "szall_mod": "Posta"
                                },
                                {
                                    "login": "krisztina1",
                                    "szall_mod": "Személyes átvétel"
                                },
                                {
                                    "login": "krisztina1",
                                    "szall_mod": "NULL"
                                },
                                {
                                    "login": "KRISZTINAG",
                                    "szall_mod": "GLS"
                                },
                                {
                                    "login": "KRISZTINAG",
                                    "szall_mod": "Posta"
                                },
                                {
                                    "login": "KRISZTINAG",
                                    "szall_mod": "Személyes átvétel"
                                },
                                {
                                    "login": "KRISZTINAG",
                                    "szall_mod": "NULL"
                                },
                                {
                                    "login": "lajos",
                                    "szall_mod": "GLS"
                                },
                                {
                                    "login": "lajos",
                                    "szall_mod": "Posta"
                                },
                                {
                                    "login": "lajos",
                                    "szall_mod": "Személyes átvétel"
                                },
                                {
                                    "login": "lajos",
                                    "szall_mod": "NULL"
                                },
                                {
                                    "login": "lala",
                                    "szall_mod": "GLS"
                                },
                                {
                                    "login": "lala",
                                    "szall_mod": "Posta"
                                },
                                {
                                    "login": "lala",
                                    "szall_mod": "Személyes átvétel"
                                },
                                {
                                    "login": "lala",
                                    "szall_mod": "NULL"
                                },
                                {
                                    "login": "laszlo1",
                                    "szall_mod": "GLS"
                                },
                                {
                                    "login": "laszlo1",
                                    "szall_mod": "Posta"
                                },
                                {
                                    "login": "laszlo1",
                                    "szall_mod": "Személyes átvétel"
                                },
                                {
                                    "login": "laszlo1",
                                    "szall_mod": "NULL"
                                },
                                {
                                    "login": "laszlo2",
                                    "szall_mod": "GLS"
                                },
                                {
                                    "login": "laszlo2",
                                    "szall_mod": "Posta"
                                },
                                {
                                    "login": "laszlo2",
                                    "szall_mod": "Személyes átvétel"
                                },
                                {
                                    "login": "laszlo2",
                                    "szall_mod": "NULL"
                                },
                                {
                                    "login": "LASZLOA",
                                    "szall_mod": "GLS"
                                },
                                {
                                    "login": "LASZLOA",
                                    "szall_mod": "Posta"
                                },
                                {
                                    "login": "LASZLOA",
                                    "szall_mod": "Személyes átvétel"
                                },
                                {
                                    "login": "LASZLOA",
                                    "szall_mod": "NULL"
                                },
                                {
                                    "login": "LASZLON",
                                    "szall_mod": "GLS"
                                },
                                {
                                    "login": "LASZLON",
                                    "szall_mod": "Posta"
                                },
                                {
                                    "login": "LASZLON",
                                    "szall_mod": "Személyes átvétel"
                                },
                                {
                                    "login": "LASZLON",
                                    "szall_mod": "NULL"
                                },
                                {
                                    "login": "maria1",
                                    "szall_mod": "GLS"
                                },
                                {
                                    "login": "maria1",
                                    "szall_mod": "Posta"
                                },
                                {
                                    "login": "maria1",
                                    "szall_mod": "Személyes átvétel"
                                },
                                {
                                    "login": "maria1",
                                    "szall_mod": "NULL"
                                },
                                {
                                    "login": "MARKH",
                                    "szall_mod": "GLS"
                                },
                                {
                                    "login": "MARKH",
                                    "szall_mod": "Posta"
                                },
                                {
                                    "login": "MARKH",
                                    "szall_mod": "Személyes átvétel"
                                },
                                {
                                    "login": "MARKH",
                                    "szall_mod": "NULL"
                                },
                                {
                                    "login": "marton",
                                    "szall_mod": "GLS"
                                },
                                {
                                    "login": "marton",
                                    "szall_mod": "Posta"
                                },
                                {
                                    "login": "marton",
                                    "szall_mod": "Személyes átvétel"
                                },
                                {
                                    "login": "marton",
                                    "szall_mod": "NULL"
                                },
                                {
                                    "login": "MATEK",
                                    "szall_mod": "GLS"
                                },
                                {
                                    "login": "MATEK",
                                    "szall_mod": "Posta"
                                },
                                {
                                    "login": "MATEK",
                                    "szall_mod": "Személyes átvétel"
                                },
                                {
                                    "login": "MATEK",
                                    "szall_mod": "NULL"
                                },
                                {
                                    "login": "matyas2",
                                    "szall_mod": "GLS"
                                },
                                {
                                    "login": "matyas2",
                                    "szall_mod": "Posta"
                                },
                                {
                                    "login": "matyas2",
                                    "szall_mod": "Személyes átvétel"
                                },
                                {
                                    "login": "matyas2",
                                    "szall_mod": "NULL"
                                },
                                {
                                    "login": "MATYASS",
                                    "szall_mod": "GLS"
                                },
                                {
                                    "login": "MATYASS",
                                    "szall_mod": "Posta"
                                },
                                {
                                    "login": "MATYASS",
                                    "szall_mod": "Személyes átvétel"
                                },
                                {
                                    "login": "MATYASS",
                                    "szall_mod": "NULL"
                                },
                                {
                                    "login": "MIHALYJ",
                                    "szall_mod": "GLS"
                                },
                                {
                                    "login": "MIHALYJ",
                                    "szall_mod": "Posta"
                                },
                                {
                                    "login": "MIHALYJ",
                                    "szall_mod": "Személyes átvétel"
                                },
                                {
                                    "login": "MIHALYJ",
                                    "szall_mod": "NULL"
                                },
                                {
                                    "login": "miklos2",
                                    "szall_mod": "GLS"
                                },
                                {
                                    "login": "miklos2",
                                    "szall_mod": "Posta"
                                },
                                {
                                    "login": "miklos2",
                                    "szall_mod": "Személyes átvétel"
                                },
                                {
                                    "login": "miklos2",
                                    "szall_mod": "NULL"
                                },
                                {
                                    "login": "MIKLOSB",
                                    "szall_mod": "GLS"
                                },
                                {
                                    "login": "MIKLOSB",
                                    "szall_mod": "Posta"
                                },
                                {
                                    "login": "MIKLOSB",
                                    "szall_mod": "Személyes átvétel"
                                },
                                {
                                    "login": "MIKLOSB",
                                    "szall_mod": "NULL"
                                },
                                {
                                    "login": "MONIKAM",
                                    "szall_mod": "GLS"
                                },
                                {
                                    "login": "MONIKAM",
                                    "szall_mod": "Posta"
                                },
                                {
                                    "login": "MONIKAM",
                                    "szall_mod": "Személyes átvétel"
                                },
                                {
                                    "login": "MONIKAM",
                                    "szall_mod": "NULL"
                                },
                                {
                                    "login": "NANDORF",
                                    "szall_mod": "GLS"
                                },
                                {
                                    "login": "NANDORF",
                                    "szall_mod": "Posta"
                                },
                                {
                                    "login": "NANDORF",
                                    "szall_mod": "Személyes átvétel"
                                },
                                {
                                    "login": "NANDORF",
                                    "szall_mod": "NULL"
                                },
                                {
                                    "login": "nikolett3",
                                    "szall_mod": "GLS"
                                },
                                {
                                    "login": "nikolett3",
                                    "szall_mod": "Posta"
                                },
                                {
                                    "login": "nikolett3",
                                    "szall_mod": "Személyes átvétel"
                                },
                                {
                                    "login": "nikolett3",
                                    "szall_mod": "NULL"
                                },
                                {
                                    "login": "nikoletta4",
                                    "szall_mod": "GLS"
                                },
                                {
                                    "login": "nikoletta4",
                                    "szall_mod": "Posta"
                                },
                                {
                                    "login": "nikoletta4",
                                    "szall_mod": "Személyes átvétel"
                                },
                                {
                                    "login": "nikoletta4",
                                    "szall_mod": "NULL"
                                },
                                {
                                    "login": "NIKOLETTAT",
                                    "szall_mod": "GLS"
                                },
                                {
                                    "login": "NIKOLETTAT",
                                    "szall_mod": "Posta"
                                },
                                {
                                    "login": "NIKOLETTAT",
                                    "szall_mod": "Személyes átvétel"
                                },
                                {
                                    "login": "NIKOLETTAT",
                                    "szall_mod": "NULL"
                                },
                                {
                                    "login": "norbert2",
                                    "szall_mod": "GLS"
                                },
                                {
                                    "login": "norbert2",
                                    "szall_mod": "Posta"
                                },
                                {
                                    "login": "norbert2",
                                    "szall_mod": "NULL"
                                },
                                {
                                    "login": "norbert4",
                                    "szall_mod": "GLS"
                                },
                                {
                                    "login": "norbert4",
                                    "szall_mod": "Posta"
                                },
                                {
                                    "login": "norbert4",
                                    "szall_mod": "Személyes átvétel"
                                },
                                {
                                    "login": "norbert4",
                                    "szall_mod": "NULL"
                                },
                                {
                                    "login": "norbert5",
                                    "szall_mod": "GLS"
                                },
                                {
                                    "login": "norbert5",
                                    "szall_mod": "Posta"
                                },
                                {
                                    "login": "norbert5",
                                    "szall_mod": "Személyes átvétel"
                                },
                                {
                                    "login": "norbert5",
                                    "szall_mod": "NULL"
                                },
                                {
                                    "login": "pal",
                                    "szall_mod": "GLS"
                                },
                                {
                                    "login": "pal",
                                    "szall_mod": "Posta"
                                },
                                {
                                    "login": "pal",
                                    "szall_mod": "Személyes átvétel"
                                },
                                {
                                    "login": "pal",
                                    "szall_mod": "NULL"
                                },
                                {
                                    "login": "peter1",
                                    "szall_mod": "GLS"
                                },
                                {
                                    "login": "peter1",
                                    "szall_mod": "Posta"
                                },
                                {
                                    "login": "peter1",
                                    "szall_mod": "Személyes átvétel"
                                },
                                {
                                    "login": "peter1",
                                    "szall_mod": "NULL"
                                },
                                {
                                    "login": "peter2",
                                    "szall_mod": "GLS"
                                },
                                {
                                    "login": "peter2",
                                    "szall_mod": "Posta"
                                },
                                {
                                    "login": "peter2",
                                    "szall_mod": "Személyes átvétel"
                                },
                                {
                                    "login": "peter2",
                                    "szall_mod": "NULL"
                                },
                                {
                                    "login": "peter3",
                                    "szall_mod": "GLS"
                                },
                                {
                                    "login": "peter3",
                                    "szall_mod": "Posta"
                                },
                                {
                                    "login": "peter3",
                                    "szall_mod": "Személyes átvétel"
                                },
                                {
                                    "login": "peter3",
                                    "szall_mod": "NULL"
                                },
                                {
                                    "login": "peter4",
                                    "szall_mod": "GLS"
                                },
                                {
                                    "login": "peter4",
                                    "szall_mod": "Posta"
                                },
                                {
                                    "login": "peter4",
                                    "szall_mod": "Személyes átvétel"
                                },
                                {
                                    "login": "peter4",
                                    "szall_mod": "NULL"
                                },
                                {
                                    "login": "PETERB",
                                    "szall_mod": "GLS"
                                },
                                {
                                    "login": "PETERB",
                                    "szall_mod": "Posta"
                                },
                                {
                                    "login": "PETERB",
                                    "szall_mod": "Személyes átvétel"
                                },
                                {
                                    "login": "PETERB",
                                    "szall_mod": "NULL"
                                },
                                {
                                    "login": "polla",
                                    "szall_mod": "GLS"
                                },
                                {
                                    "login": "polla",
                                    "szall_mod": "Posta"
                                },
                                {
                                    "login": "polla",
                                    "szall_mod": "Személyes átvétel"
                                },
                                {
                                    "login": "polla",
                                    "szall_mod": "NULL"
                                },
                                {
                                    "login": "rajmond4",
                                    "szall_mod": "GLS"
                                },
                                {
                                    "login": "rajmond4",
                                    "szall_mod": "Posta"
                                },
                                {
                                    "login": "rajmond4",
                                    "szall_mod": "Személyes átvétel"
                                },
                                {
                                    "login": "rajmond4",
                                    "szall_mod": "NULL"
                                },
                                {
                                    "login": "reka4",
                                    "szall_mod": "GLS"
                                },
                                {
                                    "login": "reka4",
                                    "szall_mod": "Posta"
                                },
                                {
                                    "login": "reka4",
                                    "szall_mod": "Személyes átvétel"
                                },
                                {
                                    "login": "reka4",
                                    "szall_mod": "NULL"
                                },
                                {
                                    "login": "RENATAK",
                                    "szall_mod": "GLS"
                                },
                                {
                                    "login": "RENATAK",
                                    "szall_mod": "Posta"
                                },
                                {
                                    "login": "RENATAK",
                                    "szall_mod": "Személyes átvétel"
                                },
                                {
                                    "login": "RENATAK",
                                    "szall_mod": "NULL"
                                },
                                {
                                    "login": "RENATAS",
                                    "szall_mod": "GLS"
                                },
                                {
                                    "login": "RENATAS",
                                    "szall_mod": "Posta"
                                },
                                {
                                    "login": "RENATAS",
                                    "szall_mod": "Személyes átvétel"
                                },
                                {
                                    "login": "RENATAS",
                                    "szall_mod": "NULL"
                                },
                                {
                                    "login": "robert2",
                                    "szall_mod": "GLS"
                                },
                                {
                                    "login": "robert2",
                                    "szall_mod": "Posta"
                                },
                                {
                                    "login": "robert2",
                                    "szall_mod": "Személyes átvétel"
                                },
                                {
                                    "login": "robert2",
                                    "szall_mod": "NULL"
                                },
                                {
                                    "login": "ROBERTI",
                                    "szall_mod": "GLS"
                                },
                                {
                                    "login": "ROBERTI",
                                    "szall_mod": "Posta"
                                },
                                {
                                    "login": "ROBERTI",
                                    "szall_mod": "Személyes átvétel"
                                },
                                {
                                    "login": "ROBERTI",
                                    "szall_mod": "NULL"
                                },
                                {
                                    "login": "ROBERTP",
                                    "szall_mod": "GLS"
                                },
                                {
                                    "login": "ROBERTP",
                                    "szall_mod": "Posta"
                                },
                                {
                                    "login": "ROBERTP",
                                    "szall_mod": "Személyes átvétel"
                                },
                                {
                                    "login": "ROBERTP",
                                    "szall_mod": "NULL"
                                },
                                {
                                    "login": "roland",
                                    "szall_mod": "GLS"
                                },
                                {
                                    "login": "roland",
                                    "szall_mod": "Posta"
                                },
                                {
                                    "login": "roland",
                                    "szall_mod": "Személyes átvétel"
                                },
                                {
                                    "login": "roland",
                                    "szall_mod": "NULL"
                                },
                                {
                                    "login": "roland1",
                                    "szall_mod": "GLS"
                                },
                                {
                                    "login": "roland1",
                                    "szall_mod": "Posta"
                                },
                                {
                                    "login": "roland1",
                                    "szall_mod": "Személyes átvétel"
                                },
                                {
                                    "login": "roland1",
                                    "szall_mod": "NULL"
                                },
                                {
                                    "login": "roza2",
                                    "szall_mod": "GLS"
                                },
                                {
                                    "login": "roza2",
                                    "szall_mod": "Posta"
                                },
                                {
                                    "login": "roza2",
                                    "szall_mod": "Személyes átvétel"
                                },
                                {
                                    "login": "roza2",
                                    "szall_mod": "NULL"
                                },
                                {
                                    "login": "sandor",
                                    "szall_mod": "GLS"
                                },
                                {
                                    "login": "sandor",
                                    "szall_mod": "Posta"
                                },
                                {
                                    "login": "sandor",
                                    "szall_mod": "Személyes átvétel"
                                },
                                {
                                    "login": "sandor",
                                    "szall_mod": "NULL"
                                },
                                {
                                    "login": "sandor3",
                                    "szall_mod": "GLS"
                                },
                                {
                                    "login": "sandor3",
                                    "szall_mod": "Posta"
                                },
                                {
                                    "login": "sandor3",
                                    "szall_mod": "Személyes átvétel"
                                },
                                {
                                    "login": "sandor3",
                                    "szall_mod": "NULL"
                                },
                                {
                                    "login": "sandor4",
                                    "szall_mod": "GLS"
                                },
                                {
                                    "login": "sandor4",
                                    "szall_mod": "Posta"
                                },
                                {
                                    "login": "sandor4",
                                    "szall_mod": "Személyes átvétel"
                                },
                                {
                                    "login": "sandor4",
                                    "szall_mod": "NULL"
                                },
                                {
                                    "login": "sara",
                                    "szall_mod": "GLS"
                                },
                                {
                                    "login": "sara",
                                    "szall_mod": "Posta"
                                },
                                {
                                    "login": "sara",
                                    "szall_mod": "Személyes átvétel"
                                },
                                {
                                    "login": "sara",
                                    "szall_mod": "NULL"
                                },
                                {
                                    "login": "SEBASTIANF",
                                    "szall_mod": "GLS"
                                },
                                {
                                    "login": "SEBASTIANF",
                                    "szall_mod": "Posta"
                                },
                                {
                                    "login": "SEBASTIANF",
                                    "szall_mod": "Személyes átvétel"
                                },
                                {
                                    "login": "SEBASTIANF",
                                    "szall_mod": "NULL"
                                },
                                {
                                    "login": "sebestyen",
                                    "szall_mod": "GLS"
                                },
                                {
                                    "login": "sebestyen",
                                    "szall_mod": "Posta"
                                },
                                {
                                    "login": "sebestyen",
                                    "szall_mod": "Személyes átvétel"
                                },
                                {
                                    "login": "sebestyen",
                                    "szall_mod": "NULL"
                                },
                                {
                                    "login": "szabolcs",
                                    "szall_mod": "GLS"
                                },
                                {
                                    "login": "szabolcs",
                                    "szall_mod": "Posta"
                                },
                                {
                                    "login": "szabolcs",
                                    "szall_mod": "Személyes átvétel"
                                },
                                {
                                    "login": "szabolcs",
                                    "szall_mod": "NULL"
                                },
                                {
                                    "login": "SZABOLCSM",
                                    "szall_mod": "GLS"
                                },
                                {
                                    "login": "SZABOLCSM",
                                    "szall_mod": "Posta"
                                },
                                {
                                    "login": "SZABOLCSM",
                                    "szall_mod": "Személyes átvétel"
                                },
                                {
                                    "login": "SZABOLCSM",
                                    "szall_mod": "NULL"
                                },
                                {
                                    "login": "SZILARDS",
                                    "szall_mod": "GLS"
                                },
                                {
                                    "login": "SZILARDS",
                                    "szall_mod": "Posta"
                                },
                                {
                                    "login": "SZILARDS",
                                    "szall_mod": "Személyes átvétel"
                                },
                                {
                                    "login": "SZILARDS",
                                    "szall_mod": "NULL"
                                },
                                {
                                    "login": "szilvia1",
                                    "szall_mod": "GLS"
                                },
                                {
                                    "login": "szilvia1",
                                    "szall_mod": "Posta"
                                },
                                {
                                    "login": "szilvia1",
                                    "szall_mod": "Személyes átvétel"
                                },
                                {
                                    "login": "szilvia1",
                                    "szall_mod": "NULL"
                                },
                                {
                                    "login": "tamara2",
                                    "szall_mod": "GLS"
                                },
                                {
                                    "login": "tamara2",
                                    "szall_mod": "Posta"
                                },
                                {
                                    "login": "tamara2",
                                    "szall_mod": "Személyes átvétel"
                                },
                                {
                                    "login": "tamara2",
                                    "szall_mod": "NULL"
                                },
                                {
                                    "login": "tamas",
                                    "szall_mod": "GLS"
                                },
                                {
                                    "login": "tamas",
                                    "szall_mod": "Posta"
                                },
                                {
                                    "login": "tamas",
                                    "szall_mod": "Személyes átvétel"
                                },
                                {
                                    "login": "tamas",
                                    "szall_mod": "NULL"
                                },
                                {
                                    "login": "TAMASF",
                                    "szall_mod": "GLS"
                                },
                                {
                                    "login": "TAMASF",
                                    "szall_mod": "Posta"
                                },
                                {
                                    "login": "TAMASF",
                                    "szall_mod": "Személyes átvétel"
                                },
                                {
                                    "login": "TAMASF",
                                    "szall_mod": "NULL"
                                },
                                {
                                    "login": "tibor",
                                    "szall_mod": "GLS"
                                },
                                {
                                    "login": "tibor",
                                    "szall_mod": "Posta"
                                },
                                {
                                    "login": "tibor",
                                    "szall_mod": "Személyes átvétel"
                                },
                                {
                                    "login": "tibor",
                                    "szall_mod": "NULL"
                                },
                                {
                                    "login": "tibor2",
                                    "szall_mod": "GLS"
                                },
                                {
                                    "login": "tibor2",
                                    "szall_mod": "Posta"
                                },
                                {
                                    "login": "tibor2",
                                    "szall_mod": "Személyes átvétel"
                                },
                                {
                                    "login": "tibor2",
                                    "szall_mod": "NULL"
                                },
                                {
                                    "login": "tihamer",
                                    "szall_mod": "GLS"
                                },
                                {
                                    "login": "tihamer",
                                    "szall_mod": "Posta"
                                },
                                {
                                    "login": "tihamer",
                                    "szall_mod": "Személyes átvétel"
                                },
                                {
                                    "login": "tihamer",
                                    "szall_mod": "NULL"
                                },
                                {
                                    "login": "timea",
                                    "szall_mod": "GLS"
                                },
                                {
                                    "login": "timea",
                                    "szall_mod": "Posta"
                                },
                                {
                                    "login": "timea",
                                    "szall_mod": "Személyes átvétel"
                                },
                                {
                                    "login": "timea",
                                    "szall_mod": "NULL"
                                },
                                {
                                    "login": "timea2",
                                    "szall_mod": "GLS"
                                },
                                {
                                    "login": "timea2",
                                    "szall_mod": "Posta"
                                },
                                {
                                    "login": "timea2",
                                    "szall_mod": "Személyes átvétel"
                                },
                                {
                                    "login": "timea2",
                                    "szall_mod": "NULL"
                                },
                                {
                                    "login": "tunde",
                                    "szall_mod": "GLS"
                                },
                                {
                                    "login": "tunde",
                                    "szall_mod": "Posta"
                                },
                                {
                                    "login": "tunde",
                                    "szall_mod": "Személyes átvétel"
                                },
                                {
                                    "login": "tunde",
                                    "szall_mod": "NULL"
                                },
                                {
                                    "login": "valentin",
                                    "szall_mod": "GLS"
                                },
                                {
                                    "login": "valentin",
                                    "szall_mod": "Posta"
                                },
                                {
                                    "login": "valentin",
                                    "szall_mod": "Személyes átvétel"
                                },
                                {
                                    "login": "valentin",
                                    "szall_mod": "NULL"
                                },
                                {
                                    "login": "veronika4",
                                    "szall_mod": "GLS"
                                },
                                {
                                    "login": "veronika4",
                                    "szall_mod": "Posta"
                                },
                                {
                                    "login": "veronika4",
                                    "szall_mod": "Személyes átvétel"
                                },
                                {
                                    "login": "veronika4",
                                    "szall_mod": "NULL"
                                },
                                {
                                    "login": "VIKTORIAU",
                                    "szall_mod": "GLS"
                                },
                                {
                                    "login": "VIKTORIAU",
                                    "szall_mod": "Posta"
                                },
                                {
                                    "login": "VIKTORIAU",
                                    "szall_mod": "Személyes átvétel"
                                },
                                {
                                    "login": "VIKTORIAU",
                                    "szall_mod": "NULL"
                                },
                                {
                                    "login": "VIKTORK",
                                    "szall_mod": "GLS"
                                },
                                {
                                    "login": "VIKTORK",
                                    "szall_mod": "Posta"
                                },
                                {
                                    "login": "VIKTORK",
                                    "szall_mod": "Személyes átvétel"
                                },
                                {
                                    "login": "VIKTORK",
                                    "szall_mod": "NULL"
                                },
                                {
                                    "login": "vivien3",
                                    "szall_mod": "GLS"
                                },
                                {
                                    "login": "vivien3",
                                    "szall_mod": "Posta"
                                },
                                {
                                    "login": "vivien3",
                                    "szall_mod": "Személyes átvétel"
                                },
                                {
                                    "login": "vivien3",
                                    "szall_mod": "NULL"
                                },
                                {
                                    "login": "zoltan",
                                    "szall_mod": "GLS"
                                },
                                {
                                    "login": "zoltan",
                                    "szall_mod": "Posta"
                                },
                                {
                                    "login": "zoltan",
                                    "szall_mod": "Személyes átvétel"
                                },
                                {
                                    "login": "zoltan",
                                    "szall_mod": "NULL"
                                },
                                {
                                    "login": "zoltan4",
                                    "szall_mod": "GLS"
                                },
                                {
                                    "login": "zoltan4",
                                    "szall_mod": "Posta"
                                },
                                {
                                    "login": "zoltan4",
                                    "szall_mod": "Személyes átvétel"
                                },
                                {
                                    "login": "zoltan4",
                                    "szall_mod": "NULL"
                                },
                                {
                                    "login": "ZOLTANP",
                                    "szall_mod": "GLS"
                                },
                                {
                                    "login": "ZOLTANP",
                                    "szall_mod": "Posta"
                                },
                                {
                                    "login": "ZOLTANP",
                                    "szall_mod": "Személyes átvétel"
                                },
                                {
                                    "login": "ZOLTANP",
                                    "szall_mod": "NULL"
                                },
                                {
                                    "login": "ZOLTANT",
                                    "szall_mod": "GLS"
                                },
                                {
                                    "login": "ZOLTANT",
                                    "szall_mod": "Posta"
                                },
                                {
                                    "login": "ZOLTANT",
                                    "szall_mod": "Személyes átvétel"
                                },
                                {
                                    "login": "ZOLTANT",
                                    "szall_mod": "NULL"
                                },
                                {
                                    "login": "zsofi1",
                                    "szall_mod": "GLS"
                                },
                                {
                                    "login": "zsofi1",
                                    "szall_mod": "Posta"
                                },
                                {
                                    "login": "zsofi1",
                                    "szall_mod": "Személyes átvétel"
                                },
                                {
                                    "login": "zsofi1",
                                    "szall_mod": "NULL"
                                },
                                {
                                    "login": "zsolt1",
                                    "szall_mod": "GLS"
                                },
                                {
                                    "login": "zsolt1",
                                    "szall_mod": "Posta"
                                },
                                {
                                    "login": "zsolt1",
                                    "szall_mod": "Személyes átvétel"
                                },
                                {
                                    "login": "zsolt1",
                                    "szall_mod": "NULL"
                                },
                                {
                                    "login": "ZSOLTJ",
                                    "szall_mod": "GLS"
                                },
                                {
                                    "login": "ZSOLTJ",
                                    "szall_mod": "Posta"
                                },
                                {
                                    "login": "ZSOLTJ",
                                    "szall_mod": "Személyes átvétel"
                                },
                                {
                                    "login": "ZSOLTJ",
                                    "szall_mod": "NULL"
                                },
                                {
                                    "login": "zsuzsa",
                                    "szall_mod": "GLS"
                                },
                                {
                                    "login": "zsuzsa",
                                    "szall_mod": "Posta"
                                },
                                {
                                    "login": "zsuzsa",
                                    "szall_mod": "Személyes átvétel"
                                },
                                {
                                    "login": "zsuzsa",
                                    "szall_mod": "NULL"
                                },
                                {
                                    "login": "zsuzsa3",
                                    "szall_mod": "GLS"
                                },
                                {
                                    "login": "zsuzsa3",
                                    "szall_mod": "Posta"
                                },
                                {
                                    "login": "zsuzsa3",
                                    "szall_mod": "Személyes átvétel"
                                },
                                {
                                    "login": "zsuzsa3",
                                    "szall_mod": "NULL"
                                },
                                {
                                    "login": "zsuzsanna",
                                    "szall_mod": "GLS"
                                },
                                {
                                    "login": "zsuzsanna",
                                    "szall_mod": "Posta"
                                },
                                {
                                    "login": "zsuzsanna",
                                    "szall_mod": "Személyes átvétel"
                                },
                                {
                                    "login": "zsuzsanna",
                                    "szall_mod": "NULL"
                                },
                                {
                                    "login": "ZSUZSAV",
                                    "szall_mod": "GLS"
                                },
                                {
                                    "login": "ZSUZSAV",
                                    "szall_mod": "Posta"
                                },
                                {
                                    "login": "ZSUZSAV",
                                    "szall_mod": "Személyes átvétel"
                                },
                                {
                                    "login": "ZSUZSAV",
                                    "szall_mod": "NULL"
                                },
                                {
                                    "login": "NULL",
                                    "szall_mod": "NULL"
                                }
                            ]
                        },
                        "text/html": "<table><tr><th>login</th><th>szall_mod</th></tr><tr><td>adam1</td><td>GLS</td></tr><tr><td>adam1</td><td>Posta</td></tr><tr><td>adam1</td><td>Személyes átvétel</td></tr><tr><td>adam1</td><td>NULL</td></tr><tr><td>adam3</td><td>GLS</td></tr><tr><td>adam3</td><td>Posta</td></tr><tr><td>adam3</td><td>Személyes átvétel</td></tr><tr><td>adam3</td><td>NULL</td></tr><tr><td>adam4</td><td>GLS</td></tr><tr><td>adam4</td><td>Posta</td></tr><tr><td>adam4</td><td>Személyes átvétel</td></tr><tr><td>adam4</td><td>NULL</td></tr><tr><td>agnes</td><td>GLS</td></tr><tr><td>agnes</td><td>Posta</td></tr><tr><td>agnes</td><td>Személyes átvétel</td></tr><tr><td>agnes</td><td>NULL</td></tr><tr><td>agnes3</td><td>GLS</td></tr><tr><td>agnes3</td><td>Posta</td></tr><tr><td>agnes3</td><td>Személyes átvétel</td></tr><tr><td>agnes3</td><td>NULL</td></tr><tr><td>AGNESH</td><td>GLS</td></tr><tr><td>AGNESH</td><td>Posta</td></tr><tr><td>AGNESH</td><td>Személyes átvétel</td></tr><tr><td>AGNESH</td><td>NULL</td></tr><tr><td>AGNESK</td><td>GLS</td></tr><tr><td>AGNESK</td><td>Posta</td></tr><tr><td>AGNESK</td><td>Személyes átvétel</td></tr><tr><td>AGNESK</td><td>NULL</td></tr><tr><td>akos</td><td>GLS</td></tr><tr><td>akos</td><td>Posta</td></tr><tr><td>akos</td><td>Személyes átvétel</td></tr><tr><td>akos</td><td>NULL</td></tr><tr><td>aladar</td><td>GLS</td></tr><tr><td>aladar</td><td>Posta</td></tr><tr><td>aladar</td><td>Személyes átvétel</td></tr><tr><td>aladar</td><td>NULL</td></tr><tr><td>alexandra</td><td>GLS</td></tr><tr><td>alexandra</td><td>Posta</td></tr><tr><td>alexandra</td><td>Személyes átvétel</td></tr><tr><td>alexandra</td><td>NULL</td></tr><tr><td>andi</td><td>GLS</td></tr><tr><td>andi</td><td>Posta</td></tr><tr><td>andi</td><td>Személyes átvétel</td></tr><tr><td>andi</td><td>NULL</td></tr><tr><td>andras2</td><td>GLS</td></tr><tr><td>andras2</td><td>Posta</td></tr><tr><td>andras2</td><td>Személyes átvétel</td></tr><tr><td>andras2</td><td>NULL</td></tr><tr><td>andras21</td><td>GLS</td></tr><tr><td>andras21</td><td>Posta</td></tr><tr><td>andras21</td><td>Személyes átvétel</td></tr><tr><td>andras21</td><td>NULL</td></tr><tr><td>andras3</td><td>GLS</td></tr><tr><td>andras3</td><td>Posta</td></tr><tr><td>andras3</td><td>Személyes átvétel</td></tr><tr><td>andras3</td><td>NULL</td></tr><tr><td>andras4</td><td>GLS</td></tr><tr><td>andras4</td><td>Posta</td></tr><tr><td>andras4</td><td>Személyes átvétel</td></tr><tr><td>andras4</td><td>NULL</td></tr><tr><td>andras41</td><td>GLS</td></tr><tr><td>andras41</td><td>Posta</td></tr><tr><td>andras41</td><td>Személyes átvétel</td></tr><tr><td>andras41</td><td>NULL</td></tr><tr><td>ANDRASE</td><td>GLS</td></tr><tr><td>ANDRASE</td><td>Posta</td></tr><tr><td>ANDRASE</td><td>Személyes átvétel</td></tr><tr><td>ANDRASE</td><td>NULL</td></tr><tr><td>ANDRASN</td><td>GLS</td></tr><tr><td>ANDRASN</td><td>Posta</td></tr><tr><td>ANDRASN</td><td>Személyes átvétel</td></tr><tr><td>ANDRASN</td><td>NULL</td></tr><tr><td>andrea</td><td>GLS</td></tr><tr><td>andrea</td><td>Posta</td></tr><tr><td>andrea</td><td>Személyes átvétel</td></tr><tr><td>andrea</td><td>NULL</td></tr><tr><td>andrea3</td><td>GLS</td></tr><tr><td>andrea3</td><td>Posta</td></tr><tr><td>andrea3</td><td>Személyes átvétel</td></tr><tr><td>andrea3</td><td>NULL</td></tr><tr><td>andrea4</td><td>GLS</td></tr><tr><td>andrea4</td><td>Posta</td></tr><tr><td>andrea4</td><td>Személyes átvétel</td></tr><tr><td>andrea4</td><td>NULL</td></tr><tr><td>ANDREAT</td><td>GLS</td></tr><tr><td>ANDREAT</td><td>Posta</td></tr><tr><td>ANDREAT</td><td>Személyes átvétel</td></tr><tr><td>ANDREAT</td><td>NULL</td></tr><tr><td>anett3</td><td>GLS</td></tr><tr><td>anett3</td><td>Posta</td></tr><tr><td>anett3</td><td>Személyes átvétel</td></tr><tr><td>anett3</td><td>NULL</td></tr><tr><td>aniko</td><td>GLS</td></tr><tr><td>aniko</td><td>Posta</td></tr><tr><td>aniko</td><td>Személyes átvétel</td></tr><tr><td>aniko</td><td>NULL</td></tr><tr><td>aniko4</td><td>GLS</td></tr><tr><td>aniko4</td><td>Posta</td></tr><tr><td>aniko4</td><td>Személyes átvétel</td></tr><tr><td>aniko4</td><td>NULL</td></tr><tr><td>ANIKOS</td><td>GLS</td></tr><tr><td>ANIKOS</td><td>Posta</td></tr><tr><td>ANIKOS</td><td>Személyes átvétel</td></tr><tr><td>ANIKOS</td><td>NULL</td></tr><tr><td>anita</td><td>GLS</td></tr><tr><td>anita</td><td>Posta</td></tr><tr><td>anita</td><td>Személyes átvétel</td></tr><tr><td>anita</td><td>NULL</td></tr><tr><td>annamaria1</td><td>GLS</td></tr><tr><td>annamaria1</td><td>Posta</td></tr><tr><td>annamaria1</td><td>Személyes átvétel</td></tr><tr><td>annamaria1</td><td>NULL</td></tr><tr><td>ANNAMARIAR</td><td>GLS</td></tr><tr><td>ANNAMARIAR</td><td>Posta</td></tr><tr><td>ANNAMARIAR</td><td>Személyes átvétel</td></tr><tr><td>ANNAMARIAR</td><td>NULL</td></tr><tr><td>aron2</td><td>GLS</td></tr><tr><td>aron2</td><td>Posta</td></tr><tr><td>aron2</td><td>Személyes átvétel</td></tr><tr><td>aron2</td><td>NULL</td></tr><tr><td>ARONK</td><td>GLS</td></tr><tr><td>ARONK</td><td>Posta</td></tr><tr><td>ARONK</td><td>Személyes átvétel</td></tr><tr><td>ARONK</td><td>NULL</td></tr><tr><td>arpad2</td><td>GLS</td></tr><tr><td>arpad2</td><td>Posta</td></tr><tr><td>arpad2</td><td>Személyes átvétel</td></tr><tr><td>arpad2</td><td>NULL</td></tr><tr><td>ARPADH</td><td>GLS</td></tr><tr><td>ARPADH</td><td>Posta</td></tr><tr><td>ARPADH</td><td>Személyes átvétel</td></tr><tr><td>ARPADH</td><td>NULL</td></tr><tr><td>ARPADM</td><td>GLS</td></tr><tr><td>ARPADM</td><td>Posta</td></tr><tr><td>ARPADM</td><td>Személyes átvétel</td></tr><tr><td>ARPADM</td><td>NULL</td></tr><tr><td>attila1</td><td>GLS</td></tr><tr><td>attila1</td><td>Posta</td></tr><tr><td>attila1</td><td>Személyes átvétel</td></tr><tr><td>attila1</td><td>NULL</td></tr><tr><td>attila4</td><td>GLS</td></tr><tr><td>attila4</td><td>Posta</td></tr><tr><td>attila4</td><td>Személyes átvétel</td></tr><tr><td>attila4</td><td>NULL</td></tr><tr><td>ATTILAO</td><td>GLS</td></tr><tr><td>ATTILAO</td><td>Posta</td></tr><tr><td>ATTILAO</td><td>Személyes átvétel</td></tr><tr><td>ATTILAO</td><td>NULL</td></tr><tr><td>balazs1</td><td>GLS</td></tr><tr><td>balazs1</td><td>Posta</td></tr><tr><td>balazs1</td><td>Személyes átvétel</td></tr><tr><td>balazs1</td><td>NULL</td></tr><tr><td>balazs2</td><td>GLS</td></tr><tr><td>balazs2</td><td>Posta</td></tr><tr><td>balazs2</td><td>Személyes átvétel</td></tr><tr><td>balazs2</td><td>NULL</td></tr><tr><td>balazs3</td><td>GLS</td></tr><tr><td>balazs3</td><td>Posta</td></tr><tr><td>balazs3</td><td>Személyes átvétel</td></tr><tr><td>balazs3</td><td>NULL</td></tr><tr><td>balint</td><td>GLS</td></tr><tr><td>balint</td><td>Posta</td></tr><tr><td>balint</td><td>Személyes átvétel</td></tr><tr><td>balint</td><td>NULL</td></tr><tr><td>balint1</td><td>GLS</td></tr><tr><td>balint1</td><td>Posta</td></tr><tr><td>balint1</td><td>Személyes átvétel</td></tr><tr><td>balint1</td><td>NULL</td></tr><tr><td>balint2</td><td>GLS</td></tr><tr><td>balint2</td><td>Posta</td></tr><tr><td>balint2</td><td>Személyes átvétel</td></tr><tr><td>balint2</td><td>NULL</td></tr><tr><td>balu</td><td>GLS</td></tr><tr><td>balu</td><td>Posta</td></tr><tr><td>balu</td><td>Személyes átvétel</td></tr><tr><td>balu</td><td>NULL</td></tr><tr><td>BEATRIXK</td><td>GLS</td></tr><tr><td>BEATRIXK</td><td>Posta</td></tr><tr><td>BEATRIXK</td><td>Személyes átvétel</td></tr><tr><td>BEATRIXK</td><td>NULL</td></tr><tr><td>BEATRIXS</td><td>GLS</td></tr><tr><td>BEATRIXS</td><td>Posta</td></tr><tr><td>BEATRIXS</td><td>Személyes átvétel</td></tr><tr><td>BEATRIXS</td><td>NULL</td></tr><tr><td>BELAF</td><td>GLS</td></tr><tr><td>BELAF</td><td>Posta</td></tr><tr><td>BELAF</td><td>Személyes átvétel</td></tr><tr><td>BELAF</td><td>NULL</td></tr><tr><td>bence</td><td>GLS</td></tr><tr><td>bence</td><td>Posta</td></tr><tr><td>bence</td><td>Személyes átvétel</td></tr><tr><td>bence</td><td>NULL</td></tr><tr><td>BENCEB</td><td>GLS</td></tr><tr><td>BENCEB</td><td>Posta</td></tr><tr><td>BENCEB</td><td>Személyes átvétel</td></tr><tr><td>BENCEB</td><td>NULL</td></tr><tr><td>bernadett1</td><td>GLS</td></tr><tr><td>bernadett1</td><td>Posta</td></tr><tr><td>bernadett1</td><td>Személyes átvétel</td></tr><tr><td>bernadett1</td><td>NULL</td></tr><tr><td>bernadett2</td><td>GLS</td></tr><tr><td>bernadett2</td><td>Posta</td></tr><tr><td>bernadett2</td><td>Személyes átvétel</td></tr><tr><td>bernadett2</td><td>NULL</td></tr><tr><td>BERNADETTO</td><td>GLS</td></tr><tr><td>BERNADETTO</td><td>Posta</td></tr><tr><td>BERNADETTO</td><td>Személyes átvétel</td></tr><tr><td>BERNADETTO</td><td>NULL</td></tr><tr><td>bertalan</td><td>GLS</td></tr><tr><td>bertalan</td><td>Posta</td></tr><tr><td>bertalan</td><td>Személyes átvétel</td></tr><tr><td>bertalan</td><td>NULL</td></tr><tr><td>brigitta</td><td>GLS</td></tr><tr><td>brigitta</td><td>Posta</td></tr><tr><td>brigitta</td><td>Személyes átvétel</td></tr><tr><td>brigitta</td><td>NULL</td></tr><tr><td>brigitta3</td><td>GLS</td></tr><tr><td>brigitta3</td><td>Posta</td></tr><tr><td>brigitta3</td><td>Személyes átvétel</td></tr><tr><td>brigitta3</td><td>NULL</td></tr><tr><td>csongor3</td><td>GLS</td></tr><tr><td>csongor3</td><td>Posta</td></tr><tr><td>csongor3</td><td>Személyes átvétel</td></tr><tr><td>csongor3</td><td>NULL</td></tr><tr><td>dani</td><td>GLS</td></tr><tr><td>dani</td><td>Személyes átvétel</td></tr><tr><td>dani</td><td>NULL</td></tr><tr><td>daniel</td><td>GLS</td></tr><tr><td>daniel</td><td>Posta</td></tr><tr><td>daniel</td><td>Személyes átvétel</td></tr><tr><td>daniel</td><td>NULL</td></tr><tr><td>daniel1</td><td>GLS</td></tr><tr><td>daniel1</td><td>Posta</td></tr><tr><td>daniel1</td><td>Személyes átvétel</td></tr><tr><td>daniel1</td><td>NULL</td></tr><tr><td>david</td><td>GLS</td></tr><tr><td>david</td><td>Posta</td></tr><tr><td>david</td><td>Személyes átvétel</td></tr><tr><td>david</td><td>NULL</td></tr><tr><td>david1</td><td>GLS</td></tr><tr><td>david1</td><td>Posta</td></tr><tr><td>david1</td><td>Személyes átvétel</td></tr><tr><td>david1</td><td>NULL</td></tr><tr><td>david4</td><td>GLS</td></tr><tr><td>david4</td><td>Posta</td></tr><tr><td>david4</td><td>Személyes átvétel</td></tr><tr><td>david4</td><td>NULL</td></tr><tr><td>debora</td><td>GLS</td></tr><tr><td>debora</td><td>Posta</td></tr><tr><td>debora</td><td>Személyes átvétel</td></tr><tr><td>debora</td><td>NULL</td></tr><tr><td>denes</td><td>GLS</td></tr><tr><td>denes</td><td>Posta</td></tr><tr><td>denes</td><td>Személyes átvétel</td></tr><tr><td>denes</td><td>NULL</td></tr><tr><td>dora3</td><td>GLS</td></tr><tr><td>dora3</td><td>Posta</td></tr><tr><td>dora3</td><td>Személyes átvétel</td></tr><tr><td>dora3</td><td>NULL</td></tr><tr><td>edit</td><td>GLS</td></tr><tr><td>edit</td><td>Posta</td></tr><tr><td>edit</td><td>Személyes átvétel</td></tr><tr><td>edit</td><td>NULL</td></tr><tr><td>emese</td><td>GLS</td></tr><tr><td>emese</td><td>Posta</td></tr><tr><td>emese</td><td>Személyes átvétel</td></tr><tr><td>emese</td><td>NULL</td></tr><tr><td>eszter2</td><td>GLS</td></tr><tr><td>eszter2</td><td>Posta</td></tr><tr><td>eszter2</td><td>Személyes átvétel</td></tr><tr><td>eszter2</td><td>NULL</td></tr><tr><td>eszter4</td><td>GLS</td></tr><tr><td>eszter4</td><td>Posta</td></tr><tr><td>eszter4</td><td>Személyes átvétel</td></tr><tr><td>eszter4</td><td>NULL</td></tr><tr><td>ESZTERE</td><td>GLS</td></tr><tr><td>ESZTERE</td><td>Posta</td></tr><tr><td>ESZTERE</td><td>Személyes átvétel</td></tr><tr><td>ESZTERE</td><td>NULL</td></tr><tr><td>eva</td><td>GLS</td></tr><tr><td>eva</td><td>Posta</td></tr><tr><td>eva</td><td>Személyes átvétel</td></tr><tr><td>eva</td><td>NULL</td></tr><tr><td>eva2</td><td>GLS</td></tr><tr><td>eva2</td><td>Posta</td></tr><tr><td>eva2</td><td>Személyes átvétel</td></tr><tr><td>eva2</td><td>NULL</td></tr><tr><td>EVAV</td><td>GLS</td></tr><tr><td>EVAV</td><td>Posta</td></tr><tr><td>EVAV</td><td>Személyes átvétel</td></tr><tr><td>EVAV</td><td>NULL</td></tr><tr><td>ferenc1</td><td>GLS</td></tr><tr><td>ferenc1</td><td>Posta</td></tr><tr><td>ferenc1</td><td>Személyes átvétel</td></tr><tr><td>ferenc1</td><td>NULL</td></tr><tr><td>fruzsina4</td><td>GLS</td></tr><tr><td>fruzsina4</td><td>Posta</td></tr><tr><td>fruzsina4</td><td>Személyes átvétel</td></tr><tr><td>fruzsina4</td><td>NULL</td></tr><tr><td>gabor1</td><td>GLS</td></tr><tr><td>gabor1</td><td>Posta</td></tr><tr><td>gabor1</td><td>Személyes átvétel</td></tr><tr><td>gabor1</td><td>NULL</td></tr><tr><td>gabor4</td><td>GLS</td></tr><tr><td>gabor4</td><td>Posta</td></tr><tr><td>gabor4</td><td>Személyes átvétel</td></tr><tr><td>gabor4</td><td>NULL</td></tr><tr><td>GABORS</td><td>GLS</td></tr><tr><td>GABORS</td><td>Posta</td></tr><tr><td>GABORS</td><td>Személyes átvétel</td></tr><tr><td>GABORS</td><td>NULL</td></tr><tr><td>gabriella1</td><td>GLS</td></tr><tr><td>gabriella1</td><td>Posta</td></tr><tr><td>gabriella1</td><td>Személyes átvétel</td></tr><tr><td>gabriella1</td><td>NULL</td></tr><tr><td>gabriella10</td><td>GLS</td></tr><tr><td>gabriella10</td><td>Posta</td></tr><tr><td>gabriella10</td><td>Személyes átvétel</td></tr><tr><td>gabriella10</td><td>NULL</td></tr><tr><td>georgij</td><td>GLS</td></tr><tr><td>georgij</td><td>Posta</td></tr><tr><td>georgij</td><td>Személyes átvétel</td></tr><tr><td>georgij</td><td>NULL</td></tr><tr><td>gusztav</td><td>GLS</td></tr><tr><td>gusztav</td><td>Posta</td></tr><tr><td>gusztav</td><td>Személyes átvétel</td></tr><tr><td>gusztav</td><td>NULL</td></tr><tr><td>GYONGYIK</td><td>GLS</td></tr><tr><td>GYONGYIK</td><td>Posta</td></tr><tr><td>GYONGYIK</td><td>Személyes átvétel</td></tr><tr><td>GYONGYIK</td><td>NULL</td></tr><tr><td>GYORGYO</td><td>GLS</td></tr><tr><td>GYORGYO</td><td>Posta</td></tr><tr><td>GYORGYO</td><td>Személyes átvétel</td></tr><tr><td>GYORGYO</td><td>NULL</td></tr><tr><td>henrik3</td><td>GLS</td></tr><tr><td>henrik3</td><td>Posta</td></tr><tr><td>henrik3</td><td>Személyes átvétel</td></tr><tr><td>henrik3</td><td>NULL</td></tr><tr><td>IBOLYAA</td><td>GLS</td></tr><tr><td>IBOLYAA</td><td>Posta</td></tr><tr><td>IBOLYAA</td><td>Személyes átvétel</td></tr><tr><td>IBOLYAA</td><td>NULL</td></tr><tr><td>ilona3</td><td>GLS</td></tr><tr><td>ilona3</td><td>Posta</td></tr><tr><td>ilona3</td><td>Személyes átvétel</td></tr><tr><td>ilona3</td><td>NULL</td></tr><tr><td>imre</td><td>GLS</td></tr><tr><td>imre</td><td>Posta</td></tr><tr><td>imre</td><td>Személyes átvétel</td></tr><tr><td>imre</td><td>NULL</td></tr><tr><td>imre1</td><td>GLS</td></tr><tr><td>imre1</td><td>Posta</td></tr><tr><td>imre1</td><td>Személyes átvétel</td></tr><tr><td>imre1</td><td>NULL</td></tr><tr><td>istvan</td><td>GLS</td></tr><tr><td>istvan</td><td>Posta</td></tr><tr><td>istvan</td><td>Személyes átvétel</td></tr><tr><td>istvan</td><td>NULL</td></tr><tr><td>istvan1</td><td>GLS</td></tr><tr><td>istvan1</td><td>Posta</td></tr><tr><td>istvan1</td><td>Személyes átvétel</td></tr><tr><td>istvan1</td><td>NULL</td></tr><tr><td>ISTVANV</td><td>GLS</td></tr><tr><td>ISTVANV</td><td>Posta</td></tr><tr><td>ISTVANV</td><td>Személyes átvétel</td></tr><tr><td>ISTVANV</td><td>NULL</td></tr><tr><td>janos3</td><td>GLS</td></tr><tr><td>janos3</td><td>Posta</td></tr><tr><td>janos3</td><td>Személyes átvétel</td></tr><tr><td>janos3</td><td>NULL</td></tr><tr><td>JANOSG</td><td>GLS</td></tr><tr><td>JANOSG</td><td>Posta</td></tr><tr><td>JANOSG</td><td>Személyes átvétel</td></tr><tr><td>JANOSG</td><td>NULL</td></tr><tr><td>JANOSP</td><td>GLS</td></tr><tr><td>JANOSP</td><td>Posta</td></tr><tr><td>JANOSP</td><td>Személyes átvétel</td></tr><tr><td>JANOSP</td><td>NULL</td></tr><tr><td>jozsef</td><td>GLS</td></tr><tr><td>jozsef</td><td>Posta</td></tr><tr><td>jozsef</td><td>Személyes átvétel</td></tr><tr><td>jozsef</td><td>NULL</td></tr><tr><td>jozsef2</td><td>GLS</td></tr><tr><td>jozsef2</td><td>Posta</td></tr><tr><td>jozsef2</td><td>Személyes átvétel</td></tr><tr><td>jozsef2</td><td>NULL</td></tr><tr><td>JOZSEFG</td><td>GLS</td></tr><tr><td>JOZSEFG</td><td>Posta</td></tr><tr><td>JOZSEFG</td><td>Személyes átvétel</td></tr><tr><td>JOZSEFG</td><td>NULL</td></tr><tr><td>JUDITH</td><td>GLS</td></tr><tr><td>JUDITH</td><td>Posta</td></tr><tr><td>JUDITH</td><td>Személyes átvétel</td></tr><tr><td>JUDITH</td><td>NULL</td></tr><tr><td>julia</td><td>GLS</td></tr><tr><td>julia</td><td>Posta</td></tr><tr><td>julia</td><td>Személyes átvétel</td></tr><tr><td>julia</td><td>NULL</td></tr><tr><td>julia4</td><td>GLS</td></tr><tr><td>julia4</td><td>Posta</td></tr><tr><td>julia4</td><td>Személyes átvétel</td></tr><tr><td>julia4</td><td>NULL</td></tr><tr><td>julianna4</td><td>GLS</td></tr><tr><td>julianna4</td><td>Posta</td></tr><tr><td>julianna4</td><td>Személyes átvétel</td></tr><tr><td>julianna4</td><td>NULL</td></tr><tr><td>kata</td><td>GLS</td></tr><tr><td>kata</td><td>Posta</td></tr><tr><td>kata</td><td>Személyes átvétel</td></tr><tr><td>kata</td><td>NULL</td></tr><tr><td>katalin</td><td>GLS</td></tr><tr><td>katalin</td><td>Posta</td></tr><tr><td>katalin</td><td>Személyes átvétel</td></tr><tr><td>katalin</td><td>NULL</td></tr><tr><td>katalin4</td><td>GLS</td></tr><tr><td>katalin4</td><td>Posta</td></tr><tr><td>katalin4</td><td>Személyes átvétel</td></tr><tr><td>katalin4</td><td>NULL</td></tr><tr><td>kati</td><td>GLS</td></tr><tr><td>kati</td><td>Posta</td></tr><tr><td>kati</td><td>Személyes átvétel</td></tr><tr><td>kati</td><td>NULL</td></tr><tr><td>katka</td><td>GLS</td></tr><tr><td>katka</td><td>Posta</td></tr><tr><td>katka</td><td>Személyes átvétel</td></tr><tr><td>katka</td><td>NULL</td></tr><tr><td>klaudia2</td><td>GLS</td></tr><tr><td>klaudia2</td><td>Posta</td></tr><tr><td>klaudia2</td><td>Személyes átvétel</td></tr><tr><td>klaudia2</td><td>NULL</td></tr><tr><td>kornel4</td><td>GLS</td></tr><tr><td>kornel4</td><td>Posta</td></tr><tr><td>kornel4</td><td>Személyes átvétel</td></tr><tr><td>kornel4</td><td>NULL</td></tr><tr><td>kristof4</td><td>GLS</td></tr><tr><td>kristof4</td><td>Posta</td></tr><tr><td>kristof4</td><td>Személyes átvétel</td></tr><tr><td>kristof4</td><td>NULL</td></tr><tr><td>kriszti</td><td>GLS</td></tr><tr><td>kriszti</td><td>Posta</td></tr><tr><td>kriszti</td><td>Személyes átvétel</td></tr><tr><td>kriszti</td><td>NULL</td></tr><tr><td>krisztian4</td><td>GLS</td></tr><tr><td>krisztian4</td><td>Posta</td></tr><tr><td>krisztian4</td><td>Személyes átvétel</td></tr><tr><td>krisztian4</td><td>NULL</td></tr><tr><td>KRISZTIANM</td><td>GLS</td></tr><tr><td>KRISZTIANM</td><td>Posta</td></tr><tr><td>KRISZTIANM</td><td>Személyes átvétel</td></tr><tr><td>KRISZTIANM</td><td>NULL</td></tr><tr><td>krisztina</td><td>GLS</td></tr><tr><td>krisztina</td><td>Posta</td></tr><tr><td>krisztina</td><td>Személyes átvétel</td></tr><tr><td>krisztina</td><td>NULL</td></tr><tr><td>krisztina1</td><td>GLS</td></tr><tr><td>krisztina1</td><td>Posta</td></tr><tr><td>krisztina1</td><td>Személyes átvétel</td></tr><tr><td>krisztina1</td><td>NULL</td></tr><tr><td>KRISZTINAG</td><td>GLS</td></tr><tr><td>KRISZTINAG</td><td>Posta</td></tr><tr><td>KRISZTINAG</td><td>Személyes átvétel</td></tr><tr><td>KRISZTINAG</td><td>NULL</td></tr><tr><td>lajos</td><td>GLS</td></tr><tr><td>lajos</td><td>Posta</td></tr><tr><td>lajos</td><td>Személyes átvétel</td></tr><tr><td>lajos</td><td>NULL</td></tr><tr><td>lala</td><td>GLS</td></tr><tr><td>lala</td><td>Posta</td></tr><tr><td>lala</td><td>Személyes átvétel</td></tr><tr><td>lala</td><td>NULL</td></tr><tr><td>laszlo1</td><td>GLS</td></tr><tr><td>laszlo1</td><td>Posta</td></tr><tr><td>laszlo1</td><td>Személyes átvétel</td></tr><tr><td>laszlo1</td><td>NULL</td></tr><tr><td>laszlo2</td><td>GLS</td></tr><tr><td>laszlo2</td><td>Posta</td></tr><tr><td>laszlo2</td><td>Személyes átvétel</td></tr><tr><td>laszlo2</td><td>NULL</td></tr><tr><td>LASZLOA</td><td>GLS</td></tr><tr><td>LASZLOA</td><td>Posta</td></tr><tr><td>LASZLOA</td><td>Személyes átvétel</td></tr><tr><td>LASZLOA</td><td>NULL</td></tr><tr><td>LASZLON</td><td>GLS</td></tr><tr><td>LASZLON</td><td>Posta</td></tr><tr><td>LASZLON</td><td>Személyes átvétel</td></tr><tr><td>LASZLON</td><td>NULL</td></tr><tr><td>maria1</td><td>GLS</td></tr><tr><td>maria1</td><td>Posta</td></tr><tr><td>maria1</td><td>Személyes átvétel</td></tr><tr><td>maria1</td><td>NULL</td></tr><tr><td>MARKH</td><td>GLS</td></tr><tr><td>MARKH</td><td>Posta</td></tr><tr><td>MARKH</td><td>Személyes átvétel</td></tr><tr><td>MARKH</td><td>NULL</td></tr><tr><td>marton</td><td>GLS</td></tr><tr><td>marton</td><td>Posta</td></tr><tr><td>marton</td><td>Személyes átvétel</td></tr><tr><td>marton</td><td>NULL</td></tr><tr><td>MATEK</td><td>GLS</td></tr><tr><td>MATEK</td><td>Posta</td></tr><tr><td>MATEK</td><td>Személyes átvétel</td></tr><tr><td>MATEK</td><td>NULL</td></tr><tr><td>matyas2</td><td>GLS</td></tr><tr><td>matyas2</td><td>Posta</td></tr><tr><td>matyas2</td><td>Személyes átvétel</td></tr><tr><td>matyas2</td><td>NULL</td></tr><tr><td>MATYASS</td><td>GLS</td></tr><tr><td>MATYASS</td><td>Posta</td></tr><tr><td>MATYASS</td><td>Személyes átvétel</td></tr><tr><td>MATYASS</td><td>NULL</td></tr><tr><td>MIHALYJ</td><td>GLS</td></tr><tr><td>MIHALYJ</td><td>Posta</td></tr><tr><td>MIHALYJ</td><td>Személyes átvétel</td></tr><tr><td>MIHALYJ</td><td>NULL</td></tr><tr><td>miklos2</td><td>GLS</td></tr><tr><td>miklos2</td><td>Posta</td></tr><tr><td>miklos2</td><td>Személyes átvétel</td></tr><tr><td>miklos2</td><td>NULL</td></tr><tr><td>MIKLOSB</td><td>GLS</td></tr><tr><td>MIKLOSB</td><td>Posta</td></tr><tr><td>MIKLOSB</td><td>Személyes átvétel</td></tr><tr><td>MIKLOSB</td><td>NULL</td></tr><tr><td>MONIKAM</td><td>GLS</td></tr><tr><td>MONIKAM</td><td>Posta</td></tr><tr><td>MONIKAM</td><td>Személyes átvétel</td></tr><tr><td>MONIKAM</td><td>NULL</td></tr><tr><td>NANDORF</td><td>GLS</td></tr><tr><td>NANDORF</td><td>Posta</td></tr><tr><td>NANDORF</td><td>Személyes átvétel</td></tr><tr><td>NANDORF</td><td>NULL</td></tr><tr><td>nikolett3</td><td>GLS</td></tr><tr><td>nikolett3</td><td>Posta</td></tr><tr><td>nikolett3</td><td>Személyes átvétel</td></tr><tr><td>nikolett3</td><td>NULL</td></tr><tr><td>nikoletta4</td><td>GLS</td></tr><tr><td>nikoletta4</td><td>Posta</td></tr><tr><td>nikoletta4</td><td>Személyes átvétel</td></tr><tr><td>nikoletta4</td><td>NULL</td></tr><tr><td>NIKOLETTAT</td><td>GLS</td></tr><tr><td>NIKOLETTAT</td><td>Posta</td></tr><tr><td>NIKOLETTAT</td><td>Személyes átvétel</td></tr><tr><td>NIKOLETTAT</td><td>NULL</td></tr><tr><td>norbert2</td><td>GLS</td></tr><tr><td>norbert2</td><td>Posta</td></tr><tr><td>norbert2</td><td>NULL</td></tr><tr><td>norbert4</td><td>GLS</td></tr><tr><td>norbert4</td><td>Posta</td></tr><tr><td>norbert4</td><td>Személyes átvétel</td></tr><tr><td>norbert4</td><td>NULL</td></tr><tr><td>norbert5</td><td>GLS</td></tr><tr><td>norbert5</td><td>Posta</td></tr><tr><td>norbert5</td><td>Személyes átvétel</td></tr><tr><td>norbert5</td><td>NULL</td></tr><tr><td>pal</td><td>GLS</td></tr><tr><td>pal</td><td>Posta</td></tr><tr><td>pal</td><td>Személyes átvétel</td></tr><tr><td>pal</td><td>NULL</td></tr><tr><td>peter1</td><td>GLS</td></tr><tr><td>peter1</td><td>Posta</td></tr><tr><td>peter1</td><td>Személyes átvétel</td></tr><tr><td>peter1</td><td>NULL</td></tr><tr><td>peter2</td><td>GLS</td></tr><tr><td>peter2</td><td>Posta</td></tr><tr><td>peter2</td><td>Személyes átvétel</td></tr><tr><td>peter2</td><td>NULL</td></tr><tr><td>peter3</td><td>GLS</td></tr><tr><td>peter3</td><td>Posta</td></tr><tr><td>peter3</td><td>Személyes átvétel</td></tr><tr><td>peter3</td><td>NULL</td></tr><tr><td>peter4</td><td>GLS</td></tr><tr><td>peter4</td><td>Posta</td></tr><tr><td>peter4</td><td>Személyes átvétel</td></tr><tr><td>peter4</td><td>NULL</td></tr><tr><td>PETERB</td><td>GLS</td></tr><tr><td>PETERB</td><td>Posta</td></tr><tr><td>PETERB</td><td>Személyes átvétel</td></tr><tr><td>PETERB</td><td>NULL</td></tr><tr><td>polla</td><td>GLS</td></tr><tr><td>polla</td><td>Posta</td></tr><tr><td>polla</td><td>Személyes átvétel</td></tr><tr><td>polla</td><td>NULL</td></tr><tr><td>rajmond4</td><td>GLS</td></tr><tr><td>rajmond4</td><td>Posta</td></tr><tr><td>rajmond4</td><td>Személyes átvétel</td></tr><tr><td>rajmond4</td><td>NULL</td></tr><tr><td>reka4</td><td>GLS</td></tr><tr><td>reka4</td><td>Posta</td></tr><tr><td>reka4</td><td>Személyes átvétel</td></tr><tr><td>reka4</td><td>NULL</td></tr><tr><td>RENATAK</td><td>GLS</td></tr><tr><td>RENATAK</td><td>Posta</td></tr><tr><td>RENATAK</td><td>Személyes átvétel</td></tr><tr><td>RENATAK</td><td>NULL</td></tr><tr><td>RENATAS</td><td>GLS</td></tr><tr><td>RENATAS</td><td>Posta</td></tr><tr><td>RENATAS</td><td>Személyes átvétel</td></tr><tr><td>RENATAS</td><td>NULL</td></tr><tr><td>robert2</td><td>GLS</td></tr><tr><td>robert2</td><td>Posta</td></tr><tr><td>robert2</td><td>Személyes átvétel</td></tr><tr><td>robert2</td><td>NULL</td></tr><tr><td>ROBERTI</td><td>GLS</td></tr><tr><td>ROBERTI</td><td>Posta</td></tr><tr><td>ROBERTI</td><td>Személyes átvétel</td></tr><tr><td>ROBERTI</td><td>NULL</td></tr><tr><td>ROBERTP</td><td>GLS</td></tr><tr><td>ROBERTP</td><td>Posta</td></tr><tr><td>ROBERTP</td><td>Személyes átvétel</td></tr><tr><td>ROBERTP</td><td>NULL</td></tr><tr><td>roland</td><td>GLS</td></tr><tr><td>roland</td><td>Posta</td></tr><tr><td>roland</td><td>Személyes átvétel</td></tr><tr><td>roland</td><td>NULL</td></tr><tr><td>roland1</td><td>GLS</td></tr><tr><td>roland1</td><td>Posta</td></tr><tr><td>roland1</td><td>Személyes átvétel</td></tr><tr><td>roland1</td><td>NULL</td></tr><tr><td>roza2</td><td>GLS</td></tr><tr><td>roza2</td><td>Posta</td></tr><tr><td>roza2</td><td>Személyes átvétel</td></tr><tr><td>roza2</td><td>NULL</td></tr><tr><td>sandor</td><td>GLS</td></tr><tr><td>sandor</td><td>Posta</td></tr><tr><td>sandor</td><td>Személyes átvétel</td></tr><tr><td>sandor</td><td>NULL</td></tr><tr><td>sandor3</td><td>GLS</td></tr><tr><td>sandor3</td><td>Posta</td></tr><tr><td>sandor3</td><td>Személyes átvétel</td></tr><tr><td>sandor3</td><td>NULL</td></tr><tr><td>sandor4</td><td>GLS</td></tr><tr><td>sandor4</td><td>Posta</td></tr><tr><td>sandor4</td><td>Személyes átvétel</td></tr><tr><td>sandor4</td><td>NULL</td></tr><tr><td>sara</td><td>GLS</td></tr><tr><td>sara</td><td>Posta</td></tr><tr><td>sara</td><td>Személyes átvétel</td></tr><tr><td>sara</td><td>NULL</td></tr><tr><td>SEBASTIANF</td><td>GLS</td></tr><tr><td>SEBASTIANF</td><td>Posta</td></tr><tr><td>SEBASTIANF</td><td>Személyes átvétel</td></tr><tr><td>SEBASTIANF</td><td>NULL</td></tr><tr><td>sebestyen</td><td>GLS</td></tr><tr><td>sebestyen</td><td>Posta</td></tr><tr><td>sebestyen</td><td>Személyes átvétel</td></tr><tr><td>sebestyen</td><td>NULL</td></tr><tr><td>szabolcs</td><td>GLS</td></tr><tr><td>szabolcs</td><td>Posta</td></tr><tr><td>szabolcs</td><td>Személyes átvétel</td></tr><tr><td>szabolcs</td><td>NULL</td></tr><tr><td>SZABOLCSM</td><td>GLS</td></tr><tr><td>SZABOLCSM</td><td>Posta</td></tr><tr><td>SZABOLCSM</td><td>Személyes átvétel</td></tr><tr><td>SZABOLCSM</td><td>NULL</td></tr><tr><td>SZILARDS</td><td>GLS</td></tr><tr><td>SZILARDS</td><td>Posta</td></tr><tr><td>SZILARDS</td><td>Személyes átvétel</td></tr><tr><td>SZILARDS</td><td>NULL</td></tr><tr><td>szilvia1</td><td>GLS</td></tr><tr><td>szilvia1</td><td>Posta</td></tr><tr><td>szilvia1</td><td>Személyes átvétel</td></tr><tr><td>szilvia1</td><td>NULL</td></tr><tr><td>tamara2</td><td>GLS</td></tr><tr><td>tamara2</td><td>Posta</td></tr><tr><td>tamara2</td><td>Személyes átvétel</td></tr><tr><td>tamara2</td><td>NULL</td></tr><tr><td>tamas</td><td>GLS</td></tr><tr><td>tamas</td><td>Posta</td></tr><tr><td>tamas</td><td>Személyes átvétel</td></tr><tr><td>tamas</td><td>NULL</td></tr><tr><td>TAMASF</td><td>GLS</td></tr><tr><td>TAMASF</td><td>Posta</td></tr><tr><td>TAMASF</td><td>Személyes átvétel</td></tr><tr><td>TAMASF</td><td>NULL</td></tr><tr><td>tibor</td><td>GLS</td></tr><tr><td>tibor</td><td>Posta</td></tr><tr><td>tibor</td><td>Személyes átvétel</td></tr><tr><td>tibor</td><td>NULL</td></tr><tr><td>tibor2</td><td>GLS</td></tr><tr><td>tibor2</td><td>Posta</td></tr><tr><td>tibor2</td><td>Személyes átvétel</td></tr><tr><td>tibor2</td><td>NULL</td></tr><tr><td>tihamer</td><td>GLS</td></tr><tr><td>tihamer</td><td>Posta</td></tr><tr><td>tihamer</td><td>Személyes átvétel</td></tr><tr><td>tihamer</td><td>NULL</td></tr><tr><td>timea</td><td>GLS</td></tr><tr><td>timea</td><td>Posta</td></tr><tr><td>timea</td><td>Személyes átvétel</td></tr><tr><td>timea</td><td>NULL</td></tr><tr><td>timea2</td><td>GLS</td></tr><tr><td>timea2</td><td>Posta</td></tr><tr><td>timea2</td><td>Személyes átvétel</td></tr><tr><td>timea2</td><td>NULL</td></tr><tr><td>tunde</td><td>GLS</td></tr><tr><td>tunde</td><td>Posta</td></tr><tr><td>tunde</td><td>Személyes átvétel</td></tr><tr><td>tunde</td><td>NULL</td></tr><tr><td>valentin</td><td>GLS</td></tr><tr><td>valentin</td><td>Posta</td></tr><tr><td>valentin</td><td>Személyes átvétel</td></tr><tr><td>valentin</td><td>NULL</td></tr><tr><td>veronika4</td><td>GLS</td></tr><tr><td>veronika4</td><td>Posta</td></tr><tr><td>veronika4</td><td>Személyes átvétel</td></tr><tr><td>veronika4</td><td>NULL</td></tr><tr><td>VIKTORIAU</td><td>GLS</td></tr><tr><td>VIKTORIAU</td><td>Posta</td></tr><tr><td>VIKTORIAU</td><td>Személyes átvétel</td></tr><tr><td>VIKTORIAU</td><td>NULL</td></tr><tr><td>VIKTORK</td><td>GLS</td></tr><tr><td>VIKTORK</td><td>Posta</td></tr><tr><td>VIKTORK</td><td>Személyes átvétel</td></tr><tr><td>VIKTORK</td><td>NULL</td></tr><tr><td>vivien3</td><td>GLS</td></tr><tr><td>vivien3</td><td>Posta</td></tr><tr><td>vivien3</td><td>Személyes átvétel</td></tr><tr><td>vivien3</td><td>NULL</td></tr><tr><td>zoltan</td><td>GLS</td></tr><tr><td>zoltan</td><td>Posta</td></tr><tr><td>zoltan</td><td>Személyes átvétel</td></tr><tr><td>zoltan</td><td>NULL</td></tr><tr><td>zoltan4</td><td>GLS</td></tr><tr><td>zoltan4</td><td>Posta</td></tr><tr><td>zoltan4</td><td>Személyes átvétel</td></tr><tr><td>zoltan4</td><td>NULL</td></tr><tr><td>ZOLTANP</td><td>GLS</td></tr><tr><td>ZOLTANP</td><td>Posta</td></tr><tr><td>ZOLTANP</td><td>Személyes átvétel</td></tr><tr><td>ZOLTANP</td><td>NULL</td></tr><tr><td>ZOLTANT</td><td>GLS</td></tr><tr><td>ZOLTANT</td><td>Posta</td></tr><tr><td>ZOLTANT</td><td>Személyes átvétel</td></tr><tr><td>ZOLTANT</td><td>NULL</td></tr><tr><td>zsofi1</td><td>GLS</td></tr><tr><td>zsofi1</td><td>Posta</td></tr><tr><td>zsofi1</td><td>Személyes átvétel</td></tr><tr><td>zsofi1</td><td>NULL</td></tr><tr><td>zsolt1</td><td>GLS</td></tr><tr><td>zsolt1</td><td>Posta</td></tr><tr><td>zsolt1</td><td>Személyes átvétel</td></tr><tr><td>zsolt1</td><td>NULL</td></tr><tr><td>ZSOLTJ</td><td>GLS</td></tr><tr><td>ZSOLTJ</td><td>Posta</td></tr><tr><td>ZSOLTJ</td><td>Személyes átvétel</td></tr><tr><td>ZSOLTJ</td><td>NULL</td></tr><tr><td>zsuzsa</td><td>GLS</td></tr><tr><td>zsuzsa</td><td>Posta</td></tr><tr><td>zsuzsa</td><td>Személyes átvétel</td></tr><tr><td>zsuzsa</td><td>NULL</td></tr><tr><td>zsuzsa3</td><td>GLS</td></tr><tr><td>zsuzsa3</td><td>Posta</td></tr><tr><td>zsuzsa3</td><td>Személyes átvétel</td></tr><tr><td>zsuzsa3</td><td>NULL</td></tr><tr><td>zsuzsanna</td><td>GLS</td></tr><tr><td>zsuzsanna</td><td>Posta</td></tr><tr><td>zsuzsanna</td><td>Személyes átvétel</td></tr><tr><td>zsuzsanna</td><td>NULL</td></tr><tr><td>ZSUZSAV</td><td>GLS</td></tr><tr><td>ZSUZSAV</td><td>Posta</td></tr><tr><td>ZSUZSAV</td><td>Személyes átvétel</td></tr><tr><td>ZSUZSAV</td><td>NULL</td></tr><tr><td>NULL</td><td>NULL</td></tr></table>"
                    },
                    "metadata": {}
                }
            ],
            "execution_count": 7
        },
        {
            "cell_type": "code",
            "source": [
                "SELECT [LOGIN], SZALL_MOD, COUNT(*) AS 'DB'\r\n",
                "FROM Rendeles\r\n",
                "GROUP BY ROLLUP ([LOGIN], SZALL_MOD)"
            ],
            "metadata": {
                "azdata_cell_guid": "6ab9f633-a3b5-48c9-a1dc-4fb8235ae85b",
                "language": "sql",
                "tags": []
            },
            "outputs": [
                {
                    "output_type": "display_data",
                    "data": {
                        "text/html": "(763 rows affected)"
                    },
                    "metadata": {}
                },
                {
                    "output_type": "display_data",
                    "data": {
                        "text/html": "Total execution time: 00:00:00.111"
                    },
                    "metadata": {}
                },
                {
                    "output_type": "execute_result",
                    "execution_count": 2,
                    "data": {
                        "application/vnd.dataresource+json": {
                            "schema": {
                                "fields": [
                                    {
                                        "name": "LOGIN"
                                    },
                                    {
                                        "name": "SZALL_MOD"
                                    },
                                    {
                                        "name": "DB"
                                    }
                                ]
                            },
                            "data": [
                                {
                                    "LOGIN": "adam1",
                                    "SZALL_MOD": "GLS",
                                    "DB": "129"
                                },
                                {
                                    "LOGIN": "adam1",
                                    "SZALL_MOD": "Posta",
                                    "DB": "132"
                                },
                                {
                                    "LOGIN": "adam1",
                                    "SZALL_MOD": "Személyes átvétel",
                                    "DB": "131"
                                },
                                {
                                    "LOGIN": "adam1",
                                    "SZALL_MOD": "NULL",
                                    "DB": "392"
                                },
                                {
                                    "LOGIN": "adam3",
                                    "SZALL_MOD": "GLS",
                                    "DB": "10"
                                },
                                {
                                    "LOGIN": "adam3",
                                    "SZALL_MOD": "Posta",
                                    "DB": "3"
                                },
                                {
                                    "LOGIN": "adam3",
                                    "SZALL_MOD": "Személyes átvétel",
                                    "DB": "2"
                                },
                                {
                                    "LOGIN": "adam3",
                                    "SZALL_MOD": "NULL",
                                    "DB": "15"
                                },
                                {
                                    "LOGIN": "adam4",
                                    "SZALL_MOD": "GLS",
                                    "DB": "12"
                                },
                                {
                                    "LOGIN": "adam4",
                                    "SZALL_MOD": "Posta",
                                    "DB": "6"
                                },
                                {
                                    "LOGIN": "adam4",
                                    "SZALL_MOD": "Személyes átvétel",
                                    "DB": "11"
                                },
                                {
                                    "LOGIN": "adam4",
                                    "SZALL_MOD": "NULL",
                                    "DB": "29"
                                },
                                {
                                    "LOGIN": "agnes",
                                    "SZALL_MOD": "GLS",
                                    "DB": "144"
                                },
                                {
                                    "LOGIN": "agnes",
                                    "SZALL_MOD": "Posta",
                                    "DB": "130"
                                },
                                {
                                    "LOGIN": "agnes",
                                    "SZALL_MOD": "Személyes átvétel",
                                    "DB": "144"
                                },
                                {
                                    "LOGIN": "agnes",
                                    "SZALL_MOD": "NULL",
                                    "DB": "418"
                                },
                                {
                                    "LOGIN": "agnes3",
                                    "SZALL_MOD": "GLS",
                                    "DB": "148"
                                },
                                {
                                    "LOGIN": "agnes3",
                                    "SZALL_MOD": "Posta",
                                    "DB": "146"
                                },
                                {
                                    "LOGIN": "agnes3",
                                    "SZALL_MOD": "Személyes átvétel",
                                    "DB": "136"
                                },
                                {
                                    "LOGIN": "agnes3",
                                    "SZALL_MOD": "NULL",
                                    "DB": "430"
                                },
                                {
                                    "LOGIN": "AGNESH",
                                    "SZALL_MOD": "GLS",
                                    "DB": "2"
                                },
                                {
                                    "LOGIN": "AGNESH",
                                    "SZALL_MOD": "Posta",
                                    "DB": "3"
                                },
                                {
                                    "LOGIN": "AGNESH",
                                    "SZALL_MOD": "Személyes átvétel",
                                    "DB": "6"
                                },
                                {
                                    "LOGIN": "AGNESH",
                                    "SZALL_MOD": "NULL",
                                    "DB": "11"
                                },
                                {
                                    "LOGIN": "AGNESK",
                                    "SZALL_MOD": "GLS",
                                    "DB": "1"
                                },
                                {
                                    "LOGIN": "AGNESK",
                                    "SZALL_MOD": "Posta",
                                    "DB": "7"
                                },
                                {
                                    "LOGIN": "AGNESK",
                                    "SZALL_MOD": "Személyes átvétel",
                                    "DB": "7"
                                },
                                {
                                    "LOGIN": "AGNESK",
                                    "SZALL_MOD": "NULL",
                                    "DB": "15"
                                },
                                {
                                    "LOGIN": "akos",
                                    "SZALL_MOD": "GLS",
                                    "DB": "146"
                                },
                                {
                                    "LOGIN": "akos",
                                    "SZALL_MOD": "Posta",
                                    "DB": "143"
                                },
                                {
                                    "LOGIN": "akos",
                                    "SZALL_MOD": "Személyes átvétel",
                                    "DB": "140"
                                },
                                {
                                    "LOGIN": "akos",
                                    "SZALL_MOD": "NULL",
                                    "DB": "429"
                                },
                                {
                                    "LOGIN": "aladar",
                                    "SZALL_MOD": "GLS",
                                    "DB": "156"
                                },
                                {
                                    "LOGIN": "aladar",
                                    "SZALL_MOD": "Posta",
                                    "DB": "134"
                                },
                                {
                                    "LOGIN": "aladar",
                                    "SZALL_MOD": "Személyes átvétel",
                                    "DB": "118"
                                },
                                {
                                    "LOGIN": "aladar",
                                    "SZALL_MOD": "NULL",
                                    "DB": "408"
                                },
                                {
                                    "LOGIN": "alexandra",
                                    "SZALL_MOD": "GLS",
                                    "DB": "5"
                                },
                                {
                                    "LOGIN": "alexandra",
                                    "SZALL_MOD": "Posta",
                                    "DB": "9"
                                },
                                {
                                    "LOGIN": "alexandra",
                                    "SZALL_MOD": "Személyes átvétel",
                                    "DB": "5"
                                },
                                {
                                    "LOGIN": "alexandra",
                                    "SZALL_MOD": "NULL",
                                    "DB": "19"
                                },
                                {
                                    "LOGIN": "andi",
                                    "SZALL_MOD": "GLS",
                                    "DB": "7"
                                },
                                {
                                    "LOGIN": "andi",
                                    "SZALL_MOD": "Posta",
                                    "DB": "4"
                                },
                                {
                                    "LOGIN": "andi",
                                    "SZALL_MOD": "Személyes átvétel",
                                    "DB": "7"
                                },
                                {
                                    "LOGIN": "andi",
                                    "SZALL_MOD": "NULL",
                                    "DB": "18"
                                },
                                {
                                    "LOGIN": "andras2",
                                    "SZALL_MOD": "GLS",
                                    "DB": "4"
                                },
                                {
                                    "LOGIN": "andras2",
                                    "SZALL_MOD": "Posta",
                                    "DB": "7"
                                },
                                {
                                    "LOGIN": "andras2",
                                    "SZALL_MOD": "Személyes átvétel",
                                    "DB": "11"
                                },
                                {
                                    "LOGIN": "andras2",
                                    "SZALL_MOD": "NULL",
                                    "DB": "22"
                                },
                                {
                                    "LOGIN": "andras21",
                                    "SZALL_MOD": "GLS",
                                    "DB": "140"
                                },
                                {
                                    "LOGIN": "andras21",
                                    "SZALL_MOD": "Posta",
                                    "DB": "124"
                                },
                                {
                                    "LOGIN": "andras21",
                                    "SZALL_MOD": "Személyes átvétel",
                                    "DB": "126"
                                },
                                {
                                    "LOGIN": "andras21",
                                    "SZALL_MOD": "NULL",
                                    "DB": "390"
                                },
                                {
                                    "LOGIN": "andras3",
                                    "SZALL_MOD": "GLS",
                                    "DB": "3"
                                },
                                {
                                    "LOGIN": "andras3",
                                    "SZALL_MOD": "Posta",
                                    "DB": "1"
                                },
                                {
                                    "LOGIN": "andras3",
                                    "SZALL_MOD": "Személyes átvétel",
                                    "DB": "5"
                                },
                                {
                                    "LOGIN": "andras3",
                                    "SZALL_MOD": "NULL",
                                    "DB": "9"
                                },
                                {
                                    "LOGIN": "andras4",
                                    "SZALL_MOD": "GLS",
                                    "DB": "4"
                                },
                                {
                                    "LOGIN": "andras4",
                                    "SZALL_MOD": "Posta",
                                    "DB": "4"
                                },
                                {
                                    "LOGIN": "andras4",
                                    "SZALL_MOD": "Személyes átvétel",
                                    "DB": "4"
                                },
                                {
                                    "LOGIN": "andras4",
                                    "SZALL_MOD": "NULL",
                                    "DB": "12"
                                },
                                {
                                    "LOGIN": "andras41",
                                    "SZALL_MOD": "GLS",
                                    "DB": "149"
                                },
                                {
                                    "LOGIN": "andras41",
                                    "SZALL_MOD": "Posta",
                                    "DB": "137"
                                },
                                {
                                    "LOGIN": "andras41",
                                    "SZALL_MOD": "Személyes átvétel",
                                    "DB": "133"
                                },
                                {
                                    "LOGIN": "andras41",
                                    "SZALL_MOD": "NULL",
                                    "DB": "419"
                                },
                                {
                                    "LOGIN": "ANDRASE",
                                    "SZALL_MOD": "GLS",
                                    "DB": "159"
                                },
                                {
                                    "LOGIN": "ANDRASE",
                                    "SZALL_MOD": "Posta",
                                    "DB": "141"
                                },
                                {
                                    "LOGIN": "ANDRASE",
                                    "SZALL_MOD": "Személyes átvétel",
                                    "DB": "136"
                                },
                                {
                                    "LOGIN": "ANDRASE",
                                    "SZALL_MOD": "NULL",
                                    "DB": "436"
                                },
                                {
                                    "LOGIN": "ANDRASN",
                                    "SZALL_MOD": "GLS",
                                    "DB": "10"
                                },
                                {
                                    "LOGIN": "ANDRASN",
                                    "SZALL_MOD": "Posta",
                                    "DB": "9"
                                },
                                {
                                    "LOGIN": "ANDRASN",
                                    "SZALL_MOD": "Személyes átvétel",
                                    "DB": "5"
                                },
                                {
                                    "LOGIN": "ANDRASN",
                                    "SZALL_MOD": "NULL",
                                    "DB": "24"
                                },
                                {
                                    "LOGIN": "andrea",
                                    "SZALL_MOD": "GLS",
                                    "DB": "12"
                                },
                                {
                                    "LOGIN": "andrea",
                                    "SZALL_MOD": "Posta",
                                    "DB": "4"
                                },
                                {
                                    "LOGIN": "andrea",
                                    "SZALL_MOD": "Személyes átvétel",
                                    "DB": "8"
                                },
                                {
                                    "LOGIN": "andrea",
                                    "SZALL_MOD": "NULL",
                                    "DB": "24"
                                },
                                {
                                    "LOGIN": "andrea3",
                                    "SZALL_MOD": "GLS",
                                    "DB": "131"
                                },
                                {
                                    "LOGIN": "andrea3",
                                    "SZALL_MOD": "Posta",
                                    "DB": "136"
                                },
                                {
                                    "LOGIN": "andrea3",
                                    "SZALL_MOD": "Személyes átvétel",
                                    "DB": "146"
                                },
                                {
                                    "LOGIN": "andrea3",
                                    "SZALL_MOD": "NULL",
                                    "DB": "413"
                                },
                                {
                                    "LOGIN": "andrea4",
                                    "SZALL_MOD": "GLS",
                                    "DB": "7"
                                },
                                {
                                    "LOGIN": "andrea4",
                                    "SZALL_MOD": "Posta",
                                    "DB": "4"
                                },
                                {
                                    "LOGIN": "andrea4",
                                    "SZALL_MOD": "Személyes átvétel",
                                    "DB": "7"
                                },
                                {
                                    "LOGIN": "andrea4",
                                    "SZALL_MOD": "NULL",
                                    "DB": "18"
                                },
                                {
                                    "LOGIN": "ANDREAT",
                                    "SZALL_MOD": "GLS",
                                    "DB": "3"
                                },
                                {
                                    "LOGIN": "ANDREAT",
                                    "SZALL_MOD": "Posta",
                                    "DB": "6"
                                },
                                {
                                    "LOGIN": "ANDREAT",
                                    "SZALL_MOD": "Személyes átvétel",
                                    "DB": "12"
                                },
                                {
                                    "LOGIN": "ANDREAT",
                                    "SZALL_MOD": "NULL",
                                    "DB": "21"
                                },
                                {
                                    "LOGIN": "anett3",
                                    "SZALL_MOD": "GLS",
                                    "DB": "3"
                                },
                                {
                                    "LOGIN": "anett3",
                                    "SZALL_MOD": "Posta",
                                    "DB": "6"
                                },
                                {
                                    "LOGIN": "anett3",
                                    "SZALL_MOD": "Személyes átvétel",
                                    "DB": "9"
                                },
                                {
                                    "LOGIN": "anett3",
                                    "SZALL_MOD": "NULL",
                                    "DB": "18"
                                },
                                {
                                    "LOGIN": "aniko",
                                    "SZALL_MOD": "GLS",
                                    "DB": "128"
                                },
                                {
                                    "LOGIN": "aniko",
                                    "SZALL_MOD": "Posta",
                                    "DB": "137"
                                },
                                {
                                    "LOGIN": "aniko",
                                    "SZALL_MOD": "Személyes átvétel",
                                    "DB": "138"
                                },
                                {
                                    "LOGIN": "aniko",
                                    "SZALL_MOD": "NULL",
                                    "DB": "403"
                                },
                                {
                                    "LOGIN": "aniko4",
                                    "SZALL_MOD": "GLS",
                                    "DB": "6"
                                },
                                {
                                    "LOGIN": "aniko4",
                                    "SZALL_MOD": "Posta",
                                    "DB": "6"
                                },
                                {
                                    "LOGIN": "aniko4",
                                    "SZALL_MOD": "Személyes átvétel",
                                    "DB": "3"
                                },
                                {
                                    "LOGIN": "aniko4",
                                    "SZALL_MOD": "NULL",
                                    "DB": "15"
                                },
                                {
                                    "LOGIN": "ANIKOS",
                                    "SZALL_MOD": "GLS",
                                    "DB": "128"
                                },
                                {
                                    "LOGIN": "ANIKOS",
                                    "SZALL_MOD": "Posta",
                                    "DB": "126"
                                },
                                {
                                    "LOGIN": "ANIKOS",
                                    "SZALL_MOD": "Személyes átvétel",
                                    "DB": "150"
                                },
                                {
                                    "LOGIN": "ANIKOS",
                                    "SZALL_MOD": "NULL",
                                    "DB": "404"
                                },
                                {
                                    "LOGIN": "anita",
                                    "SZALL_MOD": "GLS",
                                    "DB": "5"
                                },
                                {
                                    "LOGIN": "anita",
                                    "SZALL_MOD": "Posta",
                                    "DB": "2"
                                },
                                {
                                    "LOGIN": "anita",
                                    "SZALL_MOD": "Személyes átvétel",
                                    "DB": "5"
                                },
                                {
                                    "LOGIN": "anita",
                                    "SZALL_MOD": "NULL",
                                    "DB": "12"
                                },
                                {
                                    "LOGIN": "annamaria1",
                                    "SZALL_MOD": "GLS",
                                    "DB": "5"
                                },
                                {
                                    "LOGIN": "annamaria1",
                                    "SZALL_MOD": "Posta",
                                    "DB": "4"
                                },
                                {
                                    "LOGIN": "annamaria1",
                                    "SZALL_MOD": "Személyes átvétel",
                                    "DB": "7"
                                },
                                {
                                    "LOGIN": "annamaria1",
                                    "SZALL_MOD": "NULL",
                                    "DB": "16"
                                },
                                {
                                    "LOGIN": "ANNAMARIAR",
                                    "SZALL_MOD": "GLS",
                                    "DB": "8"
                                },
                                {
                                    "LOGIN": "ANNAMARIAR",
                                    "SZALL_MOD": "Posta",
                                    "DB": "2"
                                },
                                {
                                    "LOGIN": "ANNAMARIAR",
                                    "SZALL_MOD": "Személyes átvétel",
                                    "DB": "3"
                                },
                                {
                                    "LOGIN": "ANNAMARIAR",
                                    "SZALL_MOD": "NULL",
                                    "DB": "13"
                                },
                                {
                                    "LOGIN": "aron2",
                                    "SZALL_MOD": "GLS",
                                    "DB": "132"
                                },
                                {
                                    "LOGIN": "aron2",
                                    "SZALL_MOD": "Posta",
                                    "DB": "133"
                                },
                                {
                                    "LOGIN": "aron2",
                                    "SZALL_MOD": "Személyes átvétel",
                                    "DB": "144"
                                },
                                {
                                    "LOGIN": "aron2",
                                    "SZALL_MOD": "NULL",
                                    "DB": "409"
                                },
                                {
                                    "LOGIN": "ARONK",
                                    "SZALL_MOD": "GLS",
                                    "DB": "155"
                                },
                                {
                                    "LOGIN": "ARONK",
                                    "SZALL_MOD": "Posta",
                                    "DB": "120"
                                },
                                {
                                    "LOGIN": "ARONK",
                                    "SZALL_MOD": "Személyes átvétel",
                                    "DB": "155"
                                },
                                {
                                    "LOGIN": "ARONK",
                                    "SZALL_MOD": "NULL",
                                    "DB": "430"
                                },
                                {
                                    "LOGIN": "arpad2",
                                    "SZALL_MOD": "GLS",
                                    "DB": "6"
                                },
                                {
                                    "LOGIN": "arpad2",
                                    "SZALL_MOD": "Posta",
                                    "DB": "1"
                                },
                                {
                                    "LOGIN": "arpad2",
                                    "SZALL_MOD": "Személyes átvétel",
                                    "DB": "10"
                                },
                                {
                                    "LOGIN": "arpad2",
                                    "SZALL_MOD": "NULL",
                                    "DB": "17"
                                },
                                {
                                    "LOGIN": "ARPADH",
                                    "SZALL_MOD": "GLS",
                                    "DB": "6"
                                },
                                {
                                    "LOGIN": "ARPADH",
                                    "SZALL_MOD": "Posta",
                                    "DB": "3"
                                },
                                {
                                    "LOGIN": "ARPADH",
                                    "SZALL_MOD": "Személyes átvétel",
                                    "DB": "5"
                                },
                                {
                                    "LOGIN": "ARPADH",
                                    "SZALL_MOD": "NULL",
                                    "DB": "14"
                                },
                                {
                                    "LOGIN": "ARPADM",
                                    "SZALL_MOD": "GLS",
                                    "DB": "6"
                                },
                                {
                                    "LOGIN": "ARPADM",
                                    "SZALL_MOD": "Posta",
                                    "DB": "3"
                                },
                                {
                                    "LOGIN": "ARPADM",
                                    "SZALL_MOD": "Személyes átvétel",
                                    "DB": "7"
                                },
                                {
                                    "LOGIN": "ARPADM",
                                    "SZALL_MOD": "NULL",
                                    "DB": "16"
                                },
                                {
                                    "LOGIN": "attila1",
                                    "SZALL_MOD": "GLS",
                                    "DB": "5"
                                },
                                {
                                    "LOGIN": "attila1",
                                    "SZALL_MOD": "Posta",
                                    "DB": "7"
                                },
                                {
                                    "LOGIN": "attila1",
                                    "SZALL_MOD": "Személyes átvétel",
                                    "DB": "6"
                                },
                                {
                                    "LOGIN": "attila1",
                                    "SZALL_MOD": "NULL",
                                    "DB": "18"
                                },
                                {
                                    "LOGIN": "attila4",
                                    "SZALL_MOD": "GLS",
                                    "DB": "135"
                                },
                                {
                                    "LOGIN": "attila4",
                                    "SZALL_MOD": "Posta",
                                    "DB": "125"
                                },
                                {
                                    "LOGIN": "attila4",
                                    "SZALL_MOD": "Személyes átvétel",
                                    "DB": "141"
                                },
                                {
                                    "LOGIN": "attila4",
                                    "SZALL_MOD": "NULL",
                                    "DB": "401"
                                },
                                {
                                    "LOGIN": "ATTILAO",
                                    "SZALL_MOD": "GLS",
                                    "DB": "4"
                                },
                                {
                                    "LOGIN": "ATTILAO",
                                    "SZALL_MOD": "Posta",
                                    "DB": "4"
                                },
                                {
                                    "LOGIN": "ATTILAO",
                                    "SZALL_MOD": "Személyes átvétel",
                                    "DB": "6"
                                },
                                {
                                    "LOGIN": "ATTILAO",
                                    "SZALL_MOD": "NULL",
                                    "DB": "14"
                                },
                                {
                                    "LOGIN": "balazs1",
                                    "SZALL_MOD": "GLS",
                                    "DB": "128"
                                },
                                {
                                    "LOGIN": "balazs1",
                                    "SZALL_MOD": "Posta",
                                    "DB": "136"
                                },
                                {
                                    "LOGIN": "balazs1",
                                    "SZALL_MOD": "Személyes átvétel",
                                    "DB": "155"
                                },
                                {
                                    "LOGIN": "balazs1",
                                    "SZALL_MOD": "NULL",
                                    "DB": "419"
                                },
                                {
                                    "LOGIN": "balazs2",
                                    "SZALL_MOD": "GLS",
                                    "DB": "5"
                                },
                                {
                                    "LOGIN": "balazs2",
                                    "SZALL_MOD": "Posta",
                                    "DB": "7"
                                },
                                {
                                    "LOGIN": "balazs2",
                                    "SZALL_MOD": "Személyes átvétel",
                                    "DB": "5"
                                },
                                {
                                    "LOGIN": "balazs2",
                                    "SZALL_MOD": "NULL",
                                    "DB": "17"
                                },
                                {
                                    "LOGIN": "balazs3",
                                    "SZALL_MOD": "GLS",
                                    "DB": "6"
                                },
                                {
                                    "LOGIN": "balazs3",
                                    "SZALL_MOD": "Posta",
                                    "DB": "6"
                                },
                                {
                                    "LOGIN": "balazs3",
                                    "SZALL_MOD": "Személyes átvétel",
                                    "DB": "3"
                                },
                                {
                                    "LOGIN": "balazs3",
                                    "SZALL_MOD": "NULL",
                                    "DB": "15"
                                },
                                {
                                    "LOGIN": "balint",
                                    "SZALL_MOD": "GLS",
                                    "DB": "10"
                                },
                                {
                                    "LOGIN": "balint",
                                    "SZALL_MOD": "Posta",
                                    "DB": "4"
                                },
                                {
                                    "LOGIN": "balint",
                                    "SZALL_MOD": "Személyes átvétel",
                                    "DB": "2"
                                },
                                {
                                    "LOGIN": "balint",
                                    "SZALL_MOD": "NULL",
                                    "DB": "16"
                                },
                                {
                                    "LOGIN": "balint1",
                                    "SZALL_MOD": "GLS",
                                    "DB": "158"
                                },
                                {
                                    "LOGIN": "balint1",
                                    "SZALL_MOD": "Posta",
                                    "DB": "152"
                                },
                                {
                                    "LOGIN": "balint1",
                                    "SZALL_MOD": "Személyes átvétel",
                                    "DB": "152"
                                },
                                {
                                    "LOGIN": "balint1",
                                    "SZALL_MOD": "NULL",
                                    "DB": "462"
                                },
                                {
                                    "LOGIN": "balint2",
                                    "SZALL_MOD": "GLS",
                                    "DB": "8"
                                },
                                {
                                    "LOGIN": "balint2",
                                    "SZALL_MOD": "Posta",
                                    "DB": "6"
                                },
                                {
                                    "LOGIN": "balint2",
                                    "SZALL_MOD": "Személyes átvétel",
                                    "DB": "3"
                                },
                                {
                                    "LOGIN": "balint2",
                                    "SZALL_MOD": "NULL",
                                    "DB": "17"
                                },
                                {
                                    "LOGIN": "balu",
                                    "SZALL_MOD": "GLS",
                                    "DB": "127"
                                },
                                {
                                    "LOGIN": "balu",
                                    "SZALL_MOD": "Posta",
                                    "DB": "137"
                                },
                                {
                                    "LOGIN": "balu",
                                    "SZALL_MOD": "Személyes átvétel",
                                    "DB": "123"
                                },
                                {
                                    "LOGIN": "balu",
                                    "SZALL_MOD": "NULL",
                                    "DB": "387"
                                },
                                {
                                    "LOGIN": "BEATRIXK",
                                    "SZALL_MOD": "GLS",
                                    "DB": "135"
                                },
                                {
                                    "LOGIN": "BEATRIXK",
                                    "SZALL_MOD": "Posta",
                                    "DB": "155"
                                },
                                {
                                    "LOGIN": "BEATRIXK",
                                    "SZALL_MOD": "Személyes átvétel",
                                    "DB": "145"
                                },
                                {
                                    "LOGIN": "BEATRIXK",
                                    "SZALL_MOD": "NULL",
                                    "DB": "435"
                                },
                                {
                                    "LOGIN": "BEATRIXS",
                                    "SZALL_MOD": "GLS",
                                    "DB": "146"
                                },
                                {
                                    "LOGIN": "BEATRIXS",
                                    "SZALL_MOD": "Posta",
                                    "DB": "141"
                                },
                                {
                                    "LOGIN": "BEATRIXS",
                                    "SZALL_MOD": "Személyes átvétel",
                                    "DB": "133"
                                },
                                {
                                    "LOGIN": "BEATRIXS",
                                    "SZALL_MOD": "NULL",
                                    "DB": "420"
                                },
                                {
                                    "LOGIN": "BELAF",
                                    "SZALL_MOD": "GLS",
                                    "DB": "11"
                                },
                                {
                                    "LOGIN": "BELAF",
                                    "SZALL_MOD": "Posta",
                                    "DB": "2"
                                },
                                {
                                    "LOGIN": "BELAF",
                                    "SZALL_MOD": "Személyes átvétel",
                                    "DB": "5"
                                },
                                {
                                    "LOGIN": "BELAF",
                                    "SZALL_MOD": "NULL",
                                    "DB": "18"
                                },
                                {
                                    "LOGIN": "bence",
                                    "SZALL_MOD": "GLS",
                                    "DB": "4"
                                },
                                {
                                    "LOGIN": "bence",
                                    "SZALL_MOD": "Posta",
                                    "DB": "6"
                                },
                                {
                                    "LOGIN": "bence",
                                    "SZALL_MOD": "Személyes átvétel",
                                    "DB": "8"
                                },
                                {
                                    "LOGIN": "bence",
                                    "SZALL_MOD": "NULL",
                                    "DB": "18"
                                },
                                {
                                    "LOGIN": "BENCEB",
                                    "SZALL_MOD": "GLS",
                                    "DB": "5"
                                },
                                {
                                    "LOGIN": "BENCEB",
                                    "SZALL_MOD": "Posta",
                                    "DB": "7"
                                },
                                {
                                    "LOGIN": "BENCEB",
                                    "SZALL_MOD": "Személyes átvétel",
                                    "DB": "5"
                                },
                                {
                                    "LOGIN": "BENCEB",
                                    "SZALL_MOD": "NULL",
                                    "DB": "17"
                                },
                                {
                                    "LOGIN": "bernadett1",
                                    "SZALL_MOD": "GLS",
                                    "DB": "10"
                                },
                                {
                                    "LOGIN": "bernadett1",
                                    "SZALL_MOD": "Posta",
                                    "DB": "5"
                                },
                                {
                                    "LOGIN": "bernadett1",
                                    "SZALL_MOD": "Személyes átvétel",
                                    "DB": "5"
                                },
                                {
                                    "LOGIN": "bernadett1",
                                    "SZALL_MOD": "NULL",
                                    "DB": "20"
                                },
                                {
                                    "LOGIN": "bernadett2",
                                    "SZALL_MOD": "GLS",
                                    "DB": "6"
                                },
                                {
                                    "LOGIN": "bernadett2",
                                    "SZALL_MOD": "Posta",
                                    "DB": "2"
                                },
                                {
                                    "LOGIN": "bernadett2",
                                    "SZALL_MOD": "Személyes átvétel",
                                    "DB": "7"
                                },
                                {
                                    "LOGIN": "bernadett2",
                                    "SZALL_MOD": "NULL",
                                    "DB": "15"
                                },
                                {
                                    "LOGIN": "BERNADETTO",
                                    "SZALL_MOD": "GLS",
                                    "DB": "7"
                                },
                                {
                                    "LOGIN": "BERNADETTO",
                                    "SZALL_MOD": "Posta",
                                    "DB": "2"
                                },
                                {
                                    "LOGIN": "BERNADETTO",
                                    "SZALL_MOD": "Személyes átvétel",
                                    "DB": "7"
                                },
                                {
                                    "LOGIN": "BERNADETTO",
                                    "SZALL_MOD": "NULL",
                                    "DB": "16"
                                },
                                {
                                    "LOGIN": "bertalan",
                                    "SZALL_MOD": "GLS",
                                    "DB": "128"
                                },
                                {
                                    "LOGIN": "bertalan",
                                    "SZALL_MOD": "Posta",
                                    "DB": "124"
                                },
                                {
                                    "LOGIN": "bertalan",
                                    "SZALL_MOD": "Személyes átvétel",
                                    "DB": "101"
                                },
                                {
                                    "LOGIN": "bertalan",
                                    "SZALL_MOD": "NULL",
                                    "DB": "353"
                                },
                                {
                                    "LOGIN": "brigitta",
                                    "SZALL_MOD": "GLS",
                                    "DB": "137"
                                },
                                {
                                    "LOGIN": "brigitta",
                                    "SZALL_MOD": "Posta",
                                    "DB": "137"
                                },
                                {
                                    "LOGIN": "brigitta",
                                    "SZALL_MOD": "Személyes átvétel",
                                    "DB": "119"
                                },
                                {
                                    "LOGIN": "brigitta",
                                    "SZALL_MOD": "NULL",
                                    "DB": "393"
                                },
                                {
                                    "LOGIN": "brigitta3",
                                    "SZALL_MOD": "GLS",
                                    "DB": "144"
                                },
                                {
                                    "LOGIN": "brigitta3",
                                    "SZALL_MOD": "Posta",
                                    "DB": "130"
                                },
                                {
                                    "LOGIN": "brigitta3",
                                    "SZALL_MOD": "Személyes átvétel",
                                    "DB": "139"
                                },
                                {
                                    "LOGIN": "brigitta3",
                                    "SZALL_MOD": "NULL",
                                    "DB": "413"
                                },
                                {
                                    "LOGIN": "csongor3",
                                    "SZALL_MOD": "GLS",
                                    "DB": "5"
                                },
                                {
                                    "LOGIN": "csongor3",
                                    "SZALL_MOD": "Posta",
                                    "DB": "2"
                                },
                                {
                                    "LOGIN": "csongor3",
                                    "SZALL_MOD": "Személyes átvétel",
                                    "DB": "8"
                                },
                                {
                                    "LOGIN": "csongor3",
                                    "SZALL_MOD": "NULL",
                                    "DB": "15"
                                },
                                {
                                    "LOGIN": "dani",
                                    "SZALL_MOD": "GLS",
                                    "DB": "5"
                                },
                                {
                                    "LOGIN": "dani",
                                    "SZALL_MOD": "Személyes átvétel",
                                    "DB": "8"
                                },
                                {
                                    "LOGIN": "dani",
                                    "SZALL_MOD": "NULL",
                                    "DB": "13"
                                },
                                {
                                    "LOGIN": "daniel",
                                    "SZALL_MOD": "GLS",
                                    "DB": "7"
                                },
                                {
                                    "LOGIN": "daniel",
                                    "SZALL_MOD": "Posta",
                                    "DB": "2"
                                },
                                {
                                    "LOGIN": "daniel",
                                    "SZALL_MOD": "Személyes átvétel",
                                    "DB": "4"
                                },
                                {
                                    "LOGIN": "daniel",
                                    "SZALL_MOD": "NULL",
                                    "DB": "13"
                                },
                                {
                                    "LOGIN": "daniel1",
                                    "SZALL_MOD": "GLS",
                                    "DB": "156"
                                },
                                {
                                    "LOGIN": "daniel1",
                                    "SZALL_MOD": "Posta",
                                    "DB": "131"
                                },
                                {
                                    "LOGIN": "daniel1",
                                    "SZALL_MOD": "Személyes átvétel",
                                    "DB": "132"
                                },
                                {
                                    "LOGIN": "daniel1",
                                    "SZALL_MOD": "NULL",
                                    "DB": "419"
                                },
                                {
                                    "LOGIN": "david",
                                    "SZALL_MOD": "GLS",
                                    "DB": "161"
                                },
                                {
                                    "LOGIN": "david",
                                    "SZALL_MOD": "Posta",
                                    "DB": "144"
                                },
                                {
                                    "LOGIN": "david",
                                    "SZALL_MOD": "Személyes átvétel",
                                    "DB": "146"
                                },
                                {
                                    "LOGIN": "david",
                                    "SZALL_MOD": "NULL",
                                    "DB": "451"
                                },
                                {
                                    "LOGIN": "david1",
                                    "SZALL_MOD": "GLS",
                                    "DB": "8"
                                },
                                {
                                    "LOGIN": "david1",
                                    "SZALL_MOD": "Posta",
                                    "DB": "1"
                                },
                                {
                                    "LOGIN": "david1",
                                    "SZALL_MOD": "Személyes átvétel",
                                    "DB": "8"
                                },
                                {
                                    "LOGIN": "david1",
                                    "SZALL_MOD": "NULL",
                                    "DB": "17"
                                },
                                {
                                    "LOGIN": "david4",
                                    "SZALL_MOD": "GLS",
                                    "DB": "3"
                                },
                                {
                                    "LOGIN": "david4",
                                    "SZALL_MOD": "Posta",
                                    "DB": "8"
                                },
                                {
                                    "LOGIN": "david4",
                                    "SZALL_MOD": "Személyes átvétel",
                                    "DB": "10"
                                },
                                {
                                    "LOGIN": "david4",
                                    "SZALL_MOD": "NULL",
                                    "DB": "21"
                                },
                                {
                                    "LOGIN": "debora",
                                    "SZALL_MOD": "GLS",
                                    "DB": "7"
                                },
                                {
                                    "LOGIN": "debora",
                                    "SZALL_MOD": "Posta",
                                    "DB": "6"
                                },
                                {
                                    "LOGIN": "debora",
                                    "SZALL_MOD": "Személyes átvétel",
                                    "DB": "3"
                                },
                                {
                                    "LOGIN": "debora",
                                    "SZALL_MOD": "NULL",
                                    "DB": "16"
                                },
                                {
                                    "LOGIN": "denes",
                                    "SZALL_MOD": "GLS",
                                    "DB": "3"
                                },
                                {
                                    "LOGIN": "denes",
                                    "SZALL_MOD": "Posta",
                                    "DB": "2"
                                },
                                {
                                    "LOGIN": "denes",
                                    "SZALL_MOD": "Személyes átvétel",
                                    "DB": "4"
                                },
                                {
                                    "LOGIN": "denes",
                                    "SZALL_MOD": "NULL",
                                    "DB": "9"
                                },
                                {
                                    "LOGIN": "dora3",
                                    "SZALL_MOD": "GLS",
                                    "DB": "144"
                                },
                                {
                                    "LOGIN": "dora3",
                                    "SZALL_MOD": "Posta",
                                    "DB": "124"
                                },
                                {
                                    "LOGIN": "dora3",
                                    "SZALL_MOD": "Személyes átvétel",
                                    "DB": "164"
                                },
                                {
                                    "LOGIN": "dora3",
                                    "SZALL_MOD": "NULL",
                                    "DB": "432"
                                },
                                {
                                    "LOGIN": "edit",
                                    "SZALL_MOD": "GLS",
                                    "DB": "7"
                                },
                                {
                                    "LOGIN": "edit",
                                    "SZALL_MOD": "Posta",
                                    "DB": "2"
                                },
                                {
                                    "LOGIN": "edit",
                                    "SZALL_MOD": "Személyes átvétel",
                                    "DB": "4"
                                },
                                {
                                    "LOGIN": "edit",
                                    "SZALL_MOD": "NULL",
                                    "DB": "13"
                                },
                                {
                                    "LOGIN": "emese",
                                    "SZALL_MOD": "GLS",
                                    "DB": "128"
                                },
                                {
                                    "LOGIN": "emese",
                                    "SZALL_MOD": "Posta",
                                    "DB": "136"
                                },
                                {
                                    "LOGIN": "emese",
                                    "SZALL_MOD": "Személyes átvétel",
                                    "DB": "142"
                                },
                                {
                                    "LOGIN": "emese",
                                    "SZALL_MOD": "NULL",
                                    "DB": "406"
                                },
                                {
                                    "LOGIN": "eszter2",
                                    "SZALL_MOD": "GLS",
                                    "DB": "127"
                                },
                                {
                                    "LOGIN": "eszter2",
                                    "SZALL_MOD": "Posta",
                                    "DB": "136"
                                },
                                {
                                    "LOGIN": "eszter2",
                                    "SZALL_MOD": "Személyes átvétel",
                                    "DB": "152"
                                },
                                {
                                    "LOGIN": "eszter2",
                                    "SZALL_MOD": "NULL",
                                    "DB": "415"
                                },
                                {
                                    "LOGIN": "eszter4",
                                    "SZALL_MOD": "GLS",
                                    "DB": "141"
                                },
                                {
                                    "LOGIN": "eszter4",
                                    "SZALL_MOD": "Posta",
                                    "DB": "134"
                                },
                                {
                                    "LOGIN": "eszter4",
                                    "SZALL_MOD": "Személyes átvétel",
                                    "DB": "149"
                                },
                                {
                                    "LOGIN": "eszter4",
                                    "SZALL_MOD": "NULL",
                                    "DB": "424"
                                },
                                {
                                    "LOGIN": "ESZTERE",
                                    "SZALL_MOD": "GLS",
                                    "DB": "6"
                                },
                                {
                                    "LOGIN": "ESZTERE",
                                    "SZALL_MOD": "Posta",
                                    "DB": "9"
                                },
                                {
                                    "LOGIN": "ESZTERE",
                                    "SZALL_MOD": "Személyes átvétel",
                                    "DB": "7"
                                },
                                {
                                    "LOGIN": "ESZTERE",
                                    "SZALL_MOD": "NULL",
                                    "DB": "22"
                                },
                                {
                                    "LOGIN": "eva",
                                    "SZALL_MOD": "GLS",
                                    "DB": "125"
                                },
                                {
                                    "LOGIN": "eva",
                                    "SZALL_MOD": "Posta",
                                    "DB": "140"
                                },
                                {
                                    "LOGIN": "eva",
                                    "SZALL_MOD": "Személyes átvétel",
                                    "DB": "139"
                                },
                                {
                                    "LOGIN": "eva",
                                    "SZALL_MOD": "NULL",
                                    "DB": "404"
                                },
                                {
                                    "LOGIN": "eva2",
                                    "SZALL_MOD": "GLS",
                                    "DB": "154"
                                },
                                {
                                    "LOGIN": "eva2",
                                    "SZALL_MOD": "Posta",
                                    "DB": "138"
                                },
                                {
                                    "LOGIN": "eva2",
                                    "SZALL_MOD": "Személyes átvétel",
                                    "DB": "170"
                                },
                                {
                                    "LOGIN": "eva2",
                                    "SZALL_MOD": "NULL",
                                    "DB": "462"
                                },
                                {
                                    "LOGIN": "EVAV",
                                    "SZALL_MOD": "GLS",
                                    "DB": "2"
                                },
                                {
                                    "LOGIN": "EVAV",
                                    "SZALL_MOD": "Posta",
                                    "DB": "1"
                                },
                                {
                                    "LOGIN": "EVAV",
                                    "SZALL_MOD": "Személyes átvétel",
                                    "DB": "4"
                                },
                                {
                                    "LOGIN": "EVAV",
                                    "SZALL_MOD": "NULL",
                                    "DB": "7"
                                },
                                {
                                    "LOGIN": "ferenc1",
                                    "SZALL_MOD": "GLS",
                                    "DB": "144"
                                },
                                {
                                    "LOGIN": "ferenc1",
                                    "SZALL_MOD": "Posta",
                                    "DB": "158"
                                },
                                {
                                    "LOGIN": "ferenc1",
                                    "SZALL_MOD": "Személyes átvétel",
                                    "DB": "135"
                                },
                                {
                                    "LOGIN": "ferenc1",
                                    "SZALL_MOD": "NULL",
                                    "DB": "437"
                                },
                                {
                                    "LOGIN": "fruzsina4",
                                    "SZALL_MOD": "GLS",
                                    "DB": "8"
                                },
                                {
                                    "LOGIN": "fruzsina4",
                                    "SZALL_MOD": "Posta",
                                    "DB": "3"
                                },
                                {
                                    "LOGIN": "fruzsina4",
                                    "SZALL_MOD": "Személyes átvétel",
                                    "DB": "7"
                                },
                                {
                                    "LOGIN": "fruzsina4",
                                    "SZALL_MOD": "NULL",
                                    "DB": "18"
                                },
                                {
                                    "LOGIN": "gabor1",
                                    "SZALL_MOD": "GLS",
                                    "DB": "9"
                                },
                                {
                                    "LOGIN": "gabor1",
                                    "SZALL_MOD": "Posta",
                                    "DB": "5"
                                },
                                {
                                    "LOGIN": "gabor1",
                                    "SZALL_MOD": "Személyes átvétel",
                                    "DB": "5"
                                },
                                {
                                    "LOGIN": "gabor1",
                                    "SZALL_MOD": "NULL",
                                    "DB": "19"
                                },
                                {
                                    "LOGIN": "gabor4",
                                    "SZALL_MOD": "GLS",
                                    "DB": "7"
                                },
                                {
                                    "LOGIN": "gabor4",
                                    "SZALL_MOD": "Posta",
                                    "DB": "9"
                                },
                                {
                                    "LOGIN": "gabor4",
                                    "SZALL_MOD": "Személyes átvétel",
                                    "DB": "4"
                                },
                                {
                                    "LOGIN": "gabor4",
                                    "SZALL_MOD": "NULL",
                                    "DB": "20"
                                },
                                {
                                    "LOGIN": "GABORS",
                                    "SZALL_MOD": "GLS",
                                    "DB": "5"
                                },
                                {
                                    "LOGIN": "GABORS",
                                    "SZALL_MOD": "Posta",
                                    "DB": "6"
                                },
                                {
                                    "LOGIN": "GABORS",
                                    "SZALL_MOD": "Személyes átvétel",
                                    "DB": "4"
                                },
                                {
                                    "LOGIN": "GABORS",
                                    "SZALL_MOD": "NULL",
                                    "DB": "15"
                                },
                                {
                                    "LOGIN": "gabriella1",
                                    "SZALL_MOD": "GLS",
                                    "DB": "5"
                                },
                                {
                                    "LOGIN": "gabriella1",
                                    "SZALL_MOD": "Posta",
                                    "DB": "4"
                                },
                                {
                                    "LOGIN": "gabriella1",
                                    "SZALL_MOD": "Személyes átvétel",
                                    "DB": "5"
                                },
                                {
                                    "LOGIN": "gabriella1",
                                    "SZALL_MOD": "NULL",
                                    "DB": "14"
                                },
                                {
                                    "LOGIN": "gabriella10",
                                    "SZALL_MOD": "GLS",
                                    "DB": "4"
                                },
                                {
                                    "LOGIN": "gabriella10",
                                    "SZALL_MOD": "Posta",
                                    "DB": "5"
                                },
                                {
                                    "LOGIN": "gabriella10",
                                    "SZALL_MOD": "Személyes átvétel",
                                    "DB": "7"
                                },
                                {
                                    "LOGIN": "gabriella10",
                                    "SZALL_MOD": "NULL",
                                    "DB": "16"
                                },
                                {
                                    "LOGIN": "georgij",
                                    "SZALL_MOD": "GLS",
                                    "DB": "9"
                                },
                                {
                                    "LOGIN": "georgij",
                                    "SZALL_MOD": "Posta",
                                    "DB": "2"
                                },
                                {
                                    "LOGIN": "georgij",
                                    "SZALL_MOD": "Személyes átvétel",
                                    "DB": "10"
                                },
                                {
                                    "LOGIN": "georgij",
                                    "SZALL_MOD": "NULL",
                                    "DB": "21"
                                },
                                {
                                    "LOGIN": "gusztav",
                                    "SZALL_MOD": "GLS",
                                    "DB": "5"
                                },
                                {
                                    "LOGIN": "gusztav",
                                    "SZALL_MOD": "Posta",
                                    "DB": "4"
                                },
                                {
                                    "LOGIN": "gusztav",
                                    "SZALL_MOD": "Személyes átvétel",
                                    "DB": "5"
                                },
                                {
                                    "LOGIN": "gusztav",
                                    "SZALL_MOD": "NULL",
                                    "DB": "14"
                                },
                                {
                                    "LOGIN": "GYONGYIK",
                                    "SZALL_MOD": "GLS",
                                    "DB": "6"
                                },
                                {
                                    "LOGIN": "GYONGYIK",
                                    "SZALL_MOD": "Posta",
                                    "DB": "6"
                                },
                                {
                                    "LOGIN": "GYONGYIK",
                                    "SZALL_MOD": "Személyes átvétel",
                                    "DB": "3"
                                },
                                {
                                    "LOGIN": "GYONGYIK",
                                    "SZALL_MOD": "NULL",
                                    "DB": "15"
                                },
                                {
                                    "LOGIN": "GYORGYO",
                                    "SZALL_MOD": "GLS",
                                    "DB": "7"
                                },
                                {
                                    "LOGIN": "GYORGYO",
                                    "SZALL_MOD": "Posta",
                                    "DB": "4"
                                },
                                {
                                    "LOGIN": "GYORGYO",
                                    "SZALL_MOD": "Személyes átvétel",
                                    "DB": "5"
                                },
                                {
                                    "LOGIN": "GYORGYO",
                                    "SZALL_MOD": "NULL",
                                    "DB": "16"
                                },
                                {
                                    "LOGIN": "henrik3",
                                    "SZALL_MOD": "GLS",
                                    "DB": "7"
                                },
                                {
                                    "LOGIN": "henrik3",
                                    "SZALL_MOD": "Posta",
                                    "DB": "4"
                                },
                                {
                                    "LOGIN": "henrik3",
                                    "SZALL_MOD": "Személyes átvétel",
                                    "DB": "5"
                                },
                                {
                                    "LOGIN": "henrik3",
                                    "SZALL_MOD": "NULL",
                                    "DB": "16"
                                },
                                {
                                    "LOGIN": "IBOLYAA",
                                    "SZALL_MOD": "GLS",
                                    "DB": "140"
                                },
                                {
                                    "LOGIN": "IBOLYAA",
                                    "SZALL_MOD": "Posta",
                                    "DB": "125"
                                },
                                {
                                    "LOGIN": "IBOLYAA",
                                    "SZALL_MOD": "Személyes átvétel",
                                    "DB": "157"
                                },
                                {
                                    "LOGIN": "IBOLYAA",
                                    "SZALL_MOD": "NULL",
                                    "DB": "422"
                                },
                                {
                                    "LOGIN": "ilona3",
                                    "SZALL_MOD": "GLS",
                                    "DB": "9"
                                },
                                {
                                    "LOGIN": "ilona3",
                                    "SZALL_MOD": "Posta",
                                    "DB": "2"
                                },
                                {
                                    "LOGIN": "ilona3",
                                    "SZALL_MOD": "Személyes átvétel",
                                    "DB": "7"
                                },
                                {
                                    "LOGIN": "ilona3",
                                    "SZALL_MOD": "NULL",
                                    "DB": "18"
                                },
                                {
                                    "LOGIN": "imre",
                                    "SZALL_MOD": "GLS",
                                    "DB": "5"
                                },
                                {
                                    "LOGIN": "imre",
                                    "SZALL_MOD": "Posta",
                                    "DB": "4"
                                },
                                {
                                    "LOGIN": "imre",
                                    "SZALL_MOD": "Személyes átvétel",
                                    "DB": "6"
                                },
                                {
                                    "LOGIN": "imre",
                                    "SZALL_MOD": "NULL",
                                    "DB": "15"
                                },
                                {
                                    "LOGIN": "imre1",
                                    "SZALL_MOD": "GLS",
                                    "DB": "8"
                                },
                                {
                                    "LOGIN": "imre1",
                                    "SZALL_MOD": "Posta",
                                    "DB": "4"
                                },
                                {
                                    "LOGIN": "imre1",
                                    "SZALL_MOD": "Személyes átvétel",
                                    "DB": "3"
                                },
                                {
                                    "LOGIN": "imre1",
                                    "SZALL_MOD": "NULL",
                                    "DB": "15"
                                },
                                {
                                    "LOGIN": "istvan",
                                    "SZALL_MOD": "GLS",
                                    "DB": "3"
                                },
                                {
                                    "LOGIN": "istvan",
                                    "SZALL_MOD": "Posta",
                                    "DB": "4"
                                },
                                {
                                    "LOGIN": "istvan",
                                    "SZALL_MOD": "Személyes átvétel",
                                    "DB": "4"
                                },
                                {
                                    "LOGIN": "istvan",
                                    "SZALL_MOD": "NULL",
                                    "DB": "11"
                                },
                                {
                                    "LOGIN": "istvan1",
                                    "SZALL_MOD": "GLS",
                                    "DB": "8"
                                },
                                {
                                    "LOGIN": "istvan1",
                                    "SZALL_MOD": "Posta",
                                    "DB": "4"
                                },
                                {
                                    "LOGIN": "istvan1",
                                    "SZALL_MOD": "Személyes átvétel",
                                    "DB": "7"
                                },
                                {
                                    "LOGIN": "istvan1",
                                    "SZALL_MOD": "NULL",
                                    "DB": "19"
                                },
                                {
                                    "LOGIN": "ISTVANV",
                                    "SZALL_MOD": "GLS",
                                    "DB": "4"
                                },
                                {
                                    "LOGIN": "ISTVANV",
                                    "SZALL_MOD": "Posta",
                                    "DB": "9"
                                },
                                {
                                    "LOGIN": "ISTVANV",
                                    "SZALL_MOD": "Személyes átvétel",
                                    "DB": "8"
                                },
                                {
                                    "LOGIN": "ISTVANV",
                                    "SZALL_MOD": "NULL",
                                    "DB": "21"
                                },
                                {
                                    "LOGIN": "janos3",
                                    "SZALL_MOD": "GLS",
                                    "DB": "5"
                                },
                                {
                                    "LOGIN": "janos3",
                                    "SZALL_MOD": "Posta",
                                    "DB": "2"
                                },
                                {
                                    "LOGIN": "janos3",
                                    "SZALL_MOD": "Személyes átvétel",
                                    "DB": "6"
                                },
                                {
                                    "LOGIN": "janos3",
                                    "SZALL_MOD": "NULL",
                                    "DB": "13"
                                },
                                {
                                    "LOGIN": "JANOSG",
                                    "SZALL_MOD": "GLS",
                                    "DB": "3"
                                },
                                {
                                    "LOGIN": "JANOSG",
                                    "SZALL_MOD": "Posta",
                                    "DB": "3"
                                },
                                {
                                    "LOGIN": "JANOSG",
                                    "SZALL_MOD": "Személyes átvétel",
                                    "DB": "4"
                                },
                                {
                                    "LOGIN": "JANOSG",
                                    "SZALL_MOD": "NULL",
                                    "DB": "10"
                                },
                                {
                                    "LOGIN": "JANOSP",
                                    "SZALL_MOD": "GLS",
                                    "DB": "7"
                                },
                                {
                                    "LOGIN": "JANOSP",
                                    "SZALL_MOD": "Posta",
                                    "DB": "7"
                                },
                                {
                                    "LOGIN": "JANOSP",
                                    "SZALL_MOD": "Személyes átvétel",
                                    "DB": "3"
                                },
                                {
                                    "LOGIN": "JANOSP",
                                    "SZALL_MOD": "NULL",
                                    "DB": "17"
                                },
                                {
                                    "LOGIN": "jozsef",
                                    "SZALL_MOD": "GLS",
                                    "DB": "116"
                                },
                                {
                                    "LOGIN": "jozsef",
                                    "SZALL_MOD": "Posta",
                                    "DB": "132"
                                },
                                {
                                    "LOGIN": "jozsef",
                                    "SZALL_MOD": "Személyes átvétel",
                                    "DB": "134"
                                },
                                {
                                    "LOGIN": "jozsef",
                                    "SZALL_MOD": "NULL",
                                    "DB": "382"
                                },
                                {
                                    "LOGIN": "jozsef2",
                                    "SZALL_MOD": "GLS",
                                    "DB": "7"
                                },
                                {
                                    "LOGIN": "jozsef2",
                                    "SZALL_MOD": "Posta",
                                    "DB": "2"
                                },
                                {
                                    "LOGIN": "jozsef2",
                                    "SZALL_MOD": "Személyes átvétel",
                                    "DB": "4"
                                },
                                {
                                    "LOGIN": "jozsef2",
                                    "SZALL_MOD": "NULL",
                                    "DB": "13"
                                },
                                {
                                    "LOGIN": "JOZSEFG",
                                    "SZALL_MOD": "GLS",
                                    "DB": "11"
                                },
                                {
                                    "LOGIN": "JOZSEFG",
                                    "SZALL_MOD": "Posta",
                                    "DB": "1"
                                },
                                {
                                    "LOGIN": "JOZSEFG",
                                    "SZALL_MOD": "Személyes átvétel",
                                    "DB": "9"
                                },
                                {
                                    "LOGIN": "JOZSEFG",
                                    "SZALL_MOD": "NULL",
                                    "DB": "21"
                                },
                                {
                                    "LOGIN": "JUDITH",
                                    "SZALL_MOD": "GLS",
                                    "DB": "170"
                                },
                                {
                                    "LOGIN": "JUDITH",
                                    "SZALL_MOD": "Posta",
                                    "DB": "130"
                                },
                                {
                                    "LOGIN": "JUDITH",
                                    "SZALL_MOD": "Személyes átvétel",
                                    "DB": "150"
                                },
                                {
                                    "LOGIN": "JUDITH",
                                    "SZALL_MOD": "NULL",
                                    "DB": "450"
                                },
                                {
                                    "LOGIN": "julia",
                                    "SZALL_MOD": "GLS",
                                    "DB": "137"
                                },
                                {
                                    "LOGIN": "julia",
                                    "SZALL_MOD": "Posta",
                                    "DB": "160"
                                },
                                {
                                    "LOGIN": "julia",
                                    "SZALL_MOD": "Személyes átvétel",
                                    "DB": "138"
                                },
                                {
                                    "LOGIN": "julia",
                                    "SZALL_MOD": "NULL",
                                    "DB": "435"
                                },
                                {
                                    "LOGIN": "julia4",
                                    "SZALL_MOD": "GLS",
                                    "DB": "2"
                                },
                                {
                                    "LOGIN": "julia4",
                                    "SZALL_MOD": "Posta",
                                    "DB": "4"
                                },
                                {
                                    "LOGIN": "julia4",
                                    "SZALL_MOD": "Személyes átvétel",
                                    "DB": "8"
                                },
                                {
                                    "LOGIN": "julia4",
                                    "SZALL_MOD": "NULL",
                                    "DB": "14"
                                },
                                {
                                    "LOGIN": "julianna4",
                                    "SZALL_MOD": "GLS",
                                    "DB": "8"
                                },
                                {
                                    "LOGIN": "julianna4",
                                    "SZALL_MOD": "Posta",
                                    "DB": "12"
                                },
                                {
                                    "LOGIN": "julianna4",
                                    "SZALL_MOD": "Személyes átvétel",
                                    "DB": "7"
                                },
                                {
                                    "LOGIN": "julianna4",
                                    "SZALL_MOD": "NULL",
                                    "DB": "27"
                                },
                                {
                                    "LOGIN": "kata",
                                    "SZALL_MOD": "GLS",
                                    "DB": "5"
                                },
                                {
                                    "LOGIN": "kata",
                                    "SZALL_MOD": "Posta",
                                    "DB": "4"
                                },
                                {
                                    "LOGIN": "kata",
                                    "SZALL_MOD": "Személyes átvétel",
                                    "DB": "3"
                                },
                                {
                                    "LOGIN": "kata",
                                    "SZALL_MOD": "NULL",
                                    "DB": "12"
                                },
                                {
                                    "LOGIN": "katalin",
                                    "SZALL_MOD": "GLS",
                                    "DB": "7"
                                },
                                {
                                    "LOGIN": "katalin",
                                    "SZALL_MOD": "Posta",
                                    "DB": "7"
                                },
                                {
                                    "LOGIN": "katalin",
                                    "SZALL_MOD": "Személyes átvétel",
                                    "DB": "5"
                                },
                                {
                                    "LOGIN": "katalin",
                                    "SZALL_MOD": "NULL",
                                    "DB": "19"
                                },
                                {
                                    "LOGIN": "katalin4",
                                    "SZALL_MOD": "GLS",
                                    "DB": "7"
                                },
                                {
                                    "LOGIN": "katalin4",
                                    "SZALL_MOD": "Posta",
                                    "DB": "5"
                                },
                                {
                                    "LOGIN": "katalin4",
                                    "SZALL_MOD": "Személyes átvétel",
                                    "DB": "11"
                                },
                                {
                                    "LOGIN": "katalin4",
                                    "SZALL_MOD": "NULL",
                                    "DB": "23"
                                },
                                {
                                    "LOGIN": "kati",
                                    "SZALL_MOD": "GLS",
                                    "DB": "4"
                                },
                                {
                                    "LOGIN": "kati",
                                    "SZALL_MOD": "Posta",
                                    "DB": "5"
                                },
                                {
                                    "LOGIN": "kati",
                                    "SZALL_MOD": "Személyes átvétel",
                                    "DB": "4"
                                },
                                {
                                    "LOGIN": "kati",
                                    "SZALL_MOD": "NULL",
                                    "DB": "13"
                                },
                                {
                                    "LOGIN": "katka",
                                    "SZALL_MOD": "GLS",
                                    "DB": "6"
                                },
                                {
                                    "LOGIN": "katka",
                                    "SZALL_MOD": "Posta",
                                    "DB": "6"
                                },
                                {
                                    "LOGIN": "katka",
                                    "SZALL_MOD": "Személyes átvétel",
                                    "DB": "10"
                                },
                                {
                                    "LOGIN": "katka",
                                    "SZALL_MOD": "NULL",
                                    "DB": "22"
                                },
                                {
                                    "LOGIN": "klaudia2",
                                    "SZALL_MOD": "GLS",
                                    "DB": "3"
                                },
                                {
                                    "LOGIN": "klaudia2",
                                    "SZALL_MOD": "Posta",
                                    "DB": "9"
                                },
                                {
                                    "LOGIN": "klaudia2",
                                    "SZALL_MOD": "Személyes átvétel",
                                    "DB": "5"
                                },
                                {
                                    "LOGIN": "klaudia2",
                                    "SZALL_MOD": "NULL",
                                    "DB": "17"
                                },
                                {
                                    "LOGIN": "kornel4",
                                    "SZALL_MOD": "GLS",
                                    "DB": "3"
                                },
                                {
                                    "LOGIN": "kornel4",
                                    "SZALL_MOD": "Posta",
                                    "DB": "1"
                                },
                                {
                                    "LOGIN": "kornel4",
                                    "SZALL_MOD": "Személyes átvétel",
                                    "DB": "7"
                                },
                                {
                                    "LOGIN": "kornel4",
                                    "SZALL_MOD": "NULL",
                                    "DB": "11"
                                },
                                {
                                    "LOGIN": "kristof4",
                                    "SZALL_MOD": "GLS",
                                    "DB": "9"
                                },
                                {
                                    "LOGIN": "kristof4",
                                    "SZALL_MOD": "Posta",
                                    "DB": "4"
                                },
                                {
                                    "LOGIN": "kristof4",
                                    "SZALL_MOD": "Személyes átvétel",
                                    "DB": "8"
                                },
                                {
                                    "LOGIN": "kristof4",
                                    "SZALL_MOD": "NULL",
                                    "DB": "21"
                                },
                                {
                                    "LOGIN": "kriszti",
                                    "SZALL_MOD": "GLS",
                                    "DB": "3"
                                },
                                {
                                    "LOGIN": "kriszti",
                                    "SZALL_MOD": "Posta",
                                    "DB": "5"
                                },
                                {
                                    "LOGIN": "kriszti",
                                    "SZALL_MOD": "Személyes átvétel",
                                    "DB": "5"
                                },
                                {
                                    "LOGIN": "kriszti",
                                    "SZALL_MOD": "NULL",
                                    "DB": "13"
                                },
                                {
                                    "LOGIN": "krisztian4",
                                    "SZALL_MOD": "GLS",
                                    "DB": "5"
                                },
                                {
                                    "LOGIN": "krisztian4",
                                    "SZALL_MOD": "Posta",
                                    "DB": "6"
                                },
                                {
                                    "LOGIN": "krisztian4",
                                    "SZALL_MOD": "Személyes átvétel",
                                    "DB": "6"
                                },
                                {
                                    "LOGIN": "krisztian4",
                                    "SZALL_MOD": "NULL",
                                    "DB": "17"
                                },
                                {
                                    "LOGIN": "KRISZTIANM",
                                    "SZALL_MOD": "GLS",
                                    "DB": "118"
                                },
                                {
                                    "LOGIN": "KRISZTIANM",
                                    "SZALL_MOD": "Posta",
                                    "DB": "136"
                                },
                                {
                                    "LOGIN": "KRISZTIANM",
                                    "SZALL_MOD": "Személyes átvétel",
                                    "DB": "130"
                                },
                                {
                                    "LOGIN": "KRISZTIANM",
                                    "SZALL_MOD": "NULL",
                                    "DB": "384"
                                },
                                {
                                    "LOGIN": "krisztina",
                                    "SZALL_MOD": "GLS",
                                    "DB": "149"
                                },
                                {
                                    "LOGIN": "krisztina",
                                    "SZALL_MOD": "Posta",
                                    "DB": "150"
                                },
                                {
                                    "LOGIN": "krisztina",
                                    "SZALL_MOD": "Személyes átvétel",
                                    "DB": "157"
                                },
                                {
                                    "LOGIN": "krisztina",
                                    "SZALL_MOD": "NULL",
                                    "DB": "456"
                                },
                                {
                                    "LOGIN": "krisztina1",
                                    "SZALL_MOD": "GLS",
                                    "DB": "10"
                                },
                                {
                                    "LOGIN": "krisztina1",
                                    "SZALL_MOD": "Posta",
                                    "DB": "4"
                                },
                                {
                                    "LOGIN": "krisztina1",
                                    "SZALL_MOD": "Személyes átvétel",
                                    "DB": "8"
                                },
                                {
                                    "LOGIN": "krisztina1",
                                    "SZALL_MOD": "NULL",
                                    "DB": "22"
                                },
                                {
                                    "LOGIN": "KRISZTINAG",
                                    "SZALL_MOD": "GLS",
                                    "DB": "6"
                                },
                                {
                                    "LOGIN": "KRISZTINAG",
                                    "SZALL_MOD": "Posta",
                                    "DB": "6"
                                },
                                {
                                    "LOGIN": "KRISZTINAG",
                                    "SZALL_MOD": "Személyes átvétel",
                                    "DB": "10"
                                },
                                {
                                    "LOGIN": "KRISZTINAG",
                                    "SZALL_MOD": "NULL",
                                    "DB": "22"
                                },
                                {
                                    "LOGIN": "lajos",
                                    "SZALL_MOD": "GLS",
                                    "DB": "5"
                                },
                                {
                                    "LOGIN": "lajos",
                                    "SZALL_MOD": "Posta",
                                    "DB": "2"
                                },
                                {
                                    "LOGIN": "lajos",
                                    "SZALL_MOD": "Személyes átvétel",
                                    "DB": "9"
                                },
                                {
                                    "LOGIN": "lajos",
                                    "SZALL_MOD": "NULL",
                                    "DB": "16"
                                },
                                {
                                    "LOGIN": "lala",
                                    "SZALL_MOD": "GLS",
                                    "DB": "5"
                                },
                                {
                                    "LOGIN": "lala",
                                    "SZALL_MOD": "Posta",
                                    "DB": "3"
                                },
                                {
                                    "LOGIN": "lala",
                                    "SZALL_MOD": "Személyes átvétel",
                                    "DB": "9"
                                },
                                {
                                    "LOGIN": "lala",
                                    "SZALL_MOD": "NULL",
                                    "DB": "17"
                                },
                                {
                                    "LOGIN": "laszlo1",
                                    "SZALL_MOD": "GLS",
                                    "DB": "130"
                                },
                                {
                                    "LOGIN": "laszlo1",
                                    "SZALL_MOD": "Posta",
                                    "DB": "129"
                                },
                                {
                                    "LOGIN": "laszlo1",
                                    "SZALL_MOD": "Személyes átvétel",
                                    "DB": "135"
                                },
                                {
                                    "LOGIN": "laszlo1",
                                    "SZALL_MOD": "NULL",
                                    "DB": "394"
                                },
                                {
                                    "LOGIN": "laszlo2",
                                    "SZALL_MOD": "GLS",
                                    "DB": "12"
                                },
                                {
                                    "LOGIN": "laszlo2",
                                    "SZALL_MOD": "Posta",
                                    "DB": "6"
                                },
                                {
                                    "LOGIN": "laszlo2",
                                    "SZALL_MOD": "Személyes átvétel",
                                    "DB": "7"
                                },
                                {
                                    "LOGIN": "laszlo2",
                                    "SZALL_MOD": "NULL",
                                    "DB": "25"
                                },
                                {
                                    "LOGIN": "LASZLOA",
                                    "SZALL_MOD": "GLS",
                                    "DB": "156"
                                },
                                {
                                    "LOGIN": "LASZLOA",
                                    "SZALL_MOD": "Posta",
                                    "DB": "136"
                                },
                                {
                                    "LOGIN": "LASZLOA",
                                    "SZALL_MOD": "Személyes átvétel",
                                    "DB": "154"
                                },
                                {
                                    "LOGIN": "LASZLOA",
                                    "SZALL_MOD": "NULL",
                                    "DB": "446"
                                },
                                {
                                    "LOGIN": "LASZLON",
                                    "SZALL_MOD": "GLS",
                                    "DB": "126"
                                },
                                {
                                    "LOGIN": "LASZLON",
                                    "SZALL_MOD": "Posta",
                                    "DB": "131"
                                },
                                {
                                    "LOGIN": "LASZLON",
                                    "SZALL_MOD": "Személyes átvétel",
                                    "DB": "143"
                                },
                                {
                                    "LOGIN": "LASZLON",
                                    "SZALL_MOD": "NULL",
                                    "DB": "400"
                                },
                                {
                                    "LOGIN": "maria1",
                                    "SZALL_MOD": "GLS",
                                    "DB": "4"
                                },
                                {
                                    "LOGIN": "maria1",
                                    "SZALL_MOD": "Posta",
                                    "DB": "5"
                                },
                                {
                                    "LOGIN": "maria1",
                                    "SZALL_MOD": "Személyes átvétel",
                                    "DB": "1"
                                },
                                {
                                    "LOGIN": "maria1",
                                    "SZALL_MOD": "NULL",
                                    "DB": "10"
                                },
                                {
                                    "LOGIN": "MARKH",
                                    "SZALL_MOD": "GLS",
                                    "DB": "128"
                                },
                                {
                                    "LOGIN": "MARKH",
                                    "SZALL_MOD": "Posta",
                                    "DB": "142"
                                },
                                {
                                    "LOGIN": "MARKH",
                                    "SZALL_MOD": "Személyes átvétel",
                                    "DB": "142"
                                },
                                {
                                    "LOGIN": "MARKH",
                                    "SZALL_MOD": "NULL",
                                    "DB": "412"
                                },
                                {
                                    "LOGIN": "marton",
                                    "SZALL_MOD": "GLS",
                                    "DB": "5"
                                },
                                {
                                    "LOGIN": "marton",
                                    "SZALL_MOD": "Posta",
                                    "DB": "4"
                                },
                                {
                                    "LOGIN": "marton",
                                    "SZALL_MOD": "Személyes átvétel",
                                    "DB": "5"
                                },
                                {
                                    "LOGIN": "marton",
                                    "SZALL_MOD": "NULL",
                                    "DB": "14"
                                },
                                {
                                    "LOGIN": "MATEK",
                                    "SZALL_MOD": "GLS",
                                    "DB": "6"
                                },
                                {
                                    "LOGIN": "MATEK",
                                    "SZALL_MOD": "Posta",
                                    "DB": "10"
                                },
                                {
                                    "LOGIN": "MATEK",
                                    "SZALL_MOD": "Személyes átvétel",
                                    "DB": "9"
                                },
                                {
                                    "LOGIN": "MATEK",
                                    "SZALL_MOD": "NULL",
                                    "DB": "25"
                                },
                                {
                                    "LOGIN": "matyas2",
                                    "SZALL_MOD": "GLS",
                                    "DB": "138"
                                },
                                {
                                    "LOGIN": "matyas2",
                                    "SZALL_MOD": "Posta",
                                    "DB": "131"
                                },
                                {
                                    "LOGIN": "matyas2",
                                    "SZALL_MOD": "Személyes átvétel",
                                    "DB": "164"
                                },
                                {
                                    "LOGIN": "matyas2",
                                    "SZALL_MOD": "NULL",
                                    "DB": "433"
                                },
                                {
                                    "LOGIN": "MATYASS",
                                    "SZALL_MOD": "GLS",
                                    "DB": "4"
                                },
                                {
                                    "LOGIN": "MATYASS",
                                    "SZALL_MOD": "Posta",
                                    "DB": "5"
                                },
                                {
                                    "LOGIN": "MATYASS",
                                    "SZALL_MOD": "Személyes átvétel",
                                    "DB": "3"
                                },
                                {
                                    "LOGIN": "MATYASS",
                                    "SZALL_MOD": "NULL",
                                    "DB": "12"
                                },
                                {
                                    "LOGIN": "MIHALYJ",
                                    "SZALL_MOD": "GLS",
                                    "DB": "3"
                                },
                                {
                                    "LOGIN": "MIHALYJ",
                                    "SZALL_MOD": "Posta",
                                    "DB": "4"
                                },
                                {
                                    "LOGIN": "MIHALYJ",
                                    "SZALL_MOD": "Személyes átvétel",
                                    "DB": "6"
                                },
                                {
                                    "LOGIN": "MIHALYJ",
                                    "SZALL_MOD": "NULL",
                                    "DB": "13"
                                },
                                {
                                    "LOGIN": "miklos2",
                                    "SZALL_MOD": "GLS",
                                    "DB": "7"
                                },
                                {
                                    "LOGIN": "miklos2",
                                    "SZALL_MOD": "Posta",
                                    "DB": "4"
                                },
                                {
                                    "LOGIN": "miklos2",
                                    "SZALL_MOD": "Személyes átvétel",
                                    "DB": "2"
                                },
                                {
                                    "LOGIN": "miklos2",
                                    "SZALL_MOD": "NULL",
                                    "DB": "13"
                                },
                                {
                                    "LOGIN": "MIKLOSB",
                                    "SZALL_MOD": "GLS",
                                    "DB": "6"
                                },
                                {
                                    "LOGIN": "MIKLOSB",
                                    "SZALL_MOD": "Posta",
                                    "DB": "1"
                                },
                                {
                                    "LOGIN": "MIKLOSB",
                                    "SZALL_MOD": "Személyes átvétel",
                                    "DB": "8"
                                },
                                {
                                    "LOGIN": "MIKLOSB",
                                    "SZALL_MOD": "NULL",
                                    "DB": "15"
                                },
                                {
                                    "LOGIN": "MONIKAM",
                                    "SZALL_MOD": "GLS",
                                    "DB": "133"
                                },
                                {
                                    "LOGIN": "MONIKAM",
                                    "SZALL_MOD": "Posta",
                                    "DB": "151"
                                },
                                {
                                    "LOGIN": "MONIKAM",
                                    "SZALL_MOD": "Személyes átvétel",
                                    "DB": "123"
                                },
                                {
                                    "LOGIN": "MONIKAM",
                                    "SZALL_MOD": "NULL",
                                    "DB": "407"
                                },
                                {
                                    "LOGIN": "NANDORF",
                                    "SZALL_MOD": "GLS",
                                    "DB": "147"
                                },
                                {
                                    "LOGIN": "NANDORF",
                                    "SZALL_MOD": "Posta",
                                    "DB": "139"
                                },
                                {
                                    "LOGIN": "NANDORF",
                                    "SZALL_MOD": "Személyes átvétel",
                                    "DB": "134"
                                },
                                {
                                    "LOGIN": "NANDORF",
                                    "SZALL_MOD": "NULL",
                                    "DB": "420"
                                },
                                {
                                    "LOGIN": "nikolett3",
                                    "SZALL_MOD": "GLS",
                                    "DB": "4"
                                },
                                {
                                    "LOGIN": "nikolett3",
                                    "SZALL_MOD": "Posta",
                                    "DB": "3"
                                },
                                {
                                    "LOGIN": "nikolett3",
                                    "SZALL_MOD": "Személyes átvétel",
                                    "DB": "10"
                                },
                                {
                                    "LOGIN": "nikolett3",
                                    "SZALL_MOD": "NULL",
                                    "DB": "17"
                                },
                                {
                                    "LOGIN": "nikoletta4",
                                    "SZALL_MOD": "GLS",
                                    "DB": "137"
                                },
                                {
                                    "LOGIN": "nikoletta4",
                                    "SZALL_MOD": "Posta",
                                    "DB": "158"
                                },
                                {
                                    "LOGIN": "nikoletta4",
                                    "SZALL_MOD": "Személyes átvétel",
                                    "DB": "119"
                                },
                                {
                                    "LOGIN": "nikoletta4",
                                    "SZALL_MOD": "NULL",
                                    "DB": "414"
                                },
                                {
                                    "LOGIN": "NIKOLETTAT",
                                    "SZALL_MOD": "GLS",
                                    "DB": "13"
                                },
                                {
                                    "LOGIN": "NIKOLETTAT",
                                    "SZALL_MOD": "Posta",
                                    "DB": "7"
                                },
                                {
                                    "LOGIN": "NIKOLETTAT",
                                    "SZALL_MOD": "Személyes átvétel",
                                    "DB": "5"
                                },
                                {
                                    "LOGIN": "NIKOLETTAT",
                                    "SZALL_MOD": "NULL",
                                    "DB": "25"
                                },
                                {
                                    "LOGIN": "norbert2",
                                    "SZALL_MOD": "GLS",
                                    "DB": "7"
                                },
                                {
                                    "LOGIN": "norbert2",
                                    "SZALL_MOD": "Posta",
                                    "DB": "4"
                                },
                                {
                                    "LOGIN": "norbert2",
                                    "SZALL_MOD": "NULL",
                                    "DB": "11"
                                },
                                {
                                    "LOGIN": "norbert4",
                                    "SZALL_MOD": "GLS",
                                    "DB": "1"
                                },
                                {
                                    "LOGIN": "norbert4",
                                    "SZALL_MOD": "Posta",
                                    "DB": "3"
                                },
                                {
                                    "LOGIN": "norbert4",
                                    "SZALL_MOD": "Személyes átvétel",
                                    "DB": "9"
                                },
                                {
                                    "LOGIN": "norbert4",
                                    "SZALL_MOD": "NULL",
                                    "DB": "13"
                                },
                                {
                                    "LOGIN": "norbert5",
                                    "SZALL_MOD": "GLS",
                                    "DB": "1"
                                },
                                {
                                    "LOGIN": "norbert5",
                                    "SZALL_MOD": "Posta",
                                    "DB": "6"
                                },
                                {
                                    "LOGIN": "norbert5",
                                    "SZALL_MOD": "Személyes átvétel",
                                    "DB": "9"
                                },
                                {
                                    "LOGIN": "norbert5",
                                    "SZALL_MOD": "NULL",
                                    "DB": "16"
                                },
                                {
                                    "LOGIN": "pal",
                                    "SZALL_MOD": "GLS",
                                    "DB": "152"
                                },
                                {
                                    "LOGIN": "pal",
                                    "SZALL_MOD": "Posta",
                                    "DB": "132"
                                },
                                {
                                    "LOGIN": "pal",
                                    "SZALL_MOD": "Személyes átvétel",
                                    "DB": "154"
                                },
                                {
                                    "LOGIN": "pal",
                                    "SZALL_MOD": "NULL",
                                    "DB": "438"
                                },
                                {
                                    "LOGIN": "peter1",
                                    "SZALL_MOD": "GLS",
                                    "DB": "151"
                                },
                                {
                                    "LOGIN": "peter1",
                                    "SZALL_MOD": "Posta",
                                    "DB": "135"
                                },
                                {
                                    "LOGIN": "peter1",
                                    "SZALL_MOD": "Személyes átvétel",
                                    "DB": "126"
                                },
                                {
                                    "LOGIN": "peter1",
                                    "SZALL_MOD": "NULL",
                                    "DB": "412"
                                },
                                {
                                    "LOGIN": "peter2",
                                    "SZALL_MOD": "GLS",
                                    "DB": "7"
                                },
                                {
                                    "LOGIN": "peter2",
                                    "SZALL_MOD": "Posta",
                                    "DB": "4"
                                },
                                {
                                    "LOGIN": "peter2",
                                    "SZALL_MOD": "Személyes átvétel",
                                    "DB": "7"
                                },
                                {
                                    "LOGIN": "peter2",
                                    "SZALL_MOD": "NULL",
                                    "DB": "18"
                                },
                                {
                                    "LOGIN": "peter3",
                                    "SZALL_MOD": "GLS",
                                    "DB": "8"
                                },
                                {
                                    "LOGIN": "peter3",
                                    "SZALL_MOD": "Posta",
                                    "DB": "7"
                                },
                                {
                                    "LOGIN": "peter3",
                                    "SZALL_MOD": "Személyes átvétel",
                                    "DB": "10"
                                },
                                {
                                    "LOGIN": "peter3",
                                    "SZALL_MOD": "NULL",
                                    "DB": "25"
                                },
                                {
                                    "LOGIN": "peter4",
                                    "SZALL_MOD": "GLS",
                                    "DB": "266"
                                },
                                {
                                    "LOGIN": "peter4",
                                    "SZALL_MOD": "Posta",
                                    "DB": "293"
                                },
                                {
                                    "LOGIN": "peter4",
                                    "SZALL_MOD": "Személyes átvétel",
                                    "DB": "293"
                                },
                                {
                                    "LOGIN": "peter4",
                                    "SZALL_MOD": "NULL",
                                    "DB": "852"
                                },
                                {
                                    "LOGIN": "PETERB",
                                    "SZALL_MOD": "GLS",
                                    "DB": "2"
                                },
                                {
                                    "LOGIN": "PETERB",
                                    "SZALL_MOD": "Posta",
                                    "DB": "4"
                                },
                                {
                                    "LOGIN": "PETERB",
                                    "SZALL_MOD": "Személyes átvétel",
                                    "DB": "9"
                                },
                                {
                                    "LOGIN": "PETERB",
                                    "SZALL_MOD": "NULL",
                                    "DB": "15"
                                },
                                {
                                    "LOGIN": "polla",
                                    "SZALL_MOD": "GLS",
                                    "DB": "9"
                                },
                                {
                                    "LOGIN": "polla",
                                    "SZALL_MOD": "Posta",
                                    "DB": "6"
                                },
                                {
                                    "LOGIN": "polla",
                                    "SZALL_MOD": "Személyes átvétel",
                                    "DB": "7"
                                },
                                {
                                    "LOGIN": "polla",
                                    "SZALL_MOD": "NULL",
                                    "DB": "22"
                                },
                                {
                                    "LOGIN": "rajmond4",
                                    "SZALL_MOD": "GLS",
                                    "DB": "6"
                                },
                                {
                                    "LOGIN": "rajmond4",
                                    "SZALL_MOD": "Posta",
                                    "DB": "5"
                                },
                                {
                                    "LOGIN": "rajmond4",
                                    "SZALL_MOD": "Személyes átvétel",
                                    "DB": "6"
                                },
                                {
                                    "LOGIN": "rajmond4",
                                    "SZALL_MOD": "NULL",
                                    "DB": "17"
                                },
                                {
                                    "LOGIN": "reka4",
                                    "SZALL_MOD": "GLS",
                                    "DB": "5"
                                },
                                {
                                    "LOGIN": "reka4",
                                    "SZALL_MOD": "Posta",
                                    "DB": "4"
                                },
                                {
                                    "LOGIN": "reka4",
                                    "SZALL_MOD": "Személyes átvétel",
                                    "DB": "11"
                                },
                                {
                                    "LOGIN": "reka4",
                                    "SZALL_MOD": "NULL",
                                    "DB": "20"
                                },
                                {
                                    "LOGIN": "RENATAK",
                                    "SZALL_MOD": "GLS",
                                    "DB": "135"
                                },
                                {
                                    "LOGIN": "RENATAK",
                                    "SZALL_MOD": "Posta",
                                    "DB": "140"
                                },
                                {
                                    "LOGIN": "RENATAK",
                                    "SZALL_MOD": "Személyes átvétel",
                                    "DB": "147"
                                },
                                {
                                    "LOGIN": "RENATAK",
                                    "SZALL_MOD": "NULL",
                                    "DB": "422"
                                },
                                {
                                    "LOGIN": "RENATAS",
                                    "SZALL_MOD": "GLS",
                                    "DB": "6"
                                },
                                {
                                    "LOGIN": "RENATAS",
                                    "SZALL_MOD": "Posta",
                                    "DB": "5"
                                },
                                {
                                    "LOGIN": "RENATAS",
                                    "SZALL_MOD": "Személyes átvétel",
                                    "DB": "5"
                                },
                                {
                                    "LOGIN": "RENATAS",
                                    "SZALL_MOD": "NULL",
                                    "DB": "16"
                                },
                                {
                                    "LOGIN": "robert2",
                                    "SZALL_MOD": "GLS",
                                    "DB": "5"
                                },
                                {
                                    "LOGIN": "robert2",
                                    "SZALL_MOD": "Posta",
                                    "DB": "1"
                                },
                                {
                                    "LOGIN": "robert2",
                                    "SZALL_MOD": "Személyes átvétel",
                                    "DB": "7"
                                },
                                {
                                    "LOGIN": "robert2",
                                    "SZALL_MOD": "NULL",
                                    "DB": "13"
                                },
                                {
                                    "LOGIN": "ROBERTI",
                                    "SZALL_MOD": "GLS",
                                    "DB": "5"
                                },
                                {
                                    "LOGIN": "ROBERTI",
                                    "SZALL_MOD": "Posta",
                                    "DB": "3"
                                },
                                {
                                    "LOGIN": "ROBERTI",
                                    "SZALL_MOD": "Személyes átvétel",
                                    "DB": "5"
                                },
                                {
                                    "LOGIN": "ROBERTI",
                                    "SZALL_MOD": "NULL",
                                    "DB": "13"
                                },
                                {
                                    "LOGIN": "ROBERTP",
                                    "SZALL_MOD": "GLS",
                                    "DB": "8"
                                },
                                {
                                    "LOGIN": "ROBERTP",
                                    "SZALL_MOD": "Posta",
                                    "DB": "8"
                                },
                                {
                                    "LOGIN": "ROBERTP",
                                    "SZALL_MOD": "Személyes átvétel",
                                    "DB": "10"
                                },
                                {
                                    "LOGIN": "ROBERTP",
                                    "SZALL_MOD": "NULL",
                                    "DB": "26"
                                },
                                {
                                    "LOGIN": "roland",
                                    "SZALL_MOD": "GLS",
                                    "DB": "132"
                                },
                                {
                                    "LOGIN": "roland",
                                    "SZALL_MOD": "Posta",
                                    "DB": "157"
                                },
                                {
                                    "LOGIN": "roland",
                                    "SZALL_MOD": "Személyes átvétel",
                                    "DB": "125"
                                },
                                {
                                    "LOGIN": "roland",
                                    "SZALL_MOD": "NULL",
                                    "DB": "414"
                                },
                                {
                                    "LOGIN": "roland1",
                                    "SZALL_MOD": "GLS",
                                    "DB": "142"
                                },
                                {
                                    "LOGIN": "roland1",
                                    "SZALL_MOD": "Posta",
                                    "DB": "155"
                                },
                                {
                                    "LOGIN": "roland1",
                                    "SZALL_MOD": "Személyes átvétel",
                                    "DB": "135"
                                },
                                {
                                    "LOGIN": "roland1",
                                    "SZALL_MOD": "NULL",
                                    "DB": "432"
                                },
                                {
                                    "LOGIN": "roza2",
                                    "SZALL_MOD": "GLS",
                                    "DB": "3"
                                },
                                {
                                    "LOGIN": "roza2",
                                    "SZALL_MOD": "Posta",
                                    "DB": "2"
                                },
                                {
                                    "LOGIN": "roza2",
                                    "SZALL_MOD": "Személyes átvétel",
                                    "DB": "3"
                                },
                                {
                                    "LOGIN": "roza2",
                                    "SZALL_MOD": "NULL",
                                    "DB": "8"
                                },
                                {
                                    "LOGIN": "sandor",
                                    "SZALL_MOD": "GLS",
                                    "DB": "4"
                                },
                                {
                                    "LOGIN": "sandor",
                                    "SZALL_MOD": "Posta",
                                    "DB": "6"
                                },
                                {
                                    "LOGIN": "sandor",
                                    "SZALL_MOD": "Személyes átvétel",
                                    "DB": "7"
                                },
                                {
                                    "LOGIN": "sandor",
                                    "SZALL_MOD": "NULL",
                                    "DB": "17"
                                },
                                {
                                    "LOGIN": "sandor3",
                                    "SZALL_MOD": "GLS",
                                    "DB": "4"
                                },
                                {
                                    "LOGIN": "sandor3",
                                    "SZALL_MOD": "Posta",
                                    "DB": "4"
                                },
                                {
                                    "LOGIN": "sandor3",
                                    "SZALL_MOD": "Személyes átvétel",
                                    "DB": "6"
                                },
                                {
                                    "LOGIN": "sandor3",
                                    "SZALL_MOD": "NULL",
                                    "DB": "14"
                                },
                                {
                                    "LOGIN": "sandor4",
                                    "SZALL_MOD": "GLS",
                                    "DB": "4"
                                },
                                {
                                    "LOGIN": "sandor4",
                                    "SZALL_MOD": "Posta",
                                    "DB": "2"
                                },
                                {
                                    "LOGIN": "sandor4",
                                    "SZALL_MOD": "Személyes átvétel",
                                    "DB": "5"
                                },
                                {
                                    "LOGIN": "sandor4",
                                    "SZALL_MOD": "NULL",
                                    "DB": "11"
                                },
                                {
                                    "LOGIN": "sara",
                                    "SZALL_MOD": "GLS",
                                    "DB": "4"
                                },
                                {
                                    "LOGIN": "sara",
                                    "SZALL_MOD": "Posta",
                                    "DB": "7"
                                },
                                {
                                    "LOGIN": "sara",
                                    "SZALL_MOD": "Személyes átvétel",
                                    "DB": "9"
                                },
                                {
                                    "LOGIN": "sara",
                                    "SZALL_MOD": "NULL",
                                    "DB": "20"
                                },
                                {
                                    "LOGIN": "SEBASTIANF",
                                    "SZALL_MOD": "GLS",
                                    "DB": "6"
                                },
                                {
                                    "LOGIN": "SEBASTIANF",
                                    "SZALL_MOD": "Posta",
                                    "DB": "3"
                                },
                                {
                                    "LOGIN": "SEBASTIANF",
                                    "SZALL_MOD": "Személyes átvétel",
                                    "DB": "6"
                                },
                                {
                                    "LOGIN": "SEBASTIANF",
                                    "SZALL_MOD": "NULL",
                                    "DB": "15"
                                },
                                {
                                    "LOGIN": "sebestyen",
                                    "SZALL_MOD": "GLS",
                                    "DB": "4"
                                },
                                {
                                    "LOGIN": "sebestyen",
                                    "SZALL_MOD": "Posta",
                                    "DB": "6"
                                },
                                {
                                    "LOGIN": "sebestyen",
                                    "SZALL_MOD": "Személyes átvétel",
                                    "DB": "6"
                                },
                                {
                                    "LOGIN": "sebestyen",
                                    "SZALL_MOD": "NULL",
                                    "DB": "16"
                                },
                                {
                                    "LOGIN": "szabolcs",
                                    "SZALL_MOD": "GLS",
                                    "DB": "145"
                                },
                                {
                                    "LOGIN": "szabolcs",
                                    "SZALL_MOD": "Posta",
                                    "DB": "157"
                                },
                                {
                                    "LOGIN": "szabolcs",
                                    "SZALL_MOD": "Személyes átvétel",
                                    "DB": "169"
                                },
                                {
                                    "LOGIN": "szabolcs",
                                    "SZALL_MOD": "NULL",
                                    "DB": "471"
                                },
                                {
                                    "LOGIN": "SZABOLCSM",
                                    "SZALL_MOD": "GLS",
                                    "DB": "126"
                                },
                                {
                                    "LOGIN": "SZABOLCSM",
                                    "SZALL_MOD": "Posta",
                                    "DB": "153"
                                },
                                {
                                    "LOGIN": "SZABOLCSM",
                                    "SZALL_MOD": "Személyes átvétel",
                                    "DB": "129"
                                },
                                {
                                    "LOGIN": "SZABOLCSM",
                                    "SZALL_MOD": "NULL",
                                    "DB": "408"
                                },
                                {
                                    "LOGIN": "SZILARDS",
                                    "SZALL_MOD": "GLS",
                                    "DB": "144"
                                },
                                {
                                    "LOGIN": "SZILARDS",
                                    "SZALL_MOD": "Posta",
                                    "DB": "131"
                                },
                                {
                                    "LOGIN": "SZILARDS",
                                    "SZALL_MOD": "Személyes átvétel",
                                    "DB": "111"
                                },
                                {
                                    "LOGIN": "SZILARDS",
                                    "SZALL_MOD": "NULL",
                                    "DB": "386"
                                },
                                {
                                    "LOGIN": "szilvia1",
                                    "SZALL_MOD": "GLS",
                                    "DB": "156"
                                },
                                {
                                    "LOGIN": "szilvia1",
                                    "SZALL_MOD": "Posta",
                                    "DB": "151"
                                },
                                {
                                    "LOGIN": "szilvia1",
                                    "SZALL_MOD": "Személyes átvétel",
                                    "DB": "138"
                                },
                                {
                                    "LOGIN": "szilvia1",
                                    "SZALL_MOD": "NULL",
                                    "DB": "445"
                                },
                                {
                                    "LOGIN": "tamara2",
                                    "SZALL_MOD": "GLS",
                                    "DB": "6"
                                },
                                {
                                    "LOGIN": "tamara2",
                                    "SZALL_MOD": "Posta",
                                    "DB": "4"
                                },
                                {
                                    "LOGIN": "tamara2",
                                    "SZALL_MOD": "Személyes átvétel",
                                    "DB": "3"
                                },
                                {
                                    "LOGIN": "tamara2",
                                    "SZALL_MOD": "NULL",
                                    "DB": "13"
                                },
                                {
                                    "LOGIN": "tamas",
                                    "SZALL_MOD": "GLS",
                                    "DB": "143"
                                },
                                {
                                    "LOGIN": "tamas",
                                    "SZALL_MOD": "Posta",
                                    "DB": "156"
                                },
                                {
                                    "LOGIN": "tamas",
                                    "SZALL_MOD": "Személyes átvétel",
                                    "DB": "122"
                                },
                                {
                                    "LOGIN": "tamas",
                                    "SZALL_MOD": "NULL",
                                    "DB": "421"
                                },
                                {
                                    "LOGIN": "TAMASF",
                                    "SZALL_MOD": "GLS",
                                    "DB": "159"
                                },
                                {
                                    "LOGIN": "TAMASF",
                                    "SZALL_MOD": "Posta",
                                    "DB": "145"
                                },
                                {
                                    "LOGIN": "TAMASF",
                                    "SZALL_MOD": "Személyes átvétel",
                                    "DB": "129"
                                },
                                {
                                    "LOGIN": "TAMASF",
                                    "SZALL_MOD": "NULL",
                                    "DB": "433"
                                },
                                {
                                    "LOGIN": "tibor",
                                    "SZALL_MOD": "GLS",
                                    "DB": "115"
                                },
                                {
                                    "LOGIN": "tibor",
                                    "SZALL_MOD": "Posta",
                                    "DB": "129"
                                },
                                {
                                    "LOGIN": "tibor",
                                    "SZALL_MOD": "Személyes átvétel",
                                    "DB": "130"
                                },
                                {
                                    "LOGIN": "tibor",
                                    "SZALL_MOD": "NULL",
                                    "DB": "374"
                                },
                                {
                                    "LOGIN": "tibor2",
                                    "SZALL_MOD": "GLS",
                                    "DB": "7"
                                },
                                {
                                    "LOGIN": "tibor2",
                                    "SZALL_MOD": "Posta",
                                    "DB": "7"
                                },
                                {
                                    "LOGIN": "tibor2",
                                    "SZALL_MOD": "Személyes átvétel",
                                    "DB": "11"
                                },
                                {
                                    "LOGIN": "tibor2",
                                    "SZALL_MOD": "NULL",
                                    "DB": "25"
                                },
                                {
                                    "LOGIN": "tihamer",
                                    "SZALL_MOD": "GLS",
                                    "DB": "9"
                                },
                                {
                                    "LOGIN": "tihamer",
                                    "SZALL_MOD": "Posta",
                                    "DB": "6"
                                },
                                {
                                    "LOGIN": "tihamer",
                                    "SZALL_MOD": "Személyes átvétel",
                                    "DB": "5"
                                },
                                {
                                    "LOGIN": "tihamer",
                                    "SZALL_MOD": "NULL",
                                    "DB": "20"
                                },
                                {
                                    "LOGIN": "timea",
                                    "SZALL_MOD": "GLS",
                                    "DB": "14"
                                },
                                {
                                    "LOGIN": "timea",
                                    "SZALL_MOD": "Posta",
                                    "DB": "23"
                                },
                                {
                                    "LOGIN": "timea",
                                    "SZALL_MOD": "Személyes átvétel",
                                    "DB": "18"
                                },
                                {
                                    "LOGIN": "timea",
                                    "SZALL_MOD": "NULL",
                                    "DB": "55"
                                },
                                {
                                    "LOGIN": "timea2",
                                    "SZALL_MOD": "GLS",
                                    "DB": "1"
                                },
                                {
                                    "LOGIN": "timea2",
                                    "SZALL_MOD": "Posta",
                                    "DB": "5"
                                },
                                {
                                    "LOGIN": "timea2",
                                    "SZALL_MOD": "Személyes átvétel",
                                    "DB": "10"
                                },
                                {
                                    "LOGIN": "timea2",
                                    "SZALL_MOD": "NULL",
                                    "DB": "16"
                                },
                                {
                                    "LOGIN": "tunde",
                                    "SZALL_MOD": "GLS",
                                    "DB": "6"
                                },
                                {
                                    "LOGIN": "tunde",
                                    "SZALL_MOD": "Posta",
                                    "DB": "6"
                                },
                                {
                                    "LOGIN": "tunde",
                                    "SZALL_MOD": "Személyes átvétel",
                                    "DB": "4"
                                },
                                {
                                    "LOGIN": "tunde",
                                    "SZALL_MOD": "NULL",
                                    "DB": "16"
                                },
                                {
                                    "LOGIN": "valentin",
                                    "SZALL_MOD": "GLS",
                                    "DB": "5"
                                },
                                {
                                    "LOGIN": "valentin",
                                    "SZALL_MOD": "Posta",
                                    "DB": "5"
                                },
                                {
                                    "LOGIN": "valentin",
                                    "SZALL_MOD": "Személyes átvétel",
                                    "DB": "3"
                                },
                                {
                                    "LOGIN": "valentin",
                                    "SZALL_MOD": "NULL",
                                    "DB": "13"
                                },
                                {
                                    "LOGIN": "veronika4",
                                    "SZALL_MOD": "GLS",
                                    "DB": "5"
                                },
                                {
                                    "LOGIN": "veronika4",
                                    "SZALL_MOD": "Posta",
                                    "DB": "6"
                                },
                                {
                                    "LOGIN": "veronika4",
                                    "SZALL_MOD": "Személyes átvétel",
                                    "DB": "7"
                                },
                                {
                                    "LOGIN": "veronika4",
                                    "SZALL_MOD": "NULL",
                                    "DB": "18"
                                },
                                {
                                    "LOGIN": "VIKTORIAU",
                                    "SZALL_MOD": "GLS",
                                    "DB": "5"
                                },
                                {
                                    "LOGIN": "VIKTORIAU",
                                    "SZALL_MOD": "Posta",
                                    "DB": "4"
                                },
                                {
                                    "LOGIN": "VIKTORIAU",
                                    "SZALL_MOD": "Személyes átvétel",
                                    "DB": "5"
                                },
                                {
                                    "LOGIN": "VIKTORIAU",
                                    "SZALL_MOD": "NULL",
                                    "DB": "14"
                                },
                                {
                                    "LOGIN": "VIKTORK",
                                    "SZALL_MOD": "GLS",
                                    "DB": "8"
                                },
                                {
                                    "LOGIN": "VIKTORK",
                                    "SZALL_MOD": "Posta",
                                    "DB": "6"
                                },
                                {
                                    "LOGIN": "VIKTORK",
                                    "SZALL_MOD": "Személyes átvétel",
                                    "DB": "6"
                                },
                                {
                                    "LOGIN": "VIKTORK",
                                    "SZALL_MOD": "NULL",
                                    "DB": "20"
                                },
                                {
                                    "LOGIN": "vivien3",
                                    "SZALL_MOD": "GLS",
                                    "DB": "9"
                                },
                                {
                                    "LOGIN": "vivien3",
                                    "SZALL_MOD": "Posta",
                                    "DB": "6"
                                },
                                {
                                    "LOGIN": "vivien3",
                                    "SZALL_MOD": "Személyes átvétel",
                                    "DB": "7"
                                },
                                {
                                    "LOGIN": "vivien3",
                                    "SZALL_MOD": "NULL",
                                    "DB": "22"
                                },
                                {
                                    "LOGIN": "zoltan",
                                    "SZALL_MOD": "GLS",
                                    "DB": "5"
                                },
                                {
                                    "LOGIN": "zoltan",
                                    "SZALL_MOD": "Posta",
                                    "DB": "3"
                                },
                                {
                                    "LOGIN": "zoltan",
                                    "SZALL_MOD": "Személyes átvétel",
                                    "DB": "7"
                                },
                                {
                                    "LOGIN": "zoltan",
                                    "SZALL_MOD": "NULL",
                                    "DB": "15"
                                },
                                {
                                    "LOGIN": "zoltan4",
                                    "SZALL_MOD": "GLS",
                                    "DB": "129"
                                },
                                {
                                    "LOGIN": "zoltan4",
                                    "SZALL_MOD": "Posta",
                                    "DB": "124"
                                },
                                {
                                    "LOGIN": "zoltan4",
                                    "SZALL_MOD": "Személyes átvétel",
                                    "DB": "171"
                                },
                                {
                                    "LOGIN": "zoltan4",
                                    "SZALL_MOD": "NULL",
                                    "DB": "424"
                                },
                                {
                                    "LOGIN": "ZOLTANP",
                                    "SZALL_MOD": "GLS",
                                    "DB": "6"
                                },
                                {
                                    "LOGIN": "ZOLTANP",
                                    "SZALL_MOD": "Posta",
                                    "DB": "3"
                                },
                                {
                                    "LOGIN": "ZOLTANP",
                                    "SZALL_MOD": "Személyes átvétel",
                                    "DB": "4"
                                },
                                {
                                    "LOGIN": "ZOLTANP",
                                    "SZALL_MOD": "NULL",
                                    "DB": "13"
                                },
                                {
                                    "LOGIN": "ZOLTANT",
                                    "SZALL_MOD": "GLS",
                                    "DB": "127"
                                },
                                {
                                    "LOGIN": "ZOLTANT",
                                    "SZALL_MOD": "Posta",
                                    "DB": "107"
                                },
                                {
                                    "LOGIN": "ZOLTANT",
                                    "SZALL_MOD": "Személyes átvétel",
                                    "DB": "123"
                                },
                                {
                                    "LOGIN": "ZOLTANT",
                                    "SZALL_MOD": "NULL",
                                    "DB": "357"
                                },
                                {
                                    "LOGIN": "zsofi1",
                                    "SZALL_MOD": "GLS",
                                    "DB": "7"
                                },
                                {
                                    "LOGIN": "zsofi1",
                                    "SZALL_MOD": "Posta",
                                    "DB": "6"
                                },
                                {
                                    "LOGIN": "zsofi1",
                                    "SZALL_MOD": "Személyes átvétel",
                                    "DB": "6"
                                },
                                {
                                    "LOGIN": "zsofi1",
                                    "SZALL_MOD": "NULL",
                                    "DB": "19"
                                },
                                {
                                    "LOGIN": "zsolt1",
                                    "SZALL_MOD": "GLS",
                                    "DB": "11"
                                },
                                {
                                    "LOGIN": "zsolt1",
                                    "SZALL_MOD": "Posta",
                                    "DB": "6"
                                },
                                {
                                    "LOGIN": "zsolt1",
                                    "SZALL_MOD": "Személyes átvétel",
                                    "DB": "3"
                                },
                                {
                                    "LOGIN": "zsolt1",
                                    "SZALL_MOD": "NULL",
                                    "DB": "20"
                                },
                                {
                                    "LOGIN": "ZSOLTJ",
                                    "SZALL_MOD": "GLS",
                                    "DB": "1"
                                },
                                {
                                    "LOGIN": "ZSOLTJ",
                                    "SZALL_MOD": "Posta",
                                    "DB": "8"
                                },
                                {
                                    "LOGIN": "ZSOLTJ",
                                    "SZALL_MOD": "Személyes átvétel",
                                    "DB": "9"
                                },
                                {
                                    "LOGIN": "ZSOLTJ",
                                    "SZALL_MOD": "NULL",
                                    "DB": "18"
                                },
                                {
                                    "LOGIN": "zsuzsa",
                                    "SZALL_MOD": "GLS",
                                    "DB": "8"
                                },
                                {
                                    "LOGIN": "zsuzsa",
                                    "SZALL_MOD": "Posta",
                                    "DB": "5"
                                },
                                {
                                    "LOGIN": "zsuzsa",
                                    "SZALL_MOD": "Személyes átvétel",
                                    "DB": "3"
                                },
                                {
                                    "LOGIN": "zsuzsa",
                                    "SZALL_MOD": "NULL",
                                    "DB": "16"
                                },
                                {
                                    "LOGIN": "zsuzsa3",
                                    "SZALL_MOD": "GLS",
                                    "DB": "5"
                                },
                                {
                                    "LOGIN": "zsuzsa3",
                                    "SZALL_MOD": "Posta",
                                    "DB": "5"
                                },
                                {
                                    "LOGIN": "zsuzsa3",
                                    "SZALL_MOD": "Személyes átvétel",
                                    "DB": "6"
                                },
                                {
                                    "LOGIN": "zsuzsa3",
                                    "SZALL_MOD": "NULL",
                                    "DB": "16"
                                },
                                {
                                    "LOGIN": "zsuzsanna",
                                    "SZALL_MOD": "GLS",
                                    "DB": "7"
                                },
                                {
                                    "LOGIN": "zsuzsanna",
                                    "SZALL_MOD": "Posta",
                                    "DB": "5"
                                },
                                {
                                    "LOGIN": "zsuzsanna",
                                    "SZALL_MOD": "Személyes átvétel",
                                    "DB": "3"
                                },
                                {
                                    "LOGIN": "zsuzsanna",
                                    "SZALL_MOD": "NULL",
                                    "DB": "15"
                                },
                                {
                                    "LOGIN": "ZSUZSAV",
                                    "SZALL_MOD": "GLS",
                                    "DB": "139"
                                },
                                {
                                    "LOGIN": "ZSUZSAV",
                                    "SZALL_MOD": "Posta",
                                    "DB": "139"
                                },
                                {
                                    "LOGIN": "ZSUZSAV",
                                    "SZALL_MOD": "Személyes átvétel",
                                    "DB": "142"
                                },
                                {
                                    "LOGIN": "ZSUZSAV",
                                    "SZALL_MOD": "NULL",
                                    "DB": "420"
                                },
                                {
                                    "LOGIN": "NULL",
                                    "SZALL_MOD": "NULL",
                                    "DB": "28085"
                                }
                            ]
                        },
                        "text/html": "<table><tr><th>LOGIN</th><th>SZALL_MOD</th><th>DB</th></tr><tr><td>adam1</td><td>GLS</td><td>129</td></tr><tr><td>adam1</td><td>Posta</td><td>132</td></tr><tr><td>adam1</td><td>Személyes átvétel</td><td>131</td></tr><tr><td>adam1</td><td>NULL</td><td>392</td></tr><tr><td>adam3</td><td>GLS</td><td>10</td></tr><tr><td>adam3</td><td>Posta</td><td>3</td></tr><tr><td>adam3</td><td>Személyes átvétel</td><td>2</td></tr><tr><td>adam3</td><td>NULL</td><td>15</td></tr><tr><td>adam4</td><td>GLS</td><td>12</td></tr><tr><td>adam4</td><td>Posta</td><td>6</td></tr><tr><td>adam4</td><td>Személyes átvétel</td><td>11</td></tr><tr><td>adam4</td><td>NULL</td><td>29</td></tr><tr><td>agnes</td><td>GLS</td><td>144</td></tr><tr><td>agnes</td><td>Posta</td><td>130</td></tr><tr><td>agnes</td><td>Személyes átvétel</td><td>144</td></tr><tr><td>agnes</td><td>NULL</td><td>418</td></tr><tr><td>agnes3</td><td>GLS</td><td>148</td></tr><tr><td>agnes3</td><td>Posta</td><td>146</td></tr><tr><td>agnes3</td><td>Személyes átvétel</td><td>136</td></tr><tr><td>agnes3</td><td>NULL</td><td>430</td></tr><tr><td>AGNESH</td><td>GLS</td><td>2</td></tr><tr><td>AGNESH</td><td>Posta</td><td>3</td></tr><tr><td>AGNESH</td><td>Személyes átvétel</td><td>6</td></tr><tr><td>AGNESH</td><td>NULL</td><td>11</td></tr><tr><td>AGNESK</td><td>GLS</td><td>1</td></tr><tr><td>AGNESK</td><td>Posta</td><td>7</td></tr><tr><td>AGNESK</td><td>Személyes átvétel</td><td>7</td></tr><tr><td>AGNESK</td><td>NULL</td><td>15</td></tr><tr><td>akos</td><td>GLS</td><td>146</td></tr><tr><td>akos</td><td>Posta</td><td>143</td></tr><tr><td>akos</td><td>Személyes átvétel</td><td>140</td></tr><tr><td>akos</td><td>NULL</td><td>429</td></tr><tr><td>aladar</td><td>GLS</td><td>156</td></tr><tr><td>aladar</td><td>Posta</td><td>134</td></tr><tr><td>aladar</td><td>Személyes átvétel</td><td>118</td></tr><tr><td>aladar</td><td>NULL</td><td>408</td></tr><tr><td>alexandra</td><td>GLS</td><td>5</td></tr><tr><td>alexandra</td><td>Posta</td><td>9</td></tr><tr><td>alexandra</td><td>Személyes átvétel</td><td>5</td></tr><tr><td>alexandra</td><td>NULL</td><td>19</td></tr><tr><td>andi</td><td>GLS</td><td>7</td></tr><tr><td>andi</td><td>Posta</td><td>4</td></tr><tr><td>andi</td><td>Személyes átvétel</td><td>7</td></tr><tr><td>andi</td><td>NULL</td><td>18</td></tr><tr><td>andras2</td><td>GLS</td><td>4</td></tr><tr><td>andras2</td><td>Posta</td><td>7</td></tr><tr><td>andras2</td><td>Személyes átvétel</td><td>11</td></tr><tr><td>andras2</td><td>NULL</td><td>22</td></tr><tr><td>andras21</td><td>GLS</td><td>140</td></tr><tr><td>andras21</td><td>Posta</td><td>124</td></tr><tr><td>andras21</td><td>Személyes átvétel</td><td>126</td></tr><tr><td>andras21</td><td>NULL</td><td>390</td></tr><tr><td>andras3</td><td>GLS</td><td>3</td></tr><tr><td>andras3</td><td>Posta</td><td>1</td></tr><tr><td>andras3</td><td>Személyes átvétel</td><td>5</td></tr><tr><td>andras3</td><td>NULL</td><td>9</td></tr><tr><td>andras4</td><td>GLS</td><td>4</td></tr><tr><td>andras4</td><td>Posta</td><td>4</td></tr><tr><td>andras4</td><td>Személyes átvétel</td><td>4</td></tr><tr><td>andras4</td><td>NULL</td><td>12</td></tr><tr><td>andras41</td><td>GLS</td><td>149</td></tr><tr><td>andras41</td><td>Posta</td><td>137</td></tr><tr><td>andras41</td><td>Személyes átvétel</td><td>133</td></tr><tr><td>andras41</td><td>NULL</td><td>419</td></tr><tr><td>ANDRASE</td><td>GLS</td><td>159</td></tr><tr><td>ANDRASE</td><td>Posta</td><td>141</td></tr><tr><td>ANDRASE</td><td>Személyes átvétel</td><td>136</td></tr><tr><td>ANDRASE</td><td>NULL</td><td>436</td></tr><tr><td>ANDRASN</td><td>GLS</td><td>10</td></tr><tr><td>ANDRASN</td><td>Posta</td><td>9</td></tr><tr><td>ANDRASN</td><td>Személyes átvétel</td><td>5</td></tr><tr><td>ANDRASN</td><td>NULL</td><td>24</td></tr><tr><td>andrea</td><td>GLS</td><td>12</td></tr><tr><td>andrea</td><td>Posta</td><td>4</td></tr><tr><td>andrea</td><td>Személyes átvétel</td><td>8</td></tr><tr><td>andrea</td><td>NULL</td><td>24</td></tr><tr><td>andrea3</td><td>GLS</td><td>131</td></tr><tr><td>andrea3</td><td>Posta</td><td>136</td></tr><tr><td>andrea3</td><td>Személyes átvétel</td><td>146</td></tr><tr><td>andrea3</td><td>NULL</td><td>413</td></tr><tr><td>andrea4</td><td>GLS</td><td>7</td></tr><tr><td>andrea4</td><td>Posta</td><td>4</td></tr><tr><td>andrea4</td><td>Személyes átvétel</td><td>7</td></tr><tr><td>andrea4</td><td>NULL</td><td>18</td></tr><tr><td>ANDREAT</td><td>GLS</td><td>3</td></tr><tr><td>ANDREAT</td><td>Posta</td><td>6</td></tr><tr><td>ANDREAT</td><td>Személyes átvétel</td><td>12</td></tr><tr><td>ANDREAT</td><td>NULL</td><td>21</td></tr><tr><td>anett3</td><td>GLS</td><td>3</td></tr><tr><td>anett3</td><td>Posta</td><td>6</td></tr><tr><td>anett3</td><td>Személyes átvétel</td><td>9</td></tr><tr><td>anett3</td><td>NULL</td><td>18</td></tr><tr><td>aniko</td><td>GLS</td><td>128</td></tr><tr><td>aniko</td><td>Posta</td><td>137</td></tr><tr><td>aniko</td><td>Személyes átvétel</td><td>138</td></tr><tr><td>aniko</td><td>NULL</td><td>403</td></tr><tr><td>aniko4</td><td>GLS</td><td>6</td></tr><tr><td>aniko4</td><td>Posta</td><td>6</td></tr><tr><td>aniko4</td><td>Személyes átvétel</td><td>3</td></tr><tr><td>aniko4</td><td>NULL</td><td>15</td></tr><tr><td>ANIKOS</td><td>GLS</td><td>128</td></tr><tr><td>ANIKOS</td><td>Posta</td><td>126</td></tr><tr><td>ANIKOS</td><td>Személyes átvétel</td><td>150</td></tr><tr><td>ANIKOS</td><td>NULL</td><td>404</td></tr><tr><td>anita</td><td>GLS</td><td>5</td></tr><tr><td>anita</td><td>Posta</td><td>2</td></tr><tr><td>anita</td><td>Személyes átvétel</td><td>5</td></tr><tr><td>anita</td><td>NULL</td><td>12</td></tr><tr><td>annamaria1</td><td>GLS</td><td>5</td></tr><tr><td>annamaria1</td><td>Posta</td><td>4</td></tr><tr><td>annamaria1</td><td>Személyes átvétel</td><td>7</td></tr><tr><td>annamaria1</td><td>NULL</td><td>16</td></tr><tr><td>ANNAMARIAR</td><td>GLS</td><td>8</td></tr><tr><td>ANNAMARIAR</td><td>Posta</td><td>2</td></tr><tr><td>ANNAMARIAR</td><td>Személyes átvétel</td><td>3</td></tr><tr><td>ANNAMARIAR</td><td>NULL</td><td>13</td></tr><tr><td>aron2</td><td>GLS</td><td>132</td></tr><tr><td>aron2</td><td>Posta</td><td>133</td></tr><tr><td>aron2</td><td>Személyes átvétel</td><td>144</td></tr><tr><td>aron2</td><td>NULL</td><td>409</td></tr><tr><td>ARONK</td><td>GLS</td><td>155</td></tr><tr><td>ARONK</td><td>Posta</td><td>120</td></tr><tr><td>ARONK</td><td>Személyes átvétel</td><td>155</td></tr><tr><td>ARONK</td><td>NULL</td><td>430</td></tr><tr><td>arpad2</td><td>GLS</td><td>6</td></tr><tr><td>arpad2</td><td>Posta</td><td>1</td></tr><tr><td>arpad2</td><td>Személyes átvétel</td><td>10</td></tr><tr><td>arpad2</td><td>NULL</td><td>17</td></tr><tr><td>ARPADH</td><td>GLS</td><td>6</td></tr><tr><td>ARPADH</td><td>Posta</td><td>3</td></tr><tr><td>ARPADH</td><td>Személyes átvétel</td><td>5</td></tr><tr><td>ARPADH</td><td>NULL</td><td>14</td></tr><tr><td>ARPADM</td><td>GLS</td><td>6</td></tr><tr><td>ARPADM</td><td>Posta</td><td>3</td></tr><tr><td>ARPADM</td><td>Személyes átvétel</td><td>7</td></tr><tr><td>ARPADM</td><td>NULL</td><td>16</td></tr><tr><td>attila1</td><td>GLS</td><td>5</td></tr><tr><td>attila1</td><td>Posta</td><td>7</td></tr><tr><td>attila1</td><td>Személyes átvétel</td><td>6</td></tr><tr><td>attila1</td><td>NULL</td><td>18</td></tr><tr><td>attila4</td><td>GLS</td><td>135</td></tr><tr><td>attila4</td><td>Posta</td><td>125</td></tr><tr><td>attila4</td><td>Személyes átvétel</td><td>141</td></tr><tr><td>attila4</td><td>NULL</td><td>401</td></tr><tr><td>ATTILAO</td><td>GLS</td><td>4</td></tr><tr><td>ATTILAO</td><td>Posta</td><td>4</td></tr><tr><td>ATTILAO</td><td>Személyes átvétel</td><td>6</td></tr><tr><td>ATTILAO</td><td>NULL</td><td>14</td></tr><tr><td>balazs1</td><td>GLS</td><td>128</td></tr><tr><td>balazs1</td><td>Posta</td><td>136</td></tr><tr><td>balazs1</td><td>Személyes átvétel</td><td>155</td></tr><tr><td>balazs1</td><td>NULL</td><td>419</td></tr><tr><td>balazs2</td><td>GLS</td><td>5</td></tr><tr><td>balazs2</td><td>Posta</td><td>7</td></tr><tr><td>balazs2</td><td>Személyes átvétel</td><td>5</td></tr><tr><td>balazs2</td><td>NULL</td><td>17</td></tr><tr><td>balazs3</td><td>GLS</td><td>6</td></tr><tr><td>balazs3</td><td>Posta</td><td>6</td></tr><tr><td>balazs3</td><td>Személyes átvétel</td><td>3</td></tr><tr><td>balazs3</td><td>NULL</td><td>15</td></tr><tr><td>balint</td><td>GLS</td><td>10</td></tr><tr><td>balint</td><td>Posta</td><td>4</td></tr><tr><td>balint</td><td>Személyes átvétel</td><td>2</td></tr><tr><td>balint</td><td>NULL</td><td>16</td></tr><tr><td>balint1</td><td>GLS</td><td>158</td></tr><tr><td>balint1</td><td>Posta</td><td>152</td></tr><tr><td>balint1</td><td>Személyes átvétel</td><td>152</td></tr><tr><td>balint1</td><td>NULL</td><td>462</td></tr><tr><td>balint2</td><td>GLS</td><td>8</td></tr><tr><td>balint2</td><td>Posta</td><td>6</td></tr><tr><td>balint2</td><td>Személyes átvétel</td><td>3</td></tr><tr><td>balint2</td><td>NULL</td><td>17</td></tr><tr><td>balu</td><td>GLS</td><td>127</td></tr><tr><td>balu</td><td>Posta</td><td>137</td></tr><tr><td>balu</td><td>Személyes átvétel</td><td>123</td></tr><tr><td>balu</td><td>NULL</td><td>387</td></tr><tr><td>BEATRIXK</td><td>GLS</td><td>135</td></tr><tr><td>BEATRIXK</td><td>Posta</td><td>155</td></tr><tr><td>BEATRIXK</td><td>Személyes átvétel</td><td>145</td></tr><tr><td>BEATRIXK</td><td>NULL</td><td>435</td></tr><tr><td>BEATRIXS</td><td>GLS</td><td>146</td></tr><tr><td>BEATRIXS</td><td>Posta</td><td>141</td></tr><tr><td>BEATRIXS</td><td>Személyes átvétel</td><td>133</td></tr><tr><td>BEATRIXS</td><td>NULL</td><td>420</td></tr><tr><td>BELAF</td><td>GLS</td><td>11</td></tr><tr><td>BELAF</td><td>Posta</td><td>2</td></tr><tr><td>BELAF</td><td>Személyes átvétel</td><td>5</td></tr><tr><td>BELAF</td><td>NULL</td><td>18</td></tr><tr><td>bence</td><td>GLS</td><td>4</td></tr><tr><td>bence</td><td>Posta</td><td>6</td></tr><tr><td>bence</td><td>Személyes átvétel</td><td>8</td></tr><tr><td>bence</td><td>NULL</td><td>18</td></tr><tr><td>BENCEB</td><td>GLS</td><td>5</td></tr><tr><td>BENCEB</td><td>Posta</td><td>7</td></tr><tr><td>BENCEB</td><td>Személyes átvétel</td><td>5</td></tr><tr><td>BENCEB</td><td>NULL</td><td>17</td></tr><tr><td>bernadett1</td><td>GLS</td><td>10</td></tr><tr><td>bernadett1</td><td>Posta</td><td>5</td></tr><tr><td>bernadett1</td><td>Személyes átvétel</td><td>5</td></tr><tr><td>bernadett1</td><td>NULL</td><td>20</td></tr><tr><td>bernadett2</td><td>GLS</td><td>6</td></tr><tr><td>bernadett2</td><td>Posta</td><td>2</td></tr><tr><td>bernadett2</td><td>Személyes átvétel</td><td>7</td></tr><tr><td>bernadett2</td><td>NULL</td><td>15</td></tr><tr><td>BERNADETTO</td><td>GLS</td><td>7</td></tr><tr><td>BERNADETTO</td><td>Posta</td><td>2</td></tr><tr><td>BERNADETTO</td><td>Személyes átvétel</td><td>7</td></tr><tr><td>BERNADETTO</td><td>NULL</td><td>16</td></tr><tr><td>bertalan</td><td>GLS</td><td>128</td></tr><tr><td>bertalan</td><td>Posta</td><td>124</td></tr><tr><td>bertalan</td><td>Személyes átvétel</td><td>101</td></tr><tr><td>bertalan</td><td>NULL</td><td>353</td></tr><tr><td>brigitta</td><td>GLS</td><td>137</td></tr><tr><td>brigitta</td><td>Posta</td><td>137</td></tr><tr><td>brigitta</td><td>Személyes átvétel</td><td>119</td></tr><tr><td>brigitta</td><td>NULL</td><td>393</td></tr><tr><td>brigitta3</td><td>GLS</td><td>144</td></tr><tr><td>brigitta3</td><td>Posta</td><td>130</td></tr><tr><td>brigitta3</td><td>Személyes átvétel</td><td>139</td></tr><tr><td>brigitta3</td><td>NULL</td><td>413</td></tr><tr><td>csongor3</td><td>GLS</td><td>5</td></tr><tr><td>csongor3</td><td>Posta</td><td>2</td></tr><tr><td>csongor3</td><td>Személyes átvétel</td><td>8</td></tr><tr><td>csongor3</td><td>NULL</td><td>15</td></tr><tr><td>dani</td><td>GLS</td><td>5</td></tr><tr><td>dani</td><td>Személyes átvétel</td><td>8</td></tr><tr><td>dani</td><td>NULL</td><td>13</td></tr><tr><td>daniel</td><td>GLS</td><td>7</td></tr><tr><td>daniel</td><td>Posta</td><td>2</td></tr><tr><td>daniel</td><td>Személyes átvétel</td><td>4</td></tr><tr><td>daniel</td><td>NULL</td><td>13</td></tr><tr><td>daniel1</td><td>GLS</td><td>156</td></tr><tr><td>daniel1</td><td>Posta</td><td>131</td></tr><tr><td>daniel1</td><td>Személyes átvétel</td><td>132</td></tr><tr><td>daniel1</td><td>NULL</td><td>419</td></tr><tr><td>david</td><td>GLS</td><td>161</td></tr><tr><td>david</td><td>Posta</td><td>144</td></tr><tr><td>david</td><td>Személyes átvétel</td><td>146</td></tr><tr><td>david</td><td>NULL</td><td>451</td></tr><tr><td>david1</td><td>GLS</td><td>8</td></tr><tr><td>david1</td><td>Posta</td><td>1</td></tr><tr><td>david1</td><td>Személyes átvétel</td><td>8</td></tr><tr><td>david1</td><td>NULL</td><td>17</td></tr><tr><td>david4</td><td>GLS</td><td>3</td></tr><tr><td>david4</td><td>Posta</td><td>8</td></tr><tr><td>david4</td><td>Személyes átvétel</td><td>10</td></tr><tr><td>david4</td><td>NULL</td><td>21</td></tr><tr><td>debora</td><td>GLS</td><td>7</td></tr><tr><td>debora</td><td>Posta</td><td>6</td></tr><tr><td>debora</td><td>Személyes átvétel</td><td>3</td></tr><tr><td>debora</td><td>NULL</td><td>16</td></tr><tr><td>denes</td><td>GLS</td><td>3</td></tr><tr><td>denes</td><td>Posta</td><td>2</td></tr><tr><td>denes</td><td>Személyes átvétel</td><td>4</td></tr><tr><td>denes</td><td>NULL</td><td>9</td></tr><tr><td>dora3</td><td>GLS</td><td>144</td></tr><tr><td>dora3</td><td>Posta</td><td>124</td></tr><tr><td>dora3</td><td>Személyes átvétel</td><td>164</td></tr><tr><td>dora3</td><td>NULL</td><td>432</td></tr><tr><td>edit</td><td>GLS</td><td>7</td></tr><tr><td>edit</td><td>Posta</td><td>2</td></tr><tr><td>edit</td><td>Személyes átvétel</td><td>4</td></tr><tr><td>edit</td><td>NULL</td><td>13</td></tr><tr><td>emese</td><td>GLS</td><td>128</td></tr><tr><td>emese</td><td>Posta</td><td>136</td></tr><tr><td>emese</td><td>Személyes átvétel</td><td>142</td></tr><tr><td>emese</td><td>NULL</td><td>406</td></tr><tr><td>eszter2</td><td>GLS</td><td>127</td></tr><tr><td>eszter2</td><td>Posta</td><td>136</td></tr><tr><td>eszter2</td><td>Személyes átvétel</td><td>152</td></tr><tr><td>eszter2</td><td>NULL</td><td>415</td></tr><tr><td>eszter4</td><td>GLS</td><td>141</td></tr><tr><td>eszter4</td><td>Posta</td><td>134</td></tr><tr><td>eszter4</td><td>Személyes átvétel</td><td>149</td></tr><tr><td>eszter4</td><td>NULL</td><td>424</td></tr><tr><td>ESZTERE</td><td>GLS</td><td>6</td></tr><tr><td>ESZTERE</td><td>Posta</td><td>9</td></tr><tr><td>ESZTERE</td><td>Személyes átvétel</td><td>7</td></tr><tr><td>ESZTERE</td><td>NULL</td><td>22</td></tr><tr><td>eva</td><td>GLS</td><td>125</td></tr><tr><td>eva</td><td>Posta</td><td>140</td></tr><tr><td>eva</td><td>Személyes átvétel</td><td>139</td></tr><tr><td>eva</td><td>NULL</td><td>404</td></tr><tr><td>eva2</td><td>GLS</td><td>154</td></tr><tr><td>eva2</td><td>Posta</td><td>138</td></tr><tr><td>eva2</td><td>Személyes átvétel</td><td>170</td></tr><tr><td>eva2</td><td>NULL</td><td>462</td></tr><tr><td>EVAV</td><td>GLS</td><td>2</td></tr><tr><td>EVAV</td><td>Posta</td><td>1</td></tr><tr><td>EVAV</td><td>Személyes átvétel</td><td>4</td></tr><tr><td>EVAV</td><td>NULL</td><td>7</td></tr><tr><td>ferenc1</td><td>GLS</td><td>144</td></tr><tr><td>ferenc1</td><td>Posta</td><td>158</td></tr><tr><td>ferenc1</td><td>Személyes átvétel</td><td>135</td></tr><tr><td>ferenc1</td><td>NULL</td><td>437</td></tr><tr><td>fruzsina4</td><td>GLS</td><td>8</td></tr><tr><td>fruzsina4</td><td>Posta</td><td>3</td></tr><tr><td>fruzsina4</td><td>Személyes átvétel</td><td>7</td></tr><tr><td>fruzsina4</td><td>NULL</td><td>18</td></tr><tr><td>gabor1</td><td>GLS</td><td>9</td></tr><tr><td>gabor1</td><td>Posta</td><td>5</td></tr><tr><td>gabor1</td><td>Személyes átvétel</td><td>5</td></tr><tr><td>gabor1</td><td>NULL</td><td>19</td></tr><tr><td>gabor4</td><td>GLS</td><td>7</td></tr><tr><td>gabor4</td><td>Posta</td><td>9</td></tr><tr><td>gabor4</td><td>Személyes átvétel</td><td>4</td></tr><tr><td>gabor4</td><td>NULL</td><td>20</td></tr><tr><td>GABORS</td><td>GLS</td><td>5</td></tr><tr><td>GABORS</td><td>Posta</td><td>6</td></tr><tr><td>GABORS</td><td>Személyes átvétel</td><td>4</td></tr><tr><td>GABORS</td><td>NULL</td><td>15</td></tr><tr><td>gabriella1</td><td>GLS</td><td>5</td></tr><tr><td>gabriella1</td><td>Posta</td><td>4</td></tr><tr><td>gabriella1</td><td>Személyes átvétel</td><td>5</td></tr><tr><td>gabriella1</td><td>NULL</td><td>14</td></tr><tr><td>gabriella10</td><td>GLS</td><td>4</td></tr><tr><td>gabriella10</td><td>Posta</td><td>5</td></tr><tr><td>gabriella10</td><td>Személyes átvétel</td><td>7</td></tr><tr><td>gabriella10</td><td>NULL</td><td>16</td></tr><tr><td>georgij</td><td>GLS</td><td>9</td></tr><tr><td>georgij</td><td>Posta</td><td>2</td></tr><tr><td>georgij</td><td>Személyes átvétel</td><td>10</td></tr><tr><td>georgij</td><td>NULL</td><td>21</td></tr><tr><td>gusztav</td><td>GLS</td><td>5</td></tr><tr><td>gusztav</td><td>Posta</td><td>4</td></tr><tr><td>gusztav</td><td>Személyes átvétel</td><td>5</td></tr><tr><td>gusztav</td><td>NULL</td><td>14</td></tr><tr><td>GYONGYIK</td><td>GLS</td><td>6</td></tr><tr><td>GYONGYIK</td><td>Posta</td><td>6</td></tr><tr><td>GYONGYIK</td><td>Személyes átvétel</td><td>3</td></tr><tr><td>GYONGYIK</td><td>NULL</td><td>15</td></tr><tr><td>GYORGYO</td><td>GLS</td><td>7</td></tr><tr><td>GYORGYO</td><td>Posta</td><td>4</td></tr><tr><td>GYORGYO</td><td>Személyes átvétel</td><td>5</td></tr><tr><td>GYORGYO</td><td>NULL</td><td>16</td></tr><tr><td>henrik3</td><td>GLS</td><td>7</td></tr><tr><td>henrik3</td><td>Posta</td><td>4</td></tr><tr><td>henrik3</td><td>Személyes átvétel</td><td>5</td></tr><tr><td>henrik3</td><td>NULL</td><td>16</td></tr><tr><td>IBOLYAA</td><td>GLS</td><td>140</td></tr><tr><td>IBOLYAA</td><td>Posta</td><td>125</td></tr><tr><td>IBOLYAA</td><td>Személyes átvétel</td><td>157</td></tr><tr><td>IBOLYAA</td><td>NULL</td><td>422</td></tr><tr><td>ilona3</td><td>GLS</td><td>9</td></tr><tr><td>ilona3</td><td>Posta</td><td>2</td></tr><tr><td>ilona3</td><td>Személyes átvétel</td><td>7</td></tr><tr><td>ilona3</td><td>NULL</td><td>18</td></tr><tr><td>imre</td><td>GLS</td><td>5</td></tr><tr><td>imre</td><td>Posta</td><td>4</td></tr><tr><td>imre</td><td>Személyes átvétel</td><td>6</td></tr><tr><td>imre</td><td>NULL</td><td>15</td></tr><tr><td>imre1</td><td>GLS</td><td>8</td></tr><tr><td>imre1</td><td>Posta</td><td>4</td></tr><tr><td>imre1</td><td>Személyes átvétel</td><td>3</td></tr><tr><td>imre1</td><td>NULL</td><td>15</td></tr><tr><td>istvan</td><td>GLS</td><td>3</td></tr><tr><td>istvan</td><td>Posta</td><td>4</td></tr><tr><td>istvan</td><td>Személyes átvétel</td><td>4</td></tr><tr><td>istvan</td><td>NULL</td><td>11</td></tr><tr><td>istvan1</td><td>GLS</td><td>8</td></tr><tr><td>istvan1</td><td>Posta</td><td>4</td></tr><tr><td>istvan1</td><td>Személyes átvétel</td><td>7</td></tr><tr><td>istvan1</td><td>NULL</td><td>19</td></tr><tr><td>ISTVANV</td><td>GLS</td><td>4</td></tr><tr><td>ISTVANV</td><td>Posta</td><td>9</td></tr><tr><td>ISTVANV</td><td>Személyes átvétel</td><td>8</td></tr><tr><td>ISTVANV</td><td>NULL</td><td>21</td></tr><tr><td>janos3</td><td>GLS</td><td>5</td></tr><tr><td>janos3</td><td>Posta</td><td>2</td></tr><tr><td>janos3</td><td>Személyes átvétel</td><td>6</td></tr><tr><td>janos3</td><td>NULL</td><td>13</td></tr><tr><td>JANOSG</td><td>GLS</td><td>3</td></tr><tr><td>JANOSG</td><td>Posta</td><td>3</td></tr><tr><td>JANOSG</td><td>Személyes átvétel</td><td>4</td></tr><tr><td>JANOSG</td><td>NULL</td><td>10</td></tr><tr><td>JANOSP</td><td>GLS</td><td>7</td></tr><tr><td>JANOSP</td><td>Posta</td><td>7</td></tr><tr><td>JANOSP</td><td>Személyes átvétel</td><td>3</td></tr><tr><td>JANOSP</td><td>NULL</td><td>17</td></tr><tr><td>jozsef</td><td>GLS</td><td>116</td></tr><tr><td>jozsef</td><td>Posta</td><td>132</td></tr><tr><td>jozsef</td><td>Személyes átvétel</td><td>134</td></tr><tr><td>jozsef</td><td>NULL</td><td>382</td></tr><tr><td>jozsef2</td><td>GLS</td><td>7</td></tr><tr><td>jozsef2</td><td>Posta</td><td>2</td></tr><tr><td>jozsef2</td><td>Személyes átvétel</td><td>4</td></tr><tr><td>jozsef2</td><td>NULL</td><td>13</td></tr><tr><td>JOZSEFG</td><td>GLS</td><td>11</td></tr><tr><td>JOZSEFG</td><td>Posta</td><td>1</td></tr><tr><td>JOZSEFG</td><td>Személyes átvétel</td><td>9</td></tr><tr><td>JOZSEFG</td><td>NULL</td><td>21</td></tr><tr><td>JUDITH</td><td>GLS</td><td>170</td></tr><tr><td>JUDITH</td><td>Posta</td><td>130</td></tr><tr><td>JUDITH</td><td>Személyes átvétel</td><td>150</td></tr><tr><td>JUDITH</td><td>NULL</td><td>450</td></tr><tr><td>julia</td><td>GLS</td><td>137</td></tr><tr><td>julia</td><td>Posta</td><td>160</td></tr><tr><td>julia</td><td>Személyes átvétel</td><td>138</td></tr><tr><td>julia</td><td>NULL</td><td>435</td></tr><tr><td>julia4</td><td>GLS</td><td>2</td></tr><tr><td>julia4</td><td>Posta</td><td>4</td></tr><tr><td>julia4</td><td>Személyes átvétel</td><td>8</td></tr><tr><td>julia4</td><td>NULL</td><td>14</td></tr><tr><td>julianna4</td><td>GLS</td><td>8</td></tr><tr><td>julianna4</td><td>Posta</td><td>12</td></tr><tr><td>julianna4</td><td>Személyes átvétel</td><td>7</td></tr><tr><td>julianna4</td><td>NULL</td><td>27</td></tr><tr><td>kata</td><td>GLS</td><td>5</td></tr><tr><td>kata</td><td>Posta</td><td>4</td></tr><tr><td>kata</td><td>Személyes átvétel</td><td>3</td></tr><tr><td>kata</td><td>NULL</td><td>12</td></tr><tr><td>katalin</td><td>GLS</td><td>7</td></tr><tr><td>katalin</td><td>Posta</td><td>7</td></tr><tr><td>katalin</td><td>Személyes átvétel</td><td>5</td></tr><tr><td>katalin</td><td>NULL</td><td>19</td></tr><tr><td>katalin4</td><td>GLS</td><td>7</td></tr><tr><td>katalin4</td><td>Posta</td><td>5</td></tr><tr><td>katalin4</td><td>Személyes átvétel</td><td>11</td></tr><tr><td>katalin4</td><td>NULL</td><td>23</td></tr><tr><td>kati</td><td>GLS</td><td>4</td></tr><tr><td>kati</td><td>Posta</td><td>5</td></tr><tr><td>kati</td><td>Személyes átvétel</td><td>4</td></tr><tr><td>kati</td><td>NULL</td><td>13</td></tr><tr><td>katka</td><td>GLS</td><td>6</td></tr><tr><td>katka</td><td>Posta</td><td>6</td></tr><tr><td>katka</td><td>Személyes átvétel</td><td>10</td></tr><tr><td>katka</td><td>NULL</td><td>22</td></tr><tr><td>klaudia2</td><td>GLS</td><td>3</td></tr><tr><td>klaudia2</td><td>Posta</td><td>9</td></tr><tr><td>klaudia2</td><td>Személyes átvétel</td><td>5</td></tr><tr><td>klaudia2</td><td>NULL</td><td>17</td></tr><tr><td>kornel4</td><td>GLS</td><td>3</td></tr><tr><td>kornel4</td><td>Posta</td><td>1</td></tr><tr><td>kornel4</td><td>Személyes átvétel</td><td>7</td></tr><tr><td>kornel4</td><td>NULL</td><td>11</td></tr><tr><td>kristof4</td><td>GLS</td><td>9</td></tr><tr><td>kristof4</td><td>Posta</td><td>4</td></tr><tr><td>kristof4</td><td>Személyes átvétel</td><td>8</td></tr><tr><td>kristof4</td><td>NULL</td><td>21</td></tr><tr><td>kriszti</td><td>GLS</td><td>3</td></tr><tr><td>kriszti</td><td>Posta</td><td>5</td></tr><tr><td>kriszti</td><td>Személyes átvétel</td><td>5</td></tr><tr><td>kriszti</td><td>NULL</td><td>13</td></tr><tr><td>krisztian4</td><td>GLS</td><td>5</td></tr><tr><td>krisztian4</td><td>Posta</td><td>6</td></tr><tr><td>krisztian4</td><td>Személyes átvétel</td><td>6</td></tr><tr><td>krisztian4</td><td>NULL</td><td>17</td></tr><tr><td>KRISZTIANM</td><td>GLS</td><td>118</td></tr><tr><td>KRISZTIANM</td><td>Posta</td><td>136</td></tr><tr><td>KRISZTIANM</td><td>Személyes átvétel</td><td>130</td></tr><tr><td>KRISZTIANM</td><td>NULL</td><td>384</td></tr><tr><td>krisztina</td><td>GLS</td><td>149</td></tr><tr><td>krisztina</td><td>Posta</td><td>150</td></tr><tr><td>krisztina</td><td>Személyes átvétel</td><td>157</td></tr><tr><td>krisztina</td><td>NULL</td><td>456</td></tr><tr><td>krisztina1</td><td>GLS</td><td>10</td></tr><tr><td>krisztina1</td><td>Posta</td><td>4</td></tr><tr><td>krisztina1</td><td>Személyes átvétel</td><td>8</td></tr><tr><td>krisztina1</td><td>NULL</td><td>22</td></tr><tr><td>KRISZTINAG</td><td>GLS</td><td>6</td></tr><tr><td>KRISZTINAG</td><td>Posta</td><td>6</td></tr><tr><td>KRISZTINAG</td><td>Személyes átvétel</td><td>10</td></tr><tr><td>KRISZTINAG</td><td>NULL</td><td>22</td></tr><tr><td>lajos</td><td>GLS</td><td>5</td></tr><tr><td>lajos</td><td>Posta</td><td>2</td></tr><tr><td>lajos</td><td>Személyes átvétel</td><td>9</td></tr><tr><td>lajos</td><td>NULL</td><td>16</td></tr><tr><td>lala</td><td>GLS</td><td>5</td></tr><tr><td>lala</td><td>Posta</td><td>3</td></tr><tr><td>lala</td><td>Személyes átvétel</td><td>9</td></tr><tr><td>lala</td><td>NULL</td><td>17</td></tr><tr><td>laszlo1</td><td>GLS</td><td>130</td></tr><tr><td>laszlo1</td><td>Posta</td><td>129</td></tr><tr><td>laszlo1</td><td>Személyes átvétel</td><td>135</td></tr><tr><td>laszlo1</td><td>NULL</td><td>394</td></tr><tr><td>laszlo2</td><td>GLS</td><td>12</td></tr><tr><td>laszlo2</td><td>Posta</td><td>6</td></tr><tr><td>laszlo2</td><td>Személyes átvétel</td><td>7</td></tr><tr><td>laszlo2</td><td>NULL</td><td>25</td></tr><tr><td>LASZLOA</td><td>GLS</td><td>156</td></tr><tr><td>LASZLOA</td><td>Posta</td><td>136</td></tr><tr><td>LASZLOA</td><td>Személyes átvétel</td><td>154</td></tr><tr><td>LASZLOA</td><td>NULL</td><td>446</td></tr><tr><td>LASZLON</td><td>GLS</td><td>126</td></tr><tr><td>LASZLON</td><td>Posta</td><td>131</td></tr><tr><td>LASZLON</td><td>Személyes átvétel</td><td>143</td></tr><tr><td>LASZLON</td><td>NULL</td><td>400</td></tr><tr><td>maria1</td><td>GLS</td><td>4</td></tr><tr><td>maria1</td><td>Posta</td><td>5</td></tr><tr><td>maria1</td><td>Személyes átvétel</td><td>1</td></tr><tr><td>maria1</td><td>NULL</td><td>10</td></tr><tr><td>MARKH</td><td>GLS</td><td>128</td></tr><tr><td>MARKH</td><td>Posta</td><td>142</td></tr><tr><td>MARKH</td><td>Személyes átvétel</td><td>142</td></tr><tr><td>MARKH</td><td>NULL</td><td>412</td></tr><tr><td>marton</td><td>GLS</td><td>5</td></tr><tr><td>marton</td><td>Posta</td><td>4</td></tr><tr><td>marton</td><td>Személyes átvétel</td><td>5</td></tr><tr><td>marton</td><td>NULL</td><td>14</td></tr><tr><td>MATEK</td><td>GLS</td><td>6</td></tr><tr><td>MATEK</td><td>Posta</td><td>10</td></tr><tr><td>MATEK</td><td>Személyes átvétel</td><td>9</td></tr><tr><td>MATEK</td><td>NULL</td><td>25</td></tr><tr><td>matyas2</td><td>GLS</td><td>138</td></tr><tr><td>matyas2</td><td>Posta</td><td>131</td></tr><tr><td>matyas2</td><td>Személyes átvétel</td><td>164</td></tr><tr><td>matyas2</td><td>NULL</td><td>433</td></tr><tr><td>MATYASS</td><td>GLS</td><td>4</td></tr><tr><td>MATYASS</td><td>Posta</td><td>5</td></tr><tr><td>MATYASS</td><td>Személyes átvétel</td><td>3</td></tr><tr><td>MATYASS</td><td>NULL</td><td>12</td></tr><tr><td>MIHALYJ</td><td>GLS</td><td>3</td></tr><tr><td>MIHALYJ</td><td>Posta</td><td>4</td></tr><tr><td>MIHALYJ</td><td>Személyes átvétel</td><td>6</td></tr><tr><td>MIHALYJ</td><td>NULL</td><td>13</td></tr><tr><td>miklos2</td><td>GLS</td><td>7</td></tr><tr><td>miklos2</td><td>Posta</td><td>4</td></tr><tr><td>miklos2</td><td>Személyes átvétel</td><td>2</td></tr><tr><td>miklos2</td><td>NULL</td><td>13</td></tr><tr><td>MIKLOSB</td><td>GLS</td><td>6</td></tr><tr><td>MIKLOSB</td><td>Posta</td><td>1</td></tr><tr><td>MIKLOSB</td><td>Személyes átvétel</td><td>8</td></tr><tr><td>MIKLOSB</td><td>NULL</td><td>15</td></tr><tr><td>MONIKAM</td><td>GLS</td><td>133</td></tr><tr><td>MONIKAM</td><td>Posta</td><td>151</td></tr><tr><td>MONIKAM</td><td>Személyes átvétel</td><td>123</td></tr><tr><td>MONIKAM</td><td>NULL</td><td>407</td></tr><tr><td>NANDORF</td><td>GLS</td><td>147</td></tr><tr><td>NANDORF</td><td>Posta</td><td>139</td></tr><tr><td>NANDORF</td><td>Személyes átvétel</td><td>134</td></tr><tr><td>NANDORF</td><td>NULL</td><td>420</td></tr><tr><td>nikolett3</td><td>GLS</td><td>4</td></tr><tr><td>nikolett3</td><td>Posta</td><td>3</td></tr><tr><td>nikolett3</td><td>Személyes átvétel</td><td>10</td></tr><tr><td>nikolett3</td><td>NULL</td><td>17</td></tr><tr><td>nikoletta4</td><td>GLS</td><td>137</td></tr><tr><td>nikoletta4</td><td>Posta</td><td>158</td></tr><tr><td>nikoletta4</td><td>Személyes átvétel</td><td>119</td></tr><tr><td>nikoletta4</td><td>NULL</td><td>414</td></tr><tr><td>NIKOLETTAT</td><td>GLS</td><td>13</td></tr><tr><td>NIKOLETTAT</td><td>Posta</td><td>7</td></tr><tr><td>NIKOLETTAT</td><td>Személyes átvétel</td><td>5</td></tr><tr><td>NIKOLETTAT</td><td>NULL</td><td>25</td></tr><tr><td>norbert2</td><td>GLS</td><td>7</td></tr><tr><td>norbert2</td><td>Posta</td><td>4</td></tr><tr><td>norbert2</td><td>NULL</td><td>11</td></tr><tr><td>norbert4</td><td>GLS</td><td>1</td></tr><tr><td>norbert4</td><td>Posta</td><td>3</td></tr><tr><td>norbert4</td><td>Személyes átvétel</td><td>9</td></tr><tr><td>norbert4</td><td>NULL</td><td>13</td></tr><tr><td>norbert5</td><td>GLS</td><td>1</td></tr><tr><td>norbert5</td><td>Posta</td><td>6</td></tr><tr><td>norbert5</td><td>Személyes átvétel</td><td>9</td></tr><tr><td>norbert5</td><td>NULL</td><td>16</td></tr><tr><td>pal</td><td>GLS</td><td>152</td></tr><tr><td>pal</td><td>Posta</td><td>132</td></tr><tr><td>pal</td><td>Személyes átvétel</td><td>154</td></tr><tr><td>pal</td><td>NULL</td><td>438</td></tr><tr><td>peter1</td><td>GLS</td><td>151</td></tr><tr><td>peter1</td><td>Posta</td><td>135</td></tr><tr><td>peter1</td><td>Személyes átvétel</td><td>126</td></tr><tr><td>peter1</td><td>NULL</td><td>412</td></tr><tr><td>peter2</td><td>GLS</td><td>7</td></tr><tr><td>peter2</td><td>Posta</td><td>4</td></tr><tr><td>peter2</td><td>Személyes átvétel</td><td>7</td></tr><tr><td>peter2</td><td>NULL</td><td>18</td></tr><tr><td>peter3</td><td>GLS</td><td>8</td></tr><tr><td>peter3</td><td>Posta</td><td>7</td></tr><tr><td>peter3</td><td>Személyes átvétel</td><td>10</td></tr><tr><td>peter3</td><td>NULL</td><td>25</td></tr><tr><td>peter4</td><td>GLS</td><td>266</td></tr><tr><td>peter4</td><td>Posta</td><td>293</td></tr><tr><td>peter4</td><td>Személyes átvétel</td><td>293</td></tr><tr><td>peter4</td><td>NULL</td><td>852</td></tr><tr><td>PETERB</td><td>GLS</td><td>2</td></tr><tr><td>PETERB</td><td>Posta</td><td>4</td></tr><tr><td>PETERB</td><td>Személyes átvétel</td><td>9</td></tr><tr><td>PETERB</td><td>NULL</td><td>15</td></tr><tr><td>polla</td><td>GLS</td><td>9</td></tr><tr><td>polla</td><td>Posta</td><td>6</td></tr><tr><td>polla</td><td>Személyes átvétel</td><td>7</td></tr><tr><td>polla</td><td>NULL</td><td>22</td></tr><tr><td>rajmond4</td><td>GLS</td><td>6</td></tr><tr><td>rajmond4</td><td>Posta</td><td>5</td></tr><tr><td>rajmond4</td><td>Személyes átvétel</td><td>6</td></tr><tr><td>rajmond4</td><td>NULL</td><td>17</td></tr><tr><td>reka4</td><td>GLS</td><td>5</td></tr><tr><td>reka4</td><td>Posta</td><td>4</td></tr><tr><td>reka4</td><td>Személyes átvétel</td><td>11</td></tr><tr><td>reka4</td><td>NULL</td><td>20</td></tr><tr><td>RENATAK</td><td>GLS</td><td>135</td></tr><tr><td>RENATAK</td><td>Posta</td><td>140</td></tr><tr><td>RENATAK</td><td>Személyes átvétel</td><td>147</td></tr><tr><td>RENATAK</td><td>NULL</td><td>422</td></tr><tr><td>RENATAS</td><td>GLS</td><td>6</td></tr><tr><td>RENATAS</td><td>Posta</td><td>5</td></tr><tr><td>RENATAS</td><td>Személyes átvétel</td><td>5</td></tr><tr><td>RENATAS</td><td>NULL</td><td>16</td></tr><tr><td>robert2</td><td>GLS</td><td>5</td></tr><tr><td>robert2</td><td>Posta</td><td>1</td></tr><tr><td>robert2</td><td>Személyes átvétel</td><td>7</td></tr><tr><td>robert2</td><td>NULL</td><td>13</td></tr><tr><td>ROBERTI</td><td>GLS</td><td>5</td></tr><tr><td>ROBERTI</td><td>Posta</td><td>3</td></tr><tr><td>ROBERTI</td><td>Személyes átvétel</td><td>5</td></tr><tr><td>ROBERTI</td><td>NULL</td><td>13</td></tr><tr><td>ROBERTP</td><td>GLS</td><td>8</td></tr><tr><td>ROBERTP</td><td>Posta</td><td>8</td></tr><tr><td>ROBERTP</td><td>Személyes átvétel</td><td>10</td></tr><tr><td>ROBERTP</td><td>NULL</td><td>26</td></tr><tr><td>roland</td><td>GLS</td><td>132</td></tr><tr><td>roland</td><td>Posta</td><td>157</td></tr><tr><td>roland</td><td>Személyes átvétel</td><td>125</td></tr><tr><td>roland</td><td>NULL</td><td>414</td></tr><tr><td>roland1</td><td>GLS</td><td>142</td></tr><tr><td>roland1</td><td>Posta</td><td>155</td></tr><tr><td>roland1</td><td>Személyes átvétel</td><td>135</td></tr><tr><td>roland1</td><td>NULL</td><td>432</td></tr><tr><td>roza2</td><td>GLS</td><td>3</td></tr><tr><td>roza2</td><td>Posta</td><td>2</td></tr><tr><td>roza2</td><td>Személyes átvétel</td><td>3</td></tr><tr><td>roza2</td><td>NULL</td><td>8</td></tr><tr><td>sandor</td><td>GLS</td><td>4</td></tr><tr><td>sandor</td><td>Posta</td><td>6</td></tr><tr><td>sandor</td><td>Személyes átvétel</td><td>7</td></tr><tr><td>sandor</td><td>NULL</td><td>17</td></tr><tr><td>sandor3</td><td>GLS</td><td>4</td></tr><tr><td>sandor3</td><td>Posta</td><td>4</td></tr><tr><td>sandor3</td><td>Személyes átvétel</td><td>6</td></tr><tr><td>sandor3</td><td>NULL</td><td>14</td></tr><tr><td>sandor4</td><td>GLS</td><td>4</td></tr><tr><td>sandor4</td><td>Posta</td><td>2</td></tr><tr><td>sandor4</td><td>Személyes átvétel</td><td>5</td></tr><tr><td>sandor4</td><td>NULL</td><td>11</td></tr><tr><td>sara</td><td>GLS</td><td>4</td></tr><tr><td>sara</td><td>Posta</td><td>7</td></tr><tr><td>sara</td><td>Személyes átvétel</td><td>9</td></tr><tr><td>sara</td><td>NULL</td><td>20</td></tr><tr><td>SEBASTIANF</td><td>GLS</td><td>6</td></tr><tr><td>SEBASTIANF</td><td>Posta</td><td>3</td></tr><tr><td>SEBASTIANF</td><td>Személyes átvétel</td><td>6</td></tr><tr><td>SEBASTIANF</td><td>NULL</td><td>15</td></tr><tr><td>sebestyen</td><td>GLS</td><td>4</td></tr><tr><td>sebestyen</td><td>Posta</td><td>6</td></tr><tr><td>sebestyen</td><td>Személyes átvétel</td><td>6</td></tr><tr><td>sebestyen</td><td>NULL</td><td>16</td></tr><tr><td>szabolcs</td><td>GLS</td><td>145</td></tr><tr><td>szabolcs</td><td>Posta</td><td>157</td></tr><tr><td>szabolcs</td><td>Személyes átvétel</td><td>169</td></tr><tr><td>szabolcs</td><td>NULL</td><td>471</td></tr><tr><td>SZABOLCSM</td><td>GLS</td><td>126</td></tr><tr><td>SZABOLCSM</td><td>Posta</td><td>153</td></tr><tr><td>SZABOLCSM</td><td>Személyes átvétel</td><td>129</td></tr><tr><td>SZABOLCSM</td><td>NULL</td><td>408</td></tr><tr><td>SZILARDS</td><td>GLS</td><td>144</td></tr><tr><td>SZILARDS</td><td>Posta</td><td>131</td></tr><tr><td>SZILARDS</td><td>Személyes átvétel</td><td>111</td></tr><tr><td>SZILARDS</td><td>NULL</td><td>386</td></tr><tr><td>szilvia1</td><td>GLS</td><td>156</td></tr><tr><td>szilvia1</td><td>Posta</td><td>151</td></tr><tr><td>szilvia1</td><td>Személyes átvétel</td><td>138</td></tr><tr><td>szilvia1</td><td>NULL</td><td>445</td></tr><tr><td>tamara2</td><td>GLS</td><td>6</td></tr><tr><td>tamara2</td><td>Posta</td><td>4</td></tr><tr><td>tamara2</td><td>Személyes átvétel</td><td>3</td></tr><tr><td>tamara2</td><td>NULL</td><td>13</td></tr><tr><td>tamas</td><td>GLS</td><td>143</td></tr><tr><td>tamas</td><td>Posta</td><td>156</td></tr><tr><td>tamas</td><td>Személyes átvétel</td><td>122</td></tr><tr><td>tamas</td><td>NULL</td><td>421</td></tr><tr><td>TAMASF</td><td>GLS</td><td>159</td></tr><tr><td>TAMASF</td><td>Posta</td><td>145</td></tr><tr><td>TAMASF</td><td>Személyes átvétel</td><td>129</td></tr><tr><td>TAMASF</td><td>NULL</td><td>433</td></tr><tr><td>tibor</td><td>GLS</td><td>115</td></tr><tr><td>tibor</td><td>Posta</td><td>129</td></tr><tr><td>tibor</td><td>Személyes átvétel</td><td>130</td></tr><tr><td>tibor</td><td>NULL</td><td>374</td></tr><tr><td>tibor2</td><td>GLS</td><td>7</td></tr><tr><td>tibor2</td><td>Posta</td><td>7</td></tr><tr><td>tibor2</td><td>Személyes átvétel</td><td>11</td></tr><tr><td>tibor2</td><td>NULL</td><td>25</td></tr><tr><td>tihamer</td><td>GLS</td><td>9</td></tr><tr><td>tihamer</td><td>Posta</td><td>6</td></tr><tr><td>tihamer</td><td>Személyes átvétel</td><td>5</td></tr><tr><td>tihamer</td><td>NULL</td><td>20</td></tr><tr><td>timea</td><td>GLS</td><td>14</td></tr><tr><td>timea</td><td>Posta</td><td>23</td></tr><tr><td>timea</td><td>Személyes átvétel</td><td>18</td></tr><tr><td>timea</td><td>NULL</td><td>55</td></tr><tr><td>timea2</td><td>GLS</td><td>1</td></tr><tr><td>timea2</td><td>Posta</td><td>5</td></tr><tr><td>timea2</td><td>Személyes átvétel</td><td>10</td></tr><tr><td>timea2</td><td>NULL</td><td>16</td></tr><tr><td>tunde</td><td>GLS</td><td>6</td></tr><tr><td>tunde</td><td>Posta</td><td>6</td></tr><tr><td>tunde</td><td>Személyes átvétel</td><td>4</td></tr><tr><td>tunde</td><td>NULL</td><td>16</td></tr><tr><td>valentin</td><td>GLS</td><td>5</td></tr><tr><td>valentin</td><td>Posta</td><td>5</td></tr><tr><td>valentin</td><td>Személyes átvétel</td><td>3</td></tr><tr><td>valentin</td><td>NULL</td><td>13</td></tr><tr><td>veronika4</td><td>GLS</td><td>5</td></tr><tr><td>veronika4</td><td>Posta</td><td>6</td></tr><tr><td>veronika4</td><td>Személyes átvétel</td><td>7</td></tr><tr><td>veronika4</td><td>NULL</td><td>18</td></tr><tr><td>VIKTORIAU</td><td>GLS</td><td>5</td></tr><tr><td>VIKTORIAU</td><td>Posta</td><td>4</td></tr><tr><td>VIKTORIAU</td><td>Személyes átvétel</td><td>5</td></tr><tr><td>VIKTORIAU</td><td>NULL</td><td>14</td></tr><tr><td>VIKTORK</td><td>GLS</td><td>8</td></tr><tr><td>VIKTORK</td><td>Posta</td><td>6</td></tr><tr><td>VIKTORK</td><td>Személyes átvétel</td><td>6</td></tr><tr><td>VIKTORK</td><td>NULL</td><td>20</td></tr><tr><td>vivien3</td><td>GLS</td><td>9</td></tr><tr><td>vivien3</td><td>Posta</td><td>6</td></tr><tr><td>vivien3</td><td>Személyes átvétel</td><td>7</td></tr><tr><td>vivien3</td><td>NULL</td><td>22</td></tr><tr><td>zoltan</td><td>GLS</td><td>5</td></tr><tr><td>zoltan</td><td>Posta</td><td>3</td></tr><tr><td>zoltan</td><td>Személyes átvétel</td><td>7</td></tr><tr><td>zoltan</td><td>NULL</td><td>15</td></tr><tr><td>zoltan4</td><td>GLS</td><td>129</td></tr><tr><td>zoltan4</td><td>Posta</td><td>124</td></tr><tr><td>zoltan4</td><td>Személyes átvétel</td><td>171</td></tr><tr><td>zoltan4</td><td>NULL</td><td>424</td></tr><tr><td>ZOLTANP</td><td>GLS</td><td>6</td></tr><tr><td>ZOLTANP</td><td>Posta</td><td>3</td></tr><tr><td>ZOLTANP</td><td>Személyes átvétel</td><td>4</td></tr><tr><td>ZOLTANP</td><td>NULL</td><td>13</td></tr><tr><td>ZOLTANT</td><td>GLS</td><td>127</td></tr><tr><td>ZOLTANT</td><td>Posta</td><td>107</td></tr><tr><td>ZOLTANT</td><td>Személyes átvétel</td><td>123</td></tr><tr><td>ZOLTANT</td><td>NULL</td><td>357</td></tr><tr><td>zsofi1</td><td>GLS</td><td>7</td></tr><tr><td>zsofi1</td><td>Posta</td><td>6</td></tr><tr><td>zsofi1</td><td>Személyes átvétel</td><td>6</td></tr><tr><td>zsofi1</td><td>NULL</td><td>19</td></tr><tr><td>zsolt1</td><td>GLS</td><td>11</td></tr><tr><td>zsolt1</td><td>Posta</td><td>6</td></tr><tr><td>zsolt1</td><td>Személyes átvétel</td><td>3</td></tr><tr><td>zsolt1</td><td>NULL</td><td>20</td></tr><tr><td>ZSOLTJ</td><td>GLS</td><td>1</td></tr><tr><td>ZSOLTJ</td><td>Posta</td><td>8</td></tr><tr><td>ZSOLTJ</td><td>Személyes átvétel</td><td>9</td></tr><tr><td>ZSOLTJ</td><td>NULL</td><td>18</td></tr><tr><td>zsuzsa</td><td>GLS</td><td>8</td></tr><tr><td>zsuzsa</td><td>Posta</td><td>5</td></tr><tr><td>zsuzsa</td><td>Személyes átvétel</td><td>3</td></tr><tr><td>zsuzsa</td><td>NULL</td><td>16</td></tr><tr><td>zsuzsa3</td><td>GLS</td><td>5</td></tr><tr><td>zsuzsa3</td><td>Posta</td><td>5</td></tr><tr><td>zsuzsa3</td><td>Személyes átvétel</td><td>6</td></tr><tr><td>zsuzsa3</td><td>NULL</td><td>16</td></tr><tr><td>zsuzsanna</td><td>GLS</td><td>7</td></tr><tr><td>zsuzsanna</td><td>Posta</td><td>5</td></tr><tr><td>zsuzsanna</td><td>Személyes átvétel</td><td>3</td></tr><tr><td>zsuzsanna</td><td>NULL</td><td>15</td></tr><tr><td>ZSUZSAV</td><td>GLS</td><td>139</td></tr><tr><td>ZSUZSAV</td><td>Posta</td><td>139</td></tr><tr><td>ZSUZSAV</td><td>Személyes átvétel</td><td>142</td></tr><tr><td>ZSUZSAV</td><td>NULL</td><td>420</td></tr><tr><td>NULL</td><td>NULL</td><td>28085</td></tr></table>"
                    },
                    "metadata": {}
                }
            ],
            "execution_count": 2
        },
        {
            "cell_type": "markdown",
            "source": [
                "2. <span style=\"background-color: rgb(255, 255, 255); color: rgb(0, 0, 0); font-family: &quot;Open Sans&quot;, sans-serif; font-size: 14.44px;\">Készítsünk listát a termékek számáról a következő csoportosítási szempontok szerint:<br>kategória azonosító, raktárkód, raktárkód+mennyiségi egység!</span>\n",
                "\n",
                "a. A listát szűrjük azokra a csoportokra, ahol a termékek száma legalább 6!"
            ],
            "metadata": {
                "azdata_cell_guid": "ea75c103-911f-41a3-a32c-3d40fb3e4e4a"
            },
            "attachments": {}
        },
        {
            "cell_type": "code",
            "source": [
                "select kat_id,raktar_kod, megys, count(*) as 'termekek szama'\r\n",
                "from termek\r\n",
                "group by grouping sets(kat_id, raktar_kod, (raktar_kod,megys)) \r\n",
                "having count(*)>=6"
            ],
            "metadata": {
                "azdata_cell_guid": "91f64c6e-b552-4a7d-a11f-721964bc1493",
                "language": "sql"
            },
            "outputs": [
                {
                    "output_type": "display_data",
                    "data": {
                        "text/html": "(49 rows affected)"
                    },
                    "metadata": {}
                },
                {
                    "output_type": "display_data",
                    "data": {
                        "text/html": "Total execution time: 00:00:00.063"
                    },
                    "metadata": {}
                },
                {
                    "output_type": "execute_result",
                    "execution_count": 11,
                    "data": {
                        "application/vnd.dataresource+json": {
                            "schema": {
                                "fields": [
                                    {
                                        "name": "kat_id"
                                    },
                                    {
                                        "name": "raktar_kod"
                                    },
                                    {
                                        "name": "megys"
                                    },
                                    {
                                        "name": "termekek szama"
                                    }
                                ]
                            },
                            "data": [
                                {
                                    "kat_id": "NULL",
                                    "raktar_kod": "1",
                                    "megys": "db",
                                    "termekek szama": "11"
                                },
                                {
                                    "kat_id": "NULL",
                                    "raktar_kod": "1",
                                    "megys": "NULL",
                                    "termekek szama": "11"
                                },
                                {
                                    "kat_id": "NULL",
                                    "raktar_kod": "3",
                                    "megys": "db",
                                    "termekek szama": "14"
                                },
                                {
                                    "kat_id": "NULL",
                                    "raktar_kod": "3",
                                    "megys": "NULL",
                                    "termekek szama": "14"
                                },
                                {
                                    "kat_id": "NULL",
                                    "raktar_kod": "5",
                                    "megys": "csomag",
                                    "termekek szama": "7"
                                },
                                {
                                    "kat_id": "NULL",
                                    "raktar_kod": "5",
                                    "megys": "db",
                                    "termekek szama": "72"
                                },
                                {
                                    "kat_id": "NULL",
                                    "raktar_kod": "5",
                                    "megys": "NULL",
                                    "termekek szama": "86"
                                },
                                {
                                    "kat_id": "NULL",
                                    "raktar_kod": "6",
                                    "megys": "csomag",
                                    "termekek szama": "9"
                                },
                                {
                                    "kat_id": "NULL",
                                    "raktar_kod": "6",
                                    "megys": "db",
                                    "termekek szama": "94"
                                },
                                {
                                    "kat_id": "NULL",
                                    "raktar_kod": "6",
                                    "megys": "NULL",
                                    "termekek szama": "106"
                                },
                                {
                                    "kat_id": "NULL",
                                    "raktar_kod": "7",
                                    "megys": "csomag",
                                    "termekek szama": "9"
                                },
                                {
                                    "kat_id": "NULL",
                                    "raktar_kod": "7",
                                    "megys": "db",
                                    "termekek szama": "88"
                                },
                                {
                                    "kat_id": "NULL",
                                    "raktar_kod": "7",
                                    "megys": "NULL",
                                    "termekek szama": "100"
                                },
                                {
                                    "kat_id": "NULL",
                                    "raktar_kod": "8",
                                    "megys": "csomag",
                                    "termekek szama": "8"
                                },
                                {
                                    "kat_id": "NULL",
                                    "raktar_kod": "8",
                                    "megys": "db",
                                    "termekek szama": "109"
                                },
                                {
                                    "kat_id": "NULL",
                                    "raktar_kod": "8",
                                    "megys": "ív",
                                    "termekek szama": "6"
                                },
                                {
                                    "kat_id": "NULL",
                                    "raktar_kod": "8",
                                    "megys": "NULL",
                                    "termekek szama": "123"
                                },
                                {
                                    "kat_id": "NULL",
                                    "raktar_kod": "9",
                                    "megys": "csomag",
                                    "termekek szama": "11"
                                },
                                {
                                    "kat_id": "NULL",
                                    "raktar_kod": "9",
                                    "megys": "db",
                                    "termekek szama": "86"
                                },
                                {
                                    "kat_id": "NULL",
                                    "raktar_kod": "9",
                                    "megys": "NULL",
                                    "termekek szama": "102"
                                },
                                {
                                    "kat_id": "4",
                                    "raktar_kod": "NULL",
                                    "megys": "NULL",
                                    "termekek szama": "15"
                                },
                                {
                                    "kat_id": "6",
                                    "raktar_kod": "NULL",
                                    "megys": "NULL",
                                    "termekek szama": "20"
                                },
                                {
                                    "kat_id": "16",
                                    "raktar_kod": "NULL",
                                    "megys": "NULL",
                                    "termekek szama": "7"
                                },
                                {
                                    "kat_id": "19",
                                    "raktar_kod": "NULL",
                                    "megys": "NULL",
                                    "termekek szama": "19"
                                },
                                {
                                    "kat_id": "24",
                                    "raktar_kod": "NULL",
                                    "megys": "NULL",
                                    "termekek szama": "7"
                                },
                                {
                                    "kat_id": "30",
                                    "raktar_kod": "NULL",
                                    "megys": "NULL",
                                    "termekek szama": "7"
                                },
                                {
                                    "kat_id": "35",
                                    "raktar_kod": "NULL",
                                    "megys": "NULL",
                                    "termekek szama": "7"
                                },
                                {
                                    "kat_id": "41",
                                    "raktar_kod": "NULL",
                                    "megys": "NULL",
                                    "termekek szama": "13"
                                },
                                {
                                    "kat_id": "45",
                                    "raktar_kod": "NULL",
                                    "megys": "NULL",
                                    "termekek szama": "11"
                                },
                                {
                                    "kat_id": "46",
                                    "raktar_kod": "NULL",
                                    "megys": "NULL",
                                    "termekek szama": "7"
                                },
                                {
                                    "kat_id": "52",
                                    "raktar_kod": "NULL",
                                    "megys": "NULL",
                                    "termekek szama": "26"
                                },
                                {
                                    "kat_id": "54",
                                    "raktar_kod": "NULL",
                                    "megys": "NULL",
                                    "termekek szama": "6"
                                },
                                {
                                    "kat_id": "66",
                                    "raktar_kod": "NULL",
                                    "megys": "NULL",
                                    "termekek szama": "7"
                                },
                                {
                                    "kat_id": "78",
                                    "raktar_kod": "NULL",
                                    "megys": "NULL",
                                    "termekek szama": "24"
                                },
                                {
                                    "kat_id": "83",
                                    "raktar_kod": "NULL",
                                    "megys": "NULL",
                                    "termekek szama": "6"
                                },
                                {
                                    "kat_id": "85",
                                    "raktar_kod": "NULL",
                                    "megys": "NULL",
                                    "termekek szama": "16"
                                },
                                {
                                    "kat_id": "91",
                                    "raktar_kod": "NULL",
                                    "megys": "NULL",
                                    "termekek szama": "7"
                                },
                                {
                                    "kat_id": "93",
                                    "raktar_kod": "NULL",
                                    "megys": "NULL",
                                    "termekek szama": "7"
                                },
                                {
                                    "kat_id": "96",
                                    "raktar_kod": "NULL",
                                    "megys": "NULL",
                                    "termekek szama": "9"
                                },
                                {
                                    "kat_id": "97",
                                    "raktar_kod": "NULL",
                                    "megys": "NULL",
                                    "termekek szama": "10"
                                },
                                {
                                    "kat_id": "100",
                                    "raktar_kod": "NULL",
                                    "megys": "NULL",
                                    "termekek szama": "9"
                                },
                                {
                                    "kat_id": "118",
                                    "raktar_kod": "NULL",
                                    "megys": "NULL",
                                    "termekek szama": "9"
                                },
                                {
                                    "kat_id": "122",
                                    "raktar_kod": "NULL",
                                    "megys": "NULL",
                                    "termekek szama": "7"
                                },
                                {
                                    "kat_id": "124",
                                    "raktar_kod": "NULL",
                                    "megys": "NULL",
                                    "termekek szama": "10"
                                },
                                {
                                    "kat_id": "133",
                                    "raktar_kod": "NULL",
                                    "megys": "NULL",
                                    "termekek szama": "6"
                                },
                                {
                                    "kat_id": "145",
                                    "raktar_kod": "NULL",
                                    "megys": "NULL",
                                    "termekek szama": "18"
                                },
                                {
                                    "kat_id": "146",
                                    "raktar_kod": "NULL",
                                    "megys": "NULL",
                                    "termekek szama": "7"
                                },
                                {
                                    "kat_id": "149",
                                    "raktar_kod": "NULL",
                                    "megys": "NULL",
                                    "termekek szama": "6"
                                },
                                {
                                    "kat_id": "152",
                                    "raktar_kod": "NULL",
                                    "megys": "NULL",
                                    "termekek szama": "6"
                                }
                            ]
                        },
                        "text/html": "<table><tr><th>kat_id</th><th>raktar_kod</th><th>megys</th><th>termekek szama</th></tr><tr><td>NULL</td><td>1</td><td>db</td><td>11</td></tr><tr><td>NULL</td><td>1</td><td>NULL</td><td>11</td></tr><tr><td>NULL</td><td>3</td><td>db</td><td>14</td></tr><tr><td>NULL</td><td>3</td><td>NULL</td><td>14</td></tr><tr><td>NULL</td><td>5</td><td>csomag</td><td>7</td></tr><tr><td>NULL</td><td>5</td><td>db</td><td>72</td></tr><tr><td>NULL</td><td>5</td><td>NULL</td><td>86</td></tr><tr><td>NULL</td><td>6</td><td>csomag</td><td>9</td></tr><tr><td>NULL</td><td>6</td><td>db</td><td>94</td></tr><tr><td>NULL</td><td>6</td><td>NULL</td><td>106</td></tr><tr><td>NULL</td><td>7</td><td>csomag</td><td>9</td></tr><tr><td>NULL</td><td>7</td><td>db</td><td>88</td></tr><tr><td>NULL</td><td>7</td><td>NULL</td><td>100</td></tr><tr><td>NULL</td><td>8</td><td>csomag</td><td>8</td></tr><tr><td>NULL</td><td>8</td><td>db</td><td>109</td></tr><tr><td>NULL</td><td>8</td><td>ív</td><td>6</td></tr><tr><td>NULL</td><td>8</td><td>NULL</td><td>123</td></tr><tr><td>NULL</td><td>9</td><td>csomag</td><td>11</td></tr><tr><td>NULL</td><td>9</td><td>db</td><td>86</td></tr><tr><td>NULL</td><td>9</td><td>NULL</td><td>102</td></tr><tr><td>4</td><td>NULL</td><td>NULL</td><td>15</td></tr><tr><td>6</td><td>NULL</td><td>NULL</td><td>20</td></tr><tr><td>16</td><td>NULL</td><td>NULL</td><td>7</td></tr><tr><td>19</td><td>NULL</td><td>NULL</td><td>19</td></tr><tr><td>24</td><td>NULL</td><td>NULL</td><td>7</td></tr><tr><td>30</td><td>NULL</td><td>NULL</td><td>7</td></tr><tr><td>35</td><td>NULL</td><td>NULL</td><td>7</td></tr><tr><td>41</td><td>NULL</td><td>NULL</td><td>13</td></tr><tr><td>45</td><td>NULL</td><td>NULL</td><td>11</td></tr><tr><td>46</td><td>NULL</td><td>NULL</td><td>7</td></tr><tr><td>52</td><td>NULL</td><td>NULL</td><td>26</td></tr><tr><td>54</td><td>NULL</td><td>NULL</td><td>6</td></tr><tr><td>66</td><td>NULL</td><td>NULL</td><td>7</td></tr><tr><td>78</td><td>NULL</td><td>NULL</td><td>24</td></tr><tr><td>83</td><td>NULL</td><td>NULL</td><td>6</td></tr><tr><td>85</td><td>NULL</td><td>NULL</td><td>16</td></tr><tr><td>91</td><td>NULL</td><td>NULL</td><td>7</td></tr><tr><td>93</td><td>NULL</td><td>NULL</td><td>7</td></tr><tr><td>96</td><td>NULL</td><td>NULL</td><td>9</td></tr><tr><td>97</td><td>NULL</td><td>NULL</td><td>10</td></tr><tr><td>100</td><td>NULL</td><td>NULL</td><td>9</td></tr><tr><td>118</td><td>NULL</td><td>NULL</td><td>9</td></tr><tr><td>122</td><td>NULL</td><td>NULL</td><td>7</td></tr><tr><td>124</td><td>NULL</td><td>NULL</td><td>10</td></tr><tr><td>133</td><td>NULL</td><td>NULL</td><td>6</td></tr><tr><td>145</td><td>NULL</td><td>NULL</td><td>18</td></tr><tr><td>146</td><td>NULL</td><td>NULL</td><td>7</td></tr><tr><td>149</td><td>NULL</td><td>NULL</td><td>6</td></tr><tr><td>152</td><td>NULL</td><td>NULL</td><td>6</td></tr></table>"
                    },
                    "metadata": {}
                }
            ],
            "execution_count": 11
        },
        {
            "cell_type": "code",
            "source": [
                "select KAT_ID, RAKTAR_KOD, MEGYS, COUNT(*)\n",
                "FROM Termek\n",
                "GROUP BY GROUPING SETS(KAT_ID,RAKTAR_KOD, (RAKTAR_KOD,MEGYS ) )\n",
                "HAVING COUNT(*)>=6"
            ],
            "metadata": {
                "azdata_cell_guid": "222b9618-a8e8-42b4-a8e8-d002257122b7",
                "language": "sql"
            },
            "outputs": [
                {
                    "output_type": "display_data",
                    "data": {
                        "text/html": "(49 rows affected)"
                    },
                    "metadata": {}
                },
                {
                    "output_type": "display_data",
                    "data": {
                        "text/html": "Total execution time: 00:00:00.020"
                    },
                    "metadata": {}
                },
                {
                    "output_type": "execute_result",
                    "execution_count": 12,
                    "data": {
                        "application/vnd.dataresource+json": {
                            "schema": {
                                "fields": [
                                    {
                                        "name": "KAT_ID"
                                    },
                                    {
                                        "name": "RAKTAR_KOD"
                                    },
                                    {
                                        "name": "MEGYS"
                                    },
                                    {
                                        "name": "(No column name)"
                                    }
                                ]
                            },
                            "data": [
                                {
                                    "KAT_ID": "NULL",
                                    "RAKTAR_KOD": "1",
                                    "MEGYS": "db",
                                    "(No column name)": "11"
                                },
                                {
                                    "KAT_ID": "NULL",
                                    "RAKTAR_KOD": "1",
                                    "MEGYS": "NULL",
                                    "(No column name)": "11"
                                },
                                {
                                    "KAT_ID": "NULL",
                                    "RAKTAR_KOD": "3",
                                    "MEGYS": "db",
                                    "(No column name)": "14"
                                },
                                {
                                    "KAT_ID": "NULL",
                                    "RAKTAR_KOD": "3",
                                    "MEGYS": "NULL",
                                    "(No column name)": "14"
                                },
                                {
                                    "KAT_ID": "NULL",
                                    "RAKTAR_KOD": "5",
                                    "MEGYS": "csomag",
                                    "(No column name)": "7"
                                },
                                {
                                    "KAT_ID": "NULL",
                                    "RAKTAR_KOD": "5",
                                    "MEGYS": "db",
                                    "(No column name)": "72"
                                },
                                {
                                    "KAT_ID": "NULL",
                                    "RAKTAR_KOD": "5",
                                    "MEGYS": "NULL",
                                    "(No column name)": "86"
                                },
                                {
                                    "KAT_ID": "NULL",
                                    "RAKTAR_KOD": "6",
                                    "MEGYS": "csomag",
                                    "(No column name)": "9"
                                },
                                {
                                    "KAT_ID": "NULL",
                                    "RAKTAR_KOD": "6",
                                    "MEGYS": "db",
                                    "(No column name)": "94"
                                },
                                {
                                    "KAT_ID": "NULL",
                                    "RAKTAR_KOD": "6",
                                    "MEGYS": "NULL",
                                    "(No column name)": "106"
                                },
                                {
                                    "KAT_ID": "NULL",
                                    "RAKTAR_KOD": "7",
                                    "MEGYS": "csomag",
                                    "(No column name)": "9"
                                },
                                {
                                    "KAT_ID": "NULL",
                                    "RAKTAR_KOD": "7",
                                    "MEGYS": "db",
                                    "(No column name)": "88"
                                },
                                {
                                    "KAT_ID": "NULL",
                                    "RAKTAR_KOD": "7",
                                    "MEGYS": "NULL",
                                    "(No column name)": "100"
                                },
                                {
                                    "KAT_ID": "NULL",
                                    "RAKTAR_KOD": "8",
                                    "MEGYS": "csomag",
                                    "(No column name)": "8"
                                },
                                {
                                    "KAT_ID": "NULL",
                                    "RAKTAR_KOD": "8",
                                    "MEGYS": "db",
                                    "(No column name)": "109"
                                },
                                {
                                    "KAT_ID": "NULL",
                                    "RAKTAR_KOD": "8",
                                    "MEGYS": "ív",
                                    "(No column name)": "6"
                                },
                                {
                                    "KAT_ID": "NULL",
                                    "RAKTAR_KOD": "8",
                                    "MEGYS": "NULL",
                                    "(No column name)": "123"
                                },
                                {
                                    "KAT_ID": "NULL",
                                    "RAKTAR_KOD": "9",
                                    "MEGYS": "csomag",
                                    "(No column name)": "11"
                                },
                                {
                                    "KAT_ID": "NULL",
                                    "RAKTAR_KOD": "9",
                                    "MEGYS": "db",
                                    "(No column name)": "86"
                                },
                                {
                                    "KAT_ID": "NULL",
                                    "RAKTAR_KOD": "9",
                                    "MEGYS": "NULL",
                                    "(No column name)": "102"
                                },
                                {
                                    "KAT_ID": "4",
                                    "RAKTAR_KOD": "NULL",
                                    "MEGYS": "NULL",
                                    "(No column name)": "15"
                                },
                                {
                                    "KAT_ID": "6",
                                    "RAKTAR_KOD": "NULL",
                                    "MEGYS": "NULL",
                                    "(No column name)": "20"
                                },
                                {
                                    "KAT_ID": "16",
                                    "RAKTAR_KOD": "NULL",
                                    "MEGYS": "NULL",
                                    "(No column name)": "7"
                                },
                                {
                                    "KAT_ID": "19",
                                    "RAKTAR_KOD": "NULL",
                                    "MEGYS": "NULL",
                                    "(No column name)": "19"
                                },
                                {
                                    "KAT_ID": "24",
                                    "RAKTAR_KOD": "NULL",
                                    "MEGYS": "NULL",
                                    "(No column name)": "7"
                                },
                                {
                                    "KAT_ID": "30",
                                    "RAKTAR_KOD": "NULL",
                                    "MEGYS": "NULL",
                                    "(No column name)": "7"
                                },
                                {
                                    "KAT_ID": "35",
                                    "RAKTAR_KOD": "NULL",
                                    "MEGYS": "NULL",
                                    "(No column name)": "7"
                                },
                                {
                                    "KAT_ID": "41",
                                    "RAKTAR_KOD": "NULL",
                                    "MEGYS": "NULL",
                                    "(No column name)": "13"
                                },
                                {
                                    "KAT_ID": "45",
                                    "RAKTAR_KOD": "NULL",
                                    "MEGYS": "NULL",
                                    "(No column name)": "11"
                                },
                                {
                                    "KAT_ID": "46",
                                    "RAKTAR_KOD": "NULL",
                                    "MEGYS": "NULL",
                                    "(No column name)": "7"
                                },
                                {
                                    "KAT_ID": "52",
                                    "RAKTAR_KOD": "NULL",
                                    "MEGYS": "NULL",
                                    "(No column name)": "26"
                                },
                                {
                                    "KAT_ID": "54",
                                    "RAKTAR_KOD": "NULL",
                                    "MEGYS": "NULL",
                                    "(No column name)": "6"
                                },
                                {
                                    "KAT_ID": "66",
                                    "RAKTAR_KOD": "NULL",
                                    "MEGYS": "NULL",
                                    "(No column name)": "7"
                                },
                                {
                                    "KAT_ID": "78",
                                    "RAKTAR_KOD": "NULL",
                                    "MEGYS": "NULL",
                                    "(No column name)": "24"
                                },
                                {
                                    "KAT_ID": "83",
                                    "RAKTAR_KOD": "NULL",
                                    "MEGYS": "NULL",
                                    "(No column name)": "6"
                                },
                                {
                                    "KAT_ID": "85",
                                    "RAKTAR_KOD": "NULL",
                                    "MEGYS": "NULL",
                                    "(No column name)": "16"
                                },
                                {
                                    "KAT_ID": "91",
                                    "RAKTAR_KOD": "NULL",
                                    "MEGYS": "NULL",
                                    "(No column name)": "7"
                                },
                                {
                                    "KAT_ID": "93",
                                    "RAKTAR_KOD": "NULL",
                                    "MEGYS": "NULL",
                                    "(No column name)": "7"
                                },
                                {
                                    "KAT_ID": "96",
                                    "RAKTAR_KOD": "NULL",
                                    "MEGYS": "NULL",
                                    "(No column name)": "9"
                                },
                                {
                                    "KAT_ID": "97",
                                    "RAKTAR_KOD": "NULL",
                                    "MEGYS": "NULL",
                                    "(No column name)": "10"
                                },
                                {
                                    "KAT_ID": "100",
                                    "RAKTAR_KOD": "NULL",
                                    "MEGYS": "NULL",
                                    "(No column name)": "9"
                                },
                                {
                                    "KAT_ID": "118",
                                    "RAKTAR_KOD": "NULL",
                                    "MEGYS": "NULL",
                                    "(No column name)": "9"
                                },
                                {
                                    "KAT_ID": "122",
                                    "RAKTAR_KOD": "NULL",
                                    "MEGYS": "NULL",
                                    "(No column name)": "7"
                                },
                                {
                                    "KAT_ID": "124",
                                    "RAKTAR_KOD": "NULL",
                                    "MEGYS": "NULL",
                                    "(No column name)": "10"
                                },
                                {
                                    "KAT_ID": "133",
                                    "RAKTAR_KOD": "NULL",
                                    "MEGYS": "NULL",
                                    "(No column name)": "6"
                                },
                                {
                                    "KAT_ID": "145",
                                    "RAKTAR_KOD": "NULL",
                                    "MEGYS": "NULL",
                                    "(No column name)": "18"
                                },
                                {
                                    "KAT_ID": "146",
                                    "RAKTAR_KOD": "NULL",
                                    "MEGYS": "NULL",
                                    "(No column name)": "7"
                                },
                                {
                                    "KAT_ID": "149",
                                    "RAKTAR_KOD": "NULL",
                                    "MEGYS": "NULL",
                                    "(No column name)": "6"
                                },
                                {
                                    "KAT_ID": "152",
                                    "RAKTAR_KOD": "NULL",
                                    "MEGYS": "NULL",
                                    "(No column name)": "6"
                                }
                            ]
                        },
                        "text/html": "<table><tr><th>KAT_ID</th><th>RAKTAR_KOD</th><th>MEGYS</th><th>(No column name)</th></tr><tr><td>NULL</td><td>1</td><td>db</td><td>11</td></tr><tr><td>NULL</td><td>1</td><td>NULL</td><td>11</td></tr><tr><td>NULL</td><td>3</td><td>db</td><td>14</td></tr><tr><td>NULL</td><td>3</td><td>NULL</td><td>14</td></tr><tr><td>NULL</td><td>5</td><td>csomag</td><td>7</td></tr><tr><td>NULL</td><td>5</td><td>db</td><td>72</td></tr><tr><td>NULL</td><td>5</td><td>NULL</td><td>86</td></tr><tr><td>NULL</td><td>6</td><td>csomag</td><td>9</td></tr><tr><td>NULL</td><td>6</td><td>db</td><td>94</td></tr><tr><td>NULL</td><td>6</td><td>NULL</td><td>106</td></tr><tr><td>NULL</td><td>7</td><td>csomag</td><td>9</td></tr><tr><td>NULL</td><td>7</td><td>db</td><td>88</td></tr><tr><td>NULL</td><td>7</td><td>NULL</td><td>100</td></tr><tr><td>NULL</td><td>8</td><td>csomag</td><td>8</td></tr><tr><td>NULL</td><td>8</td><td>db</td><td>109</td></tr><tr><td>NULL</td><td>8</td><td>ív</td><td>6</td></tr><tr><td>NULL</td><td>8</td><td>NULL</td><td>123</td></tr><tr><td>NULL</td><td>9</td><td>csomag</td><td>11</td></tr><tr><td>NULL</td><td>9</td><td>db</td><td>86</td></tr><tr><td>NULL</td><td>9</td><td>NULL</td><td>102</td></tr><tr><td>4</td><td>NULL</td><td>NULL</td><td>15</td></tr><tr><td>6</td><td>NULL</td><td>NULL</td><td>20</td></tr><tr><td>16</td><td>NULL</td><td>NULL</td><td>7</td></tr><tr><td>19</td><td>NULL</td><td>NULL</td><td>19</td></tr><tr><td>24</td><td>NULL</td><td>NULL</td><td>7</td></tr><tr><td>30</td><td>NULL</td><td>NULL</td><td>7</td></tr><tr><td>35</td><td>NULL</td><td>NULL</td><td>7</td></tr><tr><td>41</td><td>NULL</td><td>NULL</td><td>13</td></tr><tr><td>45</td><td>NULL</td><td>NULL</td><td>11</td></tr><tr><td>46</td><td>NULL</td><td>NULL</td><td>7</td></tr><tr><td>52</td><td>NULL</td><td>NULL</td><td>26</td></tr><tr><td>54</td><td>NULL</td><td>NULL</td><td>6</td></tr><tr><td>66</td><td>NULL</td><td>NULL</td><td>7</td></tr><tr><td>78</td><td>NULL</td><td>NULL</td><td>24</td></tr><tr><td>83</td><td>NULL</td><td>NULL</td><td>6</td></tr><tr><td>85</td><td>NULL</td><td>NULL</td><td>16</td></tr><tr><td>91</td><td>NULL</td><td>NULL</td><td>7</td></tr><tr><td>93</td><td>NULL</td><td>NULL</td><td>7</td></tr><tr><td>96</td><td>NULL</td><td>NULL</td><td>9</td></tr><tr><td>97</td><td>NULL</td><td>NULL</td><td>10</td></tr><tr><td>100</td><td>NULL</td><td>NULL</td><td>9</td></tr><tr><td>118</td><td>NULL</td><td>NULL</td><td>9</td></tr><tr><td>122</td><td>NULL</td><td>NULL</td><td>7</td></tr><tr><td>124</td><td>NULL</td><td>NULL</td><td>10</td></tr><tr><td>133</td><td>NULL</td><td>NULL</td><td>6</td></tr><tr><td>145</td><td>NULL</td><td>NULL</td><td>18</td></tr><tr><td>146</td><td>NULL</td><td>NULL</td><td>7</td></tr><tr><td>149</td><td>NULL</td><td>NULL</td><td>6</td></tr><tr><td>152</td><td>NULL</td><td>NULL</td><td>6</td></tr></table>"
                    },
                    "metadata": {}
                }
            ],
            "execution_count": 12
        },
        {
            "cell_type": "markdown",
            "source": [
                "```\n",
                "3. Készítsünk listát az egyes termékkategóriákban lévő termékek számáról! \n",
                "\n",
                "```\n",
                "\n",
                "a. Elég megjeleníteni a kategóriák azonosítóit és a darabszámokat!   \n",
                "<span style=\"color: var(--vscode-foreground);\">b. A lista megfelelően jelölve tartalmazza a végösszeget is!&nbsp;<br></span> <span style=\"color: var(--vscode-foreground);\">c. Az oszlopokat nevezzük el értelemszerűen!&nbsp;<br></span> <span style=\"color: var(--vscode-foreground);\">d. A listát rendezzük a darabszám szerint növekvő sorrendbe!</span>\n",
                "\n",
                "  \n",
                "\n",
                "![](https://moodle.uni-corvinus.hu/theme/image.php/adaptable/atto_h5p/1709548862/icon)"
            ],
            "metadata": {
                "azdata_cell_guid": "d7876bb9-76d0-4d07-baed-3cb17b2f96c3"
            },
            "attachments": {}
        },
        {
            "cell_type": "code",
            "source": [
                "select count(*) as 'db', iif(grouping(KAT_ID)=1 ,'osszesen', cast(kat_id as varchar)) as 'kategoria azonosito'\r\n",
                "from Termek\r\n",
                "group by rollup (kat_id)\r\n",
                "order by 1 asc "
            ],
            "metadata": {
                "azdata_cell_guid": "933cf90b-d413-43fd-8338-80cf0206d9bc",
                "language": "sql"
            },
            "outputs": [
                {
                    "output_type": "display_data",
                    "data": {
                        "text/html": "(144 rows affected)"
                    },
                    "metadata": {}
                },
                {
                    "output_type": "display_data",
                    "data": {
                        "text/html": "Total execution time: 00:00:00.053"
                    },
                    "metadata": {}
                },
                {
                    "output_type": "execute_result",
                    "execution_count": 13,
                    "data": {
                        "application/vnd.dataresource+json": {
                            "schema": {
                                "fields": [
                                    {
                                        "name": "db"
                                    },
                                    {
                                        "name": "kategoria azonosito"
                                    }
                                ]
                            },
                            "data": [
                                {
                                    "db": "1",
                                    "kategoria azonosito": "10"
                                },
                                {
                                    "db": "1",
                                    "kategoria azonosito": "11"
                                },
                                {
                                    "db": "1",
                                    "kategoria azonosito": "12"
                                },
                                {
                                    "db": "1",
                                    "kategoria azonosito": "15"
                                },
                                {
                                    "db": "1",
                                    "kategoria azonosito": "17"
                                },
                                {
                                    "db": "1",
                                    "kategoria azonosito": "26"
                                },
                                {
                                    "db": "1",
                                    "kategoria azonosito": "29"
                                },
                                {
                                    "db": "1",
                                    "kategoria azonosito": "31"
                                },
                                {
                                    "db": "1",
                                    "kategoria azonosito": "33"
                                },
                                {
                                    "db": "1",
                                    "kategoria azonosito": "34"
                                },
                                {
                                    "db": "1",
                                    "kategoria azonosito": "37"
                                },
                                {
                                    "db": "1",
                                    "kategoria azonosito": "38"
                                },
                                {
                                    "db": "1",
                                    "kategoria azonosito": "40"
                                },
                                {
                                    "db": "1",
                                    "kategoria azonosito": "42"
                                },
                                {
                                    "db": "1",
                                    "kategoria azonosito": "44"
                                },
                                {
                                    "db": "1",
                                    "kategoria azonosito": "50"
                                },
                                {
                                    "db": "1",
                                    "kategoria azonosito": "53"
                                },
                                {
                                    "db": "1",
                                    "kategoria azonosito": "61"
                                },
                                {
                                    "db": "1",
                                    "kategoria azonosito": "74"
                                },
                                {
                                    "db": "1",
                                    "kategoria azonosito": "80"
                                },
                                {
                                    "db": "1",
                                    "kategoria azonosito": "82"
                                },
                                {
                                    "db": "1",
                                    "kategoria azonosito": "84"
                                },
                                {
                                    "db": "1",
                                    "kategoria azonosito": "86"
                                },
                                {
                                    "db": "1",
                                    "kategoria azonosito": "99"
                                },
                                {
                                    "db": "1",
                                    "kategoria azonosito": "101"
                                },
                                {
                                    "db": "1",
                                    "kategoria azonosito": "103"
                                },
                                {
                                    "db": "1",
                                    "kategoria azonosito": "105"
                                },
                                {
                                    "db": "1",
                                    "kategoria azonosito": "107"
                                },
                                {
                                    "db": "1",
                                    "kategoria azonosito": "108"
                                },
                                {
                                    "db": "1",
                                    "kategoria azonosito": "109"
                                },
                                {
                                    "db": "1",
                                    "kategoria azonosito": "114"
                                },
                                {
                                    "db": "1",
                                    "kategoria azonosito": "115"
                                },
                                {
                                    "db": "1",
                                    "kategoria azonosito": "126"
                                },
                                {
                                    "db": "1",
                                    "kategoria azonosito": "130"
                                },
                                {
                                    "db": "1",
                                    "kategoria azonosito": "131"
                                },
                                {
                                    "db": "1",
                                    "kategoria azonosito": "132"
                                },
                                {
                                    "db": "1",
                                    "kategoria azonosito": "135"
                                },
                                {
                                    "db": "1",
                                    "kategoria azonosito": "139"
                                },
                                {
                                    "db": "1",
                                    "kategoria azonosito": "140"
                                },
                                {
                                    "db": "1",
                                    "kategoria azonosito": "142"
                                },
                                {
                                    "db": "1",
                                    "kategoria azonosito": "147"
                                },
                                {
                                    "db": "1",
                                    "kategoria azonosito": "148"
                                },
                                {
                                    "db": "1",
                                    "kategoria azonosito": "153"
                                },
                                {
                                    "db": "1",
                                    "kategoria azonosito": "155"
                                },
                                {
                                    "db": "2",
                                    "kategoria azonosito": "150"
                                },
                                {
                                    "db": "2",
                                    "kategoria azonosito": "144"
                                },
                                {
                                    "db": "2",
                                    "kategoria azonosito": "141"
                                },
                                {
                                    "db": "2",
                                    "kategoria azonosito": "136"
                                },
                                {
                                    "db": "2",
                                    "kategoria azonosito": "123"
                                },
                                {
                                    "db": "2",
                                    "kategoria azonosito": "134"
                                },
                                {
                                    "db": "2",
                                    "kategoria azonosito": "127"
                                },
                                {
                                    "db": "2",
                                    "kategoria azonosito": "128"
                                },
                                {
                                    "db": "2",
                                    "kategoria azonosito": "129"
                                },
                                {
                                    "db": "2",
                                    "kategoria azonosito": "116"
                                },
                                {
                                    "db": "2",
                                    "kategoria azonosito": "117"
                                },
                                {
                                    "db": "2",
                                    "kategoria azonosito": "112"
                                },
                                {
                                    "db": "2",
                                    "kategoria azonosito": "121"
                                },
                                {
                                    "db": "2",
                                    "kategoria azonosito": "110"
                                },
                                {
                                    "db": "2",
                                    "kategoria azonosito": "104"
                                },
                                {
                                    "db": "2",
                                    "kategoria azonosito": "94"
                                },
                                {
                                    "db": "2",
                                    "kategoria azonosito": "95"
                                },
                                {
                                    "db": "2",
                                    "kategoria azonosito": "88"
                                },
                                {
                                    "db": "2",
                                    "kategoria azonosito": "90"
                                },
                                {
                                    "db": "2",
                                    "kategoria azonosito": "92"
                                },
                                {
                                    "db": "2",
                                    "kategoria azonosito": "71"
                                },
                                {
                                    "db": "2",
                                    "kategoria azonosito": "72"
                                },
                                {
                                    "db": "2",
                                    "kategoria azonosito": "73"
                                },
                                {
                                    "db": "2",
                                    "kategoria azonosito": "75"
                                },
                                {
                                    "db": "2",
                                    "kategoria azonosito": "62"
                                },
                                {
                                    "db": "2",
                                    "kategoria azonosito": "55"
                                },
                                {
                                    "db": "2",
                                    "kategoria azonosito": "65"
                                },
                                {
                                    "db": "2",
                                    "kategoria azonosito": "67"
                                },
                                {
                                    "db": "2",
                                    "kategoria azonosito": "68"
                                },
                                {
                                    "db": "2",
                                    "kategoria azonosito": "57"
                                },
                                {
                                    "db": "2",
                                    "kategoria azonosito": "48"
                                },
                                {
                                    "db": "2",
                                    "kategoria azonosito": "49"
                                },
                                {
                                    "db": "2",
                                    "kategoria azonosito": "39"
                                },
                                {
                                    "db": "2",
                                    "kategoria azonosito": "22"
                                },
                                {
                                    "db": "2",
                                    "kategoria azonosito": "18"
                                },
                                {
                                    "db": "2",
                                    "kategoria azonosito": "9"
                                },
                                {
                                    "db": "2",
                                    "kategoria azonosito": "13"
                                },
                                {
                                    "db": "3",
                                    "kategoria azonosito": "5"
                                },
                                {
                                    "db": "3",
                                    "kategoria azonosito": "7"
                                },
                                {
                                    "db": "3",
                                    "kategoria azonosito": "8"
                                },
                                {
                                    "db": "3",
                                    "kategoria azonosito": "20"
                                },
                                {
                                    "db": "3",
                                    "kategoria azonosito": "27"
                                },
                                {
                                    "db": "3",
                                    "kategoria azonosito": "32"
                                },
                                {
                                    "db": "3",
                                    "kategoria azonosito": "43"
                                },
                                {
                                    "db": "3",
                                    "kategoria azonosito": "58"
                                },
                                {
                                    "db": "3",
                                    "kategoria azonosito": "51"
                                },
                                {
                                    "db": "3",
                                    "kategoria azonosito": "70"
                                },
                                {
                                    "db": "3",
                                    "kategoria azonosito": "89"
                                },
                                {
                                    "db": "3",
                                    "kategoria azonosito": "111"
                                },
                                {
                                    "db": "3",
                                    "kategoria azonosito": "119"
                                },
                                {
                                    "db": "3",
                                    "kategoria azonosito": "137"
                                },
                                {
                                    "db": "3",
                                    "kategoria azonosito": "143"
                                },
                                {
                                    "db": "4",
                                    "kategoria azonosito": "151"
                                },
                                {
                                    "db": "4",
                                    "kategoria azonosito": "154"
                                },
                                {
                                    "db": "4",
                                    "kategoria azonosito": "125"
                                },
                                {
                                    "db": "4",
                                    "kategoria azonosito": "79"
                                },
                                {
                                    "db": "4",
                                    "kategoria azonosito": "98"
                                },
                                {
                                    "db": "4",
                                    "kategoria azonosito": "56"
                                },
                                {
                                    "db": "4",
                                    "kategoria azonosito": "64"
                                },
                                {
                                    "db": "4",
                                    "kategoria azonosito": "59"
                                },
                                {
                                    "db": "4",
                                    "kategoria azonosito": "47"
                                },
                                {
                                    "db": "4",
                                    "kategoria azonosito": "25"
                                },
                                {
                                    "db": "4",
                                    "kategoria azonosito": "14"
                                },
                                {
                                    "db": "5",
                                    "kategoria azonosito": "21"
                                },
                                {
                                    "db": "5",
                                    "kategoria azonosito": "36"
                                },
                                {
                                    "db": "5",
                                    "kategoria azonosito": "28"
                                },
                                {
                                    "db": "5",
                                    "kategoria azonosito": "60"
                                },
                                {
                                    "db": "5",
                                    "kategoria azonosito": "76"
                                },
                                {
                                    "db": "5",
                                    "kategoria azonosito": "106"
                                },
                                {
                                    "db": "5",
                                    "kategoria azonosito": "138"
                                },
                                {
                                    "db": "6",
                                    "kategoria azonosito": "133"
                                },
                                {
                                    "db": "6",
                                    "kategoria azonosito": "152"
                                },
                                {
                                    "db": "6",
                                    "kategoria azonosito": "149"
                                },
                                {
                                    "db": "6",
                                    "kategoria azonosito": "83"
                                },
                                {
                                    "db": "6",
                                    "kategoria azonosito": "54"
                                },
                                {
                                    "db": "7",
                                    "kategoria azonosito": "46"
                                },
                                {
                                    "db": "7",
                                    "kategoria azonosito": "66"
                                },
                                {
                                    "db": "7",
                                    "kategoria azonosito": "24"
                                },
                                {
                                    "db": "7",
                                    "kategoria azonosito": "30"
                                },
                                {
                                    "db": "7",
                                    "kategoria azonosito": "35"
                                },
                                {
                                    "db": "7",
                                    "kategoria azonosito": "16"
                                },
                                {
                                    "db": "7",
                                    "kategoria azonosito": "146"
                                },
                                {
                                    "db": "7",
                                    "kategoria azonosito": "122"
                                },
                                {
                                    "db": "7",
                                    "kategoria azonosito": "93"
                                },
                                {
                                    "db": "7",
                                    "kategoria azonosito": "91"
                                },
                                {
                                    "db": "9",
                                    "kategoria azonosito": "100"
                                },
                                {
                                    "db": "9",
                                    "kategoria azonosito": "96"
                                },
                                {
                                    "db": "9",
                                    "kategoria azonosito": "118"
                                },
                                {
                                    "db": "10",
                                    "kategoria azonosito": "97"
                                },
                                {
                                    "db": "10",
                                    "kategoria azonosito": "124"
                                },
                                {
                                    "db": "11",
                                    "kategoria azonosito": "45"
                                },
                                {
                                    "db": "13",
                                    "kategoria azonosito": "41"
                                },
                                {
                                    "db": "15",
                                    "kategoria azonosito": "4"
                                },
                                {
                                    "db": "16",
                                    "kategoria azonosito": "85"
                                },
                                {
                                    "db": "18",
                                    "kategoria azonosito": "145"
                                },
                                {
                                    "db": "19",
                                    "kategoria azonosito": "19"
                                },
                                {
                                    "db": "20",
                                    "kategoria azonosito": "6"
                                },
                                {
                                    "db": "24",
                                    "kategoria azonosito": "78"
                                },
                                {
                                    "db": "26",
                                    "kategoria azonosito": "52"
                                },
                                {
                                    "db": "551",
                                    "kategoria azonosito": "osszesen"
                                }
                            ]
                        },
                        "text/html": "<table><tr><th>db</th><th>kategoria azonosito</th></tr><tr><td>1</td><td>10</td></tr><tr><td>1</td><td>11</td></tr><tr><td>1</td><td>12</td></tr><tr><td>1</td><td>15</td></tr><tr><td>1</td><td>17</td></tr><tr><td>1</td><td>26</td></tr><tr><td>1</td><td>29</td></tr><tr><td>1</td><td>31</td></tr><tr><td>1</td><td>33</td></tr><tr><td>1</td><td>34</td></tr><tr><td>1</td><td>37</td></tr><tr><td>1</td><td>38</td></tr><tr><td>1</td><td>40</td></tr><tr><td>1</td><td>42</td></tr><tr><td>1</td><td>44</td></tr><tr><td>1</td><td>50</td></tr><tr><td>1</td><td>53</td></tr><tr><td>1</td><td>61</td></tr><tr><td>1</td><td>74</td></tr><tr><td>1</td><td>80</td></tr><tr><td>1</td><td>82</td></tr><tr><td>1</td><td>84</td></tr><tr><td>1</td><td>86</td></tr><tr><td>1</td><td>99</td></tr><tr><td>1</td><td>101</td></tr><tr><td>1</td><td>103</td></tr><tr><td>1</td><td>105</td></tr><tr><td>1</td><td>107</td></tr><tr><td>1</td><td>108</td></tr><tr><td>1</td><td>109</td></tr><tr><td>1</td><td>114</td></tr><tr><td>1</td><td>115</td></tr><tr><td>1</td><td>126</td></tr><tr><td>1</td><td>130</td></tr><tr><td>1</td><td>131</td></tr><tr><td>1</td><td>132</td></tr><tr><td>1</td><td>135</td></tr><tr><td>1</td><td>139</td></tr><tr><td>1</td><td>140</td></tr><tr><td>1</td><td>142</td></tr><tr><td>1</td><td>147</td></tr><tr><td>1</td><td>148</td></tr><tr><td>1</td><td>153</td></tr><tr><td>1</td><td>155</td></tr><tr><td>2</td><td>150</td></tr><tr><td>2</td><td>144</td></tr><tr><td>2</td><td>141</td></tr><tr><td>2</td><td>136</td></tr><tr><td>2</td><td>123</td></tr><tr><td>2</td><td>134</td></tr><tr><td>2</td><td>127</td></tr><tr><td>2</td><td>128</td></tr><tr><td>2</td><td>129</td></tr><tr><td>2</td><td>116</td></tr><tr><td>2</td><td>117</td></tr><tr><td>2</td><td>112</td></tr><tr><td>2</td><td>121</td></tr><tr><td>2</td><td>110</td></tr><tr><td>2</td><td>104</td></tr><tr><td>2</td><td>94</td></tr><tr><td>2</td><td>95</td></tr><tr><td>2</td><td>88</td></tr><tr><td>2</td><td>90</td></tr><tr><td>2</td><td>92</td></tr><tr><td>2</td><td>71</td></tr><tr><td>2</td><td>72</td></tr><tr><td>2</td><td>73</td></tr><tr><td>2</td><td>75</td></tr><tr><td>2</td><td>62</td></tr><tr><td>2</td><td>55</td></tr><tr><td>2</td><td>65</td></tr><tr><td>2</td><td>67</td></tr><tr><td>2</td><td>68</td></tr><tr><td>2</td><td>57</td></tr><tr><td>2</td><td>48</td></tr><tr><td>2</td><td>49</td></tr><tr><td>2</td><td>39</td></tr><tr><td>2</td><td>22</td></tr><tr><td>2</td><td>18</td></tr><tr><td>2</td><td>9</td></tr><tr><td>2</td><td>13</td></tr><tr><td>3</td><td>5</td></tr><tr><td>3</td><td>7</td></tr><tr><td>3</td><td>8</td></tr><tr><td>3</td><td>20</td></tr><tr><td>3</td><td>27</td></tr><tr><td>3</td><td>32</td></tr><tr><td>3</td><td>43</td></tr><tr><td>3</td><td>58</td></tr><tr><td>3</td><td>51</td></tr><tr><td>3</td><td>70</td></tr><tr><td>3</td><td>89</td></tr><tr><td>3</td><td>111</td></tr><tr><td>3</td><td>119</td></tr><tr><td>3</td><td>137</td></tr><tr><td>3</td><td>143</td></tr><tr><td>4</td><td>151</td></tr><tr><td>4</td><td>154</td></tr><tr><td>4</td><td>125</td></tr><tr><td>4</td><td>79</td></tr><tr><td>4</td><td>98</td></tr><tr><td>4</td><td>56</td></tr><tr><td>4</td><td>64</td></tr><tr><td>4</td><td>59</td></tr><tr><td>4</td><td>47</td></tr><tr><td>4</td><td>25</td></tr><tr><td>4</td><td>14</td></tr><tr><td>5</td><td>21</td></tr><tr><td>5</td><td>36</td></tr><tr><td>5</td><td>28</td></tr><tr><td>5</td><td>60</td></tr><tr><td>5</td><td>76</td></tr><tr><td>5</td><td>106</td></tr><tr><td>5</td><td>138</td></tr><tr><td>6</td><td>133</td></tr><tr><td>6</td><td>152</td></tr><tr><td>6</td><td>149</td></tr><tr><td>6</td><td>83</td></tr><tr><td>6</td><td>54</td></tr><tr><td>7</td><td>46</td></tr><tr><td>7</td><td>66</td></tr><tr><td>7</td><td>24</td></tr><tr><td>7</td><td>30</td></tr><tr><td>7</td><td>35</td></tr><tr><td>7</td><td>16</td></tr><tr><td>7</td><td>146</td></tr><tr><td>7</td><td>122</td></tr><tr><td>7</td><td>93</td></tr><tr><td>7</td><td>91</td></tr><tr><td>9</td><td>100</td></tr><tr><td>9</td><td>96</td></tr><tr><td>9</td><td>118</td></tr><tr><td>10</td><td>97</td></tr><tr><td>10</td><td>124</td></tr><tr><td>11</td><td>45</td></tr><tr><td>13</td><td>41</td></tr><tr><td>15</td><td>4</td></tr><tr><td>16</td><td>85</td></tr><tr><td>18</td><td>145</td></tr><tr><td>19</td><td>19</td></tr><tr><td>20</td><td>6</td></tr><tr><td>24</td><td>78</td></tr><tr><td>26</td><td>52</td></tr><tr><td>551</td><td>osszesen</td></tr></table>"
                    },
                    "metadata": {}
                }
            ],
            "execution_count": 13
        },
        {
            "cell_type": "code",
            "source": [
                "select IIF(GROUPING_ID(KAT_ID)=1, 'Összesen',CAST(KAT_ID as nvarchar(5))) as 'Kategória azonosító', --0 es 1 erteket vehet fel hiszen rollupban csak egy szempont alapjan van a csoportositas\r\n",
                "COUNT(TERMEKKOD) AS 'DB'\r\n",
                "from Termek\r\n",
                "GROUP BY ROLLUP(KAT_ID)\r\n",
                "order by 2 asc"
            ],
            "metadata": {
                "azdata_cell_guid": "56ec19ce-e249-4551-b2a8-f17569765acc",
                "language": "sql"
            },
            "outputs": [
                {
                    "output_type": "display_data",
                    "data": {
                        "text/html": "(144 rows affected)"
                    },
                    "metadata": {}
                },
                {
                    "output_type": "display_data",
                    "data": {
                        "text/html": "Total execution time: 00:00:00.061"
                    },
                    "metadata": {}
                },
                {
                    "output_type": "execute_result",
                    "execution_count": 11,
                    "data": {
                        "application/vnd.dataresource+json": {
                            "schema": {
                                "fields": [
                                    {
                                        "name": "Kategória azonosító"
                                    },
                                    {
                                        "name": "DB"
                                    }
                                ]
                            },
                            "data": [
                                {
                                    "Kategória azonosító": "10",
                                    "DB": "1"
                                },
                                {
                                    "Kategória azonosító": "11",
                                    "DB": "1"
                                },
                                {
                                    "Kategória azonosító": "12",
                                    "DB": "1"
                                },
                                {
                                    "Kategória azonosító": "15",
                                    "DB": "1"
                                },
                                {
                                    "Kategória azonosító": "17",
                                    "DB": "1"
                                },
                                {
                                    "Kategória azonosító": "26",
                                    "DB": "1"
                                },
                                {
                                    "Kategória azonosító": "29",
                                    "DB": "1"
                                },
                                {
                                    "Kategória azonosító": "31",
                                    "DB": "1"
                                },
                                {
                                    "Kategória azonosító": "33",
                                    "DB": "1"
                                },
                                {
                                    "Kategória azonosító": "34",
                                    "DB": "1"
                                },
                                {
                                    "Kategória azonosító": "37",
                                    "DB": "1"
                                },
                                {
                                    "Kategória azonosító": "38",
                                    "DB": "1"
                                },
                                {
                                    "Kategória azonosító": "40",
                                    "DB": "1"
                                },
                                {
                                    "Kategória azonosító": "42",
                                    "DB": "1"
                                },
                                {
                                    "Kategória azonosító": "44",
                                    "DB": "1"
                                },
                                {
                                    "Kategória azonosító": "50",
                                    "DB": "1"
                                },
                                {
                                    "Kategória azonosító": "53",
                                    "DB": "1"
                                },
                                {
                                    "Kategória azonosító": "61",
                                    "DB": "1"
                                },
                                {
                                    "Kategória azonosító": "74",
                                    "DB": "1"
                                },
                                {
                                    "Kategória azonosító": "80",
                                    "DB": "1"
                                },
                                {
                                    "Kategória azonosító": "82",
                                    "DB": "1"
                                },
                                {
                                    "Kategória azonosító": "84",
                                    "DB": "1"
                                },
                                {
                                    "Kategória azonosító": "86",
                                    "DB": "1"
                                },
                                {
                                    "Kategória azonosító": "99",
                                    "DB": "1"
                                },
                                {
                                    "Kategória azonosító": "101",
                                    "DB": "1"
                                },
                                {
                                    "Kategória azonosító": "103",
                                    "DB": "1"
                                },
                                {
                                    "Kategória azonosító": "105",
                                    "DB": "1"
                                },
                                {
                                    "Kategória azonosító": "107",
                                    "DB": "1"
                                },
                                {
                                    "Kategória azonosító": "108",
                                    "DB": "1"
                                },
                                {
                                    "Kategória azonosító": "109",
                                    "DB": "1"
                                },
                                {
                                    "Kategória azonosító": "114",
                                    "DB": "1"
                                },
                                {
                                    "Kategória azonosító": "115",
                                    "DB": "1"
                                },
                                {
                                    "Kategória azonosító": "126",
                                    "DB": "1"
                                },
                                {
                                    "Kategória azonosító": "130",
                                    "DB": "1"
                                },
                                {
                                    "Kategória azonosító": "131",
                                    "DB": "1"
                                },
                                {
                                    "Kategória azonosító": "132",
                                    "DB": "1"
                                },
                                {
                                    "Kategória azonosító": "135",
                                    "DB": "1"
                                },
                                {
                                    "Kategória azonosító": "139",
                                    "DB": "1"
                                },
                                {
                                    "Kategória azonosító": "140",
                                    "DB": "1"
                                },
                                {
                                    "Kategória azonosító": "142",
                                    "DB": "1"
                                },
                                {
                                    "Kategória azonosító": "147",
                                    "DB": "1"
                                },
                                {
                                    "Kategória azonosító": "148",
                                    "DB": "1"
                                },
                                {
                                    "Kategória azonosító": "153",
                                    "DB": "1"
                                },
                                {
                                    "Kategória azonosító": "155",
                                    "DB": "1"
                                },
                                {
                                    "Kategória azonosító": "150",
                                    "DB": "2"
                                },
                                {
                                    "Kategória azonosító": "144",
                                    "DB": "2"
                                },
                                {
                                    "Kategória azonosító": "141",
                                    "DB": "2"
                                },
                                {
                                    "Kategória azonosító": "136",
                                    "DB": "2"
                                },
                                {
                                    "Kategória azonosító": "123",
                                    "DB": "2"
                                },
                                {
                                    "Kategória azonosító": "134",
                                    "DB": "2"
                                },
                                {
                                    "Kategória azonosító": "127",
                                    "DB": "2"
                                },
                                {
                                    "Kategória azonosító": "128",
                                    "DB": "2"
                                },
                                {
                                    "Kategória azonosító": "129",
                                    "DB": "2"
                                },
                                {
                                    "Kategória azonosító": "116",
                                    "DB": "2"
                                },
                                {
                                    "Kategória azonosító": "117",
                                    "DB": "2"
                                },
                                {
                                    "Kategória azonosító": "112",
                                    "DB": "2"
                                },
                                {
                                    "Kategória azonosító": "121",
                                    "DB": "2"
                                },
                                {
                                    "Kategória azonosító": "110",
                                    "DB": "2"
                                },
                                {
                                    "Kategória azonosító": "104",
                                    "DB": "2"
                                },
                                {
                                    "Kategória azonosító": "94",
                                    "DB": "2"
                                },
                                {
                                    "Kategória azonosító": "95",
                                    "DB": "2"
                                },
                                {
                                    "Kategória azonosító": "88",
                                    "DB": "2"
                                },
                                {
                                    "Kategória azonosító": "90",
                                    "DB": "2"
                                },
                                {
                                    "Kategória azonosító": "92",
                                    "DB": "2"
                                },
                                {
                                    "Kategória azonosító": "71",
                                    "DB": "2"
                                },
                                {
                                    "Kategória azonosító": "72",
                                    "DB": "2"
                                },
                                {
                                    "Kategória azonosító": "73",
                                    "DB": "2"
                                },
                                {
                                    "Kategória azonosító": "75",
                                    "DB": "2"
                                },
                                {
                                    "Kategória azonosító": "62",
                                    "DB": "2"
                                },
                                {
                                    "Kategória azonosító": "55",
                                    "DB": "2"
                                },
                                {
                                    "Kategória azonosító": "65",
                                    "DB": "2"
                                },
                                {
                                    "Kategória azonosító": "67",
                                    "DB": "2"
                                },
                                {
                                    "Kategória azonosító": "68",
                                    "DB": "2"
                                },
                                {
                                    "Kategória azonosító": "57",
                                    "DB": "2"
                                },
                                {
                                    "Kategória azonosító": "48",
                                    "DB": "2"
                                },
                                {
                                    "Kategória azonosító": "49",
                                    "DB": "2"
                                },
                                {
                                    "Kategória azonosító": "39",
                                    "DB": "2"
                                },
                                {
                                    "Kategória azonosító": "22",
                                    "DB": "2"
                                },
                                {
                                    "Kategória azonosító": "18",
                                    "DB": "2"
                                },
                                {
                                    "Kategória azonosító": "9",
                                    "DB": "2"
                                },
                                {
                                    "Kategória azonosító": "13",
                                    "DB": "2"
                                },
                                {
                                    "Kategória azonosító": "5",
                                    "DB": "3"
                                },
                                {
                                    "Kategória azonosító": "7",
                                    "DB": "3"
                                },
                                {
                                    "Kategória azonosító": "8",
                                    "DB": "3"
                                },
                                {
                                    "Kategória azonosító": "20",
                                    "DB": "3"
                                },
                                {
                                    "Kategória azonosító": "27",
                                    "DB": "3"
                                },
                                {
                                    "Kategória azonosító": "32",
                                    "DB": "3"
                                },
                                {
                                    "Kategória azonosító": "43",
                                    "DB": "3"
                                },
                                {
                                    "Kategória azonosító": "58",
                                    "DB": "3"
                                },
                                {
                                    "Kategória azonosító": "51",
                                    "DB": "3"
                                },
                                {
                                    "Kategória azonosító": "70",
                                    "DB": "3"
                                },
                                {
                                    "Kategória azonosító": "89",
                                    "DB": "3"
                                },
                                {
                                    "Kategória azonosító": "111",
                                    "DB": "3"
                                },
                                {
                                    "Kategória azonosító": "119",
                                    "DB": "3"
                                },
                                {
                                    "Kategória azonosító": "137",
                                    "DB": "3"
                                },
                                {
                                    "Kategória azonosító": "143",
                                    "DB": "3"
                                },
                                {
                                    "Kategória azonosító": "151",
                                    "DB": "4"
                                },
                                {
                                    "Kategória azonosító": "154",
                                    "DB": "4"
                                },
                                {
                                    "Kategória azonosító": "125",
                                    "DB": "4"
                                },
                                {
                                    "Kategória azonosító": "79",
                                    "DB": "4"
                                },
                                {
                                    "Kategória azonosító": "98",
                                    "DB": "4"
                                },
                                {
                                    "Kategória azonosító": "56",
                                    "DB": "4"
                                },
                                {
                                    "Kategória azonosító": "64",
                                    "DB": "4"
                                },
                                {
                                    "Kategória azonosító": "59",
                                    "DB": "4"
                                },
                                {
                                    "Kategória azonosító": "47",
                                    "DB": "4"
                                },
                                {
                                    "Kategória azonosító": "25",
                                    "DB": "4"
                                },
                                {
                                    "Kategória azonosító": "14",
                                    "DB": "4"
                                },
                                {
                                    "Kategória azonosító": "21",
                                    "DB": "5"
                                },
                                {
                                    "Kategória azonosító": "36",
                                    "DB": "5"
                                },
                                {
                                    "Kategória azonosító": "28",
                                    "DB": "5"
                                },
                                {
                                    "Kategória azonosító": "60",
                                    "DB": "5"
                                },
                                {
                                    "Kategória azonosító": "76",
                                    "DB": "5"
                                },
                                {
                                    "Kategória azonosító": "106",
                                    "DB": "5"
                                },
                                {
                                    "Kategória azonosító": "138",
                                    "DB": "5"
                                },
                                {
                                    "Kategória azonosító": "133",
                                    "DB": "6"
                                },
                                {
                                    "Kategória azonosító": "152",
                                    "DB": "6"
                                },
                                {
                                    "Kategória azonosító": "149",
                                    "DB": "6"
                                },
                                {
                                    "Kategória azonosító": "83",
                                    "DB": "6"
                                },
                                {
                                    "Kategória azonosító": "54",
                                    "DB": "6"
                                },
                                {
                                    "Kategória azonosító": "46",
                                    "DB": "7"
                                },
                                {
                                    "Kategória azonosító": "66",
                                    "DB": "7"
                                },
                                {
                                    "Kategória azonosító": "24",
                                    "DB": "7"
                                },
                                {
                                    "Kategória azonosító": "30",
                                    "DB": "7"
                                },
                                {
                                    "Kategória azonosító": "35",
                                    "DB": "7"
                                },
                                {
                                    "Kategória azonosító": "16",
                                    "DB": "7"
                                },
                                {
                                    "Kategória azonosító": "146",
                                    "DB": "7"
                                },
                                {
                                    "Kategória azonosító": "122",
                                    "DB": "7"
                                },
                                {
                                    "Kategória azonosító": "93",
                                    "DB": "7"
                                },
                                {
                                    "Kategória azonosító": "91",
                                    "DB": "7"
                                },
                                {
                                    "Kategória azonosító": "100",
                                    "DB": "9"
                                },
                                {
                                    "Kategória azonosító": "96",
                                    "DB": "9"
                                },
                                {
                                    "Kategória azonosító": "118",
                                    "DB": "9"
                                },
                                {
                                    "Kategória azonosító": "97",
                                    "DB": "10"
                                },
                                {
                                    "Kategória azonosító": "124",
                                    "DB": "10"
                                },
                                {
                                    "Kategória azonosító": "45",
                                    "DB": "11"
                                },
                                {
                                    "Kategória azonosító": "41",
                                    "DB": "13"
                                },
                                {
                                    "Kategória azonosító": "4",
                                    "DB": "15"
                                },
                                {
                                    "Kategória azonosító": "85",
                                    "DB": "16"
                                },
                                {
                                    "Kategória azonosító": "145",
                                    "DB": "18"
                                },
                                {
                                    "Kategória azonosító": "19",
                                    "DB": "19"
                                },
                                {
                                    "Kategória azonosító": "6",
                                    "DB": "20"
                                },
                                {
                                    "Kategória azonosító": "78",
                                    "DB": "24"
                                },
                                {
                                    "Kategória azonosító": "52",
                                    "DB": "26"
                                },
                                {
                                    "Kategória azonosító": "Összesen",
                                    "DB": "551"
                                }
                            ]
                        },
                        "text/html": "<table><tr><th>Kategória azonosító</th><th>DB</th></tr><tr><td>10</td><td>1</td></tr><tr><td>11</td><td>1</td></tr><tr><td>12</td><td>1</td></tr><tr><td>15</td><td>1</td></tr><tr><td>17</td><td>1</td></tr><tr><td>26</td><td>1</td></tr><tr><td>29</td><td>1</td></tr><tr><td>31</td><td>1</td></tr><tr><td>33</td><td>1</td></tr><tr><td>34</td><td>1</td></tr><tr><td>37</td><td>1</td></tr><tr><td>38</td><td>1</td></tr><tr><td>40</td><td>1</td></tr><tr><td>42</td><td>1</td></tr><tr><td>44</td><td>1</td></tr><tr><td>50</td><td>1</td></tr><tr><td>53</td><td>1</td></tr><tr><td>61</td><td>1</td></tr><tr><td>74</td><td>1</td></tr><tr><td>80</td><td>1</td></tr><tr><td>82</td><td>1</td></tr><tr><td>84</td><td>1</td></tr><tr><td>86</td><td>1</td></tr><tr><td>99</td><td>1</td></tr><tr><td>101</td><td>1</td></tr><tr><td>103</td><td>1</td></tr><tr><td>105</td><td>1</td></tr><tr><td>107</td><td>1</td></tr><tr><td>108</td><td>1</td></tr><tr><td>109</td><td>1</td></tr><tr><td>114</td><td>1</td></tr><tr><td>115</td><td>1</td></tr><tr><td>126</td><td>1</td></tr><tr><td>130</td><td>1</td></tr><tr><td>131</td><td>1</td></tr><tr><td>132</td><td>1</td></tr><tr><td>135</td><td>1</td></tr><tr><td>139</td><td>1</td></tr><tr><td>140</td><td>1</td></tr><tr><td>142</td><td>1</td></tr><tr><td>147</td><td>1</td></tr><tr><td>148</td><td>1</td></tr><tr><td>153</td><td>1</td></tr><tr><td>155</td><td>1</td></tr><tr><td>150</td><td>2</td></tr><tr><td>144</td><td>2</td></tr><tr><td>141</td><td>2</td></tr><tr><td>136</td><td>2</td></tr><tr><td>123</td><td>2</td></tr><tr><td>134</td><td>2</td></tr><tr><td>127</td><td>2</td></tr><tr><td>128</td><td>2</td></tr><tr><td>129</td><td>2</td></tr><tr><td>116</td><td>2</td></tr><tr><td>117</td><td>2</td></tr><tr><td>112</td><td>2</td></tr><tr><td>121</td><td>2</td></tr><tr><td>110</td><td>2</td></tr><tr><td>104</td><td>2</td></tr><tr><td>94</td><td>2</td></tr><tr><td>95</td><td>2</td></tr><tr><td>88</td><td>2</td></tr><tr><td>90</td><td>2</td></tr><tr><td>92</td><td>2</td></tr><tr><td>71</td><td>2</td></tr><tr><td>72</td><td>2</td></tr><tr><td>73</td><td>2</td></tr><tr><td>75</td><td>2</td></tr><tr><td>62</td><td>2</td></tr><tr><td>55</td><td>2</td></tr><tr><td>65</td><td>2</td></tr><tr><td>67</td><td>2</td></tr><tr><td>68</td><td>2</td></tr><tr><td>57</td><td>2</td></tr><tr><td>48</td><td>2</td></tr><tr><td>49</td><td>2</td></tr><tr><td>39</td><td>2</td></tr><tr><td>22</td><td>2</td></tr><tr><td>18</td><td>2</td></tr><tr><td>9</td><td>2</td></tr><tr><td>13</td><td>2</td></tr><tr><td>5</td><td>3</td></tr><tr><td>7</td><td>3</td></tr><tr><td>8</td><td>3</td></tr><tr><td>20</td><td>3</td></tr><tr><td>27</td><td>3</td></tr><tr><td>32</td><td>3</td></tr><tr><td>43</td><td>3</td></tr><tr><td>58</td><td>3</td></tr><tr><td>51</td><td>3</td></tr><tr><td>70</td><td>3</td></tr><tr><td>89</td><td>3</td></tr><tr><td>111</td><td>3</td></tr><tr><td>119</td><td>3</td></tr><tr><td>137</td><td>3</td></tr><tr><td>143</td><td>3</td></tr><tr><td>151</td><td>4</td></tr><tr><td>154</td><td>4</td></tr><tr><td>125</td><td>4</td></tr><tr><td>79</td><td>4</td></tr><tr><td>98</td><td>4</td></tr><tr><td>56</td><td>4</td></tr><tr><td>64</td><td>4</td></tr><tr><td>59</td><td>4</td></tr><tr><td>47</td><td>4</td></tr><tr><td>25</td><td>4</td></tr><tr><td>14</td><td>4</td></tr><tr><td>21</td><td>5</td></tr><tr><td>36</td><td>5</td></tr><tr><td>28</td><td>5</td></tr><tr><td>60</td><td>5</td></tr><tr><td>76</td><td>5</td></tr><tr><td>106</td><td>5</td></tr><tr><td>138</td><td>5</td></tr><tr><td>133</td><td>6</td></tr><tr><td>152</td><td>6</td></tr><tr><td>149</td><td>6</td></tr><tr><td>83</td><td>6</td></tr><tr><td>54</td><td>6</td></tr><tr><td>46</td><td>7</td></tr><tr><td>66</td><td>7</td></tr><tr><td>24</td><td>7</td></tr><tr><td>30</td><td>7</td></tr><tr><td>35</td><td>7</td></tr><tr><td>16</td><td>7</td></tr><tr><td>146</td><td>7</td></tr><tr><td>122</td><td>7</td></tr><tr><td>93</td><td>7</td></tr><tr><td>91</td><td>7</td></tr><tr><td>100</td><td>9</td></tr><tr><td>96</td><td>9</td></tr><tr><td>118</td><td>9</td></tr><tr><td>97</td><td>10</td></tr><tr><td>124</td><td>10</td></tr><tr><td>45</td><td>11</td></tr><tr><td>41</td><td>13</td></tr><tr><td>4</td><td>15</td></tr><tr><td>85</td><td>16</td></tr><tr><td>145</td><td>18</td></tr><tr><td>19</td><td>19</td></tr><tr><td>6</td><td>20</td></tr><tr><td>78</td><td>24</td></tr><tr><td>52</td><td>26</td></tr><tr><td>Összesen</td><td>551</td></tr></table>"
                    },
                    "metadata": {}
                }
            ],
            "execution_count": 11
        },
        {
            "cell_type": "markdown",
            "source": [
                "4. <span style=\"background-color: rgb(255, 255, 255); color: rgb(0, 0, 0); font-family: &quot;Open Sans&quot;, sans-serif; font-size: 14.44px;\">Készítsünk listát az ügyfelek számáról születési év szerint, azon belül nem szerinti bontásban!&nbsp;</span> \n",
                "\n",
                "a. A lista megfelelően jelölve tartalmazza a részösszegeket és a végösszeget is!  \n",
                "b. Az oszlopoknak adjunk nevet értelemszerűen!"
            ],
            "metadata": {
                "azdata_cell_guid": "8e7fef82-8022-49a0-8255-fc2846c2134b"
            },
            "attachments": {}
        },
        {
            "cell_type": "code",
            "source": [
                "select case grouping(szulev,nem) when 0 then 'ismeretlen'\r\n",
                "when 1 then 'reszosszeg'\r\n",
                "when 2 then 'osszesen' end 'valami', \r\n",
                "from Ugyfel\r\n",
                "group by rollup (SZULEV, NEM)"
            ],
            "metadata": {
                "azdata_cell_guid": "e0b6e184-44a8-4855-9f09-6b841220f299",
                "language": "sql"
            },
            "outputs": [
                {
                    "output_type": "error",
                    "ename": "",
                    "evalue": "Msg 174, Level 15, State 1, Line 1\r\nThe grouping function requires 1 argument(s).",
                    "traceback": []
                },
                {
                    "output_type": "display_data",
                    "data": {
                        "text/html": "Total execution time: 00:00:00.004"
                    },
                    "metadata": {}
                }
            ],
            "execution_count": 15
        },
        {
            "cell_type": "code",
            "source": [
                "select SZULEV, NEM, COUNT([LOGIN]),\r\n",
                "CASE GROUPING_ID(SZULEV, NEM)\r\n",
                "WHEN 0 then \r\n",
                "when 1 then 'r'\r\n",
                "from Ugyfel\r\n",
                "group by rollup (SZULEV,NEM)\r\n",
                "\r\n",
                "--SELECT\r\n",
                "  --CASE WHEN szul_ev IS NULL THEN 'Ismeretlen'\r\n",
                "   --    ELSE szul_ev\r\n",
                " -- END AS szul_ev,\r\n",
                "--  nem,\r\n",
                " -- COUNT(*) AS ugyfelek_szama\r\n",
                "--FROM ugyfelek\r\n",
                "--GROUP BY ROLLUP(szul_ev, nem)\r\n",
                "--ORDER BY szul_ev, nem;"
            ],
            "metadata": {
                "azdata_cell_guid": "36f7b396-4a1f-45e5-8720-2302537c91bc",
                "language": "sql"
            },
            "outputs": [
                {
                    "output_type": "display_data",
                    "data": {
                        "text/html": "(200 rows affected)"
                    },
                    "metadata": {}
                },
                {
                    "output_type": "display_data",
                    "data": {
                        "text/html": "Total execution time: 00:00:00.059"
                    },
                    "metadata": {}
                },
                {
                    "output_type": "execute_result",
                    "execution_count": 13,
                    "data": {
                        "application/vnd.dataresource+json": {
                            "schema": {
                                "fields": [
                                    {
                                        "name": "LOGIN"
                                    },
                                    {
                                        "name": "EMAIL"
                                    },
                                    {
                                        "name": "NEV"
                                    },
                                    {
                                        "name": "SZULEV"
                                    },
                                    {
                                        "name": "NEM"
                                    },
                                    {
                                        "name": "CIM"
                                    }
                                ]
                            },
                            "data": [
                                {
                                    "LOGIN": "adam1",
                                    "EMAIL": "ádám.kiss@mail.hu",
                                    "NEV": "Kiss Ádám",
                                    "SZULEV": "1991",
                                    "NEM": "F",
                                    "CIM": "5630 Békés, Szolnoki út 8."
                                },
                                {
                                    "LOGIN": "adam3",
                                    "EMAIL": "adam3@gmail.com",
                                    "NEV": "Barkóci Ádám",
                                    "SZULEV": "1970",
                                    "NEM": "F",
                                    "CIM": "3910 Tokaj, Dózsa György utca 37."
                                },
                                {
                                    "LOGIN": "adam4",
                                    "EMAIL": "ádám.bieniek@mail.hu",
                                    "NEV": "Bieniek Ádám",
                                    "SZULEV": "1976",
                                    "NEM": "F",
                                    "CIM": "8630 Balatonboglár, Juhászföldi út 1."
                                },
                                {
                                    "LOGIN": "agnes",
                                    "EMAIL": "agnes@gmail.com",
                                    "NEV": "Lengyel Ágnes",
                                    "SZULEV": "1979",
                                    "NEM": "N",
                                    "CIM": "5200 Törökszentmiklós, Deák Ferenc út 5."
                                },
                                {
                                    "LOGIN": "agnes3",
                                    "EMAIL": "agnes3@gmail.com",
                                    "NEV": "Hartyánszky Ágnes",
                                    "SZULEV": "1967",
                                    "NEM": "N",
                                    "CIM": "6430 Bácsalmás, Posta köz 2."
                                },
                                {
                                    "LOGIN": "AGNESH",
                                    "EMAIL": "AGNESH@gmail.com",
                                    "NEV": "Horváth Ágnes",
                                    "SZULEV": "1981",
                                    "NEM": "N",
                                    "CIM": "8200 Veszprém, Rákóczi utca 21."
                                },
                                {
                                    "LOGIN": "AGNESK",
                                    "EMAIL": "AGNESK@gmail.com",
                                    "NEV": "Kovács Ágnes",
                                    "SZULEV": "1988",
                                    "NEM": "N",
                                    "CIM": "1084 Budapest, Endrődi Sándor utca 47."
                                },
                                {
                                    "LOGIN": "akos",
                                    "EMAIL": "ákos.bíró@mail.hu",
                                    "NEV": "Bíró Ákos",
                                    "SZULEV": "1982",
                                    "NEM": "F",
                                    "CIM": "9023 Győr, Kossuth Lajos utca 47/b."
                                },
                                {
                                    "LOGIN": "aladar",
                                    "EMAIL": "aladár.dunai@mail.hu",
                                    "NEV": "Dunai Aladár",
                                    "SZULEV": "1980",
                                    "NEM": "F",
                                    "CIM": "5931 Nagyszénás, Árpád utca 23."
                                },
                                {
                                    "LOGIN": "alexandra",
                                    "EMAIL": "alexandra.bagóczki@mail.hu",
                                    "NEV": "Bagóczki Alexandra",
                                    "SZULEV": "1992",
                                    "NEM": "N",
                                    "CIM": "2381 Táborfalva, Petőfi utca 1/2."
                                },
                                {
                                    "LOGIN": "alexis",
                                    "EMAIL": "alexbiro@gmail.com",
                                    "NEV": "Biró Alexander",
                                    "SZULEV": "2000",
                                    "NEM": "F",
                                    "CIM": "6914 Pitvaros, Deák F. u. 38."
                                },
                                {
                                    "LOGIN": "andi",
                                    "EMAIL": "andrea.maródi@mail.hu",
                                    "NEV": "Maródi Andrea",
                                    "SZULEV": "1968",
                                    "NEM": "N",
                                    "CIM": "5465 Cserkeszőlő, Árpád utca 4."
                                },
                                {
                                    "LOGIN": "andras2",
                                    "EMAIL": "andrás.tóth@mail.hu",
                                    "NEV": "Tóth András",
                                    "SZULEV": "1997",
                                    "NEM": "F",
                                    "CIM": "4071 Egyek, Petőfi utca 30."
                                },
                                {
                                    "LOGIN": "andras21",
                                    "EMAIL": "andrás.molnár@mail.hu",
                                    "NEV": "Molnár András",
                                    "SZULEV": "1977",
                                    "NEM": "F",
                                    "CIM": "7900 Szigetvár, Rákóczi utca 67."
                                },
                                {
                                    "LOGIN": "andras3",
                                    "EMAIL": "andrás.vígh@mail.hu",
                                    "NEV": "Vígh András",
                                    "SZULEV": "1971",
                                    "NEM": "F",
                                    "CIM": "1118 Budapest, Arany János utca 1."
                                },
                                {
                                    "LOGIN": "andras4",
                                    "EMAIL": "andras4@gmail.com",
                                    "NEV": "Back András",
                                    "SZULEV": "1984",
                                    "NEM": "F",
                                    "CIM": "3783 Edelény, Fő út 169."
                                },
                                {
                                    "LOGIN": "andras41",
                                    "EMAIL": "andras41@gmail.com",
                                    "NEV": "Komjáti András",
                                    "SZULEV": "1997",
                                    "NEM": "F",
                                    "CIM": "5065 Nagykörű, Kossuth út 24."
                                },
                                {
                                    "LOGIN": "ANDRASE",
                                    "EMAIL": "ANDRASE@gmail.com",
                                    "NEV": "Erdei András",
                                    "SZULEV": "1997",
                                    "NEM": "F",
                                    "CIM": "5071 Besenyszög, Szolnoki út 8."
                                },
                                {
                                    "LOGIN": "ANDRASN",
                                    "EMAIL": "andrás.nagy@mail.hu",
                                    "NEV": "Nagy András",
                                    "SZULEV": "1980",
                                    "NEM": "F",
                                    "CIM": "6500 Baja, Fő út 169."
                                },
                                {
                                    "LOGIN": "andrea",
                                    "EMAIL": "andrea.kiss@mail.hu",
                                    "NEV": "Kiss Andrea",
                                    "SZULEV": "1993",
                                    "NEM": "N",
                                    "CIM": "1113 Budapest, Petőfi Sándor utca 87."
                                },
                                {
                                    "LOGIN": "andrea3",
                                    "EMAIL": "andrea3@gmail.com",
                                    "NEV": "Szomor Andrea",
                                    "SZULEV": "1996",
                                    "NEM": "N",
                                    "CIM": "7960 Sellye, Bécsi utca 82."
                                },
                                {
                                    "LOGIN": "andrea4",
                                    "EMAIL": "andrea4@gmail.com",
                                    "NEV": "Neizer Andrea",
                                    "SZULEV": "1981",
                                    "NEM": "N",
                                    "CIM": "1124 Budapest, Kiss u. 8."
                                },
                                {
                                    "LOGIN": "ANDREAT",
                                    "EMAIL": "ANDREAT@gmail.com",
                                    "NEV": "Tornyos Andrea",
                                    "SZULEV": "1986",
                                    "NEM": "N",
                                    "CIM": "6131 Szank, Bécsi utca 82."
                                },
                                {
                                    "LOGIN": "anett3",
                                    "EMAIL": "anett.pivarcsi@mail.hu",
                                    "NEV": "Pivarcsi Anett",
                                    "SZULEV": "1967",
                                    "NEM": "N",
                                    "CIM": "1149 Budapest, Fő út 60."
                                },
                                {
                                    "LOGIN": "aniko",
                                    "EMAIL": "aniko@gmail.com",
                                    "NEV": "Tóth Anikó",
                                    "SZULEV": "1973",
                                    "NEM": "N",
                                    "CIM": "2085 Pilisvörösvár, Deák Ferenc út 5."
                                },
                                {
                                    "LOGIN": "aniko4",
                                    "EMAIL": "aniko4@gmail.com",
                                    "NEV": "Böröcz Anikó",
                                    "SZULEV": "1978",
                                    "NEM": "N",
                                    "CIM": "2484 Agárd, Petőfi Sándor tér 1."
                                },
                                {
                                    "LOGIN": "ANIKOS",
                                    "EMAIL": "ANIKOS@gmail.com",
                                    "NEV": "Simon Anikó",
                                    "SZULEV": "1988",
                                    "NEM": "N",
                                    "CIM": "5137 Jászkisér, Bécsi utca 82."
                                },
                                {
                                    "LOGIN": "anita",
                                    "EMAIL": "anita.hamvay-kovács@mail.hu",
                                    "NEV": "Hamvay-Kovács Anita",
                                    "SZULEV": "1971",
                                    "NEM": "N",
                                    "CIM": "7220 Sarkad, Táncsics utca 19."
                                },
                                {
                                    "LOGIN": "annamaria1",
                                    "EMAIL": "annamária.szűcs@mail.hu",
                                    "NEV": "Szűcs Annamária",
                                    "SZULEV": "1990",
                                    "NEM": "N",
                                    "CIM": "1191 Budapest, Rendeki utca 21."
                                },
                                {
                                    "LOGIN": "ANNAMARIAR",
                                    "EMAIL": "ANNAMARIAR@gmail.com",
                                    "NEV": "Regős Annamária",
                                    "SZULEV": "1977",
                                    "NEM": "N",
                                    "CIM": "8283 Káptalantóti, Petőfi Sándor tér 1."
                                },
                                {
                                    "LOGIN": "aron2",
                                    "EMAIL": "aron2@gmail.com",
                                    "NEV": "Jakab Áron",
                                    "SZULEV": "1971",
                                    "NEM": "F",
                                    "CIM": "7133 Fadd, Bajcsy-Zsilinszky utca 4."
                                },
                                {
                                    "LOGIN": "ARONK",
                                    "EMAIL": "áron.kelemen@mail.hu",
                                    "NEV": "Kelemen Áron",
                                    "SZULEV": "1989",
                                    "NEM": "F",
                                    "CIM": "8200 Veszprém, Petőfi utca 8."
                                },
                                {
                                    "LOGIN": "arpad2",
                                    "EMAIL": "árpád.ötvös@mail.hu",
                                    "NEV": "Ötvös Árpád",
                                    "SZULEV": "1990",
                                    "NEM": "F",
                                    "CIM": "2600 Vác, Padragi út 158."
                                },
                                {
                                    "LOGIN": "ARPADH",
                                    "EMAIL": "árpád.horváth@mail.hu",
                                    "NEV": "Horváth Árpád",
                                    "SZULEV": "1990",
                                    "NEM": "F",
                                    "CIM": "7349 Szászvár, Dózsa György u. 1."
                                },
                                {
                                    "LOGIN": "ARPADM",
                                    "EMAIL": "árpád.móricz@mail.hu",
                                    "NEV": "Móricz Árpád",
                                    "SZULEV": "1986",
                                    "NEM": "F",
                                    "CIM": "3910 Tokaj, Rákóczi utca 67."
                                },
                                {
                                    "LOGIN": "attila",
                                    "EMAIL": "attila@gmail.com",
                                    "NEV": "Csóti Attila",
                                    "SZULEV": "1979",
                                    "NEM": "F",
                                    "CIM": "3000 Hatvan, Bajcsy-Zsilinszky utca 4."
                                },
                                {
                                    "LOGIN": "attila1",
                                    "EMAIL": "attila.gulyás@mail.hu",
                                    "NEV": "Gulyás Attila",
                                    "SZULEV": "1982",
                                    "NEM": "F",
                                    "CIM": "3881 Abaújszántó, Szolnoki út 8."
                                },
                                {
                                    "LOGIN": "attila4",
                                    "EMAIL": "attila.baróti@mail.hu",
                                    "NEV": "Baróti Attila",
                                    "SZULEV": "1975",
                                    "NEM": "F",
                                    "CIM": "7149 Báta, Arany János utca 3."
                                },
                                {
                                    "LOGIN": "ATTILAO",
                                    "EMAIL": "ATTILAO@gmail.com",
                                    "NEV": "Opra Attila",
                                    "SZULEV": "1995",
                                    "NEM": "F",
                                    "CIM": "8283 Káptalantóti, Rákóczi út 200."
                                },
                                {
                                    "LOGIN": "balazs1",
                                    "EMAIL": "balázs.bozsik@mail.hu",
                                    "NEV": "Bozsik Balázs",
                                    "SZULEV": "1992",
                                    "NEM": "F",
                                    "CIM": "2300 Ráckeve, Bécsi utca 82."
                                },
                                {
                                    "LOGIN": "balazs2",
                                    "EMAIL": "balázs.szűcs@mail.hu",
                                    "NEV": "Szűcs Balázs",
                                    "SZULEV": "1984",
                                    "NEM": "F",
                                    "CIM": "3170 Szécsény, Szabadság utca 95."
                                },
                                {
                                    "LOGIN": "balazs3",
                                    "EMAIL": "balazs3@gmail.com",
                                    "NEV": "Bakódy Balázs",
                                    "SZULEV": "1986",
                                    "NEM": "F",
                                    "CIM": "2131 Göd, Arany János utca 1."
                                },
                                {
                                    "LOGIN": "balint",
                                    "EMAIL": "balint@gmail.com",
                                    "NEV": "Horváth Bálint",
                                    "SZULEV": "1996",
                                    "NEM": "F",
                                    "CIM": "6646 Tömörkény, Endrődi Sándor utca 47."
                                },
                                {
                                    "LOGIN": "balint1",
                                    "EMAIL": "balint1@gmail.com",
                                    "NEV": "Molnár Bálint",
                                    "SZULEV": "1989",
                                    "NEM": "F",
                                    "CIM": "9181 Kimle, Fő út 169."
                                },
                                {
                                    "LOGIN": "balint2",
                                    "EMAIL": "balint2@gmail.com",
                                    "NEV": "Vukasinovity Bálint",
                                    "SZULEV": "1997",
                                    "NEM": "F",
                                    "CIM": "2330 Dunaharaszti, Béke utca 7."
                                },
                                {
                                    "LOGIN": "balu",
                                    "EMAIL": "bálint.endresz@mail.hu",
                                    "NEV": "Endresz Bálint",
                                    "SZULEV": "1976",
                                    "NEM": "F",
                                    "CIM": "3973 Cigánd, Fő út 169."
                                },
                                {
                                    "LOGIN": "beata4",
                                    "EMAIL": "beáta.bagi@mail.hu",
                                    "NEV": "Bagi Beáta",
                                    "SZULEV": "1994",
                                    "NEM": "N",
                                    "CIM": "8477 Tüskevár, Felszabadulás utca 32."
                                },
                                {
                                    "LOGIN": "BEATRIXK",
                                    "EMAIL": "beatrix.kerényi@mail.hu",
                                    "NEV": "Kerényi Beatrix",
                                    "SZULEV": "1972",
                                    "NEM": "N",
                                    "CIM": "7396 Magyarszék, Kossuth Lajos utca 47/b."
                                },
                                {
                                    "LOGIN": "BEATRIXS",
                                    "EMAIL": "beatrix.szekendi@mail.hu",
                                    "NEV": "Szekendi Beatrix",
                                    "SZULEV": "1981",
                                    "NEM": "N",
                                    "CIM": "4060 Balmazújváros, Jászai tér 21."
                                },
                                {
                                    "LOGIN": "BELAF",
                                    "EMAIL": "BELAF@gmail.com",
                                    "NEV": "Farkas Béla",
                                    "SZULEV": "1995",
                                    "NEM": "F",
                                    "CIM": "5530 Vésztő, Petőfi Sándor utca 3."
                                },
                                {
                                    "LOGIN": "bence",
                                    "EMAIL": "bence@gmail.com",
                                    "NEV": "Győrffy Bence",
                                    "SZULEV": "1987",
                                    "NEM": "F",
                                    "CIM": "6900 Makó, Árpád utca 23."
                                },
                                {
                                    "LOGIN": "BENCEB",
                                    "EMAIL": "bence.bajusz@mail.hu",
                                    "NEV": "Bajusz Bence",
                                    "SZULEV": "1973",
                                    "NEM": "F",
                                    "CIM": "8391 Sármellék, Fő utca 56."
                                },
                                {
                                    "LOGIN": "bernadett1",
                                    "EMAIL": "bernadett1@gmail.com",
                                    "NEV": "Simon Bernadett",
                                    "SZULEV": "1984",
                                    "NEM": "N",
                                    "CIM": "2300 Ráckeve, Fő utca 108."
                                },
                                {
                                    "LOGIN": "bernadett2",
                                    "EMAIL": "bernadett.kovács@mail.hu",
                                    "NEV": "Kovács Bernadett",
                                    "SZULEV": "1996",
                                    "NEM": "N",
                                    "CIM": "4200 Hajdúszoboszló, Fő út 122."
                                },
                                {
                                    "LOGIN": "BERNADETTO",
                                    "EMAIL": "bernadett.orbán@mail.hu",
                                    "NEV": "Orbán Bernadett",
                                    "SZULEV": "1987",
                                    "NEM": "N",
                                    "CIM": "5085 Rákóczifalva, Arany János utca 1."
                                },
                                {
                                    "LOGIN": "bertalan",
                                    "EMAIL": "bertalan@gmail.com",
                                    "NEV": "Csiger Bertalan",
                                    "SZULEV": "1977",
                                    "NEM": "F",
                                    "CIM": "1192 Budapest, Fő út 169."
                                },
                                {
                                    "LOGIN": "brigitta",
                                    "EMAIL": "brigitta.székely@mail.hu",
                                    "NEV": "Székely Brigitta",
                                    "SZULEV": "1978",
                                    "NEM": "N",
                                    "CIM": "2462 Martonvásár, Fő utca 47."
                                },
                                {
                                    "LOGIN": "brigitta3",
                                    "EMAIL": "brigitta.pataki@mail.hu",
                                    "NEV": "Pataki Brigitta",
                                    "SZULEV": "1991",
                                    "NEM": "N",
                                    "CIM": "2730 Albertirsa, Rendeki utca 21."
                                },
                                {
                                    "LOGIN": "csongor3",
                                    "EMAIL": "csongor.nagymihály@mail.hu",
                                    "NEV": "Nagymihály Csongor",
                                    "SZULEV": "1984",
                                    "NEM": "F",
                                    "CIM": "9181 Kimle, Deák Ferenc út 5."
                                },
                                {
                                    "LOGIN": "dani",
                                    "EMAIL": "daniel@gmail.com",
                                    "NEV": "Vörös Dániel",
                                    "SZULEV": "1986",
                                    "NEM": "F",
                                    "CIM": "7150 Bonyhád, Dózsa György u. 1."
                                },
                                {
                                    "LOGIN": "daniel",
                                    "EMAIL": "dániel.rácz@mail.hu",
                                    "NEV": "Rácz Dániel",
                                    "SZULEV": "1978",
                                    "NEM": "F",
                                    "CIM": "9181 Kimle, Szabadság tér 9."
                                },
                                {
                                    "LOGIN": "daniel1",
                                    "EMAIL": "dániel.keszler@mail.hu",
                                    "NEV": "Keszler Dániel",
                                    "SZULEV": "1969",
                                    "NEM": "F",
                                    "CIM": "3580 Tiszaújváros, Kossuth Lajos utca 6."
                                },
                                {
                                    "LOGIN": "david",
                                    "EMAIL": "david@gmail.com",
                                    "NEV": "Ambrus Dávid",
                                    "SZULEV": "1974",
                                    "NEM": "F",
                                    "CIM": "1149 Budapest, Fő út 18."
                                },
                                {
                                    "LOGIN": "david1",
                                    "EMAIL": "david1@gmail.com",
                                    "NEV": "Sobják Dávid",
                                    "SZULEV": "1970",
                                    "NEM": "F",
                                    "CIM": "5083 Kengyel, Arany János utca 3."
                                },
                                {
                                    "LOGIN": "david4",
                                    "EMAIL": "david4@gmail.com",
                                    "NEV": "Berta Dávid",
                                    "SZULEV": "1990",
                                    "NEM": "F",
                                    "CIM": "3500 Miskolc, Balatoni út 12."
                                },
                                {
                                    "LOGIN": "debora",
                                    "EMAIL": "debóra.barna@mail.hu",
                                    "NEV": "Barna Debóra",
                                    "SZULEV": "1976",
                                    "NEM": "N",
                                    "CIM": "1155 Budapest, Fő út 169."
                                },
                                {
                                    "LOGIN": "denes",
                                    "EMAIL": "denes@gmail.com",
                                    "NEV": "Tömböly Dénes",
                                    "SZULEV": "1975",
                                    "NEM": "F",
                                    "CIM": "2400 Dunaújváros, Kossuth út 39."
                                },
                                {
                                    "LOGIN": "desdemona",
                                    "EMAIL": "mor.otto@mail.hu",
                                    "NEV": "Mór Ottó",
                                    "SZULEV": "1968",
                                    "NEM": "F",
                                    "CIM": "9200 Mosonmagyaróvár Fő u. 12."
                                },
                                {
                                    "LOGIN": "dora3",
                                    "EMAIL": "dóra.sarodi@mail.hu",
                                    "NEV": "Sarodi Dóra",
                                    "SZULEV": "1995",
                                    "NEM": "N",
                                    "CIM": "2855 Bokod, Fő út 18."
                                },
                                {
                                    "LOGIN": "edit",
                                    "EMAIL": "edit.bittmann@mail.hu",
                                    "NEV": "Bittmann Edit",
                                    "SZULEV": "1984",
                                    "NEM": "N",
                                    "CIM": "6077 Orgovány, Fő utca 60."
                                },
                                {
                                    "LOGIN": "emese",
                                    "EMAIL": "emese.kuruc@mail.hu",
                                    "NEV": "Kuruc Emese",
                                    "SZULEV": "1989",
                                    "NEM": "N",
                                    "CIM": "6700 Szeged, Rákóczi utca 67."
                                },
                                {
                                    "LOGIN": "eszter",
                                    "EMAIL": "eszter.molnár@mail.hu",
                                    "NEV": "Molnár Eszter",
                                    "SZULEV": "1987",
                                    "NEM": "N",
                                    "CIM": "6800 Hódmezővásárhely, Fő út 77."
                                },
                                {
                                    "LOGIN": "eszter2",
                                    "EMAIL": "eszter.balogh@mail.hu",
                                    "NEV": "Balogh Eszter",
                                    "SZULEV": "1998",
                                    "NEM": "N",
                                    "CIM": "6760 Kistelek, Kossuth utca 11."
                                },
                                {
                                    "LOGIN": "eszter4",
                                    "EMAIL": "eszter.fülöp@mail.hu",
                                    "NEV": "Fülöp Eszter",
                                    "SZULEV": "1993",
                                    "NEM": "N",
                                    "CIM": "3643 Dédestapolcsány, Kossuth Lajos utca 47/b."
                                },
                                {
                                    "LOGIN": "ESZTERE",
                                    "EMAIL": "eszter.érsek@mail.hu",
                                    "NEV": "Érsek Eszter",
                                    "SZULEV": "1978",
                                    "NEM": "N",
                                    "CIM": "6785 Pusztamérges, Kossuth Lajos utca 6."
                                },
                                {
                                    "LOGIN": "eva",
                                    "EMAIL": "eva@gmail.com",
                                    "NEV": "Enyedi Éva",
                                    "SZULEV": "1967",
                                    "NEM": "N",
                                    "CIM": "4231 Bököny, Petőfi utca 8."
                                },
                                {
                                    "LOGIN": "eva2",
                                    "EMAIL": "eva2@gmail.com",
                                    "NEV": "Perlinger Éva",
                                    "SZULEV": "1971",
                                    "NEM": "N",
                                    "CIM": "9653 Répcelak, Bécsi utca 82."
                                },
                                {
                                    "LOGIN": "EVAV",
                                    "EMAIL": "EVAV@gmail.com",
                                    "NEV": "Viktor Éva",
                                    "SZULEV": "1980",
                                    "NEM": "N",
                                    "CIM": "6913 Csanádpalota, Arany János utca 3."
                                },
                                {
                                    "LOGIN": "ferenc1",
                                    "EMAIL": "ferenc.orosz@mail.hu",
                                    "NEV": "Orosz Ferenc",
                                    "SZULEV": "1983",
                                    "NEM": "F",
                                    "CIM": "5061 Tiszasüly, Arany János utca 3."
                                },
                                {
                                    "LOGIN": "fruzsina4",
                                    "EMAIL": "fruzsina4@gmail.com",
                                    "NEV": "Frank Fruzsina",
                                    "SZULEV": "1996",
                                    "NEM": "N",
                                    "CIM": "9700 Szombathely, Szabadság utca 95."
                                },
                                {
                                    "LOGIN": "gabor1",
                                    "EMAIL": "gabor1@gmail.com",
                                    "NEV": "Köves Gábor",
                                    "SZULEV": "1973",
                                    "NEM": "F",
                                    "CIM": "6762 Sándorfalva, Árpád utca 23."
                                },
                                {
                                    "LOGIN": "gabor4",
                                    "EMAIL": "gábor.telek@mail.hu",
                                    "NEV": "Telek Gábor",
                                    "SZULEV": "1987",
                                    "NEM": "F",
                                    "CIM": "9071 Görbeháza, Fő út 169."
                                },
                                {
                                    "LOGIN": "GABORS",
                                    "EMAIL": "GABORS@gmail.com",
                                    "NEV": "Szöllősi Gábor",
                                    "SZULEV": "1990",
                                    "NEM": "F",
                                    "CIM": "3630 Putnok, Kossuth utca 27."
                                },
                                {
                                    "LOGIN": "gabriella1",
                                    "EMAIL": "gabriella1@gmail.com",
                                    "NEV": "Nagy Gabriella",
                                    "SZULEV": "1982",
                                    "NEM": "N",
                                    "CIM": "1077 Budapest, Dob utca 1"
                                },
                                {
                                    "LOGIN": "gabriella10",
                                    "EMAIL": "gabriella10@gmail.com",
                                    "NEV": "Vida Gabriella",
                                    "SZULEV": "1969",
                                    "NEM": "N",
                                    "CIM": "2484 Agárd, Arany János utca 3."
                                },
                                {
                                    "LOGIN": "georgij",
                                    "EMAIL": "georgij.nyíri@mail.hu",
                                    "NEV": "Nyíri Georgij",
                                    "SZULEV": "1983",
                                    "NEM": "F",
                                    "CIM": "8391 Sármellék, Grassalkovich út 10."
                                },
                                {
                                    "LOGIN": "gusztav",
                                    "EMAIL": "gusztav@gmail.com",
                                    "NEV": "Bárci Gusztáv",
                                    "SZULEV": "1967",
                                    "NEM": "F",
                                    "CIM": "3643 Dédestapolcsány, Endrődi Sándor utca 47."
                                },
                                {
                                    "LOGIN": "GYONGYIK",
                                    "EMAIL": "gyöngyi.kornseé@mail.hu",
                                    "NEV": "Kornseé Gyöngyi",
                                    "SZULEV": "1974",
                                    "NEM": "N",
                                    "CIM": "8800 Nagykanizsa, Fő út 60."
                                },
                                {
                                    "LOGIN": "GYORGYO",
                                    "EMAIL": "GYORGYO@gmail.com",
                                    "NEV": "Oroszi György",
                                    "SZULEV": "1980",
                                    "NEM": "F",
                                    "CIM": "7220 Sarkad, Dózsa György u. 1."
                                },
                                {
                                    "LOGIN": "henrik3",
                                    "EMAIL": "henrik.nádudvari@mail.hu",
                                    "NEV": "Nádudvari Henrik",
                                    "SZULEV": "1986",
                                    "NEM": "F",
                                    "CIM": "1077 Budapest, Tanácsköztársaság tér 1."
                                },
                                {
                                    "LOGIN": "IBOLYAA",
                                    "EMAIL": "ibolya.andor@mail.hu",
                                    "NEV": "Andor Ibolya",
                                    "SZULEV": "1983",
                                    "NEM": "N",
                                    "CIM": "9023 Győr, Posta köz 2."
                                },
                                {
                                    "LOGIN": "ilona3",
                                    "EMAIL": "ilona3@gmail.com",
                                    "NEV": "Bosnyák Ilona",
                                    "SZULEV": "1990",
                                    "NEM": "N",
                                    "CIM": "2483 Gárdony, Posta köz 2."
                                },
                                {
                                    "LOGIN": "imre",
                                    "EMAIL": "imre.búza@mail.hu",
                                    "NEV": "Búza Imre",
                                    "SZULEV": "1988",
                                    "NEM": "F",
                                    "CIM": "9181 Kimle, Petőfi Sándor tér 1."
                                },
                                {
                                    "LOGIN": "imre1",
                                    "EMAIL": "imre.papp@mail.hu",
                                    "NEV": "Papp Imre",
                                    "SZULEV": "1976",
                                    "NEM": "F",
                                    "CIM": "1077 Budapest, Szolnoki út 8."
                                },
                                {
                                    "LOGIN": "istvan",
                                    "EMAIL": "istvan@gmail.com",
                                    "NEV": "Soós István",
                                    "SZULEV": "1986",
                                    "NEM": "F",
                                    "CIM": "2370 Dabas, Kossuth utca 27."
                                },
                                {
                                    "LOGIN": "istvan1",
                                    "EMAIL": "istván.vizi@mail.hu",
                                    "NEV": "Vizi István",
                                    "SZULEV": "1997",
                                    "NEM": "F",
                                    "CIM": "7086 Ozora, Rákóczi utca 1."
                                },
                                {
                                    "LOGIN": "ISTVANV",
                                    "EMAIL": "ISTVANV@gmail.com",
                                    "NEV": "Varga István",
                                    "SZULEV": "1989",
                                    "NEM": "F",
                                    "CIM": "6320 Solt, Hősök tere 11."
                                },
                                {
                                    "LOGIN": "janos3",
                                    "EMAIL": "janos3@gmail.com",
                                    "NEV": "Harangozó János",
                                    "SZULEV": "1967",
                                    "NEM": "F",
                                    "CIM": "8700 Marcali, Petőfi Sándor tér 1."
                                },
                                {
                                    "LOGIN": "JANOSG",
                                    "EMAIL": "JANOSG@gmail.com",
                                    "NEV": "Giliga János",
                                    "SZULEV": "1975",
                                    "NEM": "F",
                                    "CIM": "3300 Eger, Deák Ferenc út 5."
                                },
                                {
                                    "LOGIN": "JANOSP",
                                    "EMAIL": "JANOSP@gmail.com",
                                    "NEV": "Pálinkás János",
                                    "SZULEV": "1984",
                                    "NEM": "F",
                                    "CIM": "5920 Csorvás, Padragi út 158."
                                },
                                {
                                    "LOGIN": "jozsef",
                                    "EMAIL": "jozsef@gmail.com",
                                    "NEV": "Gergely József",
                                    "SZULEV": "1985",
                                    "NEM": "F",
                                    "CIM": "6050 Lajosmizse, Fő út 18."
                                },
                                {
                                    "LOGIN": "jozsef2",
                                    "EMAIL": "józsef.vajda@mail.hu",
                                    "NEV": "Vajda József",
                                    "SZULEV": "1978",
                                    "NEM": "F",
                                    "CIM": "6700 Szeged, Baracsi László utca 14."
                                },
                                {
                                    "LOGIN": "JOZSEFG",
                                    "EMAIL": "józsef.gyuris@mail.hu",
                                    "NEV": "Gyuris József",
                                    "SZULEV": "1975",
                                    "NEM": "F",
                                    "CIM": "2660 Balassagyarmat, Petőfi utca 1/2."
                                },
                                {
                                    "LOGIN": "JUDITH",
                                    "EMAIL": "JUDITH@gmail.com",
                                    "NEV": "Hídasi Judit",
                                    "SZULEV": "1997",
                                    "NEM": "N",
                                    "CIM": "2100 Gödöllő, Fő út 169."
                                },
                                {
                                    "LOGIN": "julia",
                                    "EMAIL": "julia@gmail.com",
                                    "NEV": "Tóth Júlia",
                                    "SZULEV": "1993",
                                    "NEM": "N",
                                    "CIM": "5310 Kisújszállás, Árpád utca 4."
                                },
                                {
                                    "LOGIN": "julia4",
                                    "EMAIL": "julia4@gmail.com",
                                    "NEV": "Nagy Júlia",
                                    "SZULEV": "1985",
                                    "NEM": "N",
                                    "CIM": "7000 Sárbogárd, Jászai tér 21."
                                },
                                {
                                    "LOGIN": "julianna4",
                                    "EMAIL": "julianna4@gmail.com",
                                    "NEV": "Szabó Julianna",
                                    "SZULEV": "1990",
                                    "NEM": "N",
                                    "CIM": "6700 Szeged, Kossuth Lajos utca 6."
                                },
                                {
                                    "LOGIN": "kanita12",
                                    "EMAIL": "anita.kiss12@gmail.com",
                                    "NEV": "Kiss Anita",
                                    "SZULEV": "1975",
                                    "NEM": "N",
                                    "CIM": "2230 Gyömrő Fő tér 3."
                                },
                                {
                                    "LOGIN": "kata",
                                    "EMAIL": "katalin.gondos@mail.hu",
                                    "NEV": "Gondos Katalin",
                                    "SZULEV": "1968",
                                    "NEM": "N",
                                    "CIM": "8237 Tihany, Kossuth Lajos utca 6."
                                },
                                {
                                    "LOGIN": "katalin",
                                    "EMAIL": "katalin.horváth@mail.hu",
                                    "NEV": "Horváth Katalin",
                                    "SZULEV": "1968",
                                    "NEM": "N",
                                    "CIM": "2424 Előszállás, Rákóczi út 200."
                                },
                                {
                                    "LOGIN": "katalin4",
                                    "EMAIL": "katalin4@gmail.com",
                                    "NEV": "Kertész Katalin",
                                    "SZULEV": "1986",
                                    "NEM": "N",
                                    "CIM": "2800 Tatabánya, Búvár utca 4."
                                },
                                {
                                    "LOGIN": "kati",
                                    "EMAIL": "katalin.zatykó@mail.hu",
                                    "NEV": "Zatykó Katalin",
                                    "SZULEV": "1995",
                                    "NEM": "N",
                                    "CIM": "7511 Ötvöskónyi, Kossuth Lajos utca 6."
                                },
                                {
                                    "LOGIN": "katka",
                                    "EMAIL": "katalin.kovács@mail.hu",
                                    "NEV": "Kovács Katalin",
                                    "SZULEV": "1975",
                                    "NEM": "N",
                                    "CIM": "8254 Kővágóörs, Petőfi utca 22."
                                },
                                {
                                    "LOGIN": "klaudia2",
                                    "EMAIL": "klaudia.bakó@mail.hu",
                                    "NEV": "Bakó Klaudia",
                                    "SZULEV": "1982",
                                    "NEM": "N",
                                    "CIM": "8254 Kővágóörs, Kossuth Lajos utca 6."
                                },
                                {
                                    "LOGIN": "kornel4",
                                    "EMAIL": "kornél.lukács@mail.hu",
                                    "NEV": "Lukács Kornél",
                                    "SZULEV": "1975",
                                    "NEM": "F",
                                    "CIM": "2053 Herceghalom, Bécsi utca 82."
                                },
                                {
                                    "LOGIN": "kristof4",
                                    "EMAIL": "kristof4@gmail.com",
                                    "NEV": "Poprádi Kristóf",
                                    "SZULEV": "1984",
                                    "NEM": "F",
                                    "CIM": "8220 Balatonalmádi, Mészáros utca 7."
                                },
                                {
                                    "LOGIN": "kriszti",
                                    "EMAIL": "kriszti@gmail.com",
                                    "NEV": "Horváth Krisztina",
                                    "SZULEV": "1978",
                                    "NEM": "N",
                                    "CIM": "6060 Tiszakécske, Árpád utca 4."
                                },
                                {
                                    "LOGIN": "krisztian4",
                                    "EMAIL": "krisztián.czérna@mail.hu",
                                    "NEV": "Czérna Krisztián",
                                    "SZULEV": "1970",
                                    "NEM": "F",
                                    "CIM": "1107 Budapest, Dózsa György utca 37."
                                },
                                {
                                    "LOGIN": "KRISZTIANM",
                                    "EMAIL": "KRISZTIANM@gmail.com",
                                    "NEV": "Mogyródi Krisztián",
                                    "SZULEV": "1968",
                                    "NEM": "F",
                                    "CIM": "9155 Lébény, Jászai tér 21."
                                },
                                {
                                    "LOGIN": "krisztina",
                                    "EMAIL": "krisztina@gmail.com",
                                    "NEV": "Szedlár Krisztina",
                                    "SZULEV": "1979",
                                    "NEM": "N",
                                    "CIM": "6646 Tömörkény, Arany János utca 1."
                                },
                                {
                                    "LOGIN": "krisztina1",
                                    "EMAIL": "krisztina.bori@mail.hu",
                                    "NEV": "Bori Krisztina",
                                    "SZULEV": "1969",
                                    "NEM": "N",
                                    "CIM": "2115 Vácszentlászló, Fő utca 47."
                                },
                                {
                                    "LOGIN": "KRISZTINAG",
                                    "EMAIL": "KRISZTINAG@gmail.com",
                                    "NEV": "Gyárfás Krisztina",
                                    "SZULEV": "1987",
                                    "NEM": "N",
                                    "CIM": "6762 Sándorfalva, Arany János utca 1."
                                },
                                {
                                    "LOGIN": "lajos",
                                    "EMAIL": "lajos.kiss@mail.hu",
                                    "NEV": "Kiss Lajos",
                                    "SZULEV": "1978",
                                    "NEM": "F",
                                    "CIM": "1077 Budapest, Dob utca 1"
                                },
                                {
                                    "LOGIN": "lala",
                                    "EMAIL": "lajos.nagymihály@mail.hu",
                                    "NEV": "Nagymihály Lajos",
                                    "SZULEV": "1997",
                                    "NEM": "F",
                                    "CIM": "8638 Balatonlelle, Rákóczi út 200."
                                },
                                {
                                    "LOGIN": "laszlo1",
                                    "EMAIL": "lászló.farkas@mail.hu",
                                    "NEV": "Farkas László",
                                    "SZULEV": "1967",
                                    "NEM": "F",
                                    "CIM": "5200 Törökszentmiklós, Rendeki utca 21."
                                },
                                {
                                    "LOGIN": "laszlo2",
                                    "EMAIL": "lászló.móra@mail.hu",
                                    "NEV": "Móra László",
                                    "SZULEV": "1975",
                                    "NEM": "F",
                                    "CIM": "9970 Szentgotthárd, Petőfi utca 1/2."
                                },
                                {
                                    "LOGIN": "LASZLOA",
                                    "EMAIL": "lászló.antal@mail.hu",
                                    "NEV": "Antal László",
                                    "SZULEV": "1969",
                                    "NEM": "F",
                                    "CIM": "2484 Agárd, Bécsi utca 82."
                                },
                                {
                                    "LOGIN": "LASZLON",
                                    "EMAIL": "lászló.nagy@mail.hu",
                                    "NEV": "Nagy László",
                                    "SZULEV": "1969",
                                    "NEM": "F",
                                    "CIM": "1173 Budapest, Jászai tér 21."
                                },
                                {
                                    "LOGIN": "maria1",
                                    "EMAIL": "mária.baráth@mail.hu",
                                    "NEV": "Baráth Mária",
                                    "SZULEV": "1995",
                                    "NEM": "N",
                                    "CIM": "1047 Budapest, Posta köz 2."
                                },
                                {
                                    "LOGIN": "mark",
                                    "EMAIL": "márk.kispál@mail.hu",
                                    "NEV": "Kispál Márk",
                                    "SZULEV": "1996",
                                    "NEM": "F",
                                    "CIM": "1086 Budapest, Juhászföldi út 1."
                                },
                                {
                                    "LOGIN": "MARKH",
                                    "EMAIL": "márk.horváth@mail.hu",
                                    "NEV": "Horváth Márk",
                                    "SZULEV": "1997",
                                    "NEM": "F",
                                    "CIM": "4400 Nyíregyháza, Badacsonyi utca 12."
                                },
                                {
                                    "LOGIN": "marton",
                                    "EMAIL": "marton@gmail.com",
                                    "NEV": "Kalacsi Márton",
                                    "SZULEV": "1989",
                                    "NEM": "F",
                                    "CIM": "5137 Jászkisér, Fő út 169."
                                },
                                {
                                    "LOGIN": "MATEK",
                                    "EMAIL": "máté.koza@mail.hu",
                                    "NEV": "Koza Máté",
                                    "SZULEV": "1997",
                                    "NEM": "F",
                                    "CIM": "1011 Budapest, Központi telep 3."
                                },
                                {
                                    "LOGIN": "matyas2",
                                    "EMAIL": "matyas2@gmail.com",
                                    "NEV": "Botka Mátyás",
                                    "SZULEV": "1972",
                                    "NEM": "F",
                                    "CIM": "2700 Cegléd, Kossuth Lajos utca 6."
                                },
                                {
                                    "LOGIN": "MATYASS",
                                    "EMAIL": "mátyás.szilágyi@mail.hu",
                                    "NEV": "Szilágyi Mátyás",
                                    "SZULEV": "1975",
                                    "NEM": "F",
                                    "CIM": "9023 Győr, Kossuth Lajos utca 6."
                                },
                                {
                                    "LOGIN": "melissza",
                                    "EMAIL": "nagy_peter@indamail.hu",
                                    "NEV": "Nagy Péter",
                                    "SZULEV": "1998",
                                    "NEM": "F",
                                    "CIM": "6800 Hódmezővásárhely, Oldalkosát u. 1."
                                },
                                {
                                    "LOGIN": "MIHALYJ",
                                    "EMAIL": "mihály.juhász@mail.hu",
                                    "NEV": "Juhász Mihály",
                                    "SZULEV": "1979",
                                    "NEM": "F",
                                    "CIM": "6786 Ruzsa, Rákóczi utca 1."
                                },
                                {
                                    "LOGIN": "miklos2",
                                    "EMAIL": "miklos2@gmail.com",
                                    "NEV": "Gondos Miklós",
                                    "SZULEV": "1995",
                                    "NEM": "F",
                                    "CIM": "2100 Gödöllő, Árpád utca 23."
                                },
                                {
                                    "LOGIN": "MIKLOSB",
                                    "EMAIL": "miklós.balla@mail.hu",
                                    "NEV": "Balla Miklós",
                                    "SZULEV": "1979",
                                    "NEM": "F",
                                    "CIM": "4060 Balmazújváros, Szent István utca 2."
                                },
                                {
                                    "LOGIN": "MONIKAM",
                                    "EMAIL": "mónika.mohos@mail.hu",
                                    "NEV": "Mohos Mónika",
                                    "SZULEV": "1974",
                                    "NEM": "N",
                                    "CIM": "2241 Sülysáp, Baracsi László utca 14."
                                },
                                {
                                    "LOGIN": "NANDORF",
                                    "EMAIL": "nándor.fő@mail.hu",
                                    "NEV": "Fő Nándor",
                                    "SZULEV": "1968",
                                    "NEM": "F",
                                    "CIM": "5920 Csorvás, Bécsi utca 82."
                                },
                                {
                                    "LOGIN": "nikolett3",
                                    "EMAIL": "nikolett3@gmail.com",
                                    "NEV": "Horváth Nikolett",
                                    "SZULEV": "1981",
                                    "NEM": "N",
                                    "CIM": "1072 Budapest, Arany János utca 1."
                                },
                                {
                                    "LOGIN": "nikoletta4",
                                    "EMAIL": "nikoletta4@gmail.com",
                                    "NEV": "Kő Nikoletta",
                                    "SZULEV": "1972",
                                    "NEM": "N",
                                    "CIM": "5537 Zsadány, Fő út 18."
                                },
                                {
                                    "LOGIN": "NIKOLETTAT",
                                    "EMAIL": "nikoletta.tatár@mail.hu",
                                    "NEV": "Tatár Nikoletta",
                                    "SZULEV": "1997",
                                    "NEM": "N",
                                    "CIM": "1067 Budapest, Győri utca 12."
                                },
                                {
                                    "LOGIN": "norbert",
                                    "EMAIL": "norbert@gmail.com",
                                    "NEV": "Szűcs Norbert",
                                    "SZULEV": "1969",
                                    "NEM": "F",
                                    "CIM": "5071 Besenyszög, Győri utca 12."
                                },
                                {
                                    "LOGIN": "norbert2",
                                    "EMAIL": "norbert.hegedűs@mail.hu",
                                    "NEV": "Hegedűs Norbert",
                                    "SZULEV": "1991",
                                    "NEM": "F",
                                    "CIM": "2081 Piliscsaba, Rendeki utca 21."
                                },
                                {
                                    "LOGIN": "norbert4",
                                    "EMAIL": "norbert4@gmail.com",
                                    "NEV": "Mile Norbert",
                                    "SZULEV": "1983",
                                    "NEM": "F",
                                    "CIM": "3973 Cigánd, Bajcsy-Zsilinszky utca 4."
                                },
                                {
                                    "LOGIN": "norbert5",
                                    "EMAIL": "norbert5@gmail.com",
                                    "NEV": "Béres Norbert",
                                    "SZULEV": "1975",
                                    "NEM": "F",
                                    "CIM": "8640 Fonyód, Bajcsy-Zsilinszky utca 4."
                                },
                                {
                                    "LOGIN": "pal",
                                    "EMAIL": "pál.barabás@mail.hu",
                                    "NEV": "Barabás Pál",
                                    "SZULEV": "1968",
                                    "NEM": "F",
                                    "CIM": "1183 Budapest, Szolnoki út 8."
                                },
                                {
                                    "LOGIN": "peter1",
                                    "EMAIL": "peter1@gmail.com",
                                    "NEV": "Kozma Péter",
                                    "SZULEV": "1976",
                                    "NEM": "F",
                                    "CIM": "6913 Csanádpalota, Központi telep 3."
                                },
                                {
                                    "LOGIN": "peter2",
                                    "EMAIL": "peter2@gmail.com",
                                    "NEV": "Bozsó Péter",
                                    "SZULEV": "1976",
                                    "NEM": "F",
                                    "CIM": "4800 Vásárosnamény, Zombori út 2/A"
                                },
                                {
                                    "LOGIN": "peter3",
                                    "EMAIL": "peter3@gmail.com",
                                    "NEV": "Szalai Péter",
                                    "SZULEV": "1983",
                                    "NEM": "F",
                                    "CIM": "1155 Budapest, Arany János utca 3."
                                },
                                {
                                    "LOGIN": "peter4",
                                    "EMAIL": "péter.bíró@mail.hu",
                                    "NEV": "Bíró Péter",
                                    "SZULEV": "1985",
                                    "NEM": "F",
                                    "CIM": "5137 Jászkisér, Rákóczi utca 67."
                                },
                                {
                                    "LOGIN": "PETERB",
                                    "EMAIL": "péter.berendi@mail.hu",
                                    "NEV": "Berendi Péter",
                                    "SZULEV": "1969",
                                    "NEM": "F",
                                    "CIM": "3980 Sátoraljaújhely, Vasút utca 4/10."
                                },
                                {
                                    "LOGIN": "polla",
                                    "EMAIL": "polla@gmail.com",
                                    "NEV": "Palágyi Polla",
                                    "SZULEV": "1994",
                                    "NEM": "N",
                                    "CIM": "2484 Agárd, Fő út 18."
                                },
                                {
                                    "LOGIN": "rajmond4",
                                    "EMAIL": "rajmond.rácz@mail.hu",
                                    "NEV": "Rácz Rajmond",
                                    "SZULEV": "1993",
                                    "NEM": "F",
                                    "CIM": "9155 Lébény, Petőfi utca 1/2."
                                },
                                {
                                    "LOGIN": "reka4",
                                    "EMAIL": "réka.szikszai@mail.hu",
                                    "NEV": "Szikszai Réka",
                                    "SZULEV": "1969",
                                    "NEM": "N",
                                    "CIM": "8254 Kővágóörs, Templom utca 73."
                                },
                                {
                                    "LOGIN": "RENATAK",
                                    "EMAIL": "renáta.kardos@mail.hu",
                                    "NEV": "Kardos Renáta",
                                    "SZULEV": "1988",
                                    "NEM": "N",
                                    "CIM": "7086 Ozora, Bécsi utca 82."
                                },
                                {
                                    "LOGIN": "RENATAS",
                                    "EMAIL": "RENATAS@gmail.com",
                                    "NEV": "Szirmai Renáta",
                                    "SZULEV": "1991",
                                    "NEM": "N",
                                    "CIM": "2053 Herceghalom, Kossuth utca 27."
                                },
                                {
                                    "LOGIN": "robert2",
                                    "EMAIL": "robert2@gmail.com",
                                    "NEV": "Patay Róbert",
                                    "SZULEV": "1977",
                                    "NEM": "F",
                                    "CIM": "2370 Dabas, Rákóczi utca 21."
                                },
                                {
                                    "LOGIN": "ROBERTI",
                                    "EMAIL": "róbert.iván@mail.hu",
                                    "NEV": "Iván Róbert",
                                    "SZULEV": "1967",
                                    "NEM": "F",
                                    "CIM": "2377 Örkény, Petőfi Sándor utca 3."
                                },
                                {
                                    "LOGIN": "ROBERTP",
                                    "EMAIL": "ROBERTP@gmail.com",
                                    "NEV": "Pásztor Róbert",
                                    "SZULEV": "1972",
                                    "NEM": "F",
                                    "CIM": "5137 Jászkisér, Ady Endre út 27."
                                },
                                {
                                    "LOGIN": "roland",
                                    "EMAIL": "roland@gmail.com",
                                    "NEV": "Tóth Roland",
                                    "SZULEV": "1968",
                                    "NEM": "F",
                                    "CIM": "2000 Szentendre, Fő út 169."
                                },
                                {
                                    "LOGIN": "roland1",
                                    "EMAIL": "roland.ferencz@mail.hu",
                                    "NEV": "Ferencz Roland",
                                    "SZULEV": "1985",
                                    "NEM": "F",
                                    "CIM": "2424 Előszállás, Fő út 169."
                                },
                                {
                                    "LOGIN": "roza2",
                                    "EMAIL": "roza2@gmail.com",
                                    "NEV": "Bucskó Róza",
                                    "SZULEV": "1988",
                                    "NEM": "N",
                                    "CIM": "5661 Újkígyós, Arany János utca 3."
                                },
                                {
                                    "LOGIN": "sandor",
                                    "EMAIL": "sandor@gmail.com",
                                    "NEV": "Karasz Sándor",
                                    "SZULEV": "1970",
                                    "NEM": "F",
                                    "CIM": "8283 Káptalantóti, Kossuth Lajos utca 1/a."
                                },
                                {
                                    "LOGIN": "sandor3",
                                    "EMAIL": "sándor.farkas@mail.hu",
                                    "NEV": "Farkas Sándor",
                                    "SZULEV": "1989",
                                    "NEM": "F",
                                    "CIM": "8640 Fonyód, Tanácsköztársaság tér 1."
                                },
                                {
                                    "LOGIN": "sandor4",
                                    "EMAIL": "sandor4@gmail.com",
                                    "NEV": "Nagy Sándor",
                                    "SZULEV": "1997",
                                    "NEM": "F",
                                    "CIM": "4600 Kisvárda, Fő utca 47."
                                },
                                {
                                    "LOGIN": "sara",
                                    "EMAIL": "sára.farkas@mail.hu",
                                    "NEV": "Farkas Sára",
                                    "SZULEV": "1973",
                                    "NEM": "N",
                                    "CIM": "5940 Tótkomlós, Felszabadulás utca 32."
                                },
                                {
                                    "LOGIN": "SEBASTIANF",
                                    "EMAIL": "SEBASTIANF@gmail.com",
                                    "NEV": "Foltényi Sebastián",
                                    "SZULEV": "1992",
                                    "NEM": "F",
                                    "CIM": "7960 Sellye, Grassalkovich út 10."
                                },
                                {
                                    "LOGIN": "sebestyen",
                                    "EMAIL": "sebestyen@gmail.com",
                                    "NEV": "Rab Sebestyén",
                                    "SZULEV": "1992",
                                    "NEM": "F",
                                    "CIM": "7130 Tolna, Központi telep 3."
                                },
                                {
                                    "LOGIN": "szabolcs",
                                    "EMAIL": "szabolcs.bodor@mail.hu",
                                    "NEV": "Bodor Szabolcs",
                                    "SZULEV": "1990",
                                    "NEM": "F",
                                    "CIM": "6786 Ruzsa, Ady Endre út 27."
                                },
                                {
                                    "LOGIN": "SZABOLCSM",
                                    "EMAIL": "szabolcs.miklós@mail.hu",
                                    "NEV": "Miklós Szabolcs",
                                    "SZULEV": "1980",
                                    "NEM": "F",
                                    "CIM": "1102 Budapest, Fő út 169."
                                },
                                {
                                    "LOGIN": "SZILARDS",
                                    "EMAIL": "szilárd.szalai@mail.hu",
                                    "NEV": "Szalai Szilárd",
                                    "SZULEV": "1967",
                                    "NEM": "F",
                                    "CIM": "1077 Budapest, Fő út 18."
                                },
                                {
                                    "LOGIN": "szilvia1",
                                    "EMAIL": "szilvia.tari@mail.hu",
                                    "NEV": "Tari Szilvia",
                                    "SZULEV": "1971",
                                    "NEM": "N",
                                    "CIM": "6080 Szabadszállás, Bécsi utca 82."
                                },
                                {
                                    "LOGIN": "tamara2",
                                    "EMAIL": "tamara.miklós@mail.hu",
                                    "NEV": "Miklós Tamara",
                                    "SZULEV": "1980",
                                    "NEM": "N",
                                    "CIM": "3910 Tokaj, Kossuth út 39."
                                },
                                {
                                    "LOGIN": "tamas",
                                    "EMAIL": "tamás.antal@mail.hu",
                                    "NEV": "Antal Tamás",
                                    "SZULEV": "1984",
                                    "NEM": "F",
                                    "CIM": "4440 Tiszavasvári, Posta köz 2."
                                },
                                {
                                    "LOGIN": "TAMASF",
                                    "EMAIL": "TAMASF@gmail.com",
                                    "NEV": "Fényes Tamás",
                                    "SZULEV": "1997",
                                    "NEM": "F",
                                    "CIM": "9023 Győr, Arany János utca 1."
                                },
                                {
                                    "LOGIN": "tibor",
                                    "EMAIL": "tibor.gombos@mail.hu",
                                    "NEV": "Gombos Tibor",
                                    "SZULEV": "1993",
                                    "NEM": "F",
                                    "CIM": "7100 Szekszárd, Kossuth utca 77."
                                },
                                {
                                    "LOGIN": "tibor2",
                                    "EMAIL": "tibor2@gmail.com",
                                    "NEV": "Dániel Tibor",
                                    "SZULEV": "1985",
                                    "NEM": "F",
                                    "CIM": "6646 Tömörkény, Árpád utca 23."
                                },
                                {
                                    "LOGIN": "tihamer",
                                    "EMAIL": "tihamér.kazy@mail.hu",
                                    "NEV": "Kazy Tihamér",
                                    "SZULEV": "1991",
                                    "NEM": "F",
                                    "CIM": "2370 Dabas, Fő utca 60."
                                },
                                {
                                    "LOGIN": "timea",
                                    "EMAIL": "timea@gmail.com",
                                    "NEV": "Papós Tímea",
                                    "SZULEV": "1996",
                                    "NEM": "N",
                                    "CIM": "1035 Budapest,  Kossuth út 77."
                                },
                                {
                                    "LOGIN": "timea2",
                                    "EMAIL": "tímea.dusha@mail.hu",
                                    "NEV": "Dusha Tímea",
                                    "SZULEV": "1975",
                                    "NEM": "N",
                                    "CIM": "5920 Csorvás, Kossuth utca 8."
                                },
                                {
                                    "LOGIN": "tunde",
                                    "EMAIL": "tunde@gmail.com",
                                    "NEV": "Turcsik Tünde",
                                    "SZULEV": "1974",
                                    "NEM": "N",
                                    "CIM": "7130 Tolna, Fő út 122."
                                },
                                {
                                    "LOGIN": "valentin",
                                    "EMAIL": "valentin.feró@mail.hu",
                                    "NEV": "Feró Valentin",
                                    "SZULEV": "1986",
                                    "NEM": "F",
                                    "CIM": "3895 Gönc, Búvár utca 4."
                                },
                                {
                                    "LOGIN": "veronika4",
                                    "EMAIL": "veronika4@gmail.com",
                                    "NEV": "Tankó Veronika",
                                    "SZULEV": "1983",
                                    "NEM": "N",
                                    "CIM": "6412 Balotaszállás, Rendeki utca 21."
                                },
                                {
                                    "LOGIN": "VIKTORIAU",
                                    "EMAIL": "viktoria.urbán@mail.hu",
                                    "NEV": "Urbán Viktoria",
                                    "SZULEV": "1996",
                                    "NEM": "N",
                                    "CIM": "3860 Encs, Népboltsor  2."
                                },
                                {
                                    "LOGIN": "VIKTORK",
                                    "EMAIL": "viktor.keresztúri@mail.hu",
                                    "NEV": "Keresztúri Viktor",
                                    "SZULEV": "1989",
                                    "NEM": "F",
                                    "CIM": "2532 Tokodaltáró, Nagy Lajos tér 4."
                                },
                                {
                                    "LOGIN": "vivien3",
                                    "EMAIL": "vivien3@gmail.com",
                                    "NEV": "Boros Vivien",
                                    "SZULEV": "1991",
                                    "NEM": "N",
                                    "CIM": "2117 Isaszeg, Fő út 122."
                                },
                                {
                                    "LOGIN": "zoltan",
                                    "EMAIL": "zoltán.fodor@mail.hu",
                                    "NEV": "Fodor Zoltán",
                                    "SZULEV": "1979",
                                    "NEM": "F",
                                    "CIM": "3441 Mezőkeresztes, Fő utca 23."
                                },
                                {
                                    "LOGIN": "zoltan4",
                                    "EMAIL": "zoltan4@gmail.com",
                                    "NEV": "Barna Zoltán",
                                    "SZULEV": "1986",
                                    "NEM": "F",
                                    "CIM": "8313 Balatongyörök, Jászai tér 21."
                                },
                                {
                                    "LOGIN": "ZOLTANP",
                                    "EMAIL": "zoltán.pintér@mail.hu",
                                    "NEV": "Pintér Zoltán",
                                    "SZULEV": "1977",
                                    "NEM": "F",
                                    "CIM": "6050 Lajosmizse, Fő út 18."
                                },
                                {
                                    "LOGIN": "ZOLTANT",
                                    "EMAIL": "zoltán.tóth@mail.hu",
                                    "NEV": "Tóth Zoltán",
                                    "SZULEV": "1985",
                                    "NEM": "F",
                                    "CIM": "4244 Újfehértó, Posta köz 2."
                                },
                                {
                                    "LOGIN": "zsofi1",
                                    "EMAIL": "zsofi1@gmail.com",
                                    "NEV": "Molnár Zsófi",
                                    "SZULEV": "1983",
                                    "NEM": "N",
                                    "CIM": "2730 Albertirsa, Árpád utca 23."
                                },
                                {
                                    "LOGIN": "zsolt1",
                                    "EMAIL": "zsolt.pulai@mail.hu",
                                    "NEV": "Pulai Zsolt",
                                    "SZULEV": "1988",
                                    "NEM": "F",
                                    "CIM": "8391 Sármellék, Fő utca 60."
                                },
                                {
                                    "LOGIN": "ZSOLTJ",
                                    "EMAIL": "ZSOLTJ@gmail.com",
                                    "NEV": "Józsa Zsolt",
                                    "SZULEV": "1983",
                                    "NEM": "F",
                                    "CIM": "8315 Gyenesdiás, Bajcsy-Zsilinszky utca 4."
                                },
                                {
                                    "LOGIN": "zsuzsa",
                                    "EMAIL": "zsuzsanna@gmail.com",
                                    "NEV": "Pusztai Zsuzsanna",
                                    "SZULEV": "1980",
                                    "NEM": "N",
                                    "CIM": "6783 Ásotthalom, Badacsonyi utca 12."
                                },
                                {
                                    "LOGIN": "zsuzsa3",
                                    "EMAIL": "zsuzsa.varsányi@mail.hu",
                                    "NEV": "Varsányi Zsuzsa",
                                    "SZULEV": "1979",
                                    "NEM": "N",
                                    "CIM": "8600 Siófok, Árpád utca 4."
                                },
                                {
                                    "LOGIN": "zsuzsanna",
                                    "EMAIL": "zsuzsanna.barta@mail.hu",
                                    "NEV": "Barta Zsuzsanna",
                                    "SZULEV": "1994",
                                    "NEM": "N",
                                    "CIM": "4172 Biharnagybajom, Dózsa György utca 37."
                                },
                                {
                                    "LOGIN": "ZSUZSAV",
                                    "EMAIL": "zsuzsa.vajda@mail.hu",
                                    "NEV": "Vajda Zsuzsa",
                                    "SZULEV": "1976",
                                    "NEM": "N",
                                    "CIM": "6786 Ruzsa, Kossuth utca 77."
                                }
                            ]
                        },
                        "text/html": "<table><tr><th>LOGIN</th><th>EMAIL</th><th>NEV</th><th>SZULEV</th><th>NEM</th><th>CIM</th></tr><tr><td>adam1</td><td>ádám.kiss@mail.hu</td><td>Kiss Ádám</td><td>1991</td><td>F</td><td>5630 Békés, Szolnoki út 8.</td></tr><tr><td>adam3</td><td>adam3@gmail.com</td><td>Barkóci Ádám</td><td>1970</td><td>F</td><td>3910 Tokaj, Dózsa György utca 37.</td></tr><tr><td>adam4</td><td>ádám.bieniek@mail.hu</td><td>Bieniek Ádám</td><td>1976</td><td>F</td><td>8630 Balatonboglár, Juhászföldi út 1.</td></tr><tr><td>agnes</td><td>agnes@gmail.com</td><td>Lengyel Ágnes</td><td>1979</td><td>N</td><td>5200 Törökszentmiklós, Deák Ferenc út 5.</td></tr><tr><td>agnes3</td><td>agnes3@gmail.com</td><td>Hartyánszky Ágnes</td><td>1967</td><td>N</td><td>6430 Bácsalmás, Posta köz 2.</td></tr><tr><td>AGNESH</td><td>AGNESH@gmail.com</td><td>Horváth Ágnes</td><td>1981</td><td>N</td><td>8200 Veszprém, Rákóczi utca 21.</td></tr><tr><td>AGNESK</td><td>AGNESK@gmail.com</td><td>Kovács Ágnes</td><td>1988</td><td>N</td><td>1084 Budapest, Endrődi Sándor utca 47.</td></tr><tr><td>akos</td><td>ákos.bíró@mail.hu</td><td>Bíró Ákos</td><td>1982</td><td>F</td><td>9023 Győr, Kossuth Lajos utca 47/b.</td></tr><tr><td>aladar</td><td>aladár.dunai@mail.hu</td><td>Dunai Aladár</td><td>1980</td><td>F</td><td>5931 Nagyszénás, Árpád utca 23.</td></tr><tr><td>alexandra</td><td>alexandra.bagóczki@mail.hu</td><td>Bagóczki Alexandra</td><td>1992</td><td>N</td><td>2381 Táborfalva, Petőfi utca 1/2.</td></tr><tr><td>alexis</td><td>alexbiro@gmail.com</td><td>Biró Alexander</td><td>2000</td><td>F</td><td>6914 Pitvaros, Deák F. u. 38.</td></tr><tr><td>andi</td><td>andrea.maródi@mail.hu</td><td>Maródi Andrea</td><td>1968</td><td>N</td><td>5465 Cserkeszőlő, Árpád utca 4.</td></tr><tr><td>andras2</td><td>andrás.tóth@mail.hu</td><td>Tóth András</td><td>1997</td><td>F</td><td>4071 Egyek, Petőfi utca 30.</td></tr><tr><td>andras21</td><td>andrás.molnár@mail.hu</td><td>Molnár András</td><td>1977</td><td>F</td><td>7900 Szigetvár, Rákóczi utca 67.</td></tr><tr><td>andras3</td><td>andrás.vígh@mail.hu</td><td>Vígh András</td><td>1971</td><td>F</td><td>1118 Budapest, Arany János utca 1.</td></tr><tr><td>andras4</td><td>andras4@gmail.com</td><td>Back András</td><td>1984</td><td>F</td><td>3783 Edelény, Fő út 169.</td></tr><tr><td>andras41</td><td>andras41@gmail.com</td><td>Komjáti András</td><td>1997</td><td>F</td><td>5065 Nagykörű, Kossuth út 24.</td></tr><tr><td>ANDRASE</td><td>ANDRASE@gmail.com</td><td>Erdei András</td><td>1997</td><td>F</td><td>5071 Besenyszög, Szolnoki út 8.</td></tr><tr><td>ANDRASN</td><td>andrás.nagy@mail.hu</td><td>Nagy András</td><td>1980</td><td>F</td><td>6500 Baja, Fő út 169.</td></tr><tr><td>andrea</td><td>andrea.kiss@mail.hu</td><td>Kiss Andrea</td><td>1993</td><td>N</td><td>1113 Budapest, Petőfi Sándor utca 87.</td></tr><tr><td>andrea3</td><td>andrea3@gmail.com</td><td>Szomor Andrea</td><td>1996</td><td>N</td><td>7960 Sellye, Bécsi utca 82.</td></tr><tr><td>andrea4</td><td>andrea4@gmail.com</td><td>Neizer Andrea</td><td>1981</td><td>N</td><td>1124 Budapest, Kiss u. 8.</td></tr><tr><td>ANDREAT</td><td>ANDREAT@gmail.com</td><td>Tornyos Andrea</td><td>1986</td><td>N</td><td>6131 Szank, Bécsi utca 82.</td></tr><tr><td>anett3</td><td>anett.pivarcsi@mail.hu</td><td>Pivarcsi Anett</td><td>1967</td><td>N</td><td>1149 Budapest, Fő út 60.</td></tr><tr><td>aniko</td><td>aniko@gmail.com</td><td>Tóth Anikó</td><td>1973</td><td>N</td><td>2085 Pilisvörösvár, Deák Ferenc út 5.</td></tr><tr><td>aniko4</td><td>aniko4@gmail.com</td><td>Böröcz Anikó</td><td>1978</td><td>N</td><td>2484 Agárd, Petőfi Sándor tér 1.</td></tr><tr><td>ANIKOS</td><td>ANIKOS@gmail.com</td><td>Simon Anikó</td><td>1988</td><td>N</td><td>5137 Jászkisér, Bécsi utca 82.</td></tr><tr><td>anita</td><td>anita.hamvay-kovács@mail.hu</td><td>Hamvay-Kovács Anita</td><td>1971</td><td>N</td><td>7220 Sarkad, Táncsics utca 19.</td></tr><tr><td>annamaria1</td><td>annamária.szűcs@mail.hu</td><td>Szűcs Annamária</td><td>1990</td><td>N</td><td>1191 Budapest, Rendeki utca 21.</td></tr><tr><td>ANNAMARIAR</td><td>ANNAMARIAR@gmail.com</td><td>Regős Annamária</td><td>1977</td><td>N</td><td>8283 Káptalantóti, Petőfi Sándor tér 1.</td></tr><tr><td>aron2</td><td>aron2@gmail.com</td><td>Jakab Áron</td><td>1971</td><td>F</td><td>7133 Fadd, Bajcsy-Zsilinszky utca 4.</td></tr><tr><td>ARONK</td><td>áron.kelemen@mail.hu</td><td>Kelemen Áron</td><td>1989</td><td>F</td><td>8200 Veszprém, Petőfi utca 8.</td></tr><tr><td>arpad2</td><td>árpád.ötvös@mail.hu</td><td>Ötvös Árpád</td><td>1990</td><td>F</td><td>2600 Vác, Padragi út 158.</td></tr><tr><td>ARPADH</td><td>árpád.horváth@mail.hu</td><td>Horváth Árpád</td><td>1990</td><td>F</td><td>7349 Szászvár, Dózsa György u. 1.</td></tr><tr><td>ARPADM</td><td>árpád.móricz@mail.hu</td><td>Móricz Árpád</td><td>1986</td><td>F</td><td>3910 Tokaj, Rákóczi utca 67.</td></tr><tr><td>attila</td><td>attila@gmail.com</td><td>Csóti Attila</td><td>1979</td><td>F</td><td>3000 Hatvan, Bajcsy-Zsilinszky utca 4.</td></tr><tr><td>attila1</td><td>attila.gulyás@mail.hu</td><td>Gulyás Attila</td><td>1982</td><td>F</td><td>3881 Abaújszántó, Szolnoki út 8.</td></tr><tr><td>attila4</td><td>attila.baróti@mail.hu</td><td>Baróti Attila</td><td>1975</td><td>F</td><td>7149 Báta, Arany János utca 3.</td></tr><tr><td>ATTILAO</td><td>ATTILAO@gmail.com</td><td>Opra Attila</td><td>1995</td><td>F</td><td>8283 Káptalantóti, Rákóczi út 200.</td></tr><tr><td>balazs1</td><td>balázs.bozsik@mail.hu</td><td>Bozsik Balázs</td><td>1992</td><td>F</td><td>2300 Ráckeve, Bécsi utca 82.</td></tr><tr><td>balazs2</td><td>balázs.szűcs@mail.hu</td><td>Szűcs Balázs</td><td>1984</td><td>F</td><td>3170 Szécsény, Szabadság utca 95.</td></tr><tr><td>balazs3</td><td>balazs3@gmail.com</td><td>Bakódy Balázs</td><td>1986</td><td>F</td><td>2131 Göd, Arany János utca 1.</td></tr><tr><td>balint</td><td>balint@gmail.com</td><td>Horváth Bálint</td><td>1996</td><td>F</td><td>6646 Tömörkény, Endrődi Sándor utca 47.</td></tr><tr><td>balint1</td><td>balint1@gmail.com</td><td>Molnár Bálint</td><td>1989</td><td>F</td><td>9181 Kimle, Fő út 169.</td></tr><tr><td>balint2</td><td>balint2@gmail.com</td><td>Vukasinovity Bálint</td><td>1997</td><td>F</td><td>2330 Dunaharaszti, Béke utca 7.</td></tr><tr><td>balu</td><td>bálint.endresz@mail.hu</td><td>Endresz Bálint</td><td>1976</td><td>F</td><td>3973 Cigánd, Fő út 169.</td></tr><tr><td>beata4</td><td>beáta.bagi@mail.hu</td><td>Bagi Beáta</td><td>1994</td><td>N</td><td>8477 Tüskevár, Felszabadulás utca 32.</td></tr><tr><td>BEATRIXK</td><td>beatrix.kerényi@mail.hu</td><td>Kerényi Beatrix</td><td>1972</td><td>N</td><td>7396 Magyarszék, Kossuth Lajos utca 47/b.</td></tr><tr><td>BEATRIXS</td><td>beatrix.szekendi@mail.hu</td><td>Szekendi Beatrix</td><td>1981</td><td>N</td><td>4060 Balmazújváros, Jászai tér 21.</td></tr><tr><td>BELAF</td><td>BELAF@gmail.com</td><td>Farkas Béla</td><td>1995</td><td>F</td><td>5530 Vésztő, Petőfi Sándor utca 3.</td></tr><tr><td>bence</td><td>bence@gmail.com</td><td>Győrffy Bence</td><td>1987</td><td>F</td><td>6900 Makó, Árpád utca 23.</td></tr><tr><td>BENCEB</td><td>bence.bajusz@mail.hu</td><td>Bajusz Bence</td><td>1973</td><td>F</td><td>8391 Sármellék, Fő utca 56.</td></tr><tr><td>bernadett1</td><td>bernadett1@gmail.com</td><td>Simon Bernadett</td><td>1984</td><td>N</td><td>2300 Ráckeve, Fő utca 108.</td></tr><tr><td>bernadett2</td><td>bernadett.kovács@mail.hu</td><td>Kovács Bernadett</td><td>1996</td><td>N</td><td>4200 Hajdúszoboszló, Fő út 122.</td></tr><tr><td>BERNADETTO</td><td>bernadett.orbán@mail.hu</td><td>Orbán Bernadett</td><td>1987</td><td>N</td><td>5085 Rákóczifalva, Arany János utca 1.</td></tr><tr><td>bertalan</td><td>bertalan@gmail.com</td><td>Csiger Bertalan</td><td>1977</td><td>F</td><td>1192 Budapest, Fő út 169.</td></tr><tr><td>brigitta</td><td>brigitta.székely@mail.hu</td><td>Székely Brigitta</td><td>1978</td><td>N</td><td>2462 Martonvásár, Fő utca 47.</td></tr><tr><td>brigitta3</td><td>brigitta.pataki@mail.hu</td><td>Pataki Brigitta</td><td>1991</td><td>N</td><td>2730 Albertirsa, Rendeki utca 21.</td></tr><tr><td>csongor3</td><td>csongor.nagymihály@mail.hu</td><td>Nagymihály Csongor</td><td>1984</td><td>F</td><td>9181 Kimle, Deák Ferenc út 5.</td></tr><tr><td>dani</td><td>daniel@gmail.com</td><td>Vörös Dániel</td><td>1986</td><td>F</td><td>7150 Bonyhád, Dózsa György u. 1.</td></tr><tr><td>daniel</td><td>dániel.rácz@mail.hu</td><td>Rácz Dániel</td><td>1978</td><td>F</td><td>9181 Kimle, Szabadság tér 9.</td></tr><tr><td>daniel1</td><td>dániel.keszler@mail.hu</td><td>Keszler Dániel</td><td>1969</td><td>F</td><td>3580 Tiszaújváros, Kossuth Lajos utca 6.</td></tr><tr><td>david</td><td>david@gmail.com</td><td>Ambrus Dávid</td><td>1974</td><td>F</td><td>1149 Budapest, Fő út 18.</td></tr><tr><td>david1</td><td>david1@gmail.com</td><td>Sobják Dávid</td><td>1970</td><td>F</td><td>5083 Kengyel, Arany János utca 3.</td></tr><tr><td>david4</td><td>david4@gmail.com</td><td>Berta Dávid</td><td>1990</td><td>F</td><td>3500 Miskolc, Balatoni út 12.</td></tr><tr><td>debora</td><td>debóra.barna@mail.hu</td><td>Barna Debóra</td><td>1976</td><td>N</td><td>1155 Budapest, Fő út 169.</td></tr><tr><td>denes</td><td>denes@gmail.com</td><td>Tömböly Dénes</td><td>1975</td><td>F</td><td>2400 Dunaújváros, Kossuth út 39.</td></tr><tr><td>desdemona</td><td>mor.otto@mail.hu</td><td>Mór Ottó</td><td>1968</td><td>F</td><td>9200 Mosonmagyaróvár Fő u. 12.</td></tr><tr><td>dora3</td><td>dóra.sarodi@mail.hu</td><td>Sarodi Dóra</td><td>1995</td><td>N</td><td>2855 Bokod, Fő út 18.</td></tr><tr><td>edit</td><td>edit.bittmann@mail.hu</td><td>Bittmann Edit</td><td>1984</td><td>N</td><td>6077 Orgovány, Fő utca 60.</td></tr><tr><td>emese</td><td>emese.kuruc@mail.hu</td><td>Kuruc Emese</td><td>1989</td><td>N</td><td>6700 Szeged, Rákóczi utca 67.</td></tr><tr><td>eszter</td><td>eszter.molnár@mail.hu</td><td>Molnár Eszter</td><td>1987</td><td>N</td><td>6800 Hódmezővásárhely, Fő út 77.</td></tr><tr><td>eszter2</td><td>eszter.balogh@mail.hu</td><td>Balogh Eszter</td><td>1998</td><td>N</td><td>6760 Kistelek, Kossuth utca 11.</td></tr><tr><td>eszter4</td><td>eszter.fülöp@mail.hu</td><td>Fülöp Eszter</td><td>1993</td><td>N</td><td>3643 Dédestapolcsány, Kossuth Lajos utca 47/b.</td></tr><tr><td>ESZTERE</td><td>eszter.érsek@mail.hu</td><td>Érsek Eszter</td><td>1978</td><td>N</td><td>6785 Pusztamérges, Kossuth Lajos utca 6.</td></tr><tr><td>eva</td><td>eva@gmail.com</td><td>Enyedi Éva</td><td>1967</td><td>N</td><td>4231 Bököny, Petőfi utca 8.</td></tr><tr><td>eva2</td><td>eva2@gmail.com</td><td>Perlinger Éva</td><td>1971</td><td>N</td><td>9653 Répcelak, Bécsi utca 82.</td></tr><tr><td>EVAV</td><td>EVAV@gmail.com</td><td>Viktor Éva</td><td>1980</td><td>N</td><td>6913 Csanádpalota, Arany János utca 3.</td></tr><tr><td>ferenc1</td><td>ferenc.orosz@mail.hu</td><td>Orosz Ferenc</td><td>1983</td><td>F</td><td>5061 Tiszasüly, Arany János utca 3.</td></tr><tr><td>fruzsina4</td><td>fruzsina4@gmail.com</td><td>Frank Fruzsina</td><td>1996</td><td>N</td><td>9700 Szombathely, Szabadság utca 95.</td></tr><tr><td>gabor1</td><td>gabor1@gmail.com</td><td>Köves Gábor</td><td>1973</td><td>F</td><td>6762 Sándorfalva, Árpád utca 23.</td></tr><tr><td>gabor4</td><td>gábor.telek@mail.hu</td><td>Telek Gábor</td><td>1987</td><td>F</td><td>9071 Görbeháza, Fő út 169.</td></tr><tr><td>GABORS</td><td>GABORS@gmail.com</td><td>Szöllősi Gábor</td><td>1990</td><td>F</td><td>3630 Putnok, Kossuth utca 27.</td></tr><tr><td>gabriella1</td><td>gabriella1@gmail.com</td><td>Nagy Gabriella</td><td>1982</td><td>N</td><td>1077 Budapest, Dob utca 1</td></tr><tr><td>gabriella10</td><td>gabriella10@gmail.com</td><td>Vida Gabriella</td><td>1969</td><td>N</td><td>2484 Agárd, Arany János utca 3.</td></tr><tr><td>georgij</td><td>georgij.nyíri@mail.hu</td><td>Nyíri Georgij</td><td>1983</td><td>F</td><td>8391 Sármellék, Grassalkovich út 10.</td></tr><tr><td>gusztav</td><td>gusztav@gmail.com</td><td>Bárci Gusztáv</td><td>1967</td><td>F</td><td>3643 Dédestapolcsány, Endrődi Sándor utca 47.</td></tr><tr><td>GYONGYIK</td><td>gyöngyi.kornseé@mail.hu</td><td>Kornseé Gyöngyi</td><td>1974</td><td>N</td><td>8800 Nagykanizsa, Fő út 60.</td></tr><tr><td>GYORGYO</td><td>GYORGYO@gmail.com</td><td>Oroszi György</td><td>1980</td><td>F</td><td>7220 Sarkad, Dózsa György u. 1.</td></tr><tr><td>henrik3</td><td>henrik.nádudvari@mail.hu</td><td>Nádudvari Henrik</td><td>1986</td><td>F</td><td>1077 Budapest, Tanácsköztársaság tér 1.</td></tr><tr><td>IBOLYAA</td><td>ibolya.andor@mail.hu</td><td>Andor Ibolya</td><td>1983</td><td>N</td><td>9023 Győr, Posta köz 2.</td></tr><tr><td>ilona3</td><td>ilona3@gmail.com</td><td>Bosnyák Ilona</td><td>1990</td><td>N</td><td>2483 Gárdony, Posta köz 2.</td></tr><tr><td>imre</td><td>imre.búza@mail.hu</td><td>Búza Imre</td><td>1988</td><td>F</td><td>9181 Kimle, Petőfi Sándor tér 1.</td></tr><tr><td>imre1</td><td>imre.papp@mail.hu</td><td>Papp Imre</td><td>1976</td><td>F</td><td>1077 Budapest, Szolnoki út 8.</td></tr><tr><td>istvan</td><td>istvan@gmail.com</td><td>Soós István</td><td>1986</td><td>F</td><td>2370 Dabas, Kossuth utca 27.</td></tr><tr><td>istvan1</td><td>istván.vizi@mail.hu</td><td>Vizi István</td><td>1997</td><td>F</td><td>7086 Ozora, Rákóczi utca 1.</td></tr><tr><td>ISTVANV</td><td>ISTVANV@gmail.com</td><td>Varga István</td><td>1989</td><td>F</td><td>6320 Solt, Hősök tere 11.</td></tr><tr><td>janos3</td><td>janos3@gmail.com</td><td>Harangozó János</td><td>1967</td><td>F</td><td>8700 Marcali, Petőfi Sándor tér 1.</td></tr><tr><td>JANOSG</td><td>JANOSG@gmail.com</td><td>Giliga János</td><td>1975</td><td>F</td><td>3300 Eger, Deák Ferenc út 5.</td></tr><tr><td>JANOSP</td><td>JANOSP@gmail.com</td><td>Pálinkás János</td><td>1984</td><td>F</td><td>5920 Csorvás, Padragi út 158.</td></tr><tr><td>jozsef</td><td>jozsef@gmail.com</td><td>Gergely József</td><td>1985</td><td>F</td><td>6050 Lajosmizse, Fő út 18.</td></tr><tr><td>jozsef2</td><td>józsef.vajda@mail.hu</td><td>Vajda József</td><td>1978</td><td>F</td><td>6700 Szeged, Baracsi László utca 14.</td></tr><tr><td>JOZSEFG</td><td>józsef.gyuris@mail.hu</td><td>Gyuris József</td><td>1975</td><td>F</td><td>2660 Balassagyarmat, Petőfi utca 1/2.</td></tr><tr><td>JUDITH</td><td>JUDITH@gmail.com</td><td>Hídasi Judit</td><td>1997</td><td>N</td><td>2100 Gödöllő, Fő út 169.</td></tr><tr><td>julia</td><td>julia@gmail.com</td><td>Tóth Júlia</td><td>1993</td><td>N</td><td>5310 Kisújszállás, Árpád utca 4.</td></tr><tr><td>julia4</td><td>julia4@gmail.com</td><td>Nagy Júlia</td><td>1985</td><td>N</td><td>7000 Sárbogárd, Jászai tér 21.</td></tr><tr><td>julianna4</td><td>julianna4@gmail.com</td><td>Szabó Julianna</td><td>1990</td><td>N</td><td>6700 Szeged, Kossuth Lajos utca 6.</td></tr><tr><td>kanita12</td><td>anita.kiss12@gmail.com</td><td>Kiss Anita</td><td>1975</td><td>N</td><td>2230 Gyömrő Fő tér 3.</td></tr><tr><td>kata</td><td>katalin.gondos@mail.hu</td><td>Gondos Katalin</td><td>1968</td><td>N</td><td>8237 Tihany, Kossuth Lajos utca 6.</td></tr><tr><td>katalin</td><td>katalin.horváth@mail.hu</td><td>Horváth Katalin</td><td>1968</td><td>N</td><td>2424 Előszállás, Rákóczi út 200.</td></tr><tr><td>katalin4</td><td>katalin4@gmail.com</td><td>Kertész Katalin</td><td>1986</td><td>N</td><td>2800 Tatabánya, Búvár utca 4.</td></tr><tr><td>kati</td><td>katalin.zatykó@mail.hu</td><td>Zatykó Katalin</td><td>1995</td><td>N</td><td>7511 Ötvöskónyi, Kossuth Lajos utca 6.</td></tr><tr><td>katka</td><td>katalin.kovács@mail.hu</td><td>Kovács Katalin</td><td>1975</td><td>N</td><td>8254 Kővágóörs, Petőfi utca 22.</td></tr><tr><td>klaudia2</td><td>klaudia.bakó@mail.hu</td><td>Bakó Klaudia</td><td>1982</td><td>N</td><td>8254 Kővágóörs, Kossuth Lajos utca 6.</td></tr><tr><td>kornel4</td><td>kornél.lukács@mail.hu</td><td>Lukács Kornél</td><td>1975</td><td>F</td><td>2053 Herceghalom, Bécsi utca 82.</td></tr><tr><td>kristof4</td><td>kristof4@gmail.com</td><td>Poprádi Kristóf</td><td>1984</td><td>F</td><td>8220 Balatonalmádi, Mészáros utca 7.</td></tr><tr><td>kriszti</td><td>kriszti@gmail.com</td><td>Horváth Krisztina</td><td>1978</td><td>N</td><td>6060 Tiszakécske, Árpád utca 4.</td></tr><tr><td>krisztian4</td><td>krisztián.czérna@mail.hu</td><td>Czérna Krisztián</td><td>1970</td><td>F</td><td>1107 Budapest, Dózsa György utca 37.</td></tr><tr><td>KRISZTIANM</td><td>KRISZTIANM@gmail.com</td><td>Mogyródi Krisztián</td><td>1968</td><td>F</td><td>9155 Lébény, Jászai tér 21.</td></tr><tr><td>krisztina</td><td>krisztina@gmail.com</td><td>Szedlár Krisztina</td><td>1979</td><td>N</td><td>6646 Tömörkény, Arany János utca 1.</td></tr><tr><td>krisztina1</td><td>krisztina.bori@mail.hu</td><td>Bori Krisztina</td><td>1969</td><td>N</td><td>2115 Vácszentlászló, Fő utca 47.</td></tr><tr><td>KRISZTINAG</td><td>KRISZTINAG@gmail.com</td><td>Gyárfás Krisztina</td><td>1987</td><td>N</td><td>6762 Sándorfalva, Arany János utca 1.</td></tr><tr><td>lajos</td><td>lajos.kiss@mail.hu</td><td>Kiss Lajos</td><td>1978</td><td>F</td><td>1077 Budapest, Dob utca 1</td></tr><tr><td>lala</td><td>lajos.nagymihály@mail.hu</td><td>Nagymihály Lajos</td><td>1997</td><td>F</td><td>8638 Balatonlelle, Rákóczi út 200.</td></tr><tr><td>laszlo1</td><td>lászló.farkas@mail.hu</td><td>Farkas László</td><td>1967</td><td>F</td><td>5200 Törökszentmiklós, Rendeki utca 21.</td></tr><tr><td>laszlo2</td><td>lászló.móra@mail.hu</td><td>Móra László</td><td>1975</td><td>F</td><td>9970 Szentgotthárd, Petőfi utca 1/2.</td></tr><tr><td>LASZLOA</td><td>lászló.antal@mail.hu</td><td>Antal László</td><td>1969</td><td>F</td><td>2484 Agárd, Bécsi utca 82.</td></tr><tr><td>LASZLON</td><td>lászló.nagy@mail.hu</td><td>Nagy László</td><td>1969</td><td>F</td><td>1173 Budapest, Jászai tér 21.</td></tr><tr><td>maria1</td><td>mária.baráth@mail.hu</td><td>Baráth Mária</td><td>1995</td><td>N</td><td>1047 Budapest, Posta köz 2.</td></tr><tr><td>mark</td><td>márk.kispál@mail.hu</td><td>Kispál Márk</td><td>1996</td><td>F</td><td>1086 Budapest, Juhászföldi út 1.</td></tr><tr><td>MARKH</td><td>márk.horváth@mail.hu</td><td>Horváth Márk</td><td>1997</td><td>F</td><td>4400 Nyíregyháza, Badacsonyi utca 12.</td></tr><tr><td>marton</td><td>marton@gmail.com</td><td>Kalacsi Márton</td><td>1989</td><td>F</td><td>5137 Jászkisér, Fő út 169.</td></tr><tr><td>MATEK</td><td>máté.koza@mail.hu</td><td>Koza Máté</td><td>1997</td><td>F</td><td>1011 Budapest, Központi telep 3.</td></tr><tr><td>matyas2</td><td>matyas2@gmail.com</td><td>Botka Mátyás</td><td>1972</td><td>F</td><td>2700 Cegléd, Kossuth Lajos utca 6.</td></tr><tr><td>MATYASS</td><td>mátyás.szilágyi@mail.hu</td><td>Szilágyi Mátyás</td><td>1975</td><td>F</td><td>9023 Győr, Kossuth Lajos utca 6.</td></tr><tr><td>melissza</td><td>nagy_peter@indamail.hu</td><td>Nagy Péter</td><td>1998</td><td>F</td><td>6800 Hódmezővásárhely, Oldalkosát u. 1.</td></tr><tr><td>MIHALYJ</td><td>mihály.juhász@mail.hu</td><td>Juhász Mihály</td><td>1979</td><td>F</td><td>6786 Ruzsa, Rákóczi utca 1.</td></tr><tr><td>miklos2</td><td>miklos2@gmail.com</td><td>Gondos Miklós</td><td>1995</td><td>F</td><td>2100 Gödöllő, Árpád utca 23.</td></tr><tr><td>MIKLOSB</td><td>miklós.balla@mail.hu</td><td>Balla Miklós</td><td>1979</td><td>F</td><td>4060 Balmazújváros, Szent István utca 2.</td></tr><tr><td>MONIKAM</td><td>mónika.mohos@mail.hu</td><td>Mohos Mónika</td><td>1974</td><td>N</td><td>2241 Sülysáp, Baracsi László utca 14.</td></tr><tr><td>NANDORF</td><td>nándor.fő@mail.hu</td><td>Fő Nándor</td><td>1968</td><td>F</td><td>5920 Csorvás, Bécsi utca 82.</td></tr><tr><td>nikolett3</td><td>nikolett3@gmail.com</td><td>Horváth Nikolett</td><td>1981</td><td>N</td><td>1072 Budapest, Arany János utca 1.</td></tr><tr><td>nikoletta4</td><td>nikoletta4@gmail.com</td><td>Kő Nikoletta</td><td>1972</td><td>N</td><td>5537 Zsadány, Fő út 18.</td></tr><tr><td>NIKOLETTAT</td><td>nikoletta.tatár@mail.hu</td><td>Tatár Nikoletta</td><td>1997</td><td>N</td><td>1067 Budapest, Győri utca 12.</td></tr><tr><td>norbert</td><td>norbert@gmail.com</td><td>Szűcs Norbert</td><td>1969</td><td>F</td><td>5071 Besenyszög, Győri utca 12.</td></tr><tr><td>norbert2</td><td>norbert.hegedűs@mail.hu</td><td>Hegedűs Norbert</td><td>1991</td><td>F</td><td>2081 Piliscsaba, Rendeki utca 21.</td></tr><tr><td>norbert4</td><td>norbert4@gmail.com</td><td>Mile Norbert</td><td>1983</td><td>F</td><td>3973 Cigánd, Bajcsy-Zsilinszky utca 4.</td></tr><tr><td>norbert5</td><td>norbert5@gmail.com</td><td>Béres Norbert</td><td>1975</td><td>F</td><td>8640 Fonyód, Bajcsy-Zsilinszky utca 4.</td></tr><tr><td>pal</td><td>pál.barabás@mail.hu</td><td>Barabás Pál</td><td>1968</td><td>F</td><td>1183 Budapest, Szolnoki út 8.</td></tr><tr><td>peter1</td><td>peter1@gmail.com</td><td>Kozma Péter</td><td>1976</td><td>F</td><td>6913 Csanádpalota, Központi telep 3.</td></tr><tr><td>peter2</td><td>peter2@gmail.com</td><td>Bozsó Péter</td><td>1976</td><td>F</td><td>4800 Vásárosnamény, Zombori út 2/A</td></tr><tr><td>peter3</td><td>peter3@gmail.com</td><td>Szalai Péter</td><td>1983</td><td>F</td><td>1155 Budapest, Arany János utca 3.</td></tr><tr><td>peter4</td><td>péter.bíró@mail.hu</td><td>Bíró Péter</td><td>1985</td><td>F</td><td>5137 Jászkisér, Rákóczi utca 67.</td></tr><tr><td>PETERB</td><td>péter.berendi@mail.hu</td><td>Berendi Péter</td><td>1969</td><td>F</td><td>3980 Sátoraljaújhely, Vasút utca 4/10.</td></tr><tr><td>polla</td><td>polla@gmail.com</td><td>Palágyi Polla</td><td>1994</td><td>N</td><td>2484 Agárd, Fő út 18.</td></tr><tr><td>rajmond4</td><td>rajmond.rácz@mail.hu</td><td>Rácz Rajmond</td><td>1993</td><td>F</td><td>9155 Lébény, Petőfi utca 1/2.</td></tr><tr><td>reka4</td><td>réka.szikszai@mail.hu</td><td>Szikszai Réka</td><td>1969</td><td>N</td><td>8254 Kővágóörs, Templom utca 73.</td></tr><tr><td>RENATAK</td><td>renáta.kardos@mail.hu</td><td>Kardos Renáta</td><td>1988</td><td>N</td><td>7086 Ozora, Bécsi utca 82.</td></tr><tr><td>RENATAS</td><td>RENATAS@gmail.com</td><td>Szirmai Renáta</td><td>1991</td><td>N</td><td>2053 Herceghalom, Kossuth utca 27.</td></tr><tr><td>robert2</td><td>robert2@gmail.com</td><td>Patay Róbert</td><td>1977</td><td>F</td><td>2370 Dabas, Rákóczi utca 21.</td></tr><tr><td>ROBERTI</td><td>róbert.iván@mail.hu</td><td>Iván Róbert</td><td>1967</td><td>F</td><td>2377 Örkény, Petőfi Sándor utca 3.</td></tr><tr><td>ROBERTP</td><td>ROBERTP@gmail.com</td><td>Pásztor Róbert</td><td>1972</td><td>F</td><td>5137 Jászkisér, Ady Endre út 27.</td></tr><tr><td>roland</td><td>roland@gmail.com</td><td>Tóth Roland</td><td>1968</td><td>F</td><td>2000 Szentendre, Fő út 169.</td></tr><tr><td>roland1</td><td>roland.ferencz@mail.hu</td><td>Ferencz Roland</td><td>1985</td><td>F</td><td>2424 Előszállás, Fő út 169.</td></tr><tr><td>roza2</td><td>roza2@gmail.com</td><td>Bucskó Róza</td><td>1988</td><td>N</td><td>5661 Újkígyós, Arany János utca 3.</td></tr><tr><td>sandor</td><td>sandor@gmail.com</td><td>Karasz Sándor</td><td>1970</td><td>F</td><td>8283 Káptalantóti, Kossuth Lajos utca 1/a.</td></tr><tr><td>sandor3</td><td>sándor.farkas@mail.hu</td><td>Farkas Sándor</td><td>1989</td><td>F</td><td>8640 Fonyód, Tanácsköztársaság tér 1.</td></tr><tr><td>sandor4</td><td>sandor4@gmail.com</td><td>Nagy Sándor</td><td>1997</td><td>F</td><td>4600 Kisvárda, Fő utca 47.</td></tr><tr><td>sara</td><td>sára.farkas@mail.hu</td><td>Farkas Sára</td><td>1973</td><td>N</td><td>5940 Tótkomlós, Felszabadulás utca 32.</td></tr><tr><td>SEBASTIANF</td><td>SEBASTIANF@gmail.com</td><td>Foltényi Sebastián</td><td>1992</td><td>F</td><td>7960 Sellye, Grassalkovich út 10.</td></tr><tr><td>sebestyen</td><td>sebestyen@gmail.com</td><td>Rab Sebestyén</td><td>1992</td><td>F</td><td>7130 Tolna, Központi telep 3.</td></tr><tr><td>szabolcs</td><td>szabolcs.bodor@mail.hu</td><td>Bodor Szabolcs</td><td>1990</td><td>F</td><td>6786 Ruzsa, Ady Endre út 27.</td></tr><tr><td>SZABOLCSM</td><td>szabolcs.miklós@mail.hu</td><td>Miklós Szabolcs</td><td>1980</td><td>F</td><td>1102 Budapest, Fő út 169.</td></tr><tr><td>SZILARDS</td><td>szilárd.szalai@mail.hu</td><td>Szalai Szilárd</td><td>1967</td><td>F</td><td>1077 Budapest, Fő út 18.</td></tr><tr><td>szilvia1</td><td>szilvia.tari@mail.hu</td><td>Tari Szilvia</td><td>1971</td><td>N</td><td>6080 Szabadszállás, Bécsi utca 82.</td></tr><tr><td>tamara2</td><td>tamara.miklós@mail.hu</td><td>Miklós Tamara</td><td>1980</td><td>N</td><td>3910 Tokaj, Kossuth út 39.</td></tr><tr><td>tamas</td><td>tamás.antal@mail.hu</td><td>Antal Tamás</td><td>1984</td><td>F</td><td>4440 Tiszavasvári, Posta köz 2.</td></tr><tr><td>TAMASF</td><td>TAMASF@gmail.com</td><td>Fényes Tamás</td><td>1997</td><td>F</td><td>9023 Győr, Arany János utca 1.</td></tr><tr><td>tibor</td><td>tibor.gombos@mail.hu</td><td>Gombos Tibor</td><td>1993</td><td>F</td><td>7100 Szekszárd, Kossuth utca 77.</td></tr><tr><td>tibor2</td><td>tibor2@gmail.com</td><td>Dániel Tibor</td><td>1985</td><td>F</td><td>6646 Tömörkény, Árpád utca 23.</td></tr><tr><td>tihamer</td><td>tihamér.kazy@mail.hu</td><td>Kazy Tihamér</td><td>1991</td><td>F</td><td>2370 Dabas, Fő utca 60.</td></tr><tr><td>timea</td><td>timea@gmail.com</td><td>Papós Tímea</td><td>1996</td><td>N</td><td>1035 Budapest,  Kossuth út 77.</td></tr><tr><td>timea2</td><td>tímea.dusha@mail.hu</td><td>Dusha Tímea</td><td>1975</td><td>N</td><td>5920 Csorvás, Kossuth utca 8.</td></tr><tr><td>tunde</td><td>tunde@gmail.com</td><td>Turcsik Tünde</td><td>1974</td><td>N</td><td>7130 Tolna, Fő út 122.</td></tr><tr><td>valentin</td><td>valentin.feró@mail.hu</td><td>Feró Valentin</td><td>1986</td><td>F</td><td>3895 Gönc, Búvár utca 4.</td></tr><tr><td>veronika4</td><td>veronika4@gmail.com</td><td>Tankó Veronika</td><td>1983</td><td>N</td><td>6412 Balotaszállás, Rendeki utca 21.</td></tr><tr><td>VIKTORIAU</td><td>viktoria.urbán@mail.hu</td><td>Urbán Viktoria</td><td>1996</td><td>N</td><td>3860 Encs, Népboltsor  2.</td></tr><tr><td>VIKTORK</td><td>viktor.keresztúri@mail.hu</td><td>Keresztúri Viktor</td><td>1989</td><td>F</td><td>2532 Tokodaltáró, Nagy Lajos tér 4.</td></tr><tr><td>vivien3</td><td>vivien3@gmail.com</td><td>Boros Vivien</td><td>1991</td><td>N</td><td>2117 Isaszeg, Fő út 122.</td></tr><tr><td>zoltan</td><td>zoltán.fodor@mail.hu</td><td>Fodor Zoltán</td><td>1979</td><td>F</td><td>3441 Mezőkeresztes, Fő utca 23.</td></tr><tr><td>zoltan4</td><td>zoltan4@gmail.com</td><td>Barna Zoltán</td><td>1986</td><td>F</td><td>8313 Balatongyörök, Jászai tér 21.</td></tr><tr><td>ZOLTANP</td><td>zoltán.pintér@mail.hu</td><td>Pintér Zoltán</td><td>1977</td><td>F</td><td>6050 Lajosmizse, Fő út 18.</td></tr><tr><td>ZOLTANT</td><td>zoltán.tóth@mail.hu</td><td>Tóth Zoltán</td><td>1985</td><td>F</td><td>4244 Újfehértó, Posta köz 2.</td></tr><tr><td>zsofi1</td><td>zsofi1@gmail.com</td><td>Molnár Zsófi</td><td>1983</td><td>N</td><td>2730 Albertirsa, Árpád utca 23.</td></tr><tr><td>zsolt1</td><td>zsolt.pulai@mail.hu</td><td>Pulai Zsolt</td><td>1988</td><td>F</td><td>8391 Sármellék, Fő utca 60.</td></tr><tr><td>ZSOLTJ</td><td>ZSOLTJ@gmail.com</td><td>Józsa Zsolt</td><td>1983</td><td>F</td><td>8315 Gyenesdiás, Bajcsy-Zsilinszky utca 4.</td></tr><tr><td>zsuzsa</td><td>zsuzsanna@gmail.com</td><td>Pusztai Zsuzsanna</td><td>1980</td><td>N</td><td>6783 Ásotthalom, Badacsonyi utca 12.</td></tr><tr><td>zsuzsa3</td><td>zsuzsa.varsányi@mail.hu</td><td>Varsányi Zsuzsa</td><td>1979</td><td>N</td><td>8600 Siófok, Árpád utca 4.</td></tr><tr><td>zsuzsanna</td><td>zsuzsanna.barta@mail.hu</td><td>Barta Zsuzsanna</td><td>1994</td><td>N</td><td>4172 Biharnagybajom, Dózsa György utca 37.</td></tr><tr><td>ZSUZSAV</td><td>zsuzsa.vajda@mail.hu</td><td>Vajda Zsuzsa</td><td>1976</td><td>N</td><td>6786 Ruzsa, Kossuth utca 77.</td></tr></table>"
                    },
                    "metadata": {}
                }
            ],
            "execution_count": 13
        },
        {
            "cell_type": "markdown",
            "source": [
                "5. <span style=\"background-color: rgb(255, 255, 255); color: rgb(0, 0, 0); font-family: &quot;Open Sans&quot;, sans-serif; font-size: 14.44px;\">Készítsünk listát a termékek számáról a felvitel hónapja, azon belül napja szerint csoportosítva.&nbsp;</span> \n",
                "\n",
                "a. A lista csak a részösszegeket és a végösszeget tartalmazza!  \n",
                "b. Az oszlopoknak adjunk megfelelő nevet!  \n",
                "c. Ötlet: HAVING + GROUPING\\_ID fv együttes használata"
            ],
            "metadata": {
                "azdata_cell_guid": "84239ca2-6b5e-49f5-9860-d44c11d6de32"
            },
            "attachments": {}
        },
        {
            "cell_type": "code",
            "source": [
                ""
            ],
            "metadata": {
                "azdata_cell_guid": "06d9a62b-9430-424b-a135-d80e675f0eb3",
                "language": "sql"
            },
            "outputs": [],
            "execution_count": null
        }
    ]
}