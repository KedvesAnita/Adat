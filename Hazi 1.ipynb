{
    "metadata": {
        "kernelspec": {
            "name": "SQL",
            "display_name": "SQL",
            "language": "sql"
        },
        "language_info": {
            "name": "sql",
            "version": ""
        }
    },
    "nbformat_minor": 2,
    "nbformat": 4,
    "cells": [
        {
            "cell_type": "code",
            "source": [
                "SELECT row_type,\r\n",
                "   COUNT(*) as 'row_count'\r\n",
                "FROM \r\n",
                "   (SELECT \r\n",
                "       CASE WHEN Tantárgynév IS NULL THEN 'Null'\r\n",
                "           WHEN LEN(Tantárgynév) = 0 THEN 'Empty'\r\n",
                "           ELSE 'Non Empty' \r\n",
                "           END AS 'row_type'\r\n",
                "       FROM Tantárgyak) rows\r\n",
                "GROUP BY row_type;"
            ],
            "metadata": {
                "azdata_cell_guid": "3a56c44d-4eda-4258-81e7-c1ef5740c3ed",
                "language": "sql"
            },
            "outputs": [
                {
                    "output_type": "display_data",
                    "data": {
                        "text/html": "(1 row affected)"
                    },
                    "metadata": {}
                },
                {
                    "output_type": "display_data",
                    "data": {
                        "text/html": "Total execution time: 00:00:00.016"
                    },
                    "metadata": {}
                },
                {
                    "output_type": "execute_result",
                    "metadata": {},
                    "execution_count": 28,
                    "data": {
                        "application/vnd.dataresource+json": {
                            "schema": {
                                "fields": [
                                    {
                                        "name": "row_type"
                                    },
                                    {
                                        "name": "row_count"
                                    }
                                ]
                            },
                            "data": [
                                {
                                    "row_type": "Non Empty",
                                    "row_count": "13"
                                }
                            ]
                        },
                        "text/html": [
                            "<table>",
                            "<tr><th>row_type</th><th>row_count</th></tr>",
                            "<tr><td>Non Empty</td><td>13</td></tr>",
                            "</table>"
                        ]
                    }
                }
            ],
            "execution_count": 28
        },
        {
            "cell_type": "code",
            "source": [
                "SELECT  AVG(kredit) AS 'value_var'\r\n",
                "FROM Tantárgyak\r\n",
                "WHERE kredit IS NOT NULL"
            ],
            "metadata": {
                "azdata_cell_guid": "674a09f2-952b-44c2-bbe7-35d1f7b0721f",
                "language": "sql"
            },
            "outputs": [
                {
                    "output_type": "display_data",
                    "data": {
                        "text/html": "(1 row affected)"
                    },
                    "metadata": {}
                },
                {
                    "output_type": "display_data",
                    "data": {
                        "text/html": "Total execution time: 00:00:00.014"
                    },
                    "metadata": {}
                },
                {
                    "output_type": "execute_result",
                    "metadata": {},
                    "execution_count": 31,
                    "data": {
                        "application/vnd.dataresource+json": {
                            "schema": {
                                "fields": [
                                    {
                                        "name": "value_var"
                                    }
                                ]
                            },
                            "data": [
                                {
                                    "value_var": "2"
                                }
                            ]
                        },
                        "text/html": [
                            "<table>",
                            "<tr><th>value_var</th></tr>",
                            "<tr><td>2</td></tr>",
                            "</table>"
                        ]
                    }
                }
            ],
            "execution_count": 31
        },
        {
            "cell_type": "code",
            "source": [
                "SELECT  MIN(kredit) AS value_var\r\n",
                "FROM Tantárgyak\r\n",
                "WHERE kredit IS NOT NULL"
            ],
            "metadata": {
                "azdata_cell_guid": "ac0ec47d-a328-4f6f-8897-763e8e132c57",
                "language": "sql"
            },
            "outputs": [
                {
                    "output_type": "display_data",
                    "data": {
                        "text/html": "(1 row affected)"
                    },
                    "metadata": {}
                },
                {
                    "output_type": "display_data",
                    "data": {
                        "text/html": "Total execution time: 00:00:00.011"
                    },
                    "metadata": {}
                },
                {
                    "output_type": "execute_result",
                    "metadata": {},
                    "execution_count": 29,
                    "data": {
                        "application/vnd.dataresource+json": {
                            "schema": {
                                "fields": [
                                    {
                                        "name": "value_var"
                                    }
                                ]
                            },
                            "data": [
                                {
                                    "value_var": "1"
                                }
                            ]
                        },
                        "text/html": [
                            "<table>",
                            "<tr><th>value_var</th></tr>",
                            "<tr><td>1</td></tr>",
                            "</table>"
                        ]
                    }
                }
            ],
            "execution_count": 29
        },
        {
            "cell_type": "code",
            "source": [
                "SELECT * \r\n",
                "FROM Savok\r\n",
                "WHERE Sav_id IN (\r\n",
                "    SELECT TOP (4) Sav_id\r\n",
                "    FROM Savok\r\n",
                "    ORDER BY NEWID())\r\n",
                ""
            ],
            "metadata": {
                "azdata_cell_guid": "2c6f8ae8-c6ed-4ab9-b5d0-f1e47d106031",
                "language": "sql"
            },
            "outputs": [
                {
                    "output_type": "display_data",
                    "data": {
                        "text/html": "(4 rows affected)"
                    },
                    "metadata": {}
                },
                {
                    "output_type": "display_data",
                    "data": {
                        "text/html": "Total execution time: 00:00:00.036"
                    },
                    "metadata": {}
                },
                {
                    "output_type": "execute_result",
                    "metadata": {
                        "azdata_chartOptions": {
                            "type": "horizontalBar",
                            "dataDirection": "horizontal",
                            "columnsAsLabels": true,
                            "labelFirstColumn": true,
                            "legendPosition": "top"
                        }
                    },
                    "execution_count": 50,
                    "data": {
                        "application/vnd.dataresource+json": {
                            "schema": {
                                "fields": [
                                    {
                                        "name": "Sav_id"
                                    },
                                    {
                                        "name": "Sav"
                                    },
                                    {
                                        "name": "Időpont"
                                    }
                                ]
                            },
                            "data": [
                                {
                                    "Sav_id": "5",
                                    "Sav": "5",
                                    "Időpont": "14.00"
                                },
                                {
                                    "Sav_id": "8",
                                    "Sav": "7",
                                    "Időpont": "17.00"
                                },
                                {
                                    "Sav_id": "4",
                                    "Sav": "4",
                                    "Időpont": "12.30"
                                },
                                {
                                    "Sav_id": "9",
                                    "Sav": "8",
                                    "Időpont": "18.30"
                                }
                            ]
                        },
                        "text/html": [
                            "<table>",
                            "<tr><th>Sav_id</th><th>Sav</th><th>Időpont</th></tr>",
                            "<tr><td>5</td><td>5</td><td>14.00</td></tr>",
                            "<tr><td>8</td><td>7</td><td>17.00</td></tr>",
                            "<tr><td>4</td><td>4</td><td>12.30</td></tr>",
                            "<tr><td>9</td><td>8</td><td>18.30</td></tr>",
                            "</table>"
                        ]
                    }
                }
            ],
            "execution_count": 50
        },
        {
            "cell_type": "code",
            "source": [
                "SELECT  Max(Sav) AS 'value_var'\r\n",
                "FROM Savok\r\n",
                "WHERE Sav IS NOT NULL"
            ],
            "metadata": {
                "azdata_cell_guid": "165d9419-3b8e-44bd-9de8-bad1959fb393",
                "language": "sql"
            },
            "outputs": [
                {
                    "output_type": "display_data",
                    "data": {
                        "text/html": "(1 row affected)"
                    },
                    "metadata": {}
                },
                {
                    "output_type": "display_data",
                    "data": {
                        "text/html": "Total execution time: 00:00:00.023"
                    },
                    "metadata": {}
                },
                {
                    "output_type": "execute_result",
                    "metadata": {},
                    "execution_count": 33,
                    "data": {
                        "application/vnd.dataresource+json": {
                            "schema": {
                                "fields": [
                                    {
                                        "name": "value_var"
                                    }
                                ]
                            },
                            "data": [
                                {
                                    "value_var": "8"
                                }
                            ]
                        },
                        "text/html": [
                            "<table>",
                            "<tr><th>value_var</th></tr>",
                            "<tr><td>8</td></tr>",
                            "</table>"
                        ]
                    }
                }
            ],
            "execution_count": 33
        },
        {
            "cell_type": "code",
            "source": [
                "select STDEV(cast(Sav as int)) AS 'value_stddev'\r\n",
                "from Savok\r\n",
                ""
            ],
            "metadata": {
                "azdata_cell_guid": "02842327-5080-495a-87d4-2c85b4c284c5",
                "language": "sql"
            },
            "outputs": [
                {
                    "output_type": "display_data",
                    "data": {
                        "text/html": "(1 row affected)"
                    },
                    "metadata": {}
                },
                {
                    "output_type": "display_data",
                    "data": {
                        "text/html": "Total execution time: 00:00:00.014"
                    },
                    "metadata": {}
                },
                {
                    "output_type": "execute_result",
                    "metadata": {},
                    "execution_count": 40,
                    "data": {
                        "application/vnd.dataresource+json": {
                            "schema": {
                                "fields": [
                                    {
                                        "name": "value_stddev"
                                    }
                                ]
                            },
                            "data": [
                                {
                                    "value_stddev": "2,571208103423585"
                                }
                            ]
                        },
                        "text/html": [
                            "<table>",
                            "<tr><th>value_stddev</th></tr>",
                            "<tr><td>2,571208103423585</td></tr>",
                            "</table>"
                        ]
                    }
                }
            ],
            "execution_count": 40
        }
    ]
}