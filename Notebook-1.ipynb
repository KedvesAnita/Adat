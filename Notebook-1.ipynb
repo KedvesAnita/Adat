{
    "metadata": {
        "kernelspec": {
            "name": "SQL",
            "display_name": "SQL",
            "language": "sql"
        },
        "language_info": {
            "name": "sql",
            "version": ""
        }
    },
    "nbformat_minor": 2,
    "nbformat": 4,
    "cells": [
        {
            "cell_type": "code",
            "source": [
                "select NEV as 'név', EMAIL as 'email'\r\n",
                "from Vendeg\r\n",
                "WHERE SZUL_DAT BETWEEN '1990.06.01' AND '1991.01.01'"
            ],
            "metadata": {
                "azdata_cell_guid": "6afa0c0e-c8ae-4d9d-9b24-8d4a2648e8b4",
                "language": "sql",
                "tags": []
            },
            "outputs": [
                {
                    "output_type": "display_data",
                    "data": {
                        "text/html": "(5 rows affected)"
                    },
                    "metadata": {}
                },
                {
                    "output_type": "display_data",
                    "data": {
                        "text/html": "Total execution time: 00:00:00.009"
                    },
                    "metadata": {}
                },
                {
                    "output_type": "execute_result",
                    "metadata": {},
                    "execution_count": 19,
                    "data": {
                        "application/vnd.dataresource+json": {
                            "schema": {
                                "fields": [
                                    {
                                        "name": "név"
                                    },
                                    {
                                        "name": "email"
                                    }
                                ]
                            },
                            "data": [
                                {
                                    "név": "Ötvös Árpád",
                                    "email": "árpád.ötvös@mail.hu"
                                },
                                {
                                    "név": "Berta Dávid",
                                    "email": "david4@gmail.com"
                                },
                                {
                                    "név": "Bosnyák Ilona",
                                    "email": "ilona3@gmail.com"
                                },
                                {
                                    "név": "Szabó Julianna",
                                    "email": "julianna4@gmail.com"
                                },
                                {
                                    "név": "Bodor Szabolcs",
                                    "email": "szabolcs.bodor@mail.hu"
                                }
                            ]
                        },
                        "text/html": [
                            "<table>",
                            "<tr><th>név</th><th>email</th></tr>",
                            "<tr><td>Ötvös Árpád</td><td>árpád.ötvös@mail.hu</td></tr>",
                            "<tr><td>Berta Dávid</td><td>david4@gmail.com</td></tr>",
                            "<tr><td>Bosnyák Ilona</td><td>ilona3@gmail.com</td></tr>",
                            "<tr><td>Szabó Julianna</td><td>julianna4@gmail.com</td></tr>",
                            "<tr><td>Bodor Szabolcs</td><td>szabolcs.bodor@mail.hu</td></tr>",
                            "</table>"
                        ]
                    }
                }
            ],
            "execution_count": 19
        },
        {
            "cell_type": "code",
            "source": [
                "SELECT szh.TIPUS, ROUND(COUNT(*), -2)\r\n",
                " \r\n",
                "\r\n",
                "FROM Foglalas f JOIN Szoba sz ON f.SZOBA_FK=sz.SZOBA_ID\r\n",
                "\r\n",
                "                             JOIN Szallashely szh ON sz.SZALLAS_FK=szh.SZALLAS_ID\r\n",
                "\r\n",
                "GROUP BY szh.TIPUS \r\n",
                "\r\n",
                "HAVING ROUND(COUNT(*), -2)<500\r\n",
                ""
            ],
            "metadata": {
                "azdata_cell_guid": "4a762f5f-372c-4de9-b24a-c42236dc24e9",
                "language": "sql"
            },
            "outputs": [
                {
                    "output_type": "display_data",
                    "data": {
                        "text/html": "(3 rows affected)"
                    },
                    "metadata": {}
                },
                {
                    "output_type": "display_data",
                    "data": {
                        "text/html": "Total execution time: 00:00:00.016"
                    },
                    "metadata": {}
                },
                {
                    "output_type": "execute_result",
                    "metadata": {},
                    "execution_count": 20,
                    "data": {
                        "application/vnd.dataresource+json": {
                            "schema": {
                                "fields": [
                                    {
                                        "name": "TIPUS"
                                    },
                                    {
                                        "name": "(No column name)"
                                    }
                                ]
                            },
                            "data": [
                                {
                                    "TIPUS": "Apartman",
                                    "(No column name)": "100"
                                },
                                {
                                    "TIPUS": "vendégház",
                                    "(No column name)": "100"
                                },
                                {
                                    "TIPUS": "panzió",
                                    "(No column name)": "200"
                                }
                            ]
                        },
                        "text/html": [
                            "<table>",
                            "<tr><th>TIPUS</th><th>(No column name)</th></tr>",
                            "<tr><td>Apartman</td><td>100</td></tr>",
                            "<tr><td>vendégház</td><td>100</td></tr>",
                            "<tr><td>panzió</td><td>200</td></tr>",
                            "</table>"
                        ]
                    }
                }
            ],
            "execution_count": 20
        },
        {
            "cell_type": "code",
            "source": [
                "SELECT sz.SZOBA_ID, sz.SZALLAS_FK, \r\n",
                "case when sz.Tipus like 'Pamzió' then 'igen '\r\n",
                "else 'nem' end as 'panzio e'\r\n",
                "FROM Szoba sz left join  Foglalas f on sz.SZOBA_ID=f.SZOBA_FK\r\n",
                "            join Szallashely sza on  sz.SZALLAS_FK= sza.SZALLAS_ID\r\n",
                "WHERE f.FOGLALAS_PK is null\r\n",
                ""
            ],
            "metadata": {
                "azdata_cell_guid": "bea89308-d3bd-4e36-90bf-6ac1548e3397",
                "language": "sql"
            },
            "outputs": [
                {
                    "output_type": "error",
                    "evalue": "Msg 207, Level 16, State 1, Line 2\r\nInvalid column name 'Tipus'.",
                    "ename": "",
                    "traceback": []
                },
                {
                    "output_type": "display_data",
                    "data": {
                        "text/html": "Total execution time: 00:00:00.002"
                    },
                    "metadata": {}
                }
            ],
            "execution_count": 25
        },
        {
            "cell_type": "code",
            "source": [
                "select *\r\n",
                "from Szoba"
            ],
            "metadata": {
                "azdata_cell_guid": "07d669e5-69c2-4e43-b1fe-bc9b2c817142",
                "language": "sql"
            },
            "outputs": [
                {
                    "output_type": "display_data",
                    "data": {
                        "text/html": "(294 rows affected)"
                    },
                    "metadata": {}
                },
                {
                    "output_type": "display_data",
                    "data": {
                        "text/html": "Total execution time: 00:00:00.009"
                    },
                    "metadata": {}
                },
                {
                    "output_type": "execute_result",
                    "metadata": {},
                    "execution_count": 24,
                    "data": {
                        "application/vnd.dataresource+json": {
                            "schema": {
                                "fields": [
                                    {
                                        "name": "SZOBA_ID"
                                    },
                                    {
                                        "name": "SZOBA_SZAMA"
                                    },
                                    {
                                        "name": "FEROHELY"
                                    },
                                    {
                                        "name": "POTAGY"
                                    },
                                    {
                                        "name": "KLIMAS"
                                    },
                                    {
                                        "name": "SZALLAS_FK"
                                    }
                                ]
                            },
                            "data": [
                                {
                                    "SZOBA_ID": "1",
                                    "SZOBA_SZAMA": "1",
                                    "FEROHELY": "3",
                                    "POTAGY": "0",
                                    "KLIMAS": "n",
                                    "SZALLAS_FK": "1"
                                },
                                {
                                    "SZOBA_ID": "2",
                                    "SZOBA_SZAMA": "2",
                                    "FEROHELY": "3",
                                    "POTAGY": "1",
                                    "KLIMAS": "i",
                                    "SZALLAS_FK": "1"
                                },
                                {
                                    "SZOBA_ID": "3",
                                    "SZOBA_SZAMA": "3",
                                    "FEROHELY": "3",
                                    "POTAGY": "1",
                                    "KLIMAS": "i",
                                    "SZALLAS_FK": "1"
                                },
                                {
                                    "SZOBA_ID": "4",
                                    "SZOBA_SZAMA": "4",
                                    "FEROHELY": "2",
                                    "POTAGY": "1",
                                    "KLIMAS": "i",
                                    "SZALLAS_FK": "1"
                                },
                                {
                                    "SZOBA_ID": "5",
                                    "SZOBA_SZAMA": "5",
                                    "FEROHELY": "2",
                                    "POTAGY": "0",
                                    "KLIMAS": "i",
                                    "SZALLAS_FK": "1"
                                },
                                {
                                    "SZOBA_ID": "6",
                                    "SZOBA_SZAMA": "6",
                                    "FEROHELY": "3",
                                    "POTAGY": "0",
                                    "KLIMAS": "i",
                                    "SZALLAS_FK": "1"
                                },
                                {
                                    "SZOBA_ID": "7",
                                    "SZOBA_SZAMA": "7",
                                    "FEROHELY": "2",
                                    "POTAGY": "0",
                                    "KLIMAS": "i",
                                    "SZALLAS_FK": "1"
                                },
                                {
                                    "SZOBA_ID": "8",
                                    "SZOBA_SZAMA": "8",
                                    "FEROHELY": "3",
                                    "POTAGY": "0",
                                    "KLIMAS": "n",
                                    "SZALLAS_FK": "1"
                                },
                                {
                                    "SZOBA_ID": "9",
                                    "SZOBA_SZAMA": "9",
                                    "FEROHELY": "3",
                                    "POTAGY": "1",
                                    "KLIMAS": "i",
                                    "SZALLAS_FK": "1"
                                },
                                {
                                    "SZOBA_ID": "10",
                                    "SZOBA_SZAMA": "10",
                                    "FEROHELY": "3",
                                    "POTAGY": "0",
                                    "KLIMAS": "i",
                                    "SZALLAS_FK": "1"
                                },
                                {
                                    "SZOBA_ID": "11",
                                    "SZOBA_SZAMA": "11",
                                    "FEROHELY": "2",
                                    "POTAGY": "1",
                                    "KLIMAS": "i",
                                    "SZALLAS_FK": "1"
                                },
                                {
                                    "SZOBA_ID": "12",
                                    "SZOBA_SZAMA": "12",
                                    "FEROHELY": "2",
                                    "POTAGY": "1",
                                    "KLIMAS": "i",
                                    "SZALLAS_FK": "1"
                                },
                                {
                                    "SZOBA_ID": "13",
                                    "SZOBA_SZAMA": "1",
                                    "FEROHELY": "3",
                                    "POTAGY": "0",
                                    "KLIMAS": "i",
                                    "SZALLAS_FK": "2"
                                },
                                {
                                    "SZOBA_ID": "14",
                                    "SZOBA_SZAMA": "2",
                                    "FEROHELY": "3",
                                    "POTAGY": "2",
                                    "KLIMAS": "i",
                                    "SZALLAS_FK": "2"
                                },
                                {
                                    "SZOBA_ID": "15",
                                    "SZOBA_SZAMA": "3",
                                    "FEROHELY": "2",
                                    "POTAGY": "1",
                                    "KLIMAS": "i",
                                    "SZALLAS_FK": "2"
                                },
                                {
                                    "SZOBA_ID": "16",
                                    "SZOBA_SZAMA": "4",
                                    "FEROHELY": "3",
                                    "POTAGY": "1",
                                    "KLIMAS": "i",
                                    "SZALLAS_FK": "2"
                                },
                                {
                                    "SZOBA_ID": "17",
                                    "SZOBA_SZAMA": "1",
                                    "FEROHELY": "3",
                                    "POTAGY": "1",
                                    "KLIMAS": "i",
                                    "SZALLAS_FK": "3"
                                },
                                {
                                    "SZOBA_ID": "18",
                                    "SZOBA_SZAMA": "2",
                                    "FEROHELY": "3",
                                    "POTAGY": "2",
                                    "KLIMAS": "n",
                                    "SZALLAS_FK": "3"
                                },
                                {
                                    "SZOBA_ID": "19",
                                    "SZOBA_SZAMA": "3",
                                    "FEROHELY": "2",
                                    "POTAGY": "1",
                                    "KLIMAS": "i",
                                    "SZALLAS_FK": "3"
                                },
                                {
                                    "SZOBA_ID": "20",
                                    "SZOBA_SZAMA": "4",
                                    "FEROHELY": "3",
                                    "POTAGY": "0",
                                    "KLIMAS": "i",
                                    "SZALLAS_FK": "3"
                                },
                                {
                                    "SZOBA_ID": "21",
                                    "SZOBA_SZAMA": "5",
                                    "FEROHELY": "2",
                                    "POTAGY": "1",
                                    "KLIMAS": "i",
                                    "SZALLAS_FK": "3"
                                },
                                {
                                    "SZOBA_ID": "22",
                                    "SZOBA_SZAMA": "6",
                                    "FEROHELY": "3",
                                    "POTAGY": "2",
                                    "KLIMAS": "n",
                                    "SZALLAS_FK": "3"
                                },
                                {
                                    "SZOBA_ID": "23",
                                    "SZOBA_SZAMA": "7",
                                    "FEROHELY": "2",
                                    "POTAGY": "0",
                                    "KLIMAS": "n",
                                    "SZALLAS_FK": "3"
                                },
                                {
                                    "SZOBA_ID": "24",
                                    "SZOBA_SZAMA": "8",
                                    "FEROHELY": "4",
                                    "POTAGY": "1",
                                    "KLIMAS": "i",
                                    "SZALLAS_FK": "3"
                                },
                                {
                                    "SZOBA_ID": "25",
                                    "SZOBA_SZAMA": "1",
                                    "FEROHELY": "3",
                                    "POTAGY": "1",
                                    "KLIMAS": "n",
                                    "SZALLAS_FK": "4"
                                },
                                {
                                    "SZOBA_ID": "26",
                                    "SZOBA_SZAMA": "2",
                                    "FEROHELY": "2",
                                    "POTAGY": "1",
                                    "KLIMAS": "i",
                                    "SZALLAS_FK": "4"
                                },
                                {
                                    "SZOBA_ID": "27",
                                    "SZOBA_SZAMA": "3",
                                    "FEROHELY": "3",
                                    "POTAGY": "1",
                                    "KLIMAS": "n",
                                    "SZALLAS_FK": "4"
                                },
                                {
                                    "SZOBA_ID": "28",
                                    "SZOBA_SZAMA": "4",
                                    "FEROHELY": "2",
                                    "POTAGY": "1",
                                    "KLIMAS": "i",
                                    "SZALLAS_FK": "4"
                                },
                                {
                                    "SZOBA_ID": "29",
                                    "SZOBA_SZAMA": "5",
                                    "FEROHELY": "2",
                                    "POTAGY": "0",
                                    "KLIMAS": "n",
                                    "SZALLAS_FK": "4"
                                },
                                {
                                    "SZOBA_ID": "30",
                                    "SZOBA_SZAMA": "6",
                                    "FEROHELY": "3",
                                    "POTAGY": "1",
                                    "KLIMAS": "i",
                                    "SZALLAS_FK": "4"
                                },
                                {
                                    "SZOBA_ID": "31",
                                    "SZOBA_SZAMA": "7",
                                    "FEROHELY": "3",
                                    "POTAGY": "1",
                                    "KLIMAS": "i",
                                    "SZALLAS_FK": "4"
                                },
                                {
                                    "SZOBA_ID": "32",
                                    "SZOBA_SZAMA": "8",
                                    "FEROHELY": "2",
                                    "POTAGY": "0",
                                    "KLIMAS": "i",
                                    "SZALLAS_FK": "4"
                                },
                                {
                                    "SZOBA_ID": "33",
                                    "SZOBA_SZAMA": "9",
                                    "FEROHELY": "2",
                                    "POTAGY": "2",
                                    "KLIMAS": "i",
                                    "SZALLAS_FK": "4"
                                },
                                {
                                    "SZOBA_ID": "34",
                                    "SZOBA_SZAMA": "10",
                                    "FEROHELY": "3",
                                    "POTAGY": "1",
                                    "KLIMAS": "i",
                                    "SZALLAS_FK": "4"
                                },
                                {
                                    "SZOBA_ID": "35",
                                    "SZOBA_SZAMA": "11",
                                    "FEROHELY": "3",
                                    "POTAGY": "0",
                                    "KLIMAS": "i",
                                    "SZALLAS_FK": "4"
                                },
                                {
                                    "SZOBA_ID": "36",
                                    "SZOBA_SZAMA": "12",
                                    "FEROHELY": "3",
                                    "POTAGY": "2",
                                    "KLIMAS": "i",
                                    "SZALLAS_FK": "4"
                                },
                                {
                                    "SZOBA_ID": "37",
                                    "SZOBA_SZAMA": "13",
                                    "FEROHELY": "2",
                                    "POTAGY": "1",
                                    "KLIMAS": "i",
                                    "SZALLAS_FK": "4"
                                },
                                {
                                    "SZOBA_ID": "38",
                                    "SZOBA_SZAMA": "14",
                                    "FEROHELY": "2",
                                    "POTAGY": "1",
                                    "KLIMAS": "i",
                                    "SZALLAS_FK": "4"
                                },
                                {
                                    "SZOBA_ID": "39",
                                    "SZOBA_SZAMA": "15",
                                    "FEROHELY": "2",
                                    "POTAGY": "0",
                                    "KLIMAS": "i",
                                    "SZALLAS_FK": "4"
                                },
                                {
                                    "SZOBA_ID": "40",
                                    "SZOBA_SZAMA": "1",
                                    "FEROHELY": "3",
                                    "POTAGY": "0",
                                    "KLIMAS": "i",
                                    "SZALLAS_FK": "5"
                                },
                                {
                                    "SZOBA_ID": "41",
                                    "SZOBA_SZAMA": "2",
                                    "FEROHELY": "3",
                                    "POTAGY": "0",
                                    "KLIMAS": "n",
                                    "SZALLAS_FK": "5"
                                },
                                {
                                    "SZOBA_ID": "42",
                                    "SZOBA_SZAMA": "3",
                                    "FEROHELY": "2",
                                    "POTAGY": "1",
                                    "KLIMAS": "i",
                                    "SZALLAS_FK": "5"
                                },
                                {
                                    "SZOBA_ID": "43",
                                    "SZOBA_SZAMA": "4",
                                    "FEROHELY": "3",
                                    "POTAGY": "0",
                                    "KLIMAS": "i",
                                    "SZALLAS_FK": "5"
                                },
                                {
                                    "SZOBA_ID": "44",
                                    "SZOBA_SZAMA": "5",
                                    "FEROHELY": "3",
                                    "POTAGY": "0",
                                    "KLIMAS": "i",
                                    "SZALLAS_FK": "5"
                                },
                                {
                                    "SZOBA_ID": "45",
                                    "SZOBA_SZAMA": "6",
                                    "FEROHELY": "2",
                                    "POTAGY": "0",
                                    "KLIMAS": "n",
                                    "SZALLAS_FK": "5"
                                },
                                {
                                    "SZOBA_ID": "46",
                                    "SZOBA_SZAMA": "7",
                                    "FEROHELY": "3",
                                    "POTAGY": "0",
                                    "KLIMAS": "i",
                                    "SZALLAS_FK": "5"
                                },
                                {
                                    "SZOBA_ID": "47",
                                    "SZOBA_SZAMA": "8",
                                    "FEROHELY": "2",
                                    "POTAGY": "0",
                                    "KLIMAS": "i",
                                    "SZALLAS_FK": "5"
                                },
                                {
                                    "SZOBA_ID": "48",
                                    "SZOBA_SZAMA": "9",
                                    "FEROHELY": "3",
                                    "POTAGY": "0",
                                    "KLIMAS": "i",
                                    "SZALLAS_FK": "5"
                                },
                                {
                                    "SZOBA_ID": "49",
                                    "SZOBA_SZAMA": "10",
                                    "FEROHELY": "3",
                                    "POTAGY": "0",
                                    "KLIMAS": "i",
                                    "SZALLAS_FK": "5"
                                },
                                {
                                    "SZOBA_ID": "50",
                                    "SZOBA_SZAMA": "1",
                                    "FEROHELY": "2",
                                    "POTAGY": "0",
                                    "KLIMAS": "n",
                                    "SZALLAS_FK": "6"
                                },
                                {
                                    "SZOBA_ID": "51",
                                    "SZOBA_SZAMA": "2",
                                    "FEROHELY": "3",
                                    "POTAGY": "1",
                                    "KLIMAS": "i",
                                    "SZALLAS_FK": "6"
                                },
                                {
                                    "SZOBA_ID": "52",
                                    "SZOBA_SZAMA": "3",
                                    "FEROHELY": "2",
                                    "POTAGY": "1",
                                    "KLIMAS": "i",
                                    "SZALLAS_FK": "6"
                                },
                                {
                                    "SZOBA_ID": "53",
                                    "SZOBA_SZAMA": "4",
                                    "FEROHELY": "2",
                                    "POTAGY": "1",
                                    "KLIMAS": "i",
                                    "SZALLAS_FK": "6"
                                },
                                {
                                    "SZOBA_ID": "54",
                                    "SZOBA_SZAMA": "5",
                                    "FEROHELY": "3",
                                    "POTAGY": "0",
                                    "KLIMAS": "n",
                                    "SZALLAS_FK": "6"
                                },
                                {
                                    "SZOBA_ID": "55",
                                    "SZOBA_SZAMA": "6",
                                    "FEROHELY": "2",
                                    "POTAGY": "1",
                                    "KLIMAS": "i",
                                    "SZALLAS_FK": "6"
                                },
                                {
                                    "SZOBA_ID": "56",
                                    "SZOBA_SZAMA": "7",
                                    "FEROHELY": "2",
                                    "POTAGY": "0",
                                    "KLIMAS": "i",
                                    "SZALLAS_FK": "6"
                                },
                                {
                                    "SZOBA_ID": "57",
                                    "SZOBA_SZAMA": "8",
                                    "FEROHELY": "2",
                                    "POTAGY": "0",
                                    "KLIMAS": "n",
                                    "SZALLAS_FK": "6"
                                },
                                {
                                    "SZOBA_ID": "58",
                                    "SZOBA_SZAMA": "9",
                                    "FEROHELY": "2",
                                    "POTAGY": "1",
                                    "KLIMAS": "i",
                                    "SZALLAS_FK": "6"
                                },
                                {
                                    "SZOBA_ID": "59",
                                    "SZOBA_SZAMA": "10",
                                    "FEROHELY": "2",
                                    "POTAGY": "1",
                                    "KLIMAS": "n",
                                    "SZALLAS_FK": "6"
                                },
                                {
                                    "SZOBA_ID": "60",
                                    "SZOBA_SZAMA": "11",
                                    "FEROHELY": "3",
                                    "POTAGY": "0",
                                    "KLIMAS": "i",
                                    "SZALLAS_FK": "6"
                                },
                                {
                                    "SZOBA_ID": "61",
                                    "SZOBA_SZAMA": "12",
                                    "FEROHELY": "3",
                                    "POTAGY": "0",
                                    "KLIMAS": "i",
                                    "SZALLAS_FK": "6"
                                },
                                {
                                    "SZOBA_ID": "62",
                                    "SZOBA_SZAMA": "13",
                                    "FEROHELY": "2",
                                    "POTAGY": "0",
                                    "KLIMAS": "n",
                                    "SZALLAS_FK": "6"
                                },
                                {
                                    "SZOBA_ID": "63",
                                    "SZOBA_SZAMA": "14",
                                    "FEROHELY": "2",
                                    "POTAGY": "0",
                                    "KLIMAS": "n",
                                    "SZALLAS_FK": "6"
                                },
                                {
                                    "SZOBA_ID": "64",
                                    "SZOBA_SZAMA": "15",
                                    "FEROHELY": "2",
                                    "POTAGY": "0",
                                    "KLIMAS": "i",
                                    "SZALLAS_FK": "6"
                                },
                                {
                                    "SZOBA_ID": "65",
                                    "SZOBA_SZAMA": "16",
                                    "FEROHELY": "2",
                                    "POTAGY": "0",
                                    "KLIMAS": "n",
                                    "SZALLAS_FK": "6"
                                },
                                {
                                    "SZOBA_ID": "66",
                                    "SZOBA_SZAMA": "17",
                                    "FEROHELY": "3",
                                    "POTAGY": "0",
                                    "KLIMAS": "n",
                                    "SZALLAS_FK": "6"
                                },
                                {
                                    "SZOBA_ID": "67",
                                    "SZOBA_SZAMA": "18",
                                    "FEROHELY": "2",
                                    "POTAGY": "2",
                                    "KLIMAS": "i",
                                    "SZALLAS_FK": "6"
                                },
                                {
                                    "SZOBA_ID": "68",
                                    "SZOBA_SZAMA": "19",
                                    "FEROHELY": "2",
                                    "POTAGY": "2",
                                    "KLIMAS": "i",
                                    "SZALLAS_FK": "6"
                                },
                                {
                                    "SZOBA_ID": "69",
                                    "SZOBA_SZAMA": "20",
                                    "FEROHELY": "3",
                                    "POTAGY": "1",
                                    "KLIMAS": "n",
                                    "SZALLAS_FK": "6"
                                },
                                {
                                    "SZOBA_ID": "70",
                                    "SZOBA_SZAMA": "21",
                                    "FEROHELY": "2",
                                    "POTAGY": "1",
                                    "KLIMAS": "i",
                                    "SZALLAS_FK": "6"
                                },
                                {
                                    "SZOBA_ID": "71",
                                    "SZOBA_SZAMA": "22",
                                    "FEROHELY": "3",
                                    "POTAGY": "0",
                                    "KLIMAS": "i",
                                    "SZALLAS_FK": "6"
                                },
                                {
                                    "SZOBA_ID": "72",
                                    "SZOBA_SZAMA": "23",
                                    "FEROHELY": "2",
                                    "POTAGY": "0",
                                    "KLIMAS": "n",
                                    "SZALLAS_FK": "6"
                                },
                                {
                                    "SZOBA_ID": "73",
                                    "SZOBA_SZAMA": "24",
                                    "FEROHELY": "2",
                                    "POTAGY": "1",
                                    "KLIMAS": "i",
                                    "SZALLAS_FK": "6"
                                },
                                {
                                    "SZOBA_ID": "74",
                                    "SZOBA_SZAMA": "25",
                                    "FEROHELY": "3",
                                    "POTAGY": "1",
                                    "KLIMAS": "n",
                                    "SZALLAS_FK": "6"
                                },
                                {
                                    "SZOBA_ID": "75",
                                    "SZOBA_SZAMA": "26",
                                    "FEROHELY": "2",
                                    "POTAGY": "1",
                                    "KLIMAS": "n",
                                    "SZALLAS_FK": "6"
                                },
                                {
                                    "SZOBA_ID": "76",
                                    "SZOBA_SZAMA": "27",
                                    "FEROHELY": "2",
                                    "POTAGY": "0",
                                    "KLIMAS": "i",
                                    "SZALLAS_FK": "6"
                                },
                                {
                                    "SZOBA_ID": "77",
                                    "SZOBA_SZAMA": "28",
                                    "FEROHELY": "3",
                                    "POTAGY": "1",
                                    "KLIMAS": "i",
                                    "SZALLAS_FK": "6"
                                },
                                {
                                    "SZOBA_ID": "78",
                                    "SZOBA_SZAMA": "29",
                                    "FEROHELY": "2",
                                    "POTAGY": "1",
                                    "KLIMAS": "n",
                                    "SZALLAS_FK": "6"
                                },
                                {
                                    "SZOBA_ID": "79",
                                    "SZOBA_SZAMA": "30",
                                    "FEROHELY": "3",
                                    "POTAGY": "0",
                                    "KLIMAS": "i",
                                    "SZALLAS_FK": "6"
                                },
                                {
                                    "SZOBA_ID": "80",
                                    "SZOBA_SZAMA": "31",
                                    "FEROHELY": "2",
                                    "POTAGY": "1",
                                    "KLIMAS": "i",
                                    "SZALLAS_FK": "6"
                                },
                                {
                                    "SZOBA_ID": "81",
                                    "SZOBA_SZAMA": "32",
                                    "FEROHELY": "2",
                                    "POTAGY": "0",
                                    "KLIMAS": "i",
                                    "SZALLAS_FK": "6"
                                },
                                {
                                    "SZOBA_ID": "82",
                                    "SZOBA_SZAMA": "33",
                                    "FEROHELY": "3",
                                    "POTAGY": "0",
                                    "KLIMAS": "i",
                                    "SZALLAS_FK": "6"
                                },
                                {
                                    "SZOBA_ID": "83",
                                    "SZOBA_SZAMA": "34",
                                    "FEROHELY": "3",
                                    "POTAGY": "0",
                                    "KLIMAS": "i",
                                    "SZALLAS_FK": "6"
                                },
                                {
                                    "SZOBA_ID": "84",
                                    "SZOBA_SZAMA": "35",
                                    "FEROHELY": "3",
                                    "POTAGY": "0",
                                    "KLIMAS": "i",
                                    "SZALLAS_FK": "6"
                                },
                                {
                                    "SZOBA_ID": "85",
                                    "SZOBA_SZAMA": "1",
                                    "FEROHELY": "2",
                                    "POTAGY": "1",
                                    "KLIMAS": "n",
                                    "SZALLAS_FK": "7"
                                },
                                {
                                    "SZOBA_ID": "86",
                                    "SZOBA_SZAMA": "2",
                                    "FEROHELY": "2",
                                    "POTAGY": "1",
                                    "KLIMAS": "i",
                                    "SZALLAS_FK": "7"
                                },
                                {
                                    "SZOBA_ID": "87",
                                    "SZOBA_SZAMA": "3",
                                    "FEROHELY": "3",
                                    "POTAGY": "0",
                                    "KLIMAS": "i",
                                    "SZALLAS_FK": "7"
                                },
                                {
                                    "SZOBA_ID": "88",
                                    "SZOBA_SZAMA": "4",
                                    "FEROHELY": "3",
                                    "POTAGY": "0",
                                    "KLIMAS": "n",
                                    "SZALLAS_FK": "7"
                                },
                                {
                                    "SZOBA_ID": "89",
                                    "SZOBA_SZAMA": "5",
                                    "FEROHELY": "3",
                                    "POTAGY": "0",
                                    "KLIMAS": "i",
                                    "SZALLAS_FK": "7"
                                },
                                {
                                    "SZOBA_ID": "90",
                                    "SZOBA_SZAMA": "6",
                                    "FEROHELY": "3",
                                    "POTAGY": "0",
                                    "KLIMAS": "i",
                                    "SZALLAS_FK": "7"
                                },
                                {
                                    "SZOBA_ID": "91",
                                    "SZOBA_SZAMA": "1",
                                    "FEROHELY": "2",
                                    "POTAGY": "0",
                                    "KLIMAS": "n",
                                    "SZALLAS_FK": "8"
                                },
                                {
                                    "SZOBA_ID": "92",
                                    "SZOBA_SZAMA": "2",
                                    "FEROHELY": "3",
                                    "POTAGY": "1",
                                    "KLIMAS": "i",
                                    "SZALLAS_FK": "8"
                                },
                                {
                                    "SZOBA_ID": "93",
                                    "SZOBA_SZAMA": "3",
                                    "FEROHELY": "3",
                                    "POTAGY": "2",
                                    "KLIMAS": "i",
                                    "SZALLAS_FK": "8"
                                },
                                {
                                    "SZOBA_ID": "94",
                                    "SZOBA_SZAMA": "4",
                                    "FEROHELY": "2",
                                    "POTAGY": "0",
                                    "KLIMAS": "n",
                                    "SZALLAS_FK": "8"
                                },
                                {
                                    "SZOBA_ID": "95",
                                    "SZOBA_SZAMA": "5",
                                    "FEROHELY": "3",
                                    "POTAGY": "1",
                                    "KLIMAS": "i",
                                    "SZALLAS_FK": "8"
                                },
                                {
                                    "SZOBA_ID": "96",
                                    "SZOBA_SZAMA": "6",
                                    "FEROHELY": "3",
                                    "POTAGY": "0",
                                    "KLIMAS": "n",
                                    "SZALLAS_FK": "8"
                                },
                                {
                                    "SZOBA_ID": "97",
                                    "SZOBA_SZAMA": "7",
                                    "FEROHELY": "3",
                                    "POTAGY": "2",
                                    "KLIMAS": "n",
                                    "SZALLAS_FK": "8"
                                },
                                {
                                    "SZOBA_ID": "98",
                                    "SZOBA_SZAMA": "8",
                                    "FEROHELY": "2",
                                    "POTAGY": "0",
                                    "KLIMAS": "n",
                                    "SZALLAS_FK": "8"
                                },
                                {
                                    "SZOBA_ID": "99",
                                    "SZOBA_SZAMA": "9",
                                    "FEROHELY": "2",
                                    "POTAGY": "0",
                                    "KLIMAS": "n",
                                    "SZALLAS_FK": "8"
                                },
                                {
                                    "SZOBA_ID": "100",
                                    "SZOBA_SZAMA": "10",
                                    "FEROHELY": "2",
                                    "POTAGY": "1",
                                    "KLIMAS": "i",
                                    "SZALLAS_FK": "8"
                                },
                                {
                                    "SZOBA_ID": "101",
                                    "SZOBA_SZAMA": "11",
                                    "FEROHELY": "2",
                                    "POTAGY": "0",
                                    "KLIMAS": "i",
                                    "SZALLAS_FK": "8"
                                },
                                {
                                    "SZOBA_ID": "102",
                                    "SZOBA_SZAMA": "12",
                                    "FEROHELY": "2",
                                    "POTAGY": "1",
                                    "KLIMAS": "i",
                                    "SZALLAS_FK": "8"
                                },
                                {
                                    "SZOBA_ID": "103",
                                    "SZOBA_SZAMA": "13",
                                    "FEROHELY": "2",
                                    "POTAGY": "1",
                                    "KLIMAS": "i",
                                    "SZALLAS_FK": "8"
                                },
                                {
                                    "SZOBA_ID": "104",
                                    "SZOBA_SZAMA": "14",
                                    "FEROHELY": "3",
                                    "POTAGY": "0",
                                    "KLIMAS": "i",
                                    "SZALLAS_FK": "8"
                                },
                                {
                                    "SZOBA_ID": "105",
                                    "SZOBA_SZAMA": "15",
                                    "FEROHELY": "2",
                                    "POTAGY": "0",
                                    "KLIMAS": "i",
                                    "SZALLAS_FK": "8"
                                },
                                {
                                    "SZOBA_ID": "106",
                                    "SZOBA_SZAMA": "16",
                                    "FEROHELY": "2",
                                    "POTAGY": "0",
                                    "KLIMAS": "i",
                                    "SZALLAS_FK": "8"
                                },
                                {
                                    "SZOBA_ID": "107",
                                    "SZOBA_SZAMA": "17",
                                    "FEROHELY": "2",
                                    "POTAGY": "1",
                                    "KLIMAS": "n",
                                    "SZALLAS_FK": "8"
                                },
                                {
                                    "SZOBA_ID": "108",
                                    "SZOBA_SZAMA": "18",
                                    "FEROHELY": "2",
                                    "POTAGY": "0",
                                    "KLIMAS": "i",
                                    "SZALLAS_FK": "8"
                                },
                                {
                                    "SZOBA_ID": "109",
                                    "SZOBA_SZAMA": "19",
                                    "FEROHELY": "2",
                                    "POTAGY": "1",
                                    "KLIMAS": "i",
                                    "SZALLAS_FK": "8"
                                },
                                {
                                    "SZOBA_ID": "110",
                                    "SZOBA_SZAMA": "20",
                                    "FEROHELY": "2",
                                    "POTAGY": "0",
                                    "KLIMAS": "i",
                                    "SZALLAS_FK": "8"
                                },
                                {
                                    "SZOBA_ID": "111",
                                    "SZOBA_SZAMA": "21",
                                    "FEROHELY": "2",
                                    "POTAGY": "1",
                                    "KLIMAS": "i",
                                    "SZALLAS_FK": "8"
                                },
                                {
                                    "SZOBA_ID": "112",
                                    "SZOBA_SZAMA": "22",
                                    "FEROHELY": "3",
                                    "POTAGY": "0",
                                    "KLIMAS": "i",
                                    "SZALLAS_FK": "8"
                                },
                                {
                                    "SZOBA_ID": "113",
                                    "SZOBA_SZAMA": "23",
                                    "FEROHELY": "3",
                                    "POTAGY": "2",
                                    "KLIMAS": "i",
                                    "SZALLAS_FK": "8"
                                },
                                {
                                    "SZOBA_ID": "114",
                                    "SZOBA_SZAMA": "24",
                                    "FEROHELY": "2",
                                    "POTAGY": "1",
                                    "KLIMAS": "n",
                                    "SZALLAS_FK": "8"
                                },
                                {
                                    "SZOBA_ID": "115",
                                    "SZOBA_SZAMA": "25",
                                    "FEROHELY": "3",
                                    "POTAGY": "0",
                                    "KLIMAS": "i",
                                    "SZALLAS_FK": "8"
                                },
                                {
                                    "SZOBA_ID": "116",
                                    "SZOBA_SZAMA": "26",
                                    "FEROHELY": "3",
                                    "POTAGY": "0",
                                    "KLIMAS": "i",
                                    "SZALLAS_FK": "8"
                                },
                                {
                                    "SZOBA_ID": "117",
                                    "SZOBA_SZAMA": "27",
                                    "FEROHELY": "3",
                                    "POTAGY": "1",
                                    "KLIMAS": "i",
                                    "SZALLAS_FK": "8"
                                },
                                {
                                    "SZOBA_ID": "118",
                                    "SZOBA_SZAMA": "28",
                                    "FEROHELY": "2",
                                    "POTAGY": "1",
                                    "KLIMAS": "i",
                                    "SZALLAS_FK": "8"
                                },
                                {
                                    "SZOBA_ID": "119",
                                    "SZOBA_SZAMA": "29",
                                    "FEROHELY": "2",
                                    "POTAGY": "0",
                                    "KLIMAS": "i",
                                    "SZALLAS_FK": "8"
                                },
                                {
                                    "SZOBA_ID": "120",
                                    "SZOBA_SZAMA": "30",
                                    "FEROHELY": "3",
                                    "POTAGY": "1",
                                    "KLIMAS": "i",
                                    "SZALLAS_FK": "8"
                                },
                                {
                                    "SZOBA_ID": "121",
                                    "SZOBA_SZAMA": "31",
                                    "FEROHELY": "2",
                                    "POTAGY": "1",
                                    "KLIMAS": "i",
                                    "SZALLAS_FK": "8"
                                },
                                {
                                    "SZOBA_ID": "122",
                                    "SZOBA_SZAMA": "32",
                                    "FEROHELY": "3",
                                    "POTAGY": "1",
                                    "KLIMAS": "i",
                                    "SZALLAS_FK": "8"
                                },
                                {
                                    "SZOBA_ID": "123",
                                    "SZOBA_SZAMA": "33",
                                    "FEROHELY": "3",
                                    "POTAGY": "0",
                                    "KLIMAS": "n",
                                    "SZALLAS_FK": "8"
                                },
                                {
                                    "SZOBA_ID": "124",
                                    "SZOBA_SZAMA": "34",
                                    "FEROHELY": "3",
                                    "POTAGY": "0",
                                    "KLIMAS": "n",
                                    "SZALLAS_FK": "8"
                                },
                                {
                                    "SZOBA_ID": "125",
                                    "SZOBA_SZAMA": "35",
                                    "FEROHELY": "2",
                                    "POTAGY": "1",
                                    "KLIMAS": "i",
                                    "SZALLAS_FK": "8"
                                },
                                {
                                    "SZOBA_ID": "126",
                                    "SZOBA_SZAMA": "36",
                                    "FEROHELY": "2",
                                    "POTAGY": "1",
                                    "KLIMAS": "n",
                                    "SZALLAS_FK": "8"
                                },
                                {
                                    "SZOBA_ID": "127",
                                    "SZOBA_SZAMA": "37",
                                    "FEROHELY": "2",
                                    "POTAGY": "1",
                                    "KLIMAS": "i",
                                    "SZALLAS_FK": "8"
                                },
                                {
                                    "SZOBA_ID": "128",
                                    "SZOBA_SZAMA": "38",
                                    "FEROHELY": "2",
                                    "POTAGY": "1",
                                    "KLIMAS": "i",
                                    "SZALLAS_FK": "8"
                                },
                                {
                                    "SZOBA_ID": "129",
                                    "SZOBA_SZAMA": "39",
                                    "FEROHELY": "2",
                                    "POTAGY": "1",
                                    "KLIMAS": "i",
                                    "SZALLAS_FK": "8"
                                },
                                {
                                    "SZOBA_ID": "130",
                                    "SZOBA_SZAMA": "1",
                                    "FEROHELY": "2",
                                    "POTAGY": "0",
                                    "KLIMAS": "n",
                                    "SZALLAS_FK": "9"
                                },
                                {
                                    "SZOBA_ID": "131",
                                    "SZOBA_SZAMA": "2",
                                    "FEROHELY": "2",
                                    "POTAGY": "0",
                                    "KLIMAS": "n",
                                    "SZALLAS_FK": "9"
                                },
                                {
                                    "SZOBA_ID": "132",
                                    "SZOBA_SZAMA": "3",
                                    "FEROHELY": "3",
                                    "POTAGY": "0",
                                    "KLIMAS": "i",
                                    "SZALLAS_FK": "9"
                                },
                                {
                                    "SZOBA_ID": "133",
                                    "SZOBA_SZAMA": "4",
                                    "FEROHELY": "3",
                                    "POTAGY": "0",
                                    "KLIMAS": "n",
                                    "SZALLAS_FK": "9"
                                },
                                {
                                    "SZOBA_ID": "134",
                                    "SZOBA_SZAMA": "5",
                                    "FEROHELY": "3",
                                    "POTAGY": "0",
                                    "KLIMAS": "i",
                                    "SZALLAS_FK": "9"
                                },
                                {
                                    "SZOBA_ID": "135",
                                    "SZOBA_SZAMA": "1",
                                    "FEROHELY": "3",
                                    "POTAGY": "0",
                                    "KLIMAS": "i",
                                    "SZALLAS_FK": "10"
                                },
                                {
                                    "SZOBA_ID": "136",
                                    "SZOBA_SZAMA": "2",
                                    "FEROHELY": "2",
                                    "POTAGY": "0",
                                    "KLIMAS": "n",
                                    "SZALLAS_FK": "10"
                                },
                                {
                                    "SZOBA_ID": "137",
                                    "SZOBA_SZAMA": "3",
                                    "FEROHELY": "2",
                                    "POTAGY": "1",
                                    "KLIMAS": "i",
                                    "SZALLAS_FK": "10"
                                },
                                {
                                    "SZOBA_ID": "138",
                                    "SZOBA_SZAMA": "4",
                                    "FEROHELY": "3",
                                    "POTAGY": "1",
                                    "KLIMAS": "i",
                                    "SZALLAS_FK": "10"
                                },
                                {
                                    "SZOBA_ID": "139",
                                    "SZOBA_SZAMA": "5",
                                    "FEROHELY": "2",
                                    "POTAGY": "1",
                                    "KLIMAS": "i",
                                    "SZALLAS_FK": "10"
                                },
                                {
                                    "SZOBA_ID": "140",
                                    "SZOBA_SZAMA": "6",
                                    "FEROHELY": "2",
                                    "POTAGY": "1",
                                    "KLIMAS": "i",
                                    "SZALLAS_FK": "10"
                                },
                                {
                                    "SZOBA_ID": "141",
                                    "SZOBA_SZAMA": "7",
                                    "FEROHELY": "2",
                                    "POTAGY": "0",
                                    "KLIMAS": "n",
                                    "SZALLAS_FK": "10"
                                },
                                {
                                    "SZOBA_ID": "142",
                                    "SZOBA_SZAMA": "8",
                                    "FEROHELY": "3",
                                    "POTAGY": "0",
                                    "KLIMAS": "n",
                                    "SZALLAS_FK": "10"
                                },
                                {
                                    "SZOBA_ID": "143",
                                    "SZOBA_SZAMA": "9",
                                    "FEROHELY": "3",
                                    "POTAGY": "1",
                                    "KLIMAS": "i",
                                    "SZALLAS_FK": "10"
                                },
                                {
                                    "SZOBA_ID": "144",
                                    "SZOBA_SZAMA": "10",
                                    "FEROHELY": "3",
                                    "POTAGY": "1",
                                    "KLIMAS": "n",
                                    "SZALLAS_FK": "10"
                                },
                                {
                                    "SZOBA_ID": "145",
                                    "SZOBA_SZAMA": "11",
                                    "FEROHELY": "2",
                                    "POTAGY": "2",
                                    "KLIMAS": "i",
                                    "SZALLAS_FK": "10"
                                },
                                {
                                    "SZOBA_ID": "146",
                                    "SZOBA_SZAMA": "12",
                                    "FEROHELY": "3",
                                    "POTAGY": "0",
                                    "KLIMAS": "i",
                                    "SZALLAS_FK": "10"
                                },
                                {
                                    "SZOBA_ID": "147",
                                    "SZOBA_SZAMA": "13",
                                    "FEROHELY": "2",
                                    "POTAGY": "0",
                                    "KLIMAS": "i",
                                    "SZALLAS_FK": "10"
                                },
                                {
                                    "SZOBA_ID": "148",
                                    "SZOBA_SZAMA": "14",
                                    "FEROHELY": "2",
                                    "POTAGY": "0",
                                    "KLIMAS": "i",
                                    "SZALLAS_FK": "10"
                                },
                                {
                                    "SZOBA_ID": "149",
                                    "SZOBA_SZAMA": "15",
                                    "FEROHELY": "2",
                                    "POTAGY": "0",
                                    "KLIMAS": "i",
                                    "SZALLAS_FK": "10"
                                },
                                {
                                    "SZOBA_ID": "150",
                                    "SZOBA_SZAMA": "16",
                                    "FEROHELY": "2",
                                    "POTAGY": "1",
                                    "KLIMAS": "i",
                                    "SZALLAS_FK": "10"
                                },
                                {
                                    "SZOBA_ID": "151",
                                    "SZOBA_SZAMA": "17",
                                    "FEROHELY": "2",
                                    "POTAGY": "0",
                                    "KLIMAS": "n",
                                    "SZALLAS_FK": "10"
                                },
                                {
                                    "SZOBA_ID": "152",
                                    "SZOBA_SZAMA": "18",
                                    "FEROHELY": "2",
                                    "POTAGY": "0",
                                    "KLIMAS": "i",
                                    "SZALLAS_FK": "10"
                                },
                                {
                                    "SZOBA_ID": "153",
                                    "SZOBA_SZAMA": "19",
                                    "FEROHELY": "3",
                                    "POTAGY": "0",
                                    "KLIMAS": "n",
                                    "SZALLAS_FK": "10"
                                },
                                {
                                    "SZOBA_ID": "154",
                                    "SZOBA_SZAMA": "20",
                                    "FEROHELY": "2",
                                    "POTAGY": "1",
                                    "KLIMAS": "i",
                                    "SZALLAS_FK": "10"
                                },
                                {
                                    "SZOBA_ID": "155",
                                    "SZOBA_SZAMA": "21",
                                    "FEROHELY": "3",
                                    "POTAGY": "1",
                                    "KLIMAS": "n",
                                    "SZALLAS_FK": "10"
                                },
                                {
                                    "SZOBA_ID": "156",
                                    "SZOBA_SZAMA": "22",
                                    "FEROHELY": "2",
                                    "POTAGY": "2",
                                    "KLIMAS": "i",
                                    "SZALLAS_FK": "10"
                                },
                                {
                                    "SZOBA_ID": "157",
                                    "SZOBA_SZAMA": "23",
                                    "FEROHELY": "2",
                                    "POTAGY": "0",
                                    "KLIMAS": "n",
                                    "SZALLAS_FK": "10"
                                },
                                {
                                    "SZOBA_ID": "158",
                                    "SZOBA_SZAMA": "24",
                                    "FEROHELY": "2",
                                    "POTAGY": "1",
                                    "KLIMAS": "n",
                                    "SZALLAS_FK": "10"
                                },
                                {
                                    "SZOBA_ID": "159",
                                    "SZOBA_SZAMA": "25",
                                    "FEROHELY": "3",
                                    "POTAGY": "1",
                                    "KLIMAS": "n",
                                    "SZALLAS_FK": "10"
                                },
                                {
                                    "SZOBA_ID": "160",
                                    "SZOBA_SZAMA": "1",
                                    "FEROHELY": "3",
                                    "POTAGY": "1",
                                    "KLIMAS": "i",
                                    "SZALLAS_FK": "11"
                                },
                                {
                                    "SZOBA_ID": "161",
                                    "SZOBA_SZAMA": "2",
                                    "FEROHELY": "2",
                                    "POTAGY": "2",
                                    "KLIMAS": "i",
                                    "SZALLAS_FK": "11"
                                },
                                {
                                    "SZOBA_ID": "162",
                                    "SZOBA_SZAMA": "3",
                                    "FEROHELY": "3",
                                    "POTAGY": "0",
                                    "KLIMAS": "n",
                                    "SZALLAS_FK": "11"
                                },
                                {
                                    "SZOBA_ID": "163",
                                    "SZOBA_SZAMA": "4",
                                    "FEROHELY": "2",
                                    "POTAGY": "0",
                                    "KLIMAS": "i",
                                    "SZALLAS_FK": "11"
                                },
                                {
                                    "SZOBA_ID": "164",
                                    "SZOBA_SZAMA": "5",
                                    "FEROHELY": "2",
                                    "POTAGY": "0",
                                    "KLIMAS": "i",
                                    "SZALLAS_FK": "11"
                                },
                                {
                                    "SZOBA_ID": "165",
                                    "SZOBA_SZAMA": "1",
                                    "FEROHELY": "2",
                                    "POTAGY": "0",
                                    "KLIMAS": "n",
                                    "SZALLAS_FK": "12"
                                },
                                {
                                    "SZOBA_ID": "166",
                                    "SZOBA_SZAMA": "2",
                                    "FEROHELY": "2",
                                    "POTAGY": "1",
                                    "KLIMAS": "i",
                                    "SZALLAS_FK": "12"
                                },
                                {
                                    "SZOBA_ID": "167",
                                    "SZOBA_SZAMA": "3",
                                    "FEROHELY": "3",
                                    "POTAGY": "0",
                                    "KLIMAS": "i",
                                    "SZALLAS_FK": "12"
                                },
                                {
                                    "SZOBA_ID": "168",
                                    "SZOBA_SZAMA": "4",
                                    "FEROHELY": "2",
                                    "POTAGY": "2",
                                    "KLIMAS": "i",
                                    "SZALLAS_FK": "12"
                                },
                                {
                                    "SZOBA_ID": "169",
                                    "SZOBA_SZAMA": "5",
                                    "FEROHELY": "2",
                                    "POTAGY": "1",
                                    "KLIMAS": "i",
                                    "SZALLAS_FK": "12"
                                },
                                {
                                    "SZOBA_ID": "170",
                                    "SZOBA_SZAMA": "6",
                                    "FEROHELY": "2",
                                    "POTAGY": "0",
                                    "KLIMAS": "i",
                                    "SZALLAS_FK": "12"
                                },
                                {
                                    "SZOBA_ID": "171",
                                    "SZOBA_SZAMA": "7",
                                    "FEROHELY": "2",
                                    "POTAGY": "1",
                                    "KLIMAS": "i",
                                    "SZALLAS_FK": "12"
                                },
                                {
                                    "SZOBA_ID": "172",
                                    "SZOBA_SZAMA": "8",
                                    "FEROHELY": "2",
                                    "POTAGY": "2",
                                    "KLIMAS": "n",
                                    "SZALLAS_FK": "12"
                                },
                                {
                                    "SZOBA_ID": "173",
                                    "SZOBA_SZAMA": "9",
                                    "FEROHELY": "2",
                                    "POTAGY": "0",
                                    "KLIMAS": "i",
                                    "SZALLAS_FK": "12"
                                },
                                {
                                    "SZOBA_ID": "174",
                                    "SZOBA_SZAMA": "10",
                                    "FEROHELY": "2",
                                    "POTAGY": "0",
                                    "KLIMAS": "i",
                                    "SZALLAS_FK": "12"
                                },
                                {
                                    "SZOBA_ID": "175",
                                    "SZOBA_SZAMA": "11",
                                    "FEROHELY": "2",
                                    "POTAGY": "0",
                                    "KLIMAS": "i",
                                    "SZALLAS_FK": "12"
                                },
                                {
                                    "SZOBA_ID": "176",
                                    "SZOBA_SZAMA": "12",
                                    "FEROHELY": "3",
                                    "POTAGY": "1",
                                    "KLIMAS": "i",
                                    "SZALLAS_FK": "12"
                                },
                                {
                                    "SZOBA_ID": "177",
                                    "SZOBA_SZAMA": "13",
                                    "FEROHELY": "3",
                                    "POTAGY": "2",
                                    "KLIMAS": "i",
                                    "SZALLAS_FK": "12"
                                },
                                {
                                    "SZOBA_ID": "178",
                                    "SZOBA_SZAMA": "14",
                                    "FEROHELY": "3",
                                    "POTAGY": "0",
                                    "KLIMAS": "i",
                                    "SZALLAS_FK": "12"
                                },
                                {
                                    "SZOBA_ID": "179",
                                    "SZOBA_SZAMA": "15",
                                    "FEROHELY": "3",
                                    "POTAGY": "2",
                                    "KLIMAS": "i",
                                    "SZALLAS_FK": "12"
                                },
                                {
                                    "SZOBA_ID": "180",
                                    "SZOBA_SZAMA": "16",
                                    "FEROHELY": "2",
                                    "POTAGY": "2",
                                    "KLIMAS": "i",
                                    "SZALLAS_FK": "12"
                                },
                                {
                                    "SZOBA_ID": "181",
                                    "SZOBA_SZAMA": "17",
                                    "FEROHELY": "3",
                                    "POTAGY": "0",
                                    "KLIMAS": "i",
                                    "SZALLAS_FK": "12"
                                },
                                {
                                    "SZOBA_ID": "182",
                                    "SZOBA_SZAMA": "18",
                                    "FEROHELY": "2",
                                    "POTAGY": "0",
                                    "KLIMAS": "n",
                                    "SZALLAS_FK": "12"
                                },
                                {
                                    "SZOBA_ID": "183",
                                    "SZOBA_SZAMA": "19",
                                    "FEROHELY": "3",
                                    "POTAGY": "0",
                                    "KLIMAS": "i",
                                    "SZALLAS_FK": "12"
                                },
                                {
                                    "SZOBA_ID": "184",
                                    "SZOBA_SZAMA": "20",
                                    "FEROHELY": "2",
                                    "POTAGY": "0",
                                    "KLIMAS": "n",
                                    "SZALLAS_FK": "12"
                                },
                                {
                                    "SZOBA_ID": "185",
                                    "SZOBA_SZAMA": "21",
                                    "FEROHELY": "3",
                                    "POTAGY": "0",
                                    "KLIMAS": "i",
                                    "SZALLAS_FK": "12"
                                },
                                {
                                    "SZOBA_ID": "186",
                                    "SZOBA_SZAMA": "22",
                                    "FEROHELY": "2",
                                    "POTAGY": "2",
                                    "KLIMAS": "i",
                                    "SZALLAS_FK": "12"
                                },
                                {
                                    "SZOBA_ID": "187",
                                    "SZOBA_SZAMA": "23",
                                    "FEROHELY": "3",
                                    "POTAGY": "1",
                                    "KLIMAS": "i",
                                    "SZALLAS_FK": "12"
                                },
                                {
                                    "SZOBA_ID": "188",
                                    "SZOBA_SZAMA": "24",
                                    "FEROHELY": "3",
                                    "POTAGY": "0",
                                    "KLIMAS": "i",
                                    "SZALLAS_FK": "12"
                                },
                                {
                                    "SZOBA_ID": "189",
                                    "SZOBA_SZAMA": "25",
                                    "FEROHELY": "2",
                                    "POTAGY": "2",
                                    "KLIMAS": "i",
                                    "SZALLAS_FK": "12"
                                },
                                {
                                    "SZOBA_ID": "190",
                                    "SZOBA_SZAMA": "26",
                                    "FEROHELY": "2",
                                    "POTAGY": "0",
                                    "KLIMAS": "i",
                                    "SZALLAS_FK": "12"
                                },
                                {
                                    "SZOBA_ID": "191",
                                    "SZOBA_SZAMA": "27",
                                    "FEROHELY": "2",
                                    "POTAGY": "1",
                                    "KLIMAS": "i",
                                    "SZALLAS_FK": "12"
                                },
                                {
                                    "SZOBA_ID": "192",
                                    "SZOBA_SZAMA": "28",
                                    "FEROHELY": "2",
                                    "POTAGY": "1",
                                    "KLIMAS": "i",
                                    "SZALLAS_FK": "12"
                                },
                                {
                                    "SZOBA_ID": "193",
                                    "SZOBA_SZAMA": "29",
                                    "FEROHELY": "3",
                                    "POTAGY": "2",
                                    "KLIMAS": "n",
                                    "SZALLAS_FK": "12"
                                },
                                {
                                    "SZOBA_ID": "194",
                                    "SZOBA_SZAMA": "30",
                                    "FEROHELY": "2",
                                    "POTAGY": "1",
                                    "KLIMAS": "i",
                                    "SZALLAS_FK": "12"
                                },
                                {
                                    "SZOBA_ID": "195",
                                    "SZOBA_SZAMA": "31",
                                    "FEROHELY": "2",
                                    "POTAGY": "0",
                                    "KLIMAS": "i",
                                    "SZALLAS_FK": "12"
                                },
                                {
                                    "SZOBA_ID": "196",
                                    "SZOBA_SZAMA": "32",
                                    "FEROHELY": "2",
                                    "POTAGY": "1",
                                    "KLIMAS": "i",
                                    "SZALLAS_FK": "12"
                                },
                                {
                                    "SZOBA_ID": "197",
                                    "SZOBA_SZAMA": "33",
                                    "FEROHELY": "3",
                                    "POTAGY": "0",
                                    "KLIMAS": "i",
                                    "SZALLAS_FK": "12"
                                },
                                {
                                    "SZOBA_ID": "198",
                                    "SZOBA_SZAMA": "34",
                                    "FEROHELY": "3",
                                    "POTAGY": "0",
                                    "KLIMAS": "i",
                                    "SZALLAS_FK": "12"
                                },
                                {
                                    "SZOBA_ID": "199",
                                    "SZOBA_SZAMA": "35",
                                    "FEROHELY": "3",
                                    "POTAGY": "2",
                                    "KLIMAS": "i",
                                    "SZALLAS_FK": "12"
                                },
                                {
                                    "SZOBA_ID": "200",
                                    "SZOBA_SZAMA": "36",
                                    "FEROHELY": "2",
                                    "POTAGY": "0",
                                    "KLIMAS": "i",
                                    "SZALLAS_FK": "12"
                                },
                                {
                                    "SZOBA_ID": "201",
                                    "SZOBA_SZAMA": "37",
                                    "FEROHELY": "3",
                                    "POTAGY": "1",
                                    "KLIMAS": "n",
                                    "SZALLAS_FK": "12"
                                },
                                {
                                    "SZOBA_ID": "202",
                                    "SZOBA_SZAMA": "38",
                                    "FEROHELY": "3",
                                    "POTAGY": "1",
                                    "KLIMAS": "i",
                                    "SZALLAS_FK": "12"
                                },
                                {
                                    "SZOBA_ID": "203",
                                    "SZOBA_SZAMA": "39",
                                    "FEROHELY": "3",
                                    "POTAGY": "0",
                                    "KLIMAS": "i",
                                    "SZALLAS_FK": "12"
                                },
                                {
                                    "SZOBA_ID": "204",
                                    "SZOBA_SZAMA": "40",
                                    "FEROHELY": "3",
                                    "POTAGY": "1",
                                    "KLIMAS": "i",
                                    "SZALLAS_FK": "12"
                                },
                                {
                                    "SZOBA_ID": "205",
                                    "SZOBA_SZAMA": "41",
                                    "FEROHELY": "3",
                                    "POTAGY": "0",
                                    "KLIMAS": "i",
                                    "SZALLAS_FK": "12"
                                },
                                {
                                    "SZOBA_ID": "206",
                                    "SZOBA_SZAMA": "42",
                                    "FEROHELY": "2",
                                    "POTAGY": "1",
                                    "KLIMAS": "i",
                                    "SZALLAS_FK": "12"
                                },
                                {
                                    "SZOBA_ID": "207",
                                    "SZOBA_SZAMA": "43",
                                    "FEROHELY": "2",
                                    "POTAGY": "1",
                                    "KLIMAS": "i",
                                    "SZALLAS_FK": "12"
                                },
                                {
                                    "SZOBA_ID": "208",
                                    "SZOBA_SZAMA": "44",
                                    "FEROHELY": "2",
                                    "POTAGY": "1",
                                    "KLIMAS": "i",
                                    "SZALLAS_FK": "12"
                                },
                                {
                                    "SZOBA_ID": "209",
                                    "SZOBA_SZAMA": "45",
                                    "FEROHELY": "3",
                                    "POTAGY": "2",
                                    "KLIMAS": "n",
                                    "SZALLAS_FK": "12"
                                },
                                {
                                    "SZOBA_ID": "210",
                                    "SZOBA_SZAMA": "46",
                                    "FEROHELY": "2",
                                    "POTAGY": "0",
                                    "KLIMAS": "i",
                                    "SZALLAS_FK": "12"
                                },
                                {
                                    "SZOBA_ID": "211",
                                    "SZOBA_SZAMA": "47",
                                    "FEROHELY": "2",
                                    "POTAGY": "1",
                                    "KLIMAS": "i",
                                    "SZALLAS_FK": "12"
                                },
                                {
                                    "SZOBA_ID": "212",
                                    "SZOBA_SZAMA": "48",
                                    "FEROHELY": "3",
                                    "POTAGY": "0",
                                    "KLIMAS": "n",
                                    "SZALLAS_FK": "12"
                                },
                                {
                                    "SZOBA_ID": "213",
                                    "SZOBA_SZAMA": "49",
                                    "FEROHELY": "3",
                                    "POTAGY": "0",
                                    "KLIMAS": "i",
                                    "SZALLAS_FK": "12"
                                },
                                {
                                    "SZOBA_ID": "214",
                                    "SZOBA_SZAMA": "50",
                                    "FEROHELY": "3",
                                    "POTAGY": "1",
                                    "KLIMAS": "i",
                                    "SZALLAS_FK": "12"
                                },
                                {
                                    "SZOBA_ID": "215",
                                    "SZOBA_SZAMA": "1",
                                    "FEROHELY": "2",
                                    "POTAGY": "1",
                                    "KLIMAS": "i",
                                    "SZALLAS_FK": "13"
                                },
                                {
                                    "SZOBA_ID": "216",
                                    "SZOBA_SZAMA": "2",
                                    "FEROHELY": "3",
                                    "POTAGY": "1",
                                    "KLIMAS": "i",
                                    "SZALLAS_FK": "13"
                                },
                                {
                                    "SZOBA_ID": "217",
                                    "SZOBA_SZAMA": "3",
                                    "FEROHELY": "2",
                                    "POTAGY": "1",
                                    "KLIMAS": "n",
                                    "SZALLAS_FK": "13"
                                },
                                {
                                    "SZOBA_ID": "218",
                                    "SZOBA_SZAMA": "4",
                                    "FEROHELY": "3",
                                    "POTAGY": "0",
                                    "KLIMAS": "i",
                                    "SZALLAS_FK": "13"
                                },
                                {
                                    "SZOBA_ID": "219",
                                    "SZOBA_SZAMA": "5",
                                    "FEROHELY": "2",
                                    "POTAGY": "0",
                                    "KLIMAS": "n",
                                    "SZALLAS_FK": "13"
                                },
                                {
                                    "SZOBA_ID": "220",
                                    "SZOBA_SZAMA": "6",
                                    "FEROHELY": "3",
                                    "POTAGY": "0",
                                    "KLIMAS": "i",
                                    "SZALLAS_FK": "13"
                                },
                                {
                                    "SZOBA_ID": "221",
                                    "SZOBA_SZAMA": "7",
                                    "FEROHELY": "3",
                                    "POTAGY": "0",
                                    "KLIMAS": "i",
                                    "SZALLAS_FK": "13"
                                },
                                {
                                    "SZOBA_ID": "222",
                                    "SZOBA_SZAMA": "8",
                                    "FEROHELY": "2",
                                    "POTAGY": "0",
                                    "KLIMAS": "n",
                                    "SZALLAS_FK": "13"
                                },
                                {
                                    "SZOBA_ID": "223",
                                    "SZOBA_SZAMA": "9",
                                    "FEROHELY": "2",
                                    "POTAGY": "1",
                                    "KLIMAS": "i",
                                    "SZALLAS_FK": "13"
                                },
                                {
                                    "SZOBA_ID": "224",
                                    "SZOBA_SZAMA": "10",
                                    "FEROHELY": "2",
                                    "POTAGY": "0",
                                    "KLIMAS": "i",
                                    "SZALLAS_FK": "13"
                                },
                                {
                                    "SZOBA_ID": "225",
                                    "SZOBA_SZAMA": "11",
                                    "FEROHELY": "2",
                                    "POTAGY": "1",
                                    "KLIMAS": "i",
                                    "SZALLAS_FK": "13"
                                },
                                {
                                    "SZOBA_ID": "226",
                                    "SZOBA_SZAMA": "12",
                                    "FEROHELY": "3",
                                    "POTAGY": "1",
                                    "KLIMAS": "n",
                                    "SZALLAS_FK": "13"
                                },
                                {
                                    "SZOBA_ID": "227",
                                    "SZOBA_SZAMA": "1",
                                    "FEROHELY": "2",
                                    "POTAGY": "1",
                                    "KLIMAS": "i",
                                    "SZALLAS_FK": "14"
                                },
                                {
                                    "SZOBA_ID": "228",
                                    "SZOBA_SZAMA": "2",
                                    "FEROHELY": "3",
                                    "POTAGY": "0",
                                    "KLIMAS": "i",
                                    "SZALLAS_FK": "14"
                                },
                                {
                                    "SZOBA_ID": "229",
                                    "SZOBA_SZAMA": "3",
                                    "FEROHELY": "2",
                                    "POTAGY": "0",
                                    "KLIMAS": "i",
                                    "SZALLAS_FK": "14"
                                },
                                {
                                    "SZOBA_ID": "230",
                                    "SZOBA_SZAMA": "4",
                                    "FEROHELY": "3",
                                    "POTAGY": "2",
                                    "KLIMAS": "i",
                                    "SZALLAS_FK": "14"
                                },
                                {
                                    "SZOBA_ID": "231",
                                    "SZOBA_SZAMA": "1",
                                    "FEROHELY": "2",
                                    "POTAGY": "0",
                                    "KLIMAS": "i",
                                    "SZALLAS_FK": "15"
                                },
                                {
                                    "SZOBA_ID": "232",
                                    "SZOBA_SZAMA": "2",
                                    "FEROHELY": "2",
                                    "POTAGY": "0",
                                    "KLIMAS": "i",
                                    "SZALLAS_FK": "15"
                                },
                                {
                                    "SZOBA_ID": "233",
                                    "SZOBA_SZAMA": "3",
                                    "FEROHELY": "3",
                                    "POTAGY": "0",
                                    "KLIMAS": "n",
                                    "SZALLAS_FK": "15"
                                },
                                {
                                    "SZOBA_ID": "234",
                                    "SZOBA_SZAMA": "4",
                                    "FEROHELY": "3",
                                    "POTAGY": "1",
                                    "KLIMAS": "i",
                                    "SZALLAS_FK": "15"
                                },
                                {
                                    "SZOBA_ID": "235",
                                    "SZOBA_SZAMA": "5",
                                    "FEROHELY": "3",
                                    "POTAGY": "0",
                                    "KLIMAS": "i",
                                    "SZALLAS_FK": "15"
                                },
                                {
                                    "SZOBA_ID": "236",
                                    "SZOBA_SZAMA": "6",
                                    "FEROHELY": "3",
                                    "POTAGY": "1",
                                    "KLIMAS": "n",
                                    "SZALLAS_FK": "15"
                                },
                                {
                                    "SZOBA_ID": "237",
                                    "SZOBA_SZAMA": "7",
                                    "FEROHELY": "2",
                                    "POTAGY": "2",
                                    "KLIMAS": "n",
                                    "SZALLAS_FK": "15"
                                },
                                {
                                    "SZOBA_ID": "238",
                                    "SZOBA_SZAMA": "8",
                                    "FEROHELY": "3",
                                    "POTAGY": "1",
                                    "KLIMAS": "i",
                                    "SZALLAS_FK": "15"
                                },
                                {
                                    "SZOBA_ID": "239",
                                    "SZOBA_SZAMA": "9",
                                    "FEROHELY": "2",
                                    "POTAGY": "2",
                                    "KLIMAS": "i",
                                    "SZALLAS_FK": "15"
                                },
                                {
                                    "SZOBA_ID": "240",
                                    "SZOBA_SZAMA": "10",
                                    "FEROHELY": "3",
                                    "POTAGY": "0",
                                    "KLIMAS": "i",
                                    "SZALLAS_FK": "15"
                                },
                                {
                                    "SZOBA_ID": "241",
                                    "SZOBA_SZAMA": "11",
                                    "FEROHELY": "2",
                                    "POTAGY": "0",
                                    "KLIMAS": "i",
                                    "SZALLAS_FK": "15"
                                },
                                {
                                    "SZOBA_ID": "242",
                                    "SZOBA_SZAMA": "12",
                                    "FEROHELY": "2",
                                    "POTAGY": "1",
                                    "KLIMAS": "i",
                                    "SZALLAS_FK": "15"
                                },
                                {
                                    "SZOBA_ID": "243",
                                    "SZOBA_SZAMA": "1",
                                    "FEROHELY": "2",
                                    "POTAGY": "0",
                                    "KLIMAS": "i",
                                    "SZALLAS_FK": "16"
                                },
                                {
                                    "SZOBA_ID": "244",
                                    "SZOBA_SZAMA": "2",
                                    "FEROHELY": "2",
                                    "POTAGY": "1",
                                    "KLIMAS": "i",
                                    "SZALLAS_FK": "16"
                                },
                                {
                                    "SZOBA_ID": "245",
                                    "SZOBA_SZAMA": "3",
                                    "FEROHELY": "2",
                                    "POTAGY": "1",
                                    "KLIMAS": "i",
                                    "SZALLAS_FK": "16"
                                },
                                {
                                    "SZOBA_ID": "246",
                                    "SZOBA_SZAMA": "4",
                                    "FEROHELY": "2",
                                    "POTAGY": "0",
                                    "KLIMAS": "i",
                                    "SZALLAS_FK": "16"
                                },
                                {
                                    "SZOBA_ID": "247",
                                    "SZOBA_SZAMA": "5",
                                    "FEROHELY": "2",
                                    "POTAGY": "0",
                                    "KLIMAS": "i",
                                    "SZALLAS_FK": "16"
                                },
                                {
                                    "SZOBA_ID": "248",
                                    "SZOBA_SZAMA": "6",
                                    "FEROHELY": "2",
                                    "POTAGY": "2",
                                    "KLIMAS": "i",
                                    "SZALLAS_FK": "16"
                                },
                                {
                                    "SZOBA_ID": "249",
                                    "SZOBA_SZAMA": "7",
                                    "FEROHELY": "2",
                                    "POTAGY": "1",
                                    "KLIMAS": "n",
                                    "SZALLAS_FK": "16"
                                },
                                {
                                    "SZOBA_ID": "250",
                                    "SZOBA_SZAMA": "8",
                                    "FEROHELY": "3",
                                    "POTAGY": "1",
                                    "KLIMAS": "n",
                                    "SZALLAS_FK": "16"
                                },
                                {
                                    "SZOBA_ID": "251",
                                    "SZOBA_SZAMA": "9",
                                    "FEROHELY": "3",
                                    "POTAGY": "0",
                                    "KLIMAS": "n",
                                    "SZALLAS_FK": "16"
                                },
                                {
                                    "SZOBA_ID": "252",
                                    "SZOBA_SZAMA": "10",
                                    "FEROHELY": "3",
                                    "POTAGY": "1",
                                    "KLIMAS": "i",
                                    "SZALLAS_FK": "16"
                                },
                                {
                                    "SZOBA_ID": "253",
                                    "SZOBA_SZAMA": "11",
                                    "FEROHELY": "2",
                                    "POTAGY": "0",
                                    "KLIMAS": "i",
                                    "SZALLAS_FK": "16"
                                },
                                {
                                    "SZOBA_ID": "254",
                                    "SZOBA_SZAMA": "12",
                                    "FEROHELY": "2",
                                    "POTAGY": "0",
                                    "KLIMAS": "i",
                                    "SZALLAS_FK": "16"
                                },
                                {
                                    "SZOBA_ID": "255",
                                    "SZOBA_SZAMA": "13",
                                    "FEROHELY": "3",
                                    "POTAGY": "0",
                                    "KLIMAS": "n",
                                    "SZALLAS_FK": "16"
                                },
                                {
                                    "SZOBA_ID": "256",
                                    "SZOBA_SZAMA": "14",
                                    "FEROHELY": "3",
                                    "POTAGY": "1",
                                    "KLIMAS": "i",
                                    "SZALLAS_FK": "16"
                                },
                                {
                                    "SZOBA_ID": "257",
                                    "SZOBA_SZAMA": "15",
                                    "FEROHELY": "2",
                                    "POTAGY": "0",
                                    "KLIMAS": "i",
                                    "SZALLAS_FK": "16"
                                },
                                {
                                    "SZOBA_ID": "258",
                                    "SZOBA_SZAMA": "16",
                                    "FEROHELY": "2",
                                    "POTAGY": "0",
                                    "KLIMAS": "i",
                                    "SZALLAS_FK": "16"
                                },
                                {
                                    "SZOBA_ID": "259",
                                    "SZOBA_SZAMA": "17",
                                    "FEROHELY": "2",
                                    "POTAGY": "0",
                                    "KLIMAS": "i",
                                    "SZALLAS_FK": "16"
                                },
                                {
                                    "SZOBA_ID": "260",
                                    "SZOBA_SZAMA": "18",
                                    "FEROHELY": "2",
                                    "POTAGY": "0",
                                    "KLIMAS": "i",
                                    "SZALLAS_FK": "16"
                                },
                                {
                                    "SZOBA_ID": "261",
                                    "SZOBA_SZAMA": "19",
                                    "FEROHELY": "1",
                                    "POTAGY": "1",
                                    "KLIMAS": "n",
                                    "SZALLAS_FK": "16"
                                },
                                {
                                    "SZOBA_ID": "262",
                                    "SZOBA_SZAMA": "20",
                                    "FEROHELY": "1",
                                    "POTAGY": "0",
                                    "KLIMAS": "n",
                                    "SZALLAS_FK": "16"
                                },
                                {
                                    "SZOBA_ID": "263",
                                    "SZOBA_SZAMA": "1",
                                    "FEROHELY": "2",
                                    "POTAGY": "2",
                                    "KLIMAS": "i",
                                    "SZALLAS_FK": "17"
                                },
                                {
                                    "SZOBA_ID": "264",
                                    "SZOBA_SZAMA": "2",
                                    "FEROHELY": "3",
                                    "POTAGY": "0",
                                    "KLIMAS": "i",
                                    "SZALLAS_FK": "17"
                                },
                                {
                                    "SZOBA_ID": "265",
                                    "SZOBA_SZAMA": "3",
                                    "FEROHELY": "3",
                                    "POTAGY": "0",
                                    "KLIMAS": "i",
                                    "SZALLAS_FK": "17"
                                },
                                {
                                    "SZOBA_ID": "266",
                                    "SZOBA_SZAMA": "4",
                                    "FEROHELY": "2",
                                    "POTAGY": "1",
                                    "KLIMAS": "i",
                                    "SZALLAS_FK": "17"
                                },
                                {
                                    "SZOBA_ID": "267",
                                    "SZOBA_SZAMA": "5",
                                    "FEROHELY": "2",
                                    "POTAGY": "1",
                                    "KLIMAS": "n",
                                    "SZALLAS_FK": "17"
                                },
                                {
                                    "SZOBA_ID": "268",
                                    "SZOBA_SZAMA": "6",
                                    "FEROHELY": "2",
                                    "POTAGY": "2",
                                    "KLIMAS": "n",
                                    "SZALLAS_FK": "17"
                                },
                                {
                                    "SZOBA_ID": "269",
                                    "SZOBA_SZAMA": "7",
                                    "FEROHELY": "2",
                                    "POTAGY": "1",
                                    "KLIMAS": "i",
                                    "SZALLAS_FK": "17"
                                },
                                {
                                    "SZOBA_ID": "270",
                                    "SZOBA_SZAMA": "8",
                                    "FEROHELY": "3",
                                    "POTAGY": "0",
                                    "KLIMAS": "n",
                                    "SZALLAS_FK": "17"
                                },
                                {
                                    "SZOBA_ID": "271",
                                    "SZOBA_SZAMA": "9",
                                    "FEROHELY": "3",
                                    "POTAGY": "0",
                                    "KLIMAS": "i",
                                    "SZALLAS_FK": "17"
                                },
                                {
                                    "SZOBA_ID": "272",
                                    "SZOBA_SZAMA": "10",
                                    "FEROHELY": "3",
                                    "POTAGY": "0",
                                    "KLIMAS": "i",
                                    "SZALLAS_FK": "17"
                                },
                                {
                                    "SZOBA_ID": "273",
                                    "SZOBA_SZAMA": "11",
                                    "FEROHELY": "2",
                                    "POTAGY": "1",
                                    "KLIMAS": "i",
                                    "SZALLAS_FK": "17"
                                },
                                {
                                    "SZOBA_ID": "274",
                                    "SZOBA_SZAMA": "12",
                                    "FEROHELY": "3",
                                    "POTAGY": "1",
                                    "KLIMAS": "i",
                                    "SZALLAS_FK": "17"
                                },
                                {
                                    "SZOBA_ID": "275",
                                    "SZOBA_SZAMA": "13",
                                    "FEROHELY": "2",
                                    "POTAGY": "1",
                                    "KLIMAS": "n",
                                    "SZALLAS_FK": "17"
                                },
                                {
                                    "SZOBA_ID": "276",
                                    "SZOBA_SZAMA": "14",
                                    "FEROHELY": "2",
                                    "POTAGY": "0",
                                    "KLIMAS": "i",
                                    "SZALLAS_FK": "17"
                                },
                                {
                                    "SZOBA_ID": "277",
                                    "SZOBA_SZAMA": "15",
                                    "FEROHELY": "2",
                                    "POTAGY": "0",
                                    "KLIMAS": "i",
                                    "SZALLAS_FK": "17"
                                },
                                {
                                    "SZOBA_ID": "278",
                                    "SZOBA_SZAMA": "1",
                                    "FEROHELY": "3",
                                    "POTAGY": "1",
                                    "KLIMAS": "i",
                                    "SZALLAS_FK": "18"
                                },
                                {
                                    "SZOBA_ID": "279",
                                    "SZOBA_SZAMA": "2",
                                    "FEROHELY": "2",
                                    "POTAGY": "1",
                                    "KLIMAS": "i",
                                    "SZALLAS_FK": "18"
                                },
                                {
                                    "SZOBA_ID": "280",
                                    "SZOBA_SZAMA": "3",
                                    "FEROHELY": "3",
                                    "POTAGY": "0",
                                    "KLIMAS": "n",
                                    "SZALLAS_FK": "18"
                                },
                                {
                                    "SZOBA_ID": "281",
                                    "SZOBA_SZAMA": "1",
                                    "FEROHELY": "2",
                                    "POTAGY": "0",
                                    "KLIMAS": "n",
                                    "SZALLAS_FK": "19"
                                },
                                {
                                    "SZOBA_ID": "282",
                                    "SZOBA_SZAMA": "2",
                                    "FEROHELY": "2",
                                    "POTAGY": "0",
                                    "KLIMAS": "i",
                                    "SZALLAS_FK": "19"
                                },
                                {
                                    "SZOBA_ID": "283",
                                    "SZOBA_SZAMA": "3",
                                    "FEROHELY": "2",
                                    "POTAGY": "0",
                                    "KLIMAS": "n",
                                    "SZALLAS_FK": "19"
                                },
                                {
                                    "SZOBA_ID": "284",
                                    "SZOBA_SZAMA": "4",
                                    "FEROHELY": "2",
                                    "POTAGY": "2",
                                    "KLIMAS": "i",
                                    "SZALLAS_FK": "19"
                                },
                                {
                                    "SZOBA_ID": "285",
                                    "SZOBA_SZAMA": "1",
                                    "FEROHELY": "2",
                                    "POTAGY": "1",
                                    "KLIMAS": "i",
                                    "SZALLAS_FK": "20"
                                },
                                {
                                    "SZOBA_ID": "286",
                                    "SZOBA_SZAMA": "2",
                                    "FEROHELY": "3",
                                    "POTAGY": "0",
                                    "KLIMAS": "i",
                                    "SZALLAS_FK": "20"
                                },
                                {
                                    "SZOBA_ID": "287",
                                    "SZOBA_SZAMA": "3",
                                    "FEROHELY": "3",
                                    "POTAGY": "0",
                                    "KLIMAS": "n",
                                    "SZALLAS_FK": "20"
                                },
                                {
                                    "SZOBA_ID": "288",
                                    "SZOBA_SZAMA": "4",
                                    "FEROHELY": "2",
                                    "POTAGY": "1",
                                    "KLIMAS": "i",
                                    "SZALLAS_FK": "20"
                                },
                                {
                                    "SZOBA_ID": "289",
                                    "SZOBA_SZAMA": "5",
                                    "FEROHELY": "3",
                                    "POTAGY": "0",
                                    "KLIMAS": "i",
                                    "SZALLAS_FK": "20"
                                },
                                {
                                    "SZOBA_ID": "290",
                                    "SZOBA_SZAMA": "6",
                                    "FEROHELY": "2",
                                    "POTAGY": "1",
                                    "KLIMAS": "i",
                                    "SZALLAS_FK": "20"
                                },
                                {
                                    "SZOBA_ID": "291",
                                    "SZOBA_SZAMA": "7",
                                    "FEROHELY": "2",
                                    "POTAGY": "1",
                                    "KLIMAS": "i",
                                    "SZALLAS_FK": "20"
                                },
                                {
                                    "SZOBA_ID": "292",
                                    "SZOBA_SZAMA": "8",
                                    "FEROHELY": "2",
                                    "POTAGY": "1",
                                    "KLIMAS": "i",
                                    "SZALLAS_FK": "20"
                                },
                                {
                                    "SZOBA_ID": "293",
                                    "SZOBA_SZAMA": "9",
                                    "FEROHELY": "2",
                                    "POTAGY": "1",
                                    "KLIMAS": "i",
                                    "SZALLAS_FK": "20"
                                },
                                {
                                    "SZOBA_ID": "294",
                                    "SZOBA_SZAMA": "10",
                                    "FEROHELY": "3",
                                    "POTAGY": "0",
                                    "KLIMAS": "i",
                                    "SZALLAS_FK": "20"
                                }
                            ]
                        },
                        "text/html": [
                            "<table>",
                            "<tr><th>SZOBA_ID</th><th>SZOBA_SZAMA</th><th>FEROHELY</th><th>POTAGY</th><th>KLIMAS</th><th>SZALLAS_FK</th></tr>",
                            "<tr><td>1</td><td>1</td><td>3</td><td>0</td><td>n</td><td>1</td></tr>",
                            "<tr><td>2</td><td>2</td><td>3</td><td>1</td><td>i</td><td>1</td></tr>",
                            "<tr><td>3</td><td>3</td><td>3</td><td>1</td><td>i</td><td>1</td></tr>",
                            "<tr><td>4</td><td>4</td><td>2</td><td>1</td><td>i</td><td>1</td></tr>",
                            "<tr><td>5</td><td>5</td><td>2</td><td>0</td><td>i</td><td>1</td></tr>",
                            "<tr><td>6</td><td>6</td><td>3</td><td>0</td><td>i</td><td>1</td></tr>",
                            "<tr><td>7</td><td>7</td><td>2</td><td>0</td><td>i</td><td>1</td></tr>",
                            "<tr><td>8</td><td>8</td><td>3</td><td>0</td><td>n</td><td>1</td></tr>",
                            "<tr><td>9</td><td>9</td><td>3</td><td>1</td><td>i</td><td>1</td></tr>",
                            "<tr><td>10</td><td>10</td><td>3</td><td>0</td><td>i</td><td>1</td></tr>",
                            "<tr><td>11</td><td>11</td><td>2</td><td>1</td><td>i</td><td>1</td></tr>",
                            "<tr><td>12</td><td>12</td><td>2</td><td>1</td><td>i</td><td>1</td></tr>",
                            "<tr><td>13</td><td>1</td><td>3</td><td>0</td><td>i</td><td>2</td></tr>",
                            "<tr><td>14</td><td>2</td><td>3</td><td>2</td><td>i</td><td>2</td></tr>",
                            "<tr><td>15</td><td>3</td><td>2</td><td>1</td><td>i</td><td>2</td></tr>",
                            "<tr><td>16</td><td>4</td><td>3</td><td>1</td><td>i</td><td>2</td></tr>",
                            "<tr><td>17</td><td>1</td><td>3</td><td>1</td><td>i</td><td>3</td></tr>",
                            "<tr><td>18</td><td>2</td><td>3</td><td>2</td><td>n</td><td>3</td></tr>",
                            "<tr><td>19</td><td>3</td><td>2</td><td>1</td><td>i</td><td>3</td></tr>",
                            "<tr><td>20</td><td>4</td><td>3</td><td>0</td><td>i</td><td>3</td></tr>",
                            "<tr><td>21</td><td>5</td><td>2</td><td>1</td><td>i</td><td>3</td></tr>",
                            "<tr><td>22</td><td>6</td><td>3</td><td>2</td><td>n</td><td>3</td></tr>",
                            "<tr><td>23</td><td>7</td><td>2</td><td>0</td><td>n</td><td>3</td></tr>",
                            "<tr><td>24</td><td>8</td><td>4</td><td>1</td><td>i</td><td>3</td></tr>",
                            "<tr><td>25</td><td>1</td><td>3</td><td>1</td><td>n</td><td>4</td></tr>",
                            "<tr><td>26</td><td>2</td><td>2</td><td>1</td><td>i</td><td>4</td></tr>",
                            "<tr><td>27</td><td>3</td><td>3</td><td>1</td><td>n</td><td>4</td></tr>",
                            "<tr><td>28</td><td>4</td><td>2</td><td>1</td><td>i</td><td>4</td></tr>",
                            "<tr><td>29</td><td>5</td><td>2</td><td>0</td><td>n</td><td>4</td></tr>",
                            "<tr><td>30</td><td>6</td><td>3</td><td>1</td><td>i</td><td>4</td></tr>",
                            "<tr><td>31</td><td>7</td><td>3</td><td>1</td><td>i</td><td>4</td></tr>",
                            "<tr><td>32</td><td>8</td><td>2</td><td>0</td><td>i</td><td>4</td></tr>",
                            "<tr><td>33</td><td>9</td><td>2</td><td>2</td><td>i</td><td>4</td></tr>",
                            "<tr><td>34</td><td>10</td><td>3</td><td>1</td><td>i</td><td>4</td></tr>",
                            "<tr><td>35</td><td>11</td><td>3</td><td>0</td><td>i</td><td>4</td></tr>",
                            "<tr><td>36</td><td>12</td><td>3</td><td>2</td><td>i</td><td>4</td></tr>",
                            "<tr><td>37</td><td>13</td><td>2</td><td>1</td><td>i</td><td>4</td></tr>",
                            "<tr><td>38</td><td>14</td><td>2</td><td>1</td><td>i</td><td>4</td></tr>",
                            "<tr><td>39</td><td>15</td><td>2</td><td>0</td><td>i</td><td>4</td></tr>",
                            "<tr><td>40</td><td>1</td><td>3</td><td>0</td><td>i</td><td>5</td></tr>",
                            "<tr><td>41</td><td>2</td><td>3</td><td>0</td><td>n</td><td>5</td></tr>",
                            "<tr><td>42</td><td>3</td><td>2</td><td>1</td><td>i</td><td>5</td></tr>",
                            "<tr><td>43</td><td>4</td><td>3</td><td>0</td><td>i</td><td>5</td></tr>",
                            "<tr><td>44</td><td>5</td><td>3</td><td>0</td><td>i</td><td>5</td></tr>",
                            "<tr><td>45</td><td>6</td><td>2</td><td>0</td><td>n</td><td>5</td></tr>",
                            "<tr><td>46</td><td>7</td><td>3</td><td>0</td><td>i</td><td>5</td></tr>",
                            "<tr><td>47</td><td>8</td><td>2</td><td>0</td><td>i</td><td>5</td></tr>",
                            "<tr><td>48</td><td>9</td><td>3</td><td>0</td><td>i</td><td>5</td></tr>",
                            "<tr><td>49</td><td>10</td><td>3</td><td>0</td><td>i</td><td>5</td></tr>",
                            "<tr><td>50</td><td>1</td><td>2</td><td>0</td><td>n</td><td>6</td></tr>",
                            "<tr><td>51</td><td>2</td><td>3</td><td>1</td><td>i</td><td>6</td></tr>",
                            "<tr><td>52</td><td>3</td><td>2</td><td>1</td><td>i</td><td>6</td></tr>",
                            "<tr><td>53</td><td>4</td><td>2</td><td>1</td><td>i</td><td>6</td></tr>",
                            "<tr><td>54</td><td>5</td><td>3</td><td>0</td><td>n</td><td>6</td></tr>",
                            "<tr><td>55</td><td>6</td><td>2</td><td>1</td><td>i</td><td>6</td></tr>",
                            "<tr><td>56</td><td>7</td><td>2</td><td>0</td><td>i</td><td>6</td></tr>",
                            "<tr><td>57</td><td>8</td><td>2</td><td>0</td><td>n</td><td>6</td></tr>",
                            "<tr><td>58</td><td>9</td><td>2</td><td>1</td><td>i</td><td>6</td></tr>",
                            "<tr><td>59</td><td>10</td><td>2</td><td>1</td><td>n</td><td>6</td></tr>",
                            "<tr><td>60</td><td>11</td><td>3</td><td>0</td><td>i</td><td>6</td></tr>",
                            "<tr><td>61</td><td>12</td><td>3</td><td>0</td><td>i</td><td>6</td></tr>",
                            "<tr><td>62</td><td>13</td><td>2</td><td>0</td><td>n</td><td>6</td></tr>",
                            "<tr><td>63</td><td>14</td><td>2</td><td>0</td><td>n</td><td>6</td></tr>",
                            "<tr><td>64</td><td>15</td><td>2</td><td>0</td><td>i</td><td>6</td></tr>",
                            "<tr><td>65</td><td>16</td><td>2</td><td>0</td><td>n</td><td>6</td></tr>",
                            "<tr><td>66</td><td>17</td><td>3</td><td>0</td><td>n</td><td>6</td></tr>",
                            "<tr><td>67</td><td>18</td><td>2</td><td>2</td><td>i</td><td>6</td></tr>",
                            "<tr><td>68</td><td>19</td><td>2</td><td>2</td><td>i</td><td>6</td></tr>",
                            "<tr><td>69</td><td>20</td><td>3</td><td>1</td><td>n</td><td>6</td></tr>",
                            "<tr><td>70</td><td>21</td><td>2</td><td>1</td><td>i</td><td>6</td></tr>",
                            "<tr><td>71</td><td>22</td><td>3</td><td>0</td><td>i</td><td>6</td></tr>",
                            "<tr><td>72</td><td>23</td><td>2</td><td>0</td><td>n</td><td>6</td></tr>",
                            "<tr><td>73</td><td>24</td><td>2</td><td>1</td><td>i</td><td>6</td></tr>",
                            "<tr><td>74</td><td>25</td><td>3</td><td>1</td><td>n</td><td>6</td></tr>",
                            "<tr><td>75</td><td>26</td><td>2</td><td>1</td><td>n</td><td>6</td></tr>",
                            "<tr><td>76</td><td>27</td><td>2</td><td>0</td><td>i</td><td>6</td></tr>",
                            "<tr><td>77</td><td>28</td><td>3</td><td>1</td><td>i</td><td>6</td></tr>",
                            "<tr><td>78</td><td>29</td><td>2</td><td>1</td><td>n</td><td>6</td></tr>",
                            "<tr><td>79</td><td>30</td><td>3</td><td>0</td><td>i</td><td>6</td></tr>",
                            "<tr><td>80</td><td>31</td><td>2</td><td>1</td><td>i</td><td>6</td></tr>",
                            "<tr><td>81</td><td>32</td><td>2</td><td>0</td><td>i</td><td>6</td></tr>",
                            "<tr><td>82</td><td>33</td><td>3</td><td>0</td><td>i</td><td>6</td></tr>",
                            "<tr><td>83</td><td>34</td><td>3</td><td>0</td><td>i</td><td>6</td></tr>",
                            "<tr><td>84</td><td>35</td><td>3</td><td>0</td><td>i</td><td>6</td></tr>",
                            "<tr><td>85</td><td>1</td><td>2</td><td>1</td><td>n</td><td>7</td></tr>",
                            "<tr><td>86</td><td>2</td><td>2</td><td>1</td><td>i</td><td>7</td></tr>",
                            "<tr><td>87</td><td>3</td><td>3</td><td>0</td><td>i</td><td>7</td></tr>",
                            "<tr><td>88</td><td>4</td><td>3</td><td>0</td><td>n</td><td>7</td></tr>",
                            "<tr><td>89</td><td>5</td><td>3</td><td>0</td><td>i</td><td>7</td></tr>",
                            "<tr><td>90</td><td>6</td><td>3</td><td>0</td><td>i</td><td>7</td></tr>",
                            "<tr><td>91</td><td>1</td><td>2</td><td>0</td><td>n</td><td>8</td></tr>",
                            "<tr><td>92</td><td>2</td><td>3</td><td>1</td><td>i</td><td>8</td></tr>",
                            "<tr><td>93</td><td>3</td><td>3</td><td>2</td><td>i</td><td>8</td></tr>",
                            "<tr><td>94</td><td>4</td><td>2</td><td>0</td><td>n</td><td>8</td></tr>",
                            "<tr><td>95</td><td>5</td><td>3</td><td>1</td><td>i</td><td>8</td></tr>",
                            "<tr><td>96</td><td>6</td><td>3</td><td>0</td><td>n</td><td>8</td></tr>",
                            "<tr><td>97</td><td>7</td><td>3</td><td>2</td><td>n</td><td>8</td></tr>",
                            "<tr><td>98</td><td>8</td><td>2</td><td>0</td><td>n</td><td>8</td></tr>",
                            "<tr><td>99</td><td>9</td><td>2</td><td>0</td><td>n</td><td>8</td></tr>",
                            "<tr><td>100</td><td>10</td><td>2</td><td>1</td><td>i</td><td>8</td></tr>",
                            "<tr><td>101</td><td>11</td><td>2</td><td>0</td><td>i</td><td>8</td></tr>",
                            "<tr><td>102</td><td>12</td><td>2</td><td>1</td><td>i</td><td>8</td></tr>",
                            "<tr><td>103</td><td>13</td><td>2</td><td>1</td><td>i</td><td>8</td></tr>",
                            "<tr><td>104</td><td>14</td><td>3</td><td>0</td><td>i</td><td>8</td></tr>",
                            "<tr><td>105</td><td>15</td><td>2</td><td>0</td><td>i</td><td>8</td></tr>",
                            "<tr><td>106</td><td>16</td><td>2</td><td>0</td><td>i</td><td>8</td></tr>",
                            "<tr><td>107</td><td>17</td><td>2</td><td>1</td><td>n</td><td>8</td></tr>",
                            "<tr><td>108</td><td>18</td><td>2</td><td>0</td><td>i</td><td>8</td></tr>",
                            "<tr><td>109</td><td>19</td><td>2</td><td>1</td><td>i</td><td>8</td></tr>",
                            "<tr><td>110</td><td>20</td><td>2</td><td>0</td><td>i</td><td>8</td></tr>",
                            "<tr><td>111</td><td>21</td><td>2</td><td>1</td><td>i</td><td>8</td></tr>",
                            "<tr><td>112</td><td>22</td><td>3</td><td>0</td><td>i</td><td>8</td></tr>",
                            "<tr><td>113</td><td>23</td><td>3</td><td>2</td><td>i</td><td>8</td></tr>",
                            "<tr><td>114</td><td>24</td><td>2</td><td>1</td><td>n</td><td>8</td></tr>",
                            "<tr><td>115</td><td>25</td><td>3</td><td>0</td><td>i</td><td>8</td></tr>",
                            "<tr><td>116</td><td>26</td><td>3</td><td>0</td><td>i</td><td>8</td></tr>",
                            "<tr><td>117</td><td>27</td><td>3</td><td>1</td><td>i</td><td>8</td></tr>",
                            "<tr><td>118</td><td>28</td><td>2</td><td>1</td><td>i</td><td>8</td></tr>",
                            "<tr><td>119</td><td>29</td><td>2</td><td>0</td><td>i</td><td>8</td></tr>",
                            "<tr><td>120</td><td>30</td><td>3</td><td>1</td><td>i</td><td>8</td></tr>",
                            "<tr><td>121</td><td>31</td><td>2</td><td>1</td><td>i</td><td>8</td></tr>",
                            "<tr><td>122</td><td>32</td><td>3</td><td>1</td><td>i</td><td>8</td></tr>",
                            "<tr><td>123</td><td>33</td><td>3</td><td>0</td><td>n</td><td>8</td></tr>",
                            "<tr><td>124</td><td>34</td><td>3</td><td>0</td><td>n</td><td>8</td></tr>",
                            "<tr><td>125</td><td>35</td><td>2</td><td>1</td><td>i</td><td>8</td></tr>",
                            "<tr><td>126</td><td>36</td><td>2</td><td>1</td><td>n</td><td>8</td></tr>",
                            "<tr><td>127</td><td>37</td><td>2</td><td>1</td><td>i</td><td>8</td></tr>",
                            "<tr><td>128</td><td>38</td><td>2</td><td>1</td><td>i</td><td>8</td></tr>",
                            "<tr><td>129</td><td>39</td><td>2</td><td>1</td><td>i</td><td>8</td></tr>",
                            "<tr><td>130</td><td>1</td><td>2</td><td>0</td><td>n</td><td>9</td></tr>",
                            "<tr><td>131</td><td>2</td><td>2</td><td>0</td><td>n</td><td>9</td></tr>",
                            "<tr><td>132</td><td>3</td><td>3</td><td>0</td><td>i</td><td>9</td></tr>",
                            "<tr><td>133</td><td>4</td><td>3</td><td>0</td><td>n</td><td>9</td></tr>",
                            "<tr><td>134</td><td>5</td><td>3</td><td>0</td><td>i</td><td>9</td></tr>",
                            "<tr><td>135</td><td>1</td><td>3</td><td>0</td><td>i</td><td>10</td></tr>",
                            "<tr><td>136</td><td>2</td><td>2</td><td>0</td><td>n</td><td>10</td></tr>",
                            "<tr><td>137</td><td>3</td><td>2</td><td>1</td><td>i</td><td>10</td></tr>",
                            "<tr><td>138</td><td>4</td><td>3</td><td>1</td><td>i</td><td>10</td></tr>",
                            "<tr><td>139</td><td>5</td><td>2</td><td>1</td><td>i</td><td>10</td></tr>",
                            "<tr><td>140</td><td>6</td><td>2</td><td>1</td><td>i</td><td>10</td></tr>",
                            "<tr><td>141</td><td>7</td><td>2</td><td>0</td><td>n</td><td>10</td></tr>",
                            "<tr><td>142</td><td>8</td><td>3</td><td>0</td><td>n</td><td>10</td></tr>",
                            "<tr><td>143</td><td>9</td><td>3</td><td>1</td><td>i</td><td>10</td></tr>",
                            "<tr><td>144</td><td>10</td><td>3</td><td>1</td><td>n</td><td>10</td></tr>",
                            "<tr><td>145</td><td>11</td><td>2</td><td>2</td><td>i</td><td>10</td></tr>",
                            "<tr><td>146</td><td>12</td><td>3</td><td>0</td><td>i</td><td>10</td></tr>",
                            "<tr><td>147</td><td>13</td><td>2</td><td>0</td><td>i</td><td>10</td></tr>",
                            "<tr><td>148</td><td>14</td><td>2</td><td>0</td><td>i</td><td>10</td></tr>",
                            "<tr><td>149</td><td>15</td><td>2</td><td>0</td><td>i</td><td>10</td></tr>",
                            "<tr><td>150</td><td>16</td><td>2</td><td>1</td><td>i</td><td>10</td></tr>",
                            "<tr><td>151</td><td>17</td><td>2</td><td>0</td><td>n</td><td>10</td></tr>",
                            "<tr><td>152</td><td>18</td><td>2</td><td>0</td><td>i</td><td>10</td></tr>",
                            "<tr><td>153</td><td>19</td><td>3</td><td>0</td><td>n</td><td>10</td></tr>",
                            "<tr><td>154</td><td>20</td><td>2</td><td>1</td><td>i</td><td>10</td></tr>",
                            "<tr><td>155</td><td>21</td><td>3</td><td>1</td><td>n</td><td>10</td></tr>",
                            "<tr><td>156</td><td>22</td><td>2</td><td>2</td><td>i</td><td>10</td></tr>",
                            "<tr><td>157</td><td>23</td><td>2</td><td>0</td><td>n</td><td>10</td></tr>",
                            "<tr><td>158</td><td>24</td><td>2</td><td>1</td><td>n</td><td>10</td></tr>",
                            "<tr><td>159</td><td>25</td><td>3</td><td>1</td><td>n</td><td>10</td></tr>",
                            "<tr><td>160</td><td>1</td><td>3</td><td>1</td><td>i</td><td>11</td></tr>",
                            "<tr><td>161</td><td>2</td><td>2</td><td>2</td><td>i</td><td>11</td></tr>",
                            "<tr><td>162</td><td>3</td><td>3</td><td>0</td><td>n</td><td>11</td></tr>",
                            "<tr><td>163</td><td>4</td><td>2</td><td>0</td><td>i</td><td>11</td></tr>",
                            "<tr><td>164</td><td>5</td><td>2</td><td>0</td><td>i</td><td>11</td></tr>",
                            "<tr><td>165</td><td>1</td><td>2</td><td>0</td><td>n</td><td>12</td></tr>",
                            "<tr><td>166</td><td>2</td><td>2</td><td>1</td><td>i</td><td>12</td></tr>",
                            "<tr><td>167</td><td>3</td><td>3</td><td>0</td><td>i</td><td>12</td></tr>",
                            "<tr><td>168</td><td>4</td><td>2</td><td>2</td><td>i</td><td>12</td></tr>",
                            "<tr><td>169</td><td>5</td><td>2</td><td>1</td><td>i</td><td>12</td></tr>",
                            "<tr><td>170</td><td>6</td><td>2</td><td>0</td><td>i</td><td>12</td></tr>",
                            "<tr><td>171</td><td>7</td><td>2</td><td>1</td><td>i</td><td>12</td></tr>",
                            "<tr><td>172</td><td>8</td><td>2</td><td>2</td><td>n</td><td>12</td></tr>",
                            "<tr><td>173</td><td>9</td><td>2</td><td>0</td><td>i</td><td>12</td></tr>",
                            "<tr><td>174</td><td>10</td><td>2</td><td>0</td><td>i</td><td>12</td></tr>",
                            "<tr><td>175</td><td>11</td><td>2</td><td>0</td><td>i</td><td>12</td></tr>",
                            "<tr><td>176</td><td>12</td><td>3</td><td>1</td><td>i</td><td>12</td></tr>",
                            "<tr><td>177</td><td>13</td><td>3</td><td>2</td><td>i</td><td>12</td></tr>",
                            "<tr><td>178</td><td>14</td><td>3</td><td>0</td><td>i</td><td>12</td></tr>",
                            "<tr><td>179</td><td>15</td><td>3</td><td>2</td><td>i</td><td>12</td></tr>",
                            "<tr><td>180</td><td>16</td><td>2</td><td>2</td><td>i</td><td>12</td></tr>",
                            "<tr><td>181</td><td>17</td><td>3</td><td>0</td><td>i</td><td>12</td></tr>",
                            "<tr><td>182</td><td>18</td><td>2</td><td>0</td><td>n</td><td>12</td></tr>",
                            "<tr><td>183</td><td>19</td><td>3</td><td>0</td><td>i</td><td>12</td></tr>",
                            "<tr><td>184</td><td>20</td><td>2</td><td>0</td><td>n</td><td>12</td></tr>",
                            "<tr><td>185</td><td>21</td><td>3</td><td>0</td><td>i</td><td>12</td></tr>",
                            "<tr><td>186</td><td>22</td><td>2</td><td>2</td><td>i</td><td>12</td></tr>",
                            "<tr><td>187</td><td>23</td><td>3</td><td>1</td><td>i</td><td>12</td></tr>",
                            "<tr><td>188</td><td>24</td><td>3</td><td>0</td><td>i</td><td>12</td></tr>",
                            "<tr><td>189</td><td>25</td><td>2</td><td>2</td><td>i</td><td>12</td></tr>",
                            "<tr><td>190</td><td>26</td><td>2</td><td>0</td><td>i</td><td>12</td></tr>",
                            "<tr><td>191</td><td>27</td><td>2</td><td>1</td><td>i</td><td>12</td></tr>",
                            "<tr><td>192</td><td>28</td><td>2</td><td>1</td><td>i</td><td>12</td></tr>",
                            "<tr><td>193</td><td>29</td><td>3</td><td>2</td><td>n</td><td>12</td></tr>",
                            "<tr><td>194</td><td>30</td><td>2</td><td>1</td><td>i</td><td>12</td></tr>",
                            "<tr><td>195</td><td>31</td><td>2</td><td>0</td><td>i</td><td>12</td></tr>",
                            "<tr><td>196</td><td>32</td><td>2</td><td>1</td><td>i</td><td>12</td></tr>",
                            "<tr><td>197</td><td>33</td><td>3</td><td>0</td><td>i</td><td>12</td></tr>",
                            "<tr><td>198</td><td>34</td><td>3</td><td>0</td><td>i</td><td>12</td></tr>",
                            "<tr><td>199</td><td>35</td><td>3</td><td>2</td><td>i</td><td>12</td></tr>",
                            "<tr><td>200</td><td>36</td><td>2</td><td>0</td><td>i</td><td>12</td></tr>",
                            "<tr><td>201</td><td>37</td><td>3</td><td>1</td><td>n</td><td>12</td></tr>",
                            "<tr><td>202</td><td>38</td><td>3</td><td>1</td><td>i</td><td>12</td></tr>",
                            "<tr><td>203</td><td>39</td><td>3</td><td>0</td><td>i</td><td>12</td></tr>",
                            "<tr><td>204</td><td>40</td><td>3</td><td>1</td><td>i</td><td>12</td></tr>",
                            "<tr><td>205</td><td>41</td><td>3</td><td>0</td><td>i</td><td>12</td></tr>",
                            "<tr><td>206</td><td>42</td><td>2</td><td>1</td><td>i</td><td>12</td></tr>",
                            "<tr><td>207</td><td>43</td><td>2</td><td>1</td><td>i</td><td>12</td></tr>",
                            "<tr><td>208</td><td>44</td><td>2</td><td>1</td><td>i</td><td>12</td></tr>",
                            "<tr><td>209</td><td>45</td><td>3</td><td>2</td><td>n</td><td>12</td></tr>",
                            "<tr><td>210</td><td>46</td><td>2</td><td>0</td><td>i</td><td>12</td></tr>",
                            "<tr><td>211</td><td>47</td><td>2</td><td>1</td><td>i</td><td>12</td></tr>",
                            "<tr><td>212</td><td>48</td><td>3</td><td>0</td><td>n</td><td>12</td></tr>",
                            "<tr><td>213</td><td>49</td><td>3</td><td>0</td><td>i</td><td>12</td></tr>",
                            "<tr><td>214</td><td>50</td><td>3</td><td>1</td><td>i</td><td>12</td></tr>",
                            "<tr><td>215</td><td>1</td><td>2</td><td>1</td><td>i</td><td>13</td></tr>",
                            "<tr><td>216</td><td>2</td><td>3</td><td>1</td><td>i</td><td>13</td></tr>",
                            "<tr><td>217</td><td>3</td><td>2</td><td>1</td><td>n</td><td>13</td></tr>",
                            "<tr><td>218</td><td>4</td><td>3</td><td>0</td><td>i</td><td>13</td></tr>",
                            "<tr><td>219</td><td>5</td><td>2</td><td>0</td><td>n</td><td>13</td></tr>",
                            "<tr><td>220</td><td>6</td><td>3</td><td>0</td><td>i</td><td>13</td></tr>",
                            "<tr><td>221</td><td>7</td><td>3</td><td>0</td><td>i</td><td>13</td></tr>",
                            "<tr><td>222</td><td>8</td><td>2</td><td>0</td><td>n</td><td>13</td></tr>",
                            "<tr><td>223</td><td>9</td><td>2</td><td>1</td><td>i</td><td>13</td></tr>",
                            "<tr><td>224</td><td>10</td><td>2</td><td>0</td><td>i</td><td>13</td></tr>",
                            "<tr><td>225</td><td>11</td><td>2</td><td>1</td><td>i</td><td>13</td></tr>",
                            "<tr><td>226</td><td>12</td><td>3</td><td>1</td><td>n</td><td>13</td></tr>",
                            "<tr><td>227</td><td>1</td><td>2</td><td>1</td><td>i</td><td>14</td></tr>",
                            "<tr><td>228</td><td>2</td><td>3</td><td>0</td><td>i</td><td>14</td></tr>",
                            "<tr><td>229</td><td>3</td><td>2</td><td>0</td><td>i</td><td>14</td></tr>",
                            "<tr><td>230</td><td>4</td><td>3</td><td>2</td><td>i</td><td>14</td></tr>",
                            "<tr><td>231</td><td>1</td><td>2</td><td>0</td><td>i</td><td>15</td></tr>",
                            "<tr><td>232</td><td>2</td><td>2</td><td>0</td><td>i</td><td>15</td></tr>",
                            "<tr><td>233</td><td>3</td><td>3</td><td>0</td><td>n</td><td>15</td></tr>",
                            "<tr><td>234</td><td>4</td><td>3</td><td>1</td><td>i</td><td>15</td></tr>",
                            "<tr><td>235</td><td>5</td><td>3</td><td>0</td><td>i</td><td>15</td></tr>",
                            "<tr><td>236</td><td>6</td><td>3</td><td>1</td><td>n</td><td>15</td></tr>",
                            "<tr><td>237</td><td>7</td><td>2</td><td>2</td><td>n</td><td>15</td></tr>",
                            "<tr><td>238</td><td>8</td><td>3</td><td>1</td><td>i</td><td>15</td></tr>",
                            "<tr><td>239</td><td>9</td><td>2</td><td>2</td><td>i</td><td>15</td></tr>",
                            "<tr><td>240</td><td>10</td><td>3</td><td>0</td><td>i</td><td>15</td></tr>",
                            "<tr><td>241</td><td>11</td><td>2</td><td>0</td><td>i</td><td>15</td></tr>",
                            "<tr><td>242</td><td>12</td><td>2</td><td>1</td><td>i</td><td>15</td></tr>",
                            "<tr><td>243</td><td>1</td><td>2</td><td>0</td><td>i</td><td>16</td></tr>",
                            "<tr><td>244</td><td>2</td><td>2</td><td>1</td><td>i</td><td>16</td></tr>",
                            "<tr><td>245</td><td>3</td><td>2</td><td>1</td><td>i</td><td>16</td></tr>",
                            "<tr><td>246</td><td>4</td><td>2</td><td>0</td><td>i</td><td>16</td></tr>",
                            "<tr><td>247</td><td>5</td><td>2</td><td>0</td><td>i</td><td>16</td></tr>",
                            "<tr><td>248</td><td>6</td><td>2</td><td>2</td><td>i</td><td>16</td></tr>",
                            "<tr><td>249</td><td>7</td><td>2</td><td>1</td><td>n</td><td>16</td></tr>",
                            "<tr><td>250</td><td>8</td><td>3</td><td>1</td><td>n</td><td>16</td></tr>",
                            "<tr><td>251</td><td>9</td><td>3</td><td>0</td><td>n</td><td>16</td></tr>",
                            "<tr><td>252</td><td>10</td><td>3</td><td>1</td><td>i</td><td>16</td></tr>",
                            "<tr><td>253</td><td>11</td><td>2</td><td>0</td><td>i</td><td>16</td></tr>",
                            "<tr><td>254</td><td>12</td><td>2</td><td>0</td><td>i</td><td>16</td></tr>",
                            "<tr><td>255</td><td>13</td><td>3</td><td>0</td><td>n</td><td>16</td></tr>",
                            "<tr><td>256</td><td>14</td><td>3</td><td>1</td><td>i</td><td>16</td></tr>",
                            "<tr><td>257</td><td>15</td><td>2</td><td>0</td><td>i</td><td>16</td></tr>",
                            "<tr><td>258</td><td>16</td><td>2</td><td>0</td><td>i</td><td>16</td></tr>",
                            "<tr><td>259</td><td>17</td><td>2</td><td>0</td><td>i</td><td>16</td></tr>",
                            "<tr><td>260</td><td>18</td><td>2</td><td>0</td><td>i</td><td>16</td></tr>",
                            "<tr><td>261</td><td>19</td><td>1</td><td>1</td><td>n</td><td>16</td></tr>",
                            "<tr><td>262</td><td>20</td><td>1</td><td>0</td><td>n</td><td>16</td></tr>",
                            "<tr><td>263</td><td>1</td><td>2</td><td>2</td><td>i</td><td>17</td></tr>",
                            "<tr><td>264</td><td>2</td><td>3</td><td>0</td><td>i</td><td>17</td></tr>",
                            "<tr><td>265</td><td>3</td><td>3</td><td>0</td><td>i</td><td>17</td></tr>",
                            "<tr><td>266</td><td>4</td><td>2</td><td>1</td><td>i</td><td>17</td></tr>",
                            "<tr><td>267</td><td>5</td><td>2</td><td>1</td><td>n</td><td>17</td></tr>",
                            "<tr><td>268</td><td>6</td><td>2</td><td>2</td><td>n</td><td>17</td></tr>",
                            "<tr><td>269</td><td>7</td><td>2</td><td>1</td><td>i</td><td>17</td></tr>",
                            "<tr><td>270</td><td>8</td><td>3</td><td>0</td><td>n</td><td>17</td></tr>",
                            "<tr><td>271</td><td>9</td><td>3</td><td>0</td><td>i</td><td>17</td></tr>",
                            "<tr><td>272</td><td>10</td><td>3</td><td>0</td><td>i</td><td>17</td></tr>",
                            "<tr><td>273</td><td>11</td><td>2</td><td>1</td><td>i</td><td>17</td></tr>",
                            "<tr><td>274</td><td>12</td><td>3</td><td>1</td><td>i</td><td>17</td></tr>",
                            "<tr><td>275</td><td>13</td><td>2</td><td>1</td><td>n</td><td>17</td></tr>",
                            "<tr><td>276</td><td>14</td><td>2</td><td>0</td><td>i</td><td>17</td></tr>",
                            "<tr><td>277</td><td>15</td><td>2</td><td>0</td><td>i</td><td>17</td></tr>",
                            "<tr><td>278</td><td>1</td><td>3</td><td>1</td><td>i</td><td>18</td></tr>",
                            "<tr><td>279</td><td>2</td><td>2</td><td>1</td><td>i</td><td>18</td></tr>",
                            "<tr><td>280</td><td>3</td><td>3</td><td>0</td><td>n</td><td>18</td></tr>",
                            "<tr><td>281</td><td>1</td><td>2</td><td>0</td><td>n</td><td>19</td></tr>",
                            "<tr><td>282</td><td>2</td><td>2</td><td>0</td><td>i</td><td>19</td></tr>",
                            "<tr><td>283</td><td>3</td><td>2</td><td>0</td><td>n</td><td>19</td></tr>",
                            "<tr><td>284</td><td>4</td><td>2</td><td>2</td><td>i</td><td>19</td></tr>",
                            "<tr><td>285</td><td>1</td><td>2</td><td>1</td><td>i</td><td>20</td></tr>",
                            "<tr><td>286</td><td>2</td><td>3</td><td>0</td><td>i</td><td>20</td></tr>",
                            "<tr><td>287</td><td>3</td><td>3</td><td>0</td><td>n</td><td>20</td></tr>",
                            "<tr><td>288</td><td>4</td><td>2</td><td>1</td><td>i</td><td>20</td></tr>",
                            "<tr><td>289</td><td>5</td><td>3</td><td>0</td><td>i</td><td>20</td></tr>",
                            "<tr><td>290</td><td>6</td><td>2</td><td>1</td><td>i</td><td>20</td></tr>",
                            "<tr><td>291</td><td>7</td><td>2</td><td>1</td><td>i</td><td>20</td></tr>",
                            "<tr><td>292</td><td>8</td><td>2</td><td>1</td><td>i</td><td>20</td></tr>",
                            "<tr><td>293</td><td>9</td><td>2</td><td>1</td><td>i</td><td>20</td></tr>",
                            "<tr><td>294</td><td>10</td><td>3</td><td>0</td><td>i</td><td>20</td></tr>",
                            "</table>"
                        ]
                    }
                }
            ],
            "execution_count": 24
        },
        {
            "cell_type": "markdown",
            "source": [
                "\\[Tegnap 21:00\\] Kedves Anita\n",
                "\n",
                "[https://github.com/KedvesAnita/Adat.git](https://github.com/KedvesAnita/Adat.git)"
            ],
            "metadata": {
                "azdata_cell_guid": "738f4b0e-d2ba-427a-bfee-2c1745847741"
            },
            "attachments": {}
        }
    ]
}